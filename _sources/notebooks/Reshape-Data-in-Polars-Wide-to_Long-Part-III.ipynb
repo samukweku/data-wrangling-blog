{
 "cells": [
  {
   "attachments": {},
   "cell_type": "markdown",
   "metadata": {},
   "source": [
    "# Reshape Data in Polars Efficiently from Wide to Long Form - Part III"
   ]
  },
  {
   "cell_type": "markdown",
   "metadata": {},
   "source": [
    "(introduction)=\n",
    "## **Introduction**"
   ]
  },
  {
   "cell_type": "markdown",
   "metadata": {},
   "source": [
    "This post continues on from a [previous post](Reshape-Data-in-Polars-Wide-to_Long-Part-II.ipynb), where I highlighted steps to significantly improve performance when reshaping a DataFrame from wide to long form. The solutions proferred in the blog post however were quite verbose, compared to the naive solutions, and were tailored to the specific problems. \n",
    "\n",
    "In this article I introduce two functions - [pivot_longer](https://pyjanitor-devs.github.io/pyjanitor/api/polars/#janitor.polars.pivot_longer) and [pivot_longer_spec](https://pyjanitor-devs.github.io/pyjanitor/api/polars/#janitor.polars.pivot_longer.pivot_longer_spec) - from the [pyjanitor](https://pyjanitor-devs.github.io/pyjanitor/) library. These functions, which are ports of the same [named](https://tidyr.tidyverse.org/reference/pivot_longer.html) [functions](https://tidyr.tidyverse.org/reference/pivot_longer_spec.html) in [R](https://www.r-project.org/), offer conciseness, while still being performant.\n",
    "\n",
    "I am a contributor to the [pyjanitor](https://pyjanitor-devs.github.io/pyjanitor/) library.\n",
    "\n",
    "We will reuse most of the examples from a [previous blogpost](Reshape-Data-in-Polars-Wide-to_Long-Part-II.ipynb) to highlight the various usages for [pivot_longer](https://pyjanitor-devs.github.io/pyjanitor/api/polars/#janitor.polars.pivot_longer) and [pivot_longer_spec](https://pyjanitor-devs.github.io/pyjanitor/api/polars/#janitor.polars.pivot_longer.pivot_longer_spec). First things first, let's install and import the [pyjanitor](https://pyjanitor-devs.github.io/pyjanitor/) library:"
   ]
  },
  {
   "cell_type": "code",
   "execution_count": 46,
   "metadata": {},
   "outputs": [],
   "source": [
    "# pip install pyjanitor\n",
    "import janitor as jn\n",
    "import janitor.polars\n",
    "import polars as pl\n",
    "import polars.selectors as cs\n",
    "from janitor.polars import pivot_longer_spec"
   ]
  },
  {
   "cell_type": "code",
   "execution_count": 47,
   "metadata": {},
   "outputs": [
    {
     "data": {
      "text/plain": [
       "'1.7.1'"
      ]
     },
     "execution_count": 47,
     "metadata": {},
     "output_type": "execute_result"
    }
   ],
   "source": [
    "pl.__version__"
   ]
  },
  {
   "cell_type": "code",
   "execution_count": 48,
   "metadata": {},
   "outputs": [
    {
     "data": {
      "text/plain": [
       "'0.29.1'"
      ]
     },
     "execution_count": 48,
     "metadata": {},
     "output_type": "execute_result"
    }
   ],
   "source": [
    "jn.__version__"
   ]
  },
  {
   "cell_type": "markdown",
   "metadata": {},
   "source": [
    "(String-data-in-column-names)=\n",
    "## **String data in column names**"
   ]
  },
  {
   "cell_type": "code",
   "execution_count": 49,
   "metadata": {},
   "outputs": [
    {
     "data": {
      "text/html": [
       "<div><style>\n",
       ".dataframe > thead > tr,\n",
       ".dataframe > tbody > tr {\n",
       "  text-align: right;\n",
       "  white-space: pre-wrap;\n",
       "}\n",
       "</style>\n",
       "<small>shape: (18, 11)</small><table border=\"1\" class=\"dataframe\"><thead><tr><th>religion</th><th>&lt;$10k</th><th>$10-20k</th><th>$20-30k</th><th>$30-40k</th><th>$40-50k</th><th>$50-75k</th><th>$75-100k</th><th>$100-150k</th><th>&gt;150k</th><th>Don&#x27;t know/refused</th></tr><tr><td>str</td><td>i64</td><td>i64</td><td>i64</td><td>i64</td><td>i64</td><td>i64</td><td>i64</td><td>i64</td><td>i64</td><td>i64</td></tr></thead><tbody><tr><td>&quot;Agnostic&quot;</td><td>27</td><td>34</td><td>60</td><td>81</td><td>76</td><td>137</td><td>122</td><td>109</td><td>84</td><td>96</td></tr><tr><td>&quot;Atheist&quot;</td><td>12</td><td>27</td><td>37</td><td>52</td><td>35</td><td>70</td><td>73</td><td>59</td><td>74</td><td>76</td></tr><tr><td>&quot;Buddhist&quot;</td><td>27</td><td>21</td><td>30</td><td>34</td><td>33</td><td>58</td><td>62</td><td>39</td><td>53</td><td>54</td></tr><tr><td>&quot;Catholic&quot;</td><td>418</td><td>617</td><td>732</td><td>670</td><td>638</td><td>1116</td><td>949</td><td>792</td><td>633</td><td>1489</td></tr><tr><td>&quot;Don’t know/refused&quot;</td><td>15</td><td>14</td><td>15</td><td>11</td><td>10</td><td>35</td><td>21</td><td>17</td><td>18</td><td>116</td></tr><tr><td>&hellip;</td><td>&hellip;</td><td>&hellip;</td><td>&hellip;</td><td>&hellip;</td><td>&hellip;</td><td>&hellip;</td><td>&hellip;</td><td>&hellip;</td><td>&hellip;</td><td>&hellip;</td></tr><tr><td>&quot;Orthodox&quot;</td><td>13</td><td>17</td><td>23</td><td>32</td><td>32</td><td>47</td><td>38</td><td>42</td><td>46</td><td>73</td></tr><tr><td>&quot;Other Christian&quot;</td><td>9</td><td>7</td><td>11</td><td>13</td><td>13</td><td>14</td><td>18</td><td>14</td><td>12</td><td>18</td></tr><tr><td>&quot;Other Faiths&quot;</td><td>20</td><td>33</td><td>40</td><td>46</td><td>49</td><td>63</td><td>46</td><td>40</td><td>41</td><td>71</td></tr><tr><td>&quot;Other World Religions&quot;</td><td>5</td><td>2</td><td>3</td><td>4</td><td>2</td><td>7</td><td>3</td><td>4</td><td>4</td><td>8</td></tr><tr><td>&quot;Unaffiliated&quot;</td><td>217</td><td>299</td><td>374</td><td>365</td><td>341</td><td>528</td><td>407</td><td>321</td><td>258</td><td>597</td></tr></tbody></table></div>"
      ],
      "text/plain": [
       "shape: (18, 11)\n",
       "┌────────────────────┬───────┬─────────┬─────────┬───┬──────────┬───────────┬───────┬──────────────┐\n",
       "│ religion           ┆ <$10k ┆ $10-20k ┆ $20-30k ┆ … ┆ $75-100k ┆ $100-150k ┆ >150k ┆ Don't        │\n",
       "│ ---                ┆ ---   ┆ ---     ┆ ---     ┆   ┆ ---      ┆ ---       ┆ ---   ┆ know/refused │\n",
       "│ str                ┆ i64   ┆ i64     ┆ i64     ┆   ┆ i64      ┆ i64       ┆ i64   ┆ ---          │\n",
       "│                    ┆       ┆         ┆         ┆   ┆          ┆           ┆       ┆ i64          │\n",
       "╞════════════════════╪═══════╪═════════╪═════════╪═══╪══════════╪═══════════╪═══════╪══════════════╡\n",
       "│ Agnostic           ┆ 27    ┆ 34      ┆ 60      ┆ … ┆ 122      ┆ 109       ┆ 84    ┆ 96           │\n",
       "│ Atheist            ┆ 12    ┆ 27      ┆ 37      ┆ … ┆ 73       ┆ 59        ┆ 74    ┆ 76           │\n",
       "│ Buddhist           ┆ 27    ┆ 21      ┆ 30      ┆ … ┆ 62       ┆ 39        ┆ 53    ┆ 54           │\n",
       "│ Catholic           ┆ 418   ┆ 617     ┆ 732     ┆ … ┆ 949      ┆ 792       ┆ 633   ┆ 1489         │\n",
       "│ Don’t know/refused ┆ 15    ┆ 14      ┆ 15      ┆ … ┆ 21       ┆ 17        ┆ 18    ┆ 116          │\n",
       "│ …                  ┆ …     ┆ …       ┆ …       ┆ … ┆ …        ┆ …         ┆ …     ┆ …            │\n",
       "│ Orthodox           ┆ 13    ┆ 17      ┆ 23      ┆ … ┆ 38       ┆ 42        ┆ 46    ┆ 73           │\n",
       "│ Other Christian    ┆ 9     ┆ 7       ┆ 11      ┆ … ┆ 18       ┆ 14        ┆ 12    ┆ 18           │\n",
       "│ Other Faiths       ┆ 20    ┆ 33      ┆ 40      ┆ … ┆ 46       ┆ 40        ┆ 41    ┆ 71           │\n",
       "│ Other World        ┆ 5     ┆ 2       ┆ 3       ┆ … ┆ 3        ┆ 4         ┆ 4     ┆ 8            │\n",
       "│ Religions          ┆       ┆         ┆         ┆   ┆          ┆           ┆       ┆              │\n",
       "│ Unaffiliated       ┆ 217   ┆ 299     ┆ 374     ┆ … ┆ 407      ┆ 321       ┆ 258   ┆ 597          │\n",
       "└────────────────────┴───────┴─────────┴─────────┴───┴──────────┴───────────┴───────┴──────────────┘"
      ]
     },
     "execution_count": 49,
     "metadata": {},
     "output_type": "execute_result"
    }
   ],
   "source": [
    "relig_income = pl.read_csv(\"./Data_files/relig_income.csv\")\n",
    "relig_income"
   ]
  },
  {
   "cell_type": "markdown",
   "metadata": {},
   "source": [
    "This is an easy use case - [pivot_longer](https://pyjanitor-devs.github.io/pyjanitor/api/polars/#janitor.polars.pivot_longer) simply calls [unpivot](https://docs.pola.rs/api/python/stable/reference/DataFrame/api/polars.DataFrame.unpivot.html#polars.DataFrame.unpivot) under the hood:"
   ]
  },
  {
   "cell_type": "code",
   "execution_count": 50,
   "metadata": {},
   "outputs": [
    {
     "data": {
      "text/html": [
       "<div><style>\n",
       ".dataframe > thead > tr,\n",
       ".dataframe > tbody > tr {\n",
       "  text-align: right;\n",
       "  white-space: pre-wrap;\n",
       "}\n",
       "</style>\n",
       "<small>shape: (180, 3)</small><table border=\"1\" class=\"dataframe\"><thead><tr><th>religion</th><th>income</th><th>count</th></tr><tr><td>str</td><td>str</td><td>i64</td></tr></thead><tbody><tr><td>&quot;Agnostic&quot;</td><td>&quot;&lt;$10k&quot;</td><td>27</td></tr><tr><td>&quot;Atheist&quot;</td><td>&quot;&lt;$10k&quot;</td><td>12</td></tr><tr><td>&quot;Buddhist&quot;</td><td>&quot;&lt;$10k&quot;</td><td>27</td></tr><tr><td>&quot;Catholic&quot;</td><td>&quot;&lt;$10k&quot;</td><td>418</td></tr><tr><td>&quot;Don’t know/refused&quot;</td><td>&quot;&lt;$10k&quot;</td><td>15</td></tr><tr><td>&hellip;</td><td>&hellip;</td><td>&hellip;</td></tr><tr><td>&quot;Orthodox&quot;</td><td>&quot;Don&#x27;t know/refused&quot;</td><td>73</td></tr><tr><td>&quot;Other Christian&quot;</td><td>&quot;Don&#x27;t know/refused&quot;</td><td>18</td></tr><tr><td>&quot;Other Faiths&quot;</td><td>&quot;Don&#x27;t know/refused&quot;</td><td>71</td></tr><tr><td>&quot;Other World Religions&quot;</td><td>&quot;Don&#x27;t know/refused&quot;</td><td>8</td></tr><tr><td>&quot;Unaffiliated&quot;</td><td>&quot;Don&#x27;t know/refused&quot;</td><td>597</td></tr></tbody></table></div>"
      ],
      "text/plain": [
       "shape: (180, 3)\n",
       "┌───────────────────────┬────────────────────┬───────┐\n",
       "│ religion              ┆ income             ┆ count │\n",
       "│ ---                   ┆ ---                ┆ ---   │\n",
       "│ str                   ┆ str                ┆ i64   │\n",
       "╞═══════════════════════╪════════════════════╪═══════╡\n",
       "│ Agnostic              ┆ <$10k              ┆ 27    │\n",
       "│ Atheist               ┆ <$10k              ┆ 12    │\n",
       "│ Buddhist              ┆ <$10k              ┆ 27    │\n",
       "│ Catholic              ┆ <$10k              ┆ 418   │\n",
       "│ Don’t know/refused    ┆ <$10k              ┆ 15    │\n",
       "│ …                     ┆ …                  ┆ …     │\n",
       "│ Orthodox              ┆ Don't know/refused ┆ 73    │\n",
       "│ Other Christian       ┆ Don't know/refused ┆ 18    │\n",
       "│ Other Faiths          ┆ Don't know/refused ┆ 71    │\n",
       "│ Other World Religions ┆ Don't know/refused ┆ 8     │\n",
       "│ Unaffiliated          ┆ Don't know/refused ┆ 597   │\n",
       "└───────────────────────┴────────────────────┴───────┘"
      ]
     },
     "execution_count": 50,
     "metadata": {},
     "output_type": "execute_result"
    }
   ],
   "source": [
    "relig_income.pivot_longer(\n",
    "    index=\"religion\",\n",
    "    # all columns will be collated\n",
    "    # under names_to\n",
    "    names_to=\"income\",\n",
    "    # all values in the columns\n",
    "    # will be collated into values_to\n",
    "    values_to=\"count\",\n",
    ")"
   ]
  },
  {
   "cell_type": "markdown",
   "metadata": {},
   "source": [
    "(numeric-data)=\n",
    "## **Numeric data in column names**"
   ]
  },
  {
   "cell_type": "code",
   "execution_count": 51,
   "metadata": {},
   "outputs": [
    {
     "data": {
      "text/html": [
       "<div><style>\n",
       ".dataframe > thead > tr,\n",
       ".dataframe > tbody > tr {\n",
       "  text-align: right;\n",
       "  white-space: pre-wrap;\n",
       "}\n",
       "</style>\n",
       "<small>shape: (317, 81)</small><table border=\"1\" class=\"dataframe\"><thead><tr><th>year</th><th>artist</th><th>track</th><th>time</th><th>date.entered</th><th>wk1</th><th>wk2</th><th>wk3</th><th>wk4</th><th>wk5</th><th>wk6</th><th>wk7</th><th>wk8</th><th>wk9</th><th>wk10</th><th>wk11</th><th>wk12</th><th>wk13</th><th>wk14</th><th>wk15</th><th>wk16</th><th>wk17</th><th>wk18</th><th>wk19</th><th>wk20</th><th>wk21</th><th>wk22</th><th>wk23</th><th>wk24</th><th>wk25</th><th>wk26</th><th>wk27</th><th>wk28</th><th>wk29</th><th>wk30</th><th>wk31</th><th>wk32</th><th>&hellip;</th><th>wk40</th><th>wk41</th><th>wk42</th><th>wk43</th><th>wk44</th><th>wk45</th><th>wk46</th><th>wk47</th><th>wk48</th><th>wk49</th><th>wk50</th><th>wk51</th><th>wk52</th><th>wk53</th><th>wk54</th><th>wk55</th><th>wk56</th><th>wk57</th><th>wk58</th><th>wk59</th><th>wk60</th><th>wk61</th><th>wk62</th><th>wk63</th><th>wk64</th><th>wk65</th><th>wk66</th><th>wk67</th><th>wk68</th><th>wk69</th><th>wk70</th><th>wk71</th><th>wk72</th><th>wk73</th><th>wk74</th><th>wk75</th><th>wk76</th></tr><tr><td>i64</td><td>str</td><td>str</td><td>str</td><td>str</td><td>i32</td><td>i32</td><td>i32</td><td>i32</td><td>i32</td><td>i32</td><td>i32</td><td>i32</td><td>i32</td><td>i32</td><td>i32</td><td>i32</td><td>i32</td><td>i32</td><td>i32</td><td>i32</td><td>i32</td><td>i32</td><td>i32</td><td>i32</td><td>i32</td><td>i32</td><td>i32</td><td>i32</td><td>i32</td><td>i32</td><td>i32</td><td>i32</td><td>i32</td><td>i32</td><td>i32</td><td>i32</td><td>&hellip;</td><td>i32</td><td>i32</td><td>i32</td><td>i32</td><td>i32</td><td>i32</td><td>i32</td><td>i32</td><td>i32</td><td>i32</td><td>i32</td><td>i32</td><td>i32</td><td>i32</td><td>i32</td><td>i32</td><td>i32</td><td>i32</td><td>i32</td><td>i32</td><td>i32</td><td>i32</td><td>i32</td><td>i32</td><td>i32</td><td>i32</td><td>i32</td><td>i32</td><td>i32</td><td>i32</td><td>i32</td><td>i32</td><td>i32</td><td>i32</td><td>i32</td><td>i32</td><td>i32</td></tr></thead><tbody><tr><td>2000</td><td>&quot;2 Pac&quot;</td><td>&quot;Baby Don&#x27;t Cry (Keep...&quot;</td><td>&quot;4:22&quot;</td><td>&quot;2000-02-26&quot;</td><td>87</td><td>82</td><td>72</td><td>77</td><td>87</td><td>94</td><td>99</td><td>null</td><td>null</td><td>null</td><td>null</td><td>null</td><td>null</td><td>null</td><td>null</td><td>null</td><td>null</td><td>null</td><td>null</td><td>null</td><td>null</td><td>null</td><td>null</td><td>null</td><td>null</td><td>null</td><td>null</td><td>null</td><td>null</td><td>null</td><td>null</td><td>null</td><td>&hellip;</td><td>null</td><td>null</td><td>null</td><td>null</td><td>null</td><td>null</td><td>null</td><td>null</td><td>null</td><td>null</td><td>null</td><td>null</td><td>null</td><td>null</td><td>null</td><td>null</td><td>null</td><td>null</td><td>null</td><td>null</td><td>null</td><td>null</td><td>null</td><td>null</td><td>null</td><td>null</td><td>null</td><td>null</td><td>null</td><td>null</td><td>null</td><td>null</td><td>null</td><td>null</td><td>null</td><td>null</td><td>null</td></tr><tr><td>2000</td><td>&quot;2Ge+her&quot;</td><td>&quot;The Hardest Part Of ...&quot;</td><td>&quot;3:15&quot;</td><td>&quot;2000-09-02&quot;</td><td>91</td><td>87</td><td>92</td><td>null</td><td>null</td><td>null</td><td>null</td><td>null</td><td>null</td><td>null</td><td>null</td><td>null</td><td>null</td><td>null</td><td>null</td><td>null</td><td>null</td><td>null</td><td>null</td><td>null</td><td>null</td><td>null</td><td>null</td><td>null</td><td>null</td><td>null</td><td>null</td><td>null</td><td>null</td><td>null</td><td>null</td><td>null</td><td>&hellip;</td><td>null</td><td>null</td><td>null</td><td>null</td><td>null</td><td>null</td><td>null</td><td>null</td><td>null</td><td>null</td><td>null</td><td>null</td><td>null</td><td>null</td><td>null</td><td>null</td><td>null</td><td>null</td><td>null</td><td>null</td><td>null</td><td>null</td><td>null</td><td>null</td><td>null</td><td>null</td><td>null</td><td>null</td><td>null</td><td>null</td><td>null</td><td>null</td><td>null</td><td>null</td><td>null</td><td>null</td><td>null</td></tr><tr><td>2000</td><td>&quot;3 Doors Down&quot;</td><td>&quot;Kryptonite&quot;</td><td>&quot;3:53&quot;</td><td>&quot;2000-04-08&quot;</td><td>81</td><td>70</td><td>68</td><td>67</td><td>66</td><td>57</td><td>54</td><td>53</td><td>51</td><td>51</td><td>51</td><td>51</td><td>47</td><td>44</td><td>38</td><td>28</td><td>22</td><td>18</td><td>18</td><td>14</td><td>12</td><td>7</td><td>6</td><td>6</td><td>6</td><td>5</td><td>5</td><td>4</td><td>4</td><td>4</td><td>4</td><td>3</td><td>&hellip;</td><td>15</td><td>14</td><td>13</td><td>14</td><td>16</td><td>17</td><td>21</td><td>22</td><td>24</td><td>28</td><td>33</td><td>42</td><td>42</td><td>49</td><td>null</td><td>null</td><td>null</td><td>null</td><td>null</td><td>null</td><td>null</td><td>null</td><td>null</td><td>null</td><td>null</td><td>null</td><td>null</td><td>null</td><td>null</td><td>null</td><td>null</td><td>null</td><td>null</td><td>null</td><td>null</td><td>null</td><td>null</td></tr><tr><td>2000</td><td>&quot;3 Doors Down&quot;</td><td>&quot;Loser&quot;</td><td>&quot;4:24&quot;</td><td>&quot;2000-10-21&quot;</td><td>76</td><td>76</td><td>72</td><td>69</td><td>67</td><td>65</td><td>55</td><td>59</td><td>62</td><td>61</td><td>61</td><td>59</td><td>61</td><td>66</td><td>72</td><td>76</td><td>75</td><td>67</td><td>73</td><td>70</td><td>null</td><td>null</td><td>null</td><td>null</td><td>null</td><td>null</td><td>null</td><td>null</td><td>null</td><td>null</td><td>null</td><td>null</td><td>&hellip;</td><td>null</td><td>null</td><td>null</td><td>null</td><td>null</td><td>null</td><td>null</td><td>null</td><td>null</td><td>null</td><td>null</td><td>null</td><td>null</td><td>null</td><td>null</td><td>null</td><td>null</td><td>null</td><td>null</td><td>null</td><td>null</td><td>null</td><td>null</td><td>null</td><td>null</td><td>null</td><td>null</td><td>null</td><td>null</td><td>null</td><td>null</td><td>null</td><td>null</td><td>null</td><td>null</td><td>null</td><td>null</td></tr><tr><td>2000</td><td>&quot;504 Boyz&quot;</td><td>&quot;Wobble Wobble&quot;</td><td>&quot;3:35&quot;</td><td>&quot;2000-04-15&quot;</td><td>57</td><td>34</td><td>25</td><td>17</td><td>17</td><td>31</td><td>36</td><td>49</td><td>53</td><td>57</td><td>64</td><td>70</td><td>75</td><td>76</td><td>78</td><td>85</td><td>92</td><td>96</td><td>null</td><td>null</td><td>null</td><td>null</td><td>null</td><td>null</td><td>null</td><td>null</td><td>null</td><td>null</td><td>null</td><td>null</td><td>null</td><td>null</td><td>&hellip;</td><td>null</td><td>null</td><td>null</td><td>null</td><td>null</td><td>null</td><td>null</td><td>null</td><td>null</td><td>null</td><td>null</td><td>null</td><td>null</td><td>null</td><td>null</td><td>null</td><td>null</td><td>null</td><td>null</td><td>null</td><td>null</td><td>null</td><td>null</td><td>null</td><td>null</td><td>null</td><td>null</td><td>null</td><td>null</td><td>null</td><td>null</td><td>null</td><td>null</td><td>null</td><td>null</td><td>null</td><td>null</td></tr><tr><td>&hellip;</td><td>&hellip;</td><td>&hellip;</td><td>&hellip;</td><td>&hellip;</td><td>&hellip;</td><td>&hellip;</td><td>&hellip;</td><td>&hellip;</td><td>&hellip;</td><td>&hellip;</td><td>&hellip;</td><td>&hellip;</td><td>&hellip;</td><td>&hellip;</td><td>&hellip;</td><td>&hellip;</td><td>&hellip;</td><td>&hellip;</td><td>&hellip;</td><td>&hellip;</td><td>&hellip;</td><td>&hellip;</td><td>&hellip;</td><td>&hellip;</td><td>&hellip;</td><td>&hellip;</td><td>&hellip;</td><td>&hellip;</td><td>&hellip;</td><td>&hellip;</td><td>&hellip;</td><td>&hellip;</td><td>&hellip;</td><td>&hellip;</td><td>&hellip;</td><td>&hellip;</td><td>&hellip;</td><td>&hellip;</td><td>&hellip;</td><td>&hellip;</td><td>&hellip;</td><td>&hellip;</td><td>&hellip;</td><td>&hellip;</td><td>&hellip;</td><td>&hellip;</td><td>&hellip;</td><td>&hellip;</td><td>&hellip;</td><td>&hellip;</td><td>&hellip;</td><td>&hellip;</td><td>&hellip;</td><td>&hellip;</td><td>&hellip;</td><td>&hellip;</td><td>&hellip;</td><td>&hellip;</td><td>&hellip;</td><td>&hellip;</td><td>&hellip;</td><td>&hellip;</td><td>&hellip;</td><td>&hellip;</td><td>&hellip;</td><td>&hellip;</td><td>&hellip;</td><td>&hellip;</td><td>&hellip;</td><td>&hellip;</td><td>&hellip;</td><td>&hellip;</td><td>&hellip;</td><td>&hellip;</td></tr><tr><td>2000</td><td>&quot;Yankee Grey&quot;</td><td>&quot;Another Nine Minutes&quot;</td><td>&quot;3:10&quot;</td><td>&quot;2000-04-29&quot;</td><td>86</td><td>83</td><td>77</td><td>74</td><td>83</td><td>79</td><td>88</td><td>95</td><td>null</td><td>null</td><td>null</td><td>null</td><td>null</td><td>null</td><td>null</td><td>null</td><td>null</td><td>null</td><td>null</td><td>null</td><td>null</td><td>null</td><td>null</td><td>null</td><td>null</td><td>null</td><td>null</td><td>null</td><td>null</td><td>null</td><td>null</td><td>null</td><td>&hellip;</td><td>null</td><td>null</td><td>null</td><td>null</td><td>null</td><td>null</td><td>null</td><td>null</td><td>null</td><td>null</td><td>null</td><td>null</td><td>null</td><td>null</td><td>null</td><td>null</td><td>null</td><td>null</td><td>null</td><td>null</td><td>null</td><td>null</td><td>null</td><td>null</td><td>null</td><td>null</td><td>null</td><td>null</td><td>null</td><td>null</td><td>null</td><td>null</td><td>null</td><td>null</td><td>null</td><td>null</td><td>null</td></tr><tr><td>2000</td><td>&quot;Yearwood, Trisha&quot;</td><td>&quot;Real Live Woman&quot;</td><td>&quot;3:55&quot;</td><td>&quot;2000-04-01&quot;</td><td>85</td><td>83</td><td>83</td><td>82</td><td>81</td><td>91</td><td>null</td><td>null</td><td>null</td><td>null</td><td>null</td><td>null</td><td>null</td><td>null</td><td>null</td><td>null</td><td>null</td><td>null</td><td>null</td><td>null</td><td>null</td><td>null</td><td>null</td><td>null</td><td>null</td><td>null</td><td>null</td><td>null</td><td>null</td><td>null</td><td>null</td><td>null</td><td>&hellip;</td><td>null</td><td>null</td><td>null</td><td>null</td><td>null</td><td>null</td><td>null</td><td>null</td><td>null</td><td>null</td><td>null</td><td>null</td><td>null</td><td>null</td><td>null</td><td>null</td><td>null</td><td>null</td><td>null</td><td>null</td><td>null</td><td>null</td><td>null</td><td>null</td><td>null</td><td>null</td><td>null</td><td>null</td><td>null</td><td>null</td><td>null</td><td>null</td><td>null</td><td>null</td><td>null</td><td>null</td><td>null</td></tr><tr><td>2000</td><td>&quot;Ying Yang Twins&quot;</td><td>&quot;Whistle While You Tw...&quot;</td><td>&quot;4:19&quot;</td><td>&quot;2000-03-18&quot;</td><td>95</td><td>94</td><td>91</td><td>85</td><td>84</td><td>78</td><td>74</td><td>78</td><td>85</td><td>89</td><td>97</td><td>96</td><td>99</td><td>99</td><td>null</td><td>null</td><td>null</td><td>null</td><td>null</td><td>null</td><td>null</td><td>null</td><td>null</td><td>null</td><td>null</td><td>null</td><td>null</td><td>null</td><td>null</td><td>null</td><td>null</td><td>null</td><td>&hellip;</td><td>null</td><td>null</td><td>null</td><td>null</td><td>null</td><td>null</td><td>null</td><td>null</td><td>null</td><td>null</td><td>null</td><td>null</td><td>null</td><td>null</td><td>null</td><td>null</td><td>null</td><td>null</td><td>null</td><td>null</td><td>null</td><td>null</td><td>null</td><td>null</td><td>null</td><td>null</td><td>null</td><td>null</td><td>null</td><td>null</td><td>null</td><td>null</td><td>null</td><td>null</td><td>null</td><td>null</td><td>null</td></tr><tr><td>2000</td><td>&quot;Zombie Nation&quot;</td><td>&quot;Kernkraft 400&quot;</td><td>&quot;3:30&quot;</td><td>&quot;2000-09-02&quot;</td><td>99</td><td>99</td><td>null</td><td>null</td><td>null</td><td>null</td><td>null</td><td>null</td><td>null</td><td>null</td><td>null</td><td>null</td><td>null</td><td>null</td><td>null</td><td>null</td><td>null</td><td>null</td><td>null</td><td>null</td><td>null</td><td>null</td><td>null</td><td>null</td><td>null</td><td>null</td><td>null</td><td>null</td><td>null</td><td>null</td><td>null</td><td>null</td><td>&hellip;</td><td>null</td><td>null</td><td>null</td><td>null</td><td>null</td><td>null</td><td>null</td><td>null</td><td>null</td><td>null</td><td>null</td><td>null</td><td>null</td><td>null</td><td>null</td><td>null</td><td>null</td><td>null</td><td>null</td><td>null</td><td>null</td><td>null</td><td>null</td><td>null</td><td>null</td><td>null</td><td>null</td><td>null</td><td>null</td><td>null</td><td>null</td><td>null</td><td>null</td><td>null</td><td>null</td><td>null</td><td>null</td></tr><tr><td>2000</td><td>&quot;matchbox twenty&quot;</td><td>&quot;Bent&quot;</td><td>&quot;4:12&quot;</td><td>&quot;2000-04-29&quot;</td><td>60</td><td>37</td><td>29</td><td>24</td><td>22</td><td>21</td><td>18</td><td>16</td><td>13</td><td>12</td><td>8</td><td>6</td><td>1</td><td>2</td><td>3</td><td>2</td><td>2</td><td>3</td><td>4</td><td>5</td><td>4</td><td>4</td><td>6</td><td>9</td><td>12</td><td>13</td><td>19</td><td>20</td><td>20</td><td>24</td><td>29</td><td>28</td><td>&hellip;</td><td>null</td><td>null</td><td>null</td><td>null</td><td>null</td><td>null</td><td>null</td><td>null</td><td>null</td><td>null</td><td>null</td><td>null</td><td>null</td><td>null</td><td>null</td><td>null</td><td>null</td><td>null</td><td>null</td><td>null</td><td>null</td><td>null</td><td>null</td><td>null</td><td>null</td><td>null</td><td>null</td><td>null</td><td>null</td><td>null</td><td>null</td><td>null</td><td>null</td><td>null</td><td>null</td><td>null</td><td>null</td></tr></tbody></table></div>"
      ],
      "text/plain": [
       "shape: (317, 81)\n",
       "┌──────┬──────────────────┬─────────────────────────┬──────┬───┬──────┬──────┬──────┬──────┐\n",
       "│ year ┆ artist           ┆ track                   ┆ time ┆ … ┆ wk73 ┆ wk74 ┆ wk75 ┆ wk76 │\n",
       "│ ---  ┆ ---              ┆ ---                     ┆ ---  ┆   ┆ ---  ┆ ---  ┆ ---  ┆ ---  │\n",
       "│ i64  ┆ str              ┆ str                     ┆ str  ┆   ┆ i32  ┆ i32  ┆ i32  ┆ i32  │\n",
       "╞══════╪══════════════════╪═════════════════════════╪══════╪═══╪══════╪══════╪══════╪══════╡\n",
       "│ 2000 ┆ 2 Pac            ┆ Baby Don't Cry (Keep... ┆ 4:22 ┆ … ┆ null ┆ null ┆ null ┆ null │\n",
       "│ 2000 ┆ 2Ge+her          ┆ The Hardest Part Of ... ┆ 3:15 ┆ … ┆ null ┆ null ┆ null ┆ null │\n",
       "│ 2000 ┆ 3 Doors Down     ┆ Kryptonite              ┆ 3:53 ┆ … ┆ null ┆ null ┆ null ┆ null │\n",
       "│ 2000 ┆ 3 Doors Down     ┆ Loser                   ┆ 4:24 ┆ … ┆ null ┆ null ┆ null ┆ null │\n",
       "│ 2000 ┆ 504 Boyz         ┆ Wobble Wobble           ┆ 3:35 ┆ … ┆ null ┆ null ┆ null ┆ null │\n",
       "│ …    ┆ …                ┆ …                       ┆ …    ┆ … ┆ …    ┆ …    ┆ …    ┆ …    │\n",
       "│ 2000 ┆ Yankee Grey      ┆ Another Nine Minutes    ┆ 3:10 ┆ … ┆ null ┆ null ┆ null ┆ null │\n",
       "│ 2000 ┆ Yearwood, Trisha ┆ Real Live Woman         ┆ 3:55 ┆ … ┆ null ┆ null ┆ null ┆ null │\n",
       "│ 2000 ┆ Ying Yang Twins  ┆ Whistle While You Tw... ┆ 4:19 ┆ … ┆ null ┆ null ┆ null ┆ null │\n",
       "│ 2000 ┆ Zombie Nation    ┆ Kernkraft 400           ┆ 3:30 ┆ … ┆ null ┆ null ┆ null ┆ null │\n",
       "│ 2000 ┆ matchbox twenty  ┆ Bent                    ┆ 4:12 ┆ … ┆ null ┆ null ┆ null ┆ null │\n",
       "└──────┴──────────────────┴─────────────────────────┴──────┴───┴──────┴──────┴──────┴──────┘"
      ]
     },
     "execution_count": 51,
     "metadata": {},
     "output_type": "execute_result"
    }
   ],
   "source": [
    "billboard = pl.read_csv(\"./Data_files/billboard.csv\", null_values=\"NA\")\n",
    "billboard = billboard.with_columns(cs.starts_with(\"wk\").cast(pl.Int32))\n",
    "billboard"
   ]
  },
  {
   "cell_type": "markdown",
   "metadata": {},
   "source": [
    "The aim here is to flip into long form, extract the numbers from the `wk` columns and convert to integer dtype. Let's see below how [pivot_longer](https://pyjanitor-devs.github.io/pyjanitor/api/polars/#janitor.polars.pivot_longer) handles this:"
   ]
  },
  {
   "cell_type": "code",
   "execution_count": 52,
   "metadata": {},
   "outputs": [
    {
     "data": {
      "text/html": [
       "<div><style>\n",
       ".dataframe > thead > tr,\n",
       ".dataframe > tbody > tr {\n",
       "  text-align: right;\n",
       "  white-space: pre-wrap;\n",
       "}\n",
       "</style>\n",
       "<small>shape: (5_307, 7)</small><table border=\"1\" class=\"dataframe\"><thead><tr><th>year</th><th>artist</th><th>track</th><th>time</th><th>date.entered</th><th>week</th><th>rank</th></tr><tr><td>i64</td><td>str</td><td>str</td><td>str</td><td>str</td><td>i32</td><td>i32</td></tr></thead><tbody><tr><td>2000</td><td>&quot;2 Pac&quot;</td><td>&quot;Baby Don&#x27;t Cry (Keep...&quot;</td><td>&quot;4:22&quot;</td><td>&quot;2000-02-26&quot;</td><td>1</td><td>87</td></tr><tr><td>2000</td><td>&quot;2Ge+her&quot;</td><td>&quot;The Hardest Part Of ...&quot;</td><td>&quot;3:15&quot;</td><td>&quot;2000-09-02&quot;</td><td>1</td><td>91</td></tr><tr><td>2000</td><td>&quot;3 Doors Down&quot;</td><td>&quot;Kryptonite&quot;</td><td>&quot;3:53&quot;</td><td>&quot;2000-04-08&quot;</td><td>1</td><td>81</td></tr><tr><td>2000</td><td>&quot;3 Doors Down&quot;</td><td>&quot;Loser&quot;</td><td>&quot;4:24&quot;</td><td>&quot;2000-10-21&quot;</td><td>1</td><td>76</td></tr><tr><td>2000</td><td>&quot;504 Boyz&quot;</td><td>&quot;Wobble Wobble&quot;</td><td>&quot;3:35&quot;</td><td>&quot;2000-04-15&quot;</td><td>1</td><td>57</td></tr><tr><td>&hellip;</td><td>&hellip;</td><td>&hellip;</td><td>&hellip;</td><td>&hellip;</td><td>&hellip;</td><td>&hellip;</td></tr><tr><td>2000</td><td>&quot;Creed&quot;</td><td>&quot;Higher&quot;</td><td>&quot;5:16&quot;</td><td>&quot;1999-09-11&quot;</td><td>3</td><td>50</td></tr><tr><td>2000</td><td>&quot;Lonestar&quot;</td><td>&quot;Amazed&quot;</td><td>&quot;4:25&quot;</td><td>&quot;1999-06-05&quot;</td><td>3</td><td>45</td></tr><tr><td>2000</td><td>&quot;Creed&quot;</td><td>&quot;Higher&quot;</td><td>&quot;5:16&quot;</td><td>&quot;1999-09-11&quot;</td><td>4</td><td>50</td></tr><tr><td>2000</td><td>&quot;Lonestar&quot;</td><td>&quot;Amazed&quot;</td><td>&quot;4:25&quot;</td><td>&quot;1999-06-05&quot;</td><td>4</td><td>50</td></tr><tr><td>2000</td><td>&quot;Creed&quot;</td><td>&quot;Higher&quot;</td><td>&quot;5:16&quot;</td><td>&quot;1999-09-11&quot;</td><td>5</td><td>49</td></tr></tbody></table></div>"
      ],
      "text/plain": [
       "shape: (5_307, 7)\n",
       "┌──────┬──────────────┬─────────────────────────┬──────┬──────────────┬──────┬──────┐\n",
       "│ year ┆ artist       ┆ track                   ┆ time ┆ date.entered ┆ week ┆ rank │\n",
       "│ ---  ┆ ---          ┆ ---                     ┆ ---  ┆ ---          ┆ ---  ┆ ---  │\n",
       "│ i64  ┆ str          ┆ str                     ┆ str  ┆ str          ┆ i32  ┆ i32  │\n",
       "╞══════╪══════════════╪═════════════════════════╪══════╪══════════════╪══════╪══════╡\n",
       "│ 2000 ┆ 2 Pac        ┆ Baby Don't Cry (Keep... ┆ 4:22 ┆ 2000-02-26   ┆ 1    ┆ 87   │\n",
       "│ 2000 ┆ 2Ge+her      ┆ The Hardest Part Of ... ┆ 3:15 ┆ 2000-09-02   ┆ 1    ┆ 91   │\n",
       "│ 2000 ┆ 3 Doors Down ┆ Kryptonite              ┆ 3:53 ┆ 2000-04-08   ┆ 1    ┆ 81   │\n",
       "│ 2000 ┆ 3 Doors Down ┆ Loser                   ┆ 4:24 ┆ 2000-10-21   ┆ 1    ┆ 76   │\n",
       "│ 2000 ┆ 504 Boyz     ┆ Wobble Wobble           ┆ 3:35 ┆ 2000-04-15   ┆ 1    ┆ 57   │\n",
       "│ …    ┆ …            ┆ …                       ┆ …    ┆ …            ┆ …    ┆ …    │\n",
       "│ 2000 ┆ Creed        ┆ Higher                  ┆ 5:16 ┆ 1999-09-11   ┆ 3    ┆ 50   │\n",
       "│ 2000 ┆ Lonestar     ┆ Amazed                  ┆ 4:25 ┆ 1999-06-05   ┆ 3    ┆ 45   │\n",
       "│ 2000 ┆ Creed        ┆ Higher                  ┆ 5:16 ┆ 1999-09-11   ┆ 4    ┆ 50   │\n",
       "│ 2000 ┆ Lonestar     ┆ Amazed                  ┆ 4:25 ┆ 1999-06-05   ┆ 4    ┆ 50   │\n",
       "│ 2000 ┆ Creed        ┆ Higher                  ┆ 5:16 ┆ 1999-09-11   ┆ 5    ┆ 49   │\n",
       "└──────┴──────────────┴─────────────────────────┴──────┴──────────────┴──────┴──────┘"
      ]
     },
     "execution_count": 52,
     "metadata": {},
     "output_type": "execute_result"
    }
   ],
   "source": [
    "(\n",
    "    billboard.pivot_longer(\n",
    "        index=[\"year\", \"artist\", \"track\", \"time\", \"date.entered\"],\n",
    "        names_to=\"week\",\n",
    "        values_to=\"rank\",\n",
    "        names_pattern=r\".+(\\d)\",\n",
    "        names_transform=pl.col(\"week\").cast(pl.Int32),\n",
    "    ).drop_nulls(subset=\"rank\")\n",
    ")"
   ]
  },
  {
   "cell_type": "markdown",
   "metadata": {},
   "source": [
    "Two things to note here:\n",
    "- `names_pattern` offers a flexible way to extract/separate labels within columns. In this case we are only interested in the integers attached to the `wk` columns, and the regex easily achieves this. Only the groups are retained; the non-groups are discarded. The other option of splitting columns is the `names_sep` parameter.\n",
    "- `names_transform` parameter offers a way to convert the data type of the flipped columns. It uses a [polars expression](https://docs.pola.rs/user-guide/concepts/expressions/) to achieve this.\n",
    "\n",
    "You can use the `names_sep` parameter to achieve something similar to the above; the regex though is a better fit.\n"
   ]
  },
  {
   "cell_type": "code",
   "execution_count": 53,
   "metadata": {},
   "outputs": [
    {
     "data": {
      "text/html": [
       "<div><style>\n",
       ".dataframe > thead > tr,\n",
       ".dataframe > tbody > tr {\n",
       "  text-align: right;\n",
       "  white-space: pre-wrap;\n",
       "}\n",
       "</style>\n",
       "<small>shape: (5_307, 7)</small><table border=\"1\" class=\"dataframe\"><thead><tr><th>year</th><th>artist</th><th>track</th><th>time</th><th>date.entered</th><th>week</th><th>rank</th></tr><tr><td>i64</td><td>str</td><td>str</td><td>str</td><td>str</td><td>i32</td><td>i32</td></tr></thead><tbody><tr><td>2000</td><td>&quot;2 Pac&quot;</td><td>&quot;Baby Don&#x27;t Cry (Keep...&quot;</td><td>&quot;4:22&quot;</td><td>&quot;2000-02-26&quot;</td><td>1</td><td>87</td></tr><tr><td>2000</td><td>&quot;2Ge+her&quot;</td><td>&quot;The Hardest Part Of ...&quot;</td><td>&quot;3:15&quot;</td><td>&quot;2000-09-02&quot;</td><td>1</td><td>91</td></tr><tr><td>2000</td><td>&quot;3 Doors Down&quot;</td><td>&quot;Kryptonite&quot;</td><td>&quot;3:53&quot;</td><td>&quot;2000-04-08&quot;</td><td>1</td><td>81</td></tr><tr><td>2000</td><td>&quot;3 Doors Down&quot;</td><td>&quot;Loser&quot;</td><td>&quot;4:24&quot;</td><td>&quot;2000-10-21&quot;</td><td>1</td><td>76</td></tr><tr><td>2000</td><td>&quot;504 Boyz&quot;</td><td>&quot;Wobble Wobble&quot;</td><td>&quot;3:35&quot;</td><td>&quot;2000-04-15&quot;</td><td>1</td><td>57</td></tr><tr><td>&hellip;</td><td>&hellip;</td><td>&hellip;</td><td>&hellip;</td><td>&hellip;</td><td>&hellip;</td><td>&hellip;</td></tr><tr><td>2000</td><td>&quot;Creed&quot;</td><td>&quot;Higher&quot;</td><td>&quot;5:16&quot;</td><td>&quot;1999-09-11&quot;</td><td>63</td><td>50</td></tr><tr><td>2000</td><td>&quot;Lonestar&quot;</td><td>&quot;Amazed&quot;</td><td>&quot;4:25&quot;</td><td>&quot;1999-06-05&quot;</td><td>63</td><td>45</td></tr><tr><td>2000</td><td>&quot;Creed&quot;</td><td>&quot;Higher&quot;</td><td>&quot;5:16&quot;</td><td>&quot;1999-09-11&quot;</td><td>64</td><td>50</td></tr><tr><td>2000</td><td>&quot;Lonestar&quot;</td><td>&quot;Amazed&quot;</td><td>&quot;4:25&quot;</td><td>&quot;1999-06-05&quot;</td><td>64</td><td>50</td></tr><tr><td>2000</td><td>&quot;Creed&quot;</td><td>&quot;Higher&quot;</td><td>&quot;5:16&quot;</td><td>&quot;1999-09-11&quot;</td><td>65</td><td>49</td></tr></tbody></table></div>"
      ],
      "text/plain": [
       "shape: (5_307, 7)\n",
       "┌──────┬──────────────┬─────────────────────────┬──────┬──────────────┬──────┬──────┐\n",
       "│ year ┆ artist       ┆ track                   ┆ time ┆ date.entered ┆ week ┆ rank │\n",
       "│ ---  ┆ ---          ┆ ---                     ┆ ---  ┆ ---          ┆ ---  ┆ ---  │\n",
       "│ i64  ┆ str          ┆ str                     ┆ str  ┆ str          ┆ i32  ┆ i32  │\n",
       "╞══════╪══════════════╪═════════════════════════╪══════╪══════════════╪══════╪══════╡\n",
       "│ 2000 ┆ 2 Pac        ┆ Baby Don't Cry (Keep... ┆ 4:22 ┆ 2000-02-26   ┆ 1    ┆ 87   │\n",
       "│ 2000 ┆ 2Ge+her      ┆ The Hardest Part Of ... ┆ 3:15 ┆ 2000-09-02   ┆ 1    ┆ 91   │\n",
       "│ 2000 ┆ 3 Doors Down ┆ Kryptonite              ┆ 3:53 ┆ 2000-04-08   ┆ 1    ┆ 81   │\n",
       "│ 2000 ┆ 3 Doors Down ┆ Loser                   ┆ 4:24 ┆ 2000-10-21   ┆ 1    ┆ 76   │\n",
       "│ 2000 ┆ 504 Boyz     ┆ Wobble Wobble           ┆ 3:35 ┆ 2000-04-15   ┆ 1    ┆ 57   │\n",
       "│ …    ┆ …            ┆ …                       ┆ …    ┆ …            ┆ …    ┆ …    │\n",
       "│ 2000 ┆ Creed        ┆ Higher                  ┆ 5:16 ┆ 1999-09-11   ┆ 63   ┆ 50   │\n",
       "│ 2000 ┆ Lonestar     ┆ Amazed                  ┆ 4:25 ┆ 1999-06-05   ┆ 63   ┆ 45   │\n",
       "│ 2000 ┆ Creed        ┆ Higher                  ┆ 5:16 ┆ 1999-09-11   ┆ 64   ┆ 50   │\n",
       "│ 2000 ┆ Lonestar     ┆ Amazed                  ┆ 4:25 ┆ 1999-06-05   ┆ 64   ┆ 50   │\n",
       "│ 2000 ┆ Creed        ┆ Higher                  ┆ 5:16 ┆ 1999-09-11   ┆ 65   ┆ 49   │\n",
       "└──────┴──────────────┴─────────────────────────┴──────┴──────────────┴──────┴──────┘"
      ]
     },
     "execution_count": 53,
     "metadata": {},
     "output_type": "execute_result"
    }
   ],
   "source": [
    "(\n",
    "    billboard.pivot_longer(\n",
    "        index=[\"year\", \"artist\", \"track\", \"time\", \"date.entered\"],\n",
    "        names_to=[\"\", \"week\"],\n",
    "        values_to=\"rank\",\n",
    "        names_sep=\"wk\",\n",
    "        names_transform=pl.col(\"week\").cast(pl.Int32),\n",
    "    )\n",
    "    .drop(\"\")\n",
    "    .drop_nulls(subset=\"rank\")\n",
    ")"
   ]
  },
  {
   "cell_type": "markdown",
   "metadata": {},
   "source": [
    "## **Many variables in column names**"
   ]
  },
  {
   "cell_type": "code",
   "execution_count": 54,
   "metadata": {},
   "outputs": [
    {
     "data": {
      "text/html": [
       "<div><style>\n",
       ".dataframe > thead > tr,\n",
       ".dataframe > tbody > tr {\n",
       "  text-align: right;\n",
       "  white-space: pre-wrap;\n",
       "}\n",
       "</style>\n",
       "<small>shape: (7_240, 60)</small><table border=\"1\" class=\"dataframe\"><thead><tr><th>country</th><th>iso2</th><th>iso3</th><th>year</th><th>new_sp_m014</th><th>new_sp_m1524</th><th>new_sp_m2534</th><th>new_sp_m3544</th><th>new_sp_m4554</th><th>new_sp_m5564</th><th>new_sp_m65</th><th>new_sp_f014</th><th>new_sp_f1524</th><th>new_sp_f2534</th><th>new_sp_f3544</th><th>new_sp_f4554</th><th>new_sp_f5564</th><th>new_sp_f65</th><th>new_sn_m014</th><th>new_sn_m1524</th><th>new_sn_m2534</th><th>new_sn_m3544</th><th>new_sn_m4554</th><th>new_sn_m5564</th><th>new_sn_m65</th><th>new_sn_f014</th><th>new_sn_f1524</th><th>new_sn_f2534</th><th>new_sn_f3544</th><th>new_sn_f4554</th><th>new_sn_f5564</th><th>new_sn_f65</th><th>new_ep_m014</th><th>new_ep_m1524</th><th>new_ep_m2534</th><th>new_ep_m3544</th><th>new_ep_m4554</th><th>new_ep_m5564</th><th>new_ep_m65</th><th>new_ep_f014</th><th>new_ep_f1524</th><th>new_ep_f2534</th><th>new_ep_f3544</th><th>new_ep_f4554</th><th>new_ep_f5564</th><th>new_ep_f65</th><th>newrel_m014</th><th>newrel_m1524</th><th>newrel_m2534</th><th>newrel_m3544</th><th>newrel_m4554</th><th>newrel_m5564</th><th>newrel_m65</th><th>newrel_f014</th><th>newrel_f1524</th><th>newrel_f2534</th><th>newrel_f3544</th><th>newrel_f4554</th><th>newrel_f5564</th><th>newrel_f65</th></tr><tr><td>str</td><td>str</td><td>str</td><td>i64</td><td>i64</td><td>i64</td><td>i64</td><td>i64</td><td>i64</td><td>i64</td><td>i64</td><td>i64</td><td>i64</td><td>i64</td><td>i64</td><td>i64</td><td>i64</td><td>i64</td><td>i64</td><td>i64</td><td>i64</td><td>i64</td><td>i64</td><td>i64</td><td>i64</td><td>i64</td><td>i64</td><td>i64</td><td>i64</td><td>i64</td><td>i64</td><td>i64</td><td>i64</td><td>i64</td><td>i64</td><td>i64</td><td>i64</td><td>i64</td><td>i64</td><td>i64</td><td>i64</td><td>i64</td><td>i64</td><td>i64</td><td>i64</td><td>i64</td><td>i64</td><td>i64</td><td>i64</td><td>i64</td><td>i64</td><td>i64</td><td>i64</td><td>i64</td><td>i64</td><td>i64</td><td>i64</td><td>i64</td><td>i64</td><td>i64</td></tr></thead><tbody><tr><td>&quot;Afghanistan&quot;</td><td>&quot;AF&quot;</td><td>&quot;AFG&quot;</td><td>1980</td><td>null</td><td>null</td><td>null</td><td>null</td><td>null</td><td>null</td><td>null</td><td>null</td><td>null</td><td>null</td><td>null</td><td>null</td><td>null</td><td>null</td><td>null</td><td>null</td><td>null</td><td>null</td><td>null</td><td>null</td><td>null</td><td>null</td><td>null</td><td>null</td><td>null</td><td>null</td><td>null</td><td>null</td><td>null</td><td>null</td><td>null</td><td>null</td><td>null</td><td>null</td><td>null</td><td>null</td><td>null</td><td>null</td><td>null</td><td>null</td><td>null</td><td>null</td><td>null</td><td>null</td><td>null</td><td>null</td><td>null</td><td>null</td><td>null</td><td>null</td><td>null</td><td>null</td><td>null</td><td>null</td><td>null</td><td>null</td></tr><tr><td>&quot;Afghanistan&quot;</td><td>&quot;AF&quot;</td><td>&quot;AFG&quot;</td><td>1981</td><td>null</td><td>null</td><td>null</td><td>null</td><td>null</td><td>null</td><td>null</td><td>null</td><td>null</td><td>null</td><td>null</td><td>null</td><td>null</td><td>null</td><td>null</td><td>null</td><td>null</td><td>null</td><td>null</td><td>null</td><td>null</td><td>null</td><td>null</td><td>null</td><td>null</td><td>null</td><td>null</td><td>null</td><td>null</td><td>null</td><td>null</td><td>null</td><td>null</td><td>null</td><td>null</td><td>null</td><td>null</td><td>null</td><td>null</td><td>null</td><td>null</td><td>null</td><td>null</td><td>null</td><td>null</td><td>null</td><td>null</td><td>null</td><td>null</td><td>null</td><td>null</td><td>null</td><td>null</td><td>null</td><td>null</td><td>null</td></tr><tr><td>&quot;Afghanistan&quot;</td><td>&quot;AF&quot;</td><td>&quot;AFG&quot;</td><td>1982</td><td>null</td><td>null</td><td>null</td><td>null</td><td>null</td><td>null</td><td>null</td><td>null</td><td>null</td><td>null</td><td>null</td><td>null</td><td>null</td><td>null</td><td>null</td><td>null</td><td>null</td><td>null</td><td>null</td><td>null</td><td>null</td><td>null</td><td>null</td><td>null</td><td>null</td><td>null</td><td>null</td><td>null</td><td>null</td><td>null</td><td>null</td><td>null</td><td>null</td><td>null</td><td>null</td><td>null</td><td>null</td><td>null</td><td>null</td><td>null</td><td>null</td><td>null</td><td>null</td><td>null</td><td>null</td><td>null</td><td>null</td><td>null</td><td>null</td><td>null</td><td>null</td><td>null</td><td>null</td><td>null</td><td>null</td><td>null</td></tr><tr><td>&quot;Afghanistan&quot;</td><td>&quot;AF&quot;</td><td>&quot;AFG&quot;</td><td>1983</td><td>null</td><td>null</td><td>null</td><td>null</td><td>null</td><td>null</td><td>null</td><td>null</td><td>null</td><td>null</td><td>null</td><td>null</td><td>null</td><td>null</td><td>null</td><td>null</td><td>null</td><td>null</td><td>null</td><td>null</td><td>null</td><td>null</td><td>null</td><td>null</td><td>null</td><td>null</td><td>null</td><td>null</td><td>null</td><td>null</td><td>null</td><td>null</td><td>null</td><td>null</td><td>null</td><td>null</td><td>null</td><td>null</td><td>null</td><td>null</td><td>null</td><td>null</td><td>null</td><td>null</td><td>null</td><td>null</td><td>null</td><td>null</td><td>null</td><td>null</td><td>null</td><td>null</td><td>null</td><td>null</td><td>null</td><td>null</td></tr><tr><td>&quot;Afghanistan&quot;</td><td>&quot;AF&quot;</td><td>&quot;AFG&quot;</td><td>1984</td><td>null</td><td>null</td><td>null</td><td>null</td><td>null</td><td>null</td><td>null</td><td>null</td><td>null</td><td>null</td><td>null</td><td>null</td><td>null</td><td>null</td><td>null</td><td>null</td><td>null</td><td>null</td><td>null</td><td>null</td><td>null</td><td>null</td><td>null</td><td>null</td><td>null</td><td>null</td><td>null</td><td>null</td><td>null</td><td>null</td><td>null</td><td>null</td><td>null</td><td>null</td><td>null</td><td>null</td><td>null</td><td>null</td><td>null</td><td>null</td><td>null</td><td>null</td><td>null</td><td>null</td><td>null</td><td>null</td><td>null</td><td>null</td><td>null</td><td>null</td><td>null</td><td>null</td><td>null</td><td>null</td><td>null</td><td>null</td></tr><tr><td>&hellip;</td><td>&hellip;</td><td>&hellip;</td><td>&hellip;</td><td>&hellip;</td><td>&hellip;</td><td>&hellip;</td><td>&hellip;</td><td>&hellip;</td><td>&hellip;</td><td>&hellip;</td><td>&hellip;</td><td>&hellip;</td><td>&hellip;</td><td>&hellip;</td><td>&hellip;</td><td>&hellip;</td><td>&hellip;</td><td>&hellip;</td><td>&hellip;</td><td>&hellip;</td><td>&hellip;</td><td>&hellip;</td><td>&hellip;</td><td>&hellip;</td><td>&hellip;</td><td>&hellip;</td><td>&hellip;</td><td>&hellip;</td><td>&hellip;</td><td>&hellip;</td><td>&hellip;</td><td>&hellip;</td><td>&hellip;</td><td>&hellip;</td><td>&hellip;</td><td>&hellip;</td><td>&hellip;</td><td>&hellip;</td><td>&hellip;</td><td>&hellip;</td><td>&hellip;</td><td>&hellip;</td><td>&hellip;</td><td>&hellip;</td><td>&hellip;</td><td>&hellip;</td><td>&hellip;</td><td>&hellip;</td><td>&hellip;</td><td>&hellip;</td><td>&hellip;</td><td>&hellip;</td><td>&hellip;</td><td>&hellip;</td><td>&hellip;</td><td>&hellip;</td><td>&hellip;</td><td>&hellip;</td><td>&hellip;</td></tr><tr><td>&quot;Zimbabwe&quot;</td><td>&quot;ZW&quot;</td><td>&quot;ZWE&quot;</td><td>2009</td><td>125</td><td>578</td><td>null</td><td>3471</td><td>681</td><td>293</td><td>192</td><td>180</td><td>873</td><td>null</td><td>3028</td><td>419</td><td>229</td><td>126</td><td>1560</td><td>860</td><td>null</td><td>6496</td><td>1655</td><td>882</td><td>861</td><td>1425</td><td>1334</td><td>null</td><td>7023</td><td>1551</td><td>729</td><td>514</td><td>244</td><td>266</td><td>0</td><td>1922</td><td>491</td><td>231</td><td>223</td><td>210</td><td>394</td><td>0</td><td>1944</td><td>438</td><td>182</td><td>138</td><td>null</td><td>null</td><td>null</td><td>null</td><td>null</td><td>null</td><td>null</td><td>null</td><td>null</td><td>null</td><td>null</td><td>null</td><td>null</td><td>null</td></tr><tr><td>&quot;Zimbabwe&quot;</td><td>&quot;ZW&quot;</td><td>&quot;ZWE&quot;</td><td>2010</td><td>150</td><td>710</td><td>2208</td><td>1682</td><td>761</td><td>350</td><td>252</td><td>173</td><td>974</td><td>2185</td><td>1283</td><td>490</td><td>265</td><td>171</td><td>1826</td><td>821</td><td>3342</td><td>3270</td><td>1545</td><td>882</td><td>864</td><td>1732</td><td>1282</td><td>4013</td><td>2851</td><td>1377</td><td>789</td><td>563</td><td>270</td><td>243</td><td>902</td><td>868</td><td>418</td><td>229</td><td>192</td><td>220</td><td>319</td><td>1058</td><td>677</td><td>338</td><td>181</td><td>146</td><td>null</td><td>null</td><td>null</td><td>null</td><td>null</td><td>null</td><td>null</td><td>null</td><td>null</td><td>null</td><td>null</td><td>null</td><td>null</td><td>null</td></tr><tr><td>&quot;Zimbabwe&quot;</td><td>&quot;ZW&quot;</td><td>&quot;ZWE&quot;</td><td>2011</td><td>152</td><td>784</td><td>2467</td><td>2071</td><td>780</td><td>377</td><td>278</td><td>174</td><td>1084</td><td>2161</td><td>1386</td><td>448</td><td>274</td><td>160</td><td>1364</td><td>596</td><td>2473</td><td>2813</td><td>1264</td><td>702</td><td>728</td><td>1271</td><td>947</td><td>2754</td><td>2216</td><td>962</td><td>587</td><td>495</td><td>250</td><td>195</td><td>746</td><td>796</td><td>342</td><td>172</td><td>172</td><td>209</td><td>318</td><td>802</td><td>640</td><td>284</td><td>137</td><td>129</td><td>null</td><td>null</td><td>null</td><td>null</td><td>null</td><td>null</td><td>null</td><td>null</td><td>null</td><td>null</td><td>null</td><td>null</td><td>null</td><td>null</td></tr><tr><td>&quot;Zimbabwe&quot;</td><td>&quot;ZW&quot;</td><td>&quot;ZWE&quot;</td><td>2012</td><td>120</td><td>783</td><td>2421</td><td>2086</td><td>796</td><td>360</td><td>271</td><td>173</td><td>939</td><td>2053</td><td>1286</td><td>483</td><td>231</td><td>161</td><td>1169</td><td>613</td><td>2302</td><td>2657</td><td>1154</td><td>708</td><td>796</td><td>1008</td><td>888</td><td>2287</td><td>1957</td><td>829</td><td>516</td><td>432</td><td>233</td><td>214</td><td>658</td><td>789</td><td>331</td><td>178</td><td>182</td><td>208</td><td>319</td><td>710</td><td>579</td><td>228</td><td>140</td><td>143</td><td>null</td><td>null</td><td>null</td><td>null</td><td>null</td><td>null</td><td>null</td><td>null</td><td>null</td><td>null</td><td>null</td><td>null</td><td>null</td><td>null</td></tr><tr><td>&quot;Zimbabwe&quot;</td><td>&quot;ZW&quot;</td><td>&quot;ZWE&quot;</td><td>2013</td><td>null</td><td>null</td><td>null</td><td>null</td><td>null</td><td>null</td><td>null</td><td>null</td><td>null</td><td>null</td><td>null</td><td>null</td><td>null</td><td>null</td><td>null</td><td>null</td><td>null</td><td>null</td><td>null</td><td>null</td><td>null</td><td>null</td><td>null</td><td>null</td><td>null</td><td>null</td><td>null</td><td>null</td><td>null</td><td>null</td><td>null</td><td>null</td><td>null</td><td>null</td><td>null</td><td>null</td><td>null</td><td>null</td><td>null</td><td>null</td><td>null</td><td>null</td><td>1315</td><td>1642</td><td>5331</td><td>5363</td><td>2349</td><td>1206</td><td>1208</td><td>1252</td><td>2069</td><td>4649</td><td>3526</td><td>1453</td><td>811</td><td>725</td></tr></tbody></table></div>"
      ],
      "text/plain": [
       "shape: (7_240, 60)\n",
       "┌─────────────┬──────┬──────┬──────┬───┬──────────────┬──────────────┬──────────────┬────────────┐\n",
       "│ country     ┆ iso2 ┆ iso3 ┆ year ┆ … ┆ newrel_f3544 ┆ newrel_f4554 ┆ newrel_f5564 ┆ newrel_f65 │\n",
       "│ ---         ┆ ---  ┆ ---  ┆ ---  ┆   ┆ ---          ┆ ---          ┆ ---          ┆ ---        │\n",
       "│ str         ┆ str  ┆ str  ┆ i64  ┆   ┆ i64          ┆ i64          ┆ i64          ┆ i64        │\n",
       "╞═════════════╪══════╪══════╪══════╪═══╪══════════════╪══════════════╪══════════════╪════════════╡\n",
       "│ Afghanistan ┆ AF   ┆ AFG  ┆ 1980 ┆ … ┆ null         ┆ null         ┆ null         ┆ null       │\n",
       "│ Afghanistan ┆ AF   ┆ AFG  ┆ 1981 ┆ … ┆ null         ┆ null         ┆ null         ┆ null       │\n",
       "│ Afghanistan ┆ AF   ┆ AFG  ┆ 1982 ┆ … ┆ null         ┆ null         ┆ null         ┆ null       │\n",
       "│ Afghanistan ┆ AF   ┆ AFG  ┆ 1983 ┆ … ┆ null         ┆ null         ┆ null         ┆ null       │\n",
       "│ Afghanistan ┆ AF   ┆ AFG  ┆ 1984 ┆ … ┆ null         ┆ null         ┆ null         ┆ null       │\n",
       "│ …           ┆ …    ┆ …    ┆ …    ┆ … ┆ …            ┆ …            ┆ …            ┆ …          │\n",
       "│ Zimbabwe    ┆ ZW   ┆ ZWE  ┆ 2009 ┆ … ┆ null         ┆ null         ┆ null         ┆ null       │\n",
       "│ Zimbabwe    ┆ ZW   ┆ ZWE  ┆ 2010 ┆ … ┆ null         ┆ null         ┆ null         ┆ null       │\n",
       "│ Zimbabwe    ┆ ZW   ┆ ZWE  ┆ 2011 ┆ … ┆ null         ┆ null         ┆ null         ┆ null       │\n",
       "│ Zimbabwe    ┆ ZW   ┆ ZWE  ┆ 2012 ┆ … ┆ null         ┆ null         ┆ null         ┆ null       │\n",
       "│ Zimbabwe    ┆ ZW   ┆ ZWE  ┆ 2013 ┆ … ┆ 3526         ┆ 1453         ┆ 811          ┆ 725        │\n",
       "└─────────────┴──────┴──────┴──────┴───┴──────────────┴──────────────┴──────────────┴────────────┘"
      ]
     },
     "execution_count": 54,
     "metadata": {},
     "output_type": "execute_result"
    }
   ],
   "source": [
    "who = pl.read_csv(\"./Data_files/who.csv\", null_values=\"NA\")\n",
    "who"
   ]
  },
  {
   "cell_type": "markdown",
   "metadata": {},
   "source": [
    "The aim is to separate the columns into `diagnosis`, `gender` and `age` columns. We can reuse the idea in the [previous exercise](#numeric-data) and pass a regular expression to the `names_pattern` parameter:"
   ]
  },
  {
   "cell_type": "code",
   "execution_count": 55,
   "metadata": {},
   "outputs": [
    {
     "data": {
      "text/html": [
       "<div><style>\n",
       ".dataframe > thead > tr,\n",
       ".dataframe > tbody > tr {\n",
       "  text-align: right;\n",
       "  white-space: pre-wrap;\n",
       "}\n",
       "</style>\n",
       "<small>shape: (405_440, 8)</small><table border=\"1\" class=\"dataframe\"><thead><tr><th>country</th><th>iso2</th><th>iso3</th><th>year</th><th>diagnosis</th><th>gender</th><th>age</th><th>count</th></tr><tr><td>str</td><td>str</td><td>str</td><td>i64</td><td>str</td><td>str</td><td>str</td><td>i64</td></tr></thead><tbody><tr><td>&quot;Afghanistan&quot;</td><td>&quot;AF&quot;</td><td>&quot;AFG&quot;</td><td>1980</td><td>&quot;sp&quot;</td><td>&quot;m&quot;</td><td>&quot;014&quot;</td><td>null</td></tr><tr><td>&quot;Afghanistan&quot;</td><td>&quot;AF&quot;</td><td>&quot;AFG&quot;</td><td>1981</td><td>&quot;sp&quot;</td><td>&quot;m&quot;</td><td>&quot;014&quot;</td><td>null</td></tr><tr><td>&quot;Afghanistan&quot;</td><td>&quot;AF&quot;</td><td>&quot;AFG&quot;</td><td>1982</td><td>&quot;sp&quot;</td><td>&quot;m&quot;</td><td>&quot;014&quot;</td><td>null</td></tr><tr><td>&quot;Afghanistan&quot;</td><td>&quot;AF&quot;</td><td>&quot;AFG&quot;</td><td>1983</td><td>&quot;sp&quot;</td><td>&quot;m&quot;</td><td>&quot;014&quot;</td><td>null</td></tr><tr><td>&quot;Afghanistan&quot;</td><td>&quot;AF&quot;</td><td>&quot;AFG&quot;</td><td>1984</td><td>&quot;sp&quot;</td><td>&quot;m&quot;</td><td>&quot;014&quot;</td><td>null</td></tr><tr><td>&hellip;</td><td>&hellip;</td><td>&hellip;</td><td>&hellip;</td><td>&hellip;</td><td>&hellip;</td><td>&hellip;</td><td>&hellip;</td></tr><tr><td>&quot;Zimbabwe&quot;</td><td>&quot;ZW&quot;</td><td>&quot;ZWE&quot;</td><td>2009</td><td>&quot;rel&quot;</td><td>&quot;f&quot;</td><td>&quot;65&quot;</td><td>null</td></tr><tr><td>&quot;Zimbabwe&quot;</td><td>&quot;ZW&quot;</td><td>&quot;ZWE&quot;</td><td>2010</td><td>&quot;rel&quot;</td><td>&quot;f&quot;</td><td>&quot;65&quot;</td><td>null</td></tr><tr><td>&quot;Zimbabwe&quot;</td><td>&quot;ZW&quot;</td><td>&quot;ZWE&quot;</td><td>2011</td><td>&quot;rel&quot;</td><td>&quot;f&quot;</td><td>&quot;65&quot;</td><td>null</td></tr><tr><td>&quot;Zimbabwe&quot;</td><td>&quot;ZW&quot;</td><td>&quot;ZWE&quot;</td><td>2012</td><td>&quot;rel&quot;</td><td>&quot;f&quot;</td><td>&quot;65&quot;</td><td>null</td></tr><tr><td>&quot;Zimbabwe&quot;</td><td>&quot;ZW&quot;</td><td>&quot;ZWE&quot;</td><td>2013</td><td>&quot;rel&quot;</td><td>&quot;f&quot;</td><td>&quot;65&quot;</td><td>725</td></tr></tbody></table></div>"
      ],
      "text/plain": [
       "shape: (405_440, 8)\n",
       "┌─────────────┬──────┬──────┬──────┬───────────┬────────┬─────┬───────┐\n",
       "│ country     ┆ iso2 ┆ iso3 ┆ year ┆ diagnosis ┆ gender ┆ age ┆ count │\n",
       "│ ---         ┆ ---  ┆ ---  ┆ ---  ┆ ---       ┆ ---    ┆ --- ┆ ---   │\n",
       "│ str         ┆ str  ┆ str  ┆ i64  ┆ str       ┆ str    ┆ str ┆ i64   │\n",
       "╞═════════════╪══════╪══════╪══════╪═══════════╪════════╪═════╪═══════╡\n",
       "│ Afghanistan ┆ AF   ┆ AFG  ┆ 1980 ┆ sp        ┆ m      ┆ 014 ┆ null  │\n",
       "│ Afghanistan ┆ AF   ┆ AFG  ┆ 1981 ┆ sp        ┆ m      ┆ 014 ┆ null  │\n",
       "│ Afghanistan ┆ AF   ┆ AFG  ┆ 1982 ┆ sp        ┆ m      ┆ 014 ┆ null  │\n",
       "│ Afghanistan ┆ AF   ┆ AFG  ┆ 1983 ┆ sp        ┆ m      ┆ 014 ┆ null  │\n",
       "│ Afghanistan ┆ AF   ┆ AFG  ┆ 1984 ┆ sp        ┆ m      ┆ 014 ┆ null  │\n",
       "│ …           ┆ …    ┆ …    ┆ …    ┆ …         ┆ …      ┆ …   ┆ …     │\n",
       "│ Zimbabwe    ┆ ZW   ┆ ZWE  ┆ 2009 ┆ rel       ┆ f      ┆ 65  ┆ null  │\n",
       "│ Zimbabwe    ┆ ZW   ┆ ZWE  ┆ 2010 ┆ rel       ┆ f      ┆ 65  ┆ null  │\n",
       "│ Zimbabwe    ┆ ZW   ┆ ZWE  ┆ 2011 ┆ rel       ┆ f      ┆ 65  ┆ null  │\n",
       "│ Zimbabwe    ┆ ZW   ┆ ZWE  ┆ 2012 ┆ rel       ┆ f      ┆ 65  ┆ null  │\n",
       "│ Zimbabwe    ┆ ZW   ┆ ZWE  ┆ 2013 ┆ rel       ┆ f      ┆ 65  ┆ 725   │\n",
       "└─────────────┴──────┴──────┴──────┴───────────┴────────┴─────┴───────┘"
      ]
     },
     "execution_count": 55,
     "metadata": {},
     "output_type": "execute_result"
    }
   ],
   "source": [
    "who.pivot_longer(\n",
    "    index=[\"country\", \"iso2\", \"iso3\", \"year\"],\n",
    "    names_to=(\"diagnosis\", \"gender\", \"age\"),\n",
    "    names_pattern=r\"new_?(.*)_(.)(.*)\",\n",
    "    values_to=\"count\",\n",
    ")"
   ]
  },
  {
   "cell_type": "markdown",
   "metadata": {},
   "source": [
    "(multiple-observations-per-row)=\n",
    "## **Multiple observations per row**"
   ]
  },
  {
   "cell_type": "code",
   "execution_count": 56,
   "metadata": {},
   "outputs": [
    {
     "data": {
      "text/html": [
       "<div><style>\n",
       ".dataframe > thead > tr,\n",
       ".dataframe > tbody > tr {\n",
       "  text-align: right;\n",
       "  white-space: pre-wrap;\n",
       "}\n",
       "</style>\n",
       "<small>shape: (5, 5)</small><table border=\"1\" class=\"dataframe\"><thead><tr><th>family</th><th>dob_child1</th><th>dob_child2</th><th>name_child1</th><th>name_child2</th></tr><tr><td>i64</td><td>str</td><td>str</td><td>str</td><td>str</td></tr></thead><tbody><tr><td>1</td><td>&quot;1998-11-26&quot;</td><td>&quot;2000-01-29&quot;</td><td>&quot;Susan&quot;</td><td>&quot;Jose&quot;</td></tr><tr><td>2</td><td>&quot;1996-06-22&quot;</td><td>null</td><td>&quot;Mark&quot;</td><td>null</td></tr><tr><td>3</td><td>&quot;2002-07-11&quot;</td><td>&quot;2004-04-05&quot;</td><td>&quot;Sam&quot;</td><td>&quot;Seth&quot;</td></tr><tr><td>4</td><td>&quot;2004-10-10&quot;</td><td>&quot;2009-08-27&quot;</td><td>&quot;Craig&quot;</td><td>&quot;Khai&quot;</td></tr><tr><td>5</td><td>&quot;2000-12-05&quot;</td><td>&quot;2005-02-28&quot;</td><td>&quot;Parker&quot;</td><td>&quot;Gracie&quot;</td></tr></tbody></table></div>"
      ],
      "text/plain": [
       "shape: (5, 5)\n",
       "┌────────┬────────────┬────────────┬─────────────┬─────────────┐\n",
       "│ family ┆ dob_child1 ┆ dob_child2 ┆ name_child1 ┆ name_child2 │\n",
       "│ ---    ┆ ---        ┆ ---        ┆ ---         ┆ ---         │\n",
       "│ i64    ┆ str        ┆ str        ┆ str         ┆ str         │\n",
       "╞════════╪════════════╪════════════╪═════════════╪═════════════╡\n",
       "│ 1      ┆ 1998-11-26 ┆ 2000-01-29 ┆ Susan       ┆ Jose        │\n",
       "│ 2      ┆ 1996-06-22 ┆ null       ┆ Mark        ┆ null        │\n",
       "│ 3      ┆ 2002-07-11 ┆ 2004-04-05 ┆ Sam         ┆ Seth        │\n",
       "│ 4      ┆ 2004-10-10 ┆ 2009-08-27 ┆ Craig       ┆ Khai        │\n",
       "│ 5      ┆ 2000-12-05 ┆ 2005-02-28 ┆ Parker      ┆ Gracie      │\n",
       "└────────┴────────────┴────────────┴─────────────┴─────────────┘"
      ]
     },
     "execution_count": 56,
     "metadata": {},
     "output_type": "execute_result"
    }
   ],
   "source": [
    "household = pl.read_csv(\"./Data_files/household.csv\", null_values=\"NA\")\n",
    "household"
   ]
  },
  {
   "cell_type": "markdown",
   "metadata": {},
   "source": [
    "In the DataFrame above, we wish to separate the `name` and `dob` into separate columns. How does [pivot_longer](https://pyjanitor-devs.github.io/pyjanitor/api/polars/#janitor.polars.pivot_longer) handle this?\n"
   ]
  },
  {
   "cell_type": "code",
   "execution_count": 57,
   "metadata": {},
   "outputs": [
    {
     "data": {
      "text/html": [
       "<div><style>\n",
       ".dataframe > thead > tr,\n",
       ".dataframe > tbody > tr {\n",
       "  text-align: right;\n",
       "  white-space: pre-wrap;\n",
       "}\n",
       "</style>\n",
       "<small>shape: (10, 4)</small><table border=\"1\" class=\"dataframe\"><thead><tr><th>family</th><th>child</th><th>dob</th><th>name</th></tr><tr><td>i64</td><td>str</td><td>str</td><td>str</td></tr></thead><tbody><tr><td>1</td><td>&quot;child1&quot;</td><td>&quot;1998-11-26&quot;</td><td>&quot;Susan&quot;</td></tr><tr><td>2</td><td>&quot;child1&quot;</td><td>&quot;1996-06-22&quot;</td><td>&quot;Mark&quot;</td></tr><tr><td>3</td><td>&quot;child1&quot;</td><td>&quot;2002-07-11&quot;</td><td>&quot;Sam&quot;</td></tr><tr><td>4</td><td>&quot;child1&quot;</td><td>&quot;2004-10-10&quot;</td><td>&quot;Craig&quot;</td></tr><tr><td>5</td><td>&quot;child1&quot;</td><td>&quot;2000-12-05&quot;</td><td>&quot;Parker&quot;</td></tr><tr><td>1</td><td>&quot;child2&quot;</td><td>&quot;2000-01-29&quot;</td><td>&quot;Jose&quot;</td></tr><tr><td>2</td><td>&quot;child2&quot;</td><td>null</td><td>null</td></tr><tr><td>3</td><td>&quot;child2&quot;</td><td>&quot;2004-04-05&quot;</td><td>&quot;Seth&quot;</td></tr><tr><td>4</td><td>&quot;child2&quot;</td><td>&quot;2009-08-27&quot;</td><td>&quot;Khai&quot;</td></tr><tr><td>5</td><td>&quot;child2&quot;</td><td>&quot;2005-02-28&quot;</td><td>&quot;Gracie&quot;</td></tr></tbody></table></div>"
      ],
      "text/plain": [
       "shape: (10, 4)\n",
       "┌────────┬────────┬────────────┬────────┐\n",
       "│ family ┆ child  ┆ dob        ┆ name   │\n",
       "│ ---    ┆ ---    ┆ ---        ┆ ---    │\n",
       "│ i64    ┆ str    ┆ str        ┆ str    │\n",
       "╞════════╪════════╪════════════╪════════╡\n",
       "│ 1      ┆ child1 ┆ 1998-11-26 ┆ Susan  │\n",
       "│ 2      ┆ child1 ┆ 1996-06-22 ┆ Mark   │\n",
       "│ 3      ┆ child1 ┆ 2002-07-11 ┆ Sam    │\n",
       "│ 4      ┆ child1 ┆ 2004-10-10 ┆ Craig  │\n",
       "│ 5      ┆ child1 ┆ 2000-12-05 ┆ Parker │\n",
       "│ 1      ┆ child2 ┆ 2000-01-29 ┆ Jose   │\n",
       "│ 2      ┆ child2 ┆ null       ┆ null   │\n",
       "│ 3      ┆ child2 ┆ 2004-04-05 ┆ Seth   │\n",
       "│ 4      ┆ child2 ┆ 2009-08-27 ┆ Khai   │\n",
       "│ 5      ┆ child2 ┆ 2005-02-28 ┆ Gracie │\n",
       "└────────┴────────┴────────────┴────────┘"
      ]
     },
     "execution_count": 57,
     "metadata": {},
     "output_type": "execute_result"
    }
   ],
   "source": [
    "household.pivot_longer(index=\"family\", names_to=(\".value\", \"child\"), names_sep=\"_\")"
   ]
  },
  {
   "cell_type": "markdown",
   "metadata": {},
   "source": [
    "If you want to retain a part of the column as a header, use the `.value` placeholder; the paired label remains as a header, while the unpaired parts, if any, are flipped into rows.\n",
    "\n",
    "Let's break it down a bit. The `name_to` parameter is `(.value, child)` which pairs with `(dob, child1)`, `(dob, child2)`, `(name, child1)`, `(name, child2)`, after it has been split by the `names_sep` argument. `.value` will be paired with `dob` and `name`, while `child` will be paired with `child1` and `child2`. In tabular form, it can be portrayed as below: \n",
    "\n",
    "```\n",
    ".value   names_sep     child\n",
    "dob        _           child1\n",
    "dob        _           child2\n",
    "name       _           child1\n",
    "name       _           child2\n",
    "\n",
    "```\n",
    "\n",
    "Let's look at another example:"
   ]
  },
  {
   "cell_type": "code",
   "execution_count": 58,
   "metadata": {},
   "outputs": [
    {
     "data": {
      "text/html": [
       "<div><style>\n",
       ".dataframe > thead > tr,\n",
       ".dataframe > tbody > tr {\n",
       "  text-align: right;\n",
       "  white-space: pre-wrap;\n",
       "}\n",
       "</style>\n",
       "<small>shape: (3, 9)</small><table border=\"1\" class=\"dataframe\"><thead><tr><th>Sony | TV | Model | value</th><th>Sony | TV | Quantity | value</th><th>Sony | TV | Max-quant | value</th><th>Panasonic | TV | Model | value</th><th>Panasonic | TV | Quantity | value</th><th>Panasonic | TV | Max-quant | value</th><th>Sanyo | Radio | Model | value</th><th>Sanyo | Radio | Quantity | value</th><th>Sanyo | Radio | Max-quant | value</th></tr><tr><td>str</td><td>i64</td><td>i64</td><td>str</td><td>i64</td><td>i64</td><td>str</td><td>i64</td><td>i64</td></tr></thead><tbody><tr><td>&quot;A222&quot;</td><td>5</td><td>10</td><td>&quot;T232&quot;</td><td>1</td><td>10</td><td>&quot;S111&quot;</td><td>4</td><td>9</td></tr><tr><td>&quot;A234&quot;</td><td>5</td><td>9</td><td>&quot;S3424&quot;</td><td>5</td><td>12</td><td>&quot;S1s1&quot;</td><td>2</td><td>9</td></tr><tr><td>&quot;A4345&quot;</td><td>4</td><td>9</td><td>&quot;X3421&quot;</td><td>1</td><td>11</td><td>&quot;S1s2&quot;</td><td>4</td><td>10</td></tr></tbody></table></div>"
      ],
      "text/plain": [
       "shape: (3, 9)\n",
       "┌───────────┬───────────┬───────────┬───────────┬───┬───────────┬───────────┬───────────┬──────────┐\n",
       "│ Sony | TV ┆ Sony | TV ┆ Sony | TV ┆ Panasonic ┆ … ┆ Panasonic ┆ Sanyo |   ┆ Sanyo |   ┆ Sanyo |  │\n",
       "│ | Model | ┆ |         ┆ |         ┆ | TV |    ┆   ┆ | TV |    ┆ Radio |   ┆ Radio |   ┆ Radio |  │\n",
       "│ value     ┆ Quantity  ┆ Max-quant ┆ Model |   ┆   ┆ Max-quant ┆ Model |   ┆ Quantity  ┆ Max-quan │\n",
       "│ ---       ┆ | value   ┆ | value   ┆ value     ┆   ┆ | v…      ┆ value     ┆ | val…    ┆ t | va…  │\n",
       "│ str       ┆ ---       ┆ ---       ┆ ---       ┆   ┆ ---       ┆ ---       ┆ ---       ┆ ---      │\n",
       "│           ┆ i64       ┆ i64       ┆ str       ┆   ┆ i64       ┆ str       ┆ i64       ┆ i64      │\n",
       "╞═══════════╪═══════════╪═══════════╪═══════════╪═══╪═══════════╪═══════════╪═══════════╪══════════╡\n",
       "│ A222      ┆ 5         ┆ 10        ┆ T232      ┆ … ┆ 10        ┆ S111      ┆ 4         ┆ 9        │\n",
       "│ A234      ┆ 5         ┆ 9         ┆ S3424     ┆ … ┆ 12        ┆ S1s1      ┆ 2         ┆ 9        │\n",
       "│ A4345     ┆ 4         ┆ 9         ┆ X3421     ┆ … ┆ 11        ┆ S1s2      ┆ 4         ┆ 10       │\n",
       "└───────────┴───────────┴───────────┴───────────┴───┴───────────┴───────────┴───────────┴──────────┘"
      ]
     },
     "execution_count": 58,
     "metadata": {},
     "output_type": "execute_result"
    }
   ],
   "source": [
    "manufacturer = pl.DataFrame(\n",
    "    {\n",
    "        \"Sony | TV | Model | value\": [\"A222\", \"A234\", \"A4345\"],\n",
    "        \"Sony | TV | Quantity | value\": [5, 5, 4],\n",
    "        \"Sony | TV | Max-quant | value\": [10, 9, 9],\n",
    "        \"Panasonic | TV | Model | value\": [\"T232\", \"S3424\", \"X3421\"],\n",
    "        \"Panasonic | TV | Quantity | value\": [1, 5, 1],\n",
    "        \"Panasonic | TV | Max-quant | value\": [10, 12, 11],\n",
    "        \"Sanyo | Radio | Model | value\": [\"S111\", \"S1s1\", \"S1s2\"],\n",
    "        \"Sanyo | Radio | Quantity | value\": [4, 2, 4],\n",
    "        \"Sanyo | Radio | Max-quant | value\": [9, 9, 10],\n",
    "    }\n",
    ")\n",
    "\n",
    "manufacturer"
   ]
  },
  {
   "cell_type": "markdown",
   "metadata": {},
   "source": [
    "We wish to retain `Model`, `Quantity` and `Max-quant` as headers, and flip the remaining parts of the columns:"
   ]
  },
  {
   "cell_type": "code",
   "execution_count": 59,
   "metadata": {},
   "outputs": [
    {
     "data": {
      "text/html": [
       "<div><style>\n",
       ".dataframe > thead > tr,\n",
       ".dataframe > tbody > tr {\n",
       "  text-align: right;\n",
       "  white-space: pre-wrap;\n",
       "}\n",
       "</style>\n",
       "<small>shape: (3, 9)</small><table border=\"1\" class=\"dataframe\"><thead><tr><th>Sony | TV | Model | value</th><th>Sony | TV | Quantity | value</th><th>Sony | TV | Max-quant | value</th><th>Panasonic | TV | Model | value</th><th>Panasonic | TV | Quantity | value</th><th>Panasonic | TV | Max-quant | value</th><th>Sanyo | Radio | Model | value</th><th>Sanyo | Radio | Quantity | value</th><th>Sanyo | Radio | Max-quant | value</th></tr><tr><td>str</td><td>i64</td><td>i64</td><td>str</td><td>i64</td><td>i64</td><td>str</td><td>i64</td><td>i64</td></tr></thead><tbody><tr><td>&quot;A222&quot;</td><td>5</td><td>10</td><td>&quot;T232&quot;</td><td>1</td><td>10</td><td>&quot;S111&quot;</td><td>4</td><td>9</td></tr><tr><td>&quot;A234&quot;</td><td>5</td><td>9</td><td>&quot;S3424&quot;</td><td>5</td><td>12</td><td>&quot;S1s1&quot;</td><td>2</td><td>9</td></tr><tr><td>&quot;A4345&quot;</td><td>4</td><td>9</td><td>&quot;X3421&quot;</td><td>1</td><td>11</td><td>&quot;S1s2&quot;</td><td>4</td><td>10</td></tr></tbody></table></div>"
      ],
      "text/plain": [
       "shape: (3, 9)\n",
       "┌───────────┬───────────┬───────────┬───────────┬───┬───────────┬───────────┬───────────┬──────────┐\n",
       "│ Sony | TV ┆ Sony | TV ┆ Sony | TV ┆ Panasonic ┆ … ┆ Panasonic ┆ Sanyo |   ┆ Sanyo |   ┆ Sanyo |  │\n",
       "│ | Model | ┆ |         ┆ |         ┆ | TV |    ┆   ┆ | TV |    ┆ Radio |   ┆ Radio |   ┆ Radio |  │\n",
       "│ value     ┆ Quantity  ┆ Max-quant ┆ Model |   ┆   ┆ Max-quant ┆ Model |   ┆ Quantity  ┆ Max-quan │\n",
       "│ ---       ┆ | value   ┆ | value   ┆ value     ┆   ┆ | v…      ┆ value     ┆ | val…    ┆ t | va…  │\n",
       "│ str       ┆ ---       ┆ ---       ┆ ---       ┆   ┆ ---       ┆ ---       ┆ ---       ┆ ---      │\n",
       "│           ┆ i64       ┆ i64       ┆ str       ┆   ┆ i64       ┆ str       ┆ i64       ┆ i64      │\n",
       "╞═══════════╪═══════════╪═══════════╪═══════════╪═══╪═══════════╪═══════════╪═══════════╪══════════╡\n",
       "│ A222      ┆ 5         ┆ 10        ┆ T232      ┆ … ┆ 10        ┆ S111      ┆ 4         ┆ 9        │\n",
       "│ A234      ┆ 5         ┆ 9         ┆ S3424     ┆ … ┆ 12        ┆ S1s1      ┆ 2         ┆ 9        │\n",
       "│ A4345     ┆ 4         ┆ 9         ┆ X3421     ┆ … ┆ 11        ┆ S1s2      ┆ 4         ┆ 10       │\n",
       "└───────────┴───────────┴───────────┴───────────┴───┴───────────┴───────────┴───────────┴──────────┘"
      ]
     },
     "execution_count": 59,
     "metadata": {},
     "output_type": "execute_result"
    }
   ],
   "source": [
    "manufacturer"
   ]
  },
  {
   "cell_type": "code",
   "execution_count": 60,
   "metadata": {},
   "outputs": [
    {
     "data": {
      "text/html": [
       "<div><style>\n",
       ".dataframe > thead > tr,\n",
       ".dataframe > tbody > tr {\n",
       "  text-align: right;\n",
       "  white-space: pre-wrap;\n",
       "}\n",
       "</style>\n",
       "<small>shape: (9, 5)</small><table border=\"1\" class=\"dataframe\"><thead><tr><th>Manufacturer</th><th>Device</th><th>Model</th><th>Quantity</th><th>Max-quant</th></tr><tr><td>str</td><td>str</td><td>str</td><td>i64</td><td>i64</td></tr></thead><tbody><tr><td>&quot;Panasonic&quot;</td><td>&quot;TV&quot;</td><td>&quot;T232&quot;</td><td>1</td><td>10</td></tr><tr><td>&quot;Panasonic&quot;</td><td>&quot;TV&quot;</td><td>&quot;S3424&quot;</td><td>5</td><td>12</td></tr><tr><td>&quot;Panasonic&quot;</td><td>&quot;TV&quot;</td><td>&quot;X3421&quot;</td><td>1</td><td>11</td></tr><tr><td>&quot;Sanyo&quot;</td><td>&quot;Radio&quot;</td><td>&quot;S111&quot;</td><td>4</td><td>9</td></tr><tr><td>&quot;Sanyo&quot;</td><td>&quot;Radio&quot;</td><td>&quot;S1s1&quot;</td><td>2</td><td>9</td></tr><tr><td>&quot;Sanyo&quot;</td><td>&quot;Radio&quot;</td><td>&quot;S1s2&quot;</td><td>4</td><td>10</td></tr><tr><td>&quot;Sony&quot;</td><td>&quot;TV&quot;</td><td>&quot;A222&quot;</td><td>5</td><td>10</td></tr><tr><td>&quot;Sony&quot;</td><td>&quot;TV&quot;</td><td>&quot;A234&quot;</td><td>5</td><td>9</td></tr><tr><td>&quot;Sony&quot;</td><td>&quot;TV&quot;</td><td>&quot;A4345&quot;</td><td>4</td><td>9</td></tr></tbody></table></div>"
      ],
      "text/plain": [
       "shape: (9, 5)\n",
       "┌──────────────┬────────┬───────┬──────────┬───────────┐\n",
       "│ Manufacturer ┆ Device ┆ Model ┆ Quantity ┆ Max-quant │\n",
       "│ ---          ┆ ---    ┆ ---   ┆ ---      ┆ ---       │\n",
       "│ str          ┆ str    ┆ str   ┆ i64      ┆ i64       │\n",
       "╞══════════════╪════════╪═══════╪══════════╪═══════════╡\n",
       "│ Panasonic    ┆ TV     ┆ T232  ┆ 1        ┆ 10        │\n",
       "│ Panasonic    ┆ TV     ┆ S3424 ┆ 5        ┆ 12        │\n",
       "│ Panasonic    ┆ TV     ┆ X3421 ┆ 1        ┆ 11        │\n",
       "│ Sanyo        ┆ Radio  ┆ S111  ┆ 4        ┆ 9         │\n",
       "│ Sanyo        ┆ Radio  ┆ S1s1  ┆ 2        ┆ 9         │\n",
       "│ Sanyo        ┆ Radio  ┆ S1s2  ┆ 4        ┆ 10        │\n",
       "│ Sony         ┆ TV     ┆ A222  ┆ 5        ┆ 10        │\n",
       "│ Sony         ┆ TV     ┆ A234  ┆ 5        ┆ 9         │\n",
       "│ Sony         ┆ TV     ┆ A4345 ┆ 4        ┆ 9         │\n",
       "└──────────────┴────────┴───────┴──────────┴───────────┘"
      ]
     },
     "execution_count": 60,
     "metadata": {},
     "output_type": "execute_result"
    }
   ],
   "source": [
    "(\n",
    "    manufacturer.pivot_longer(\n",
    "        index=None,\n",
    "        names_to=(\"Manufacturer\", \"Device\", \".value\", \"value\"),\n",
    "        names_sep=\" | \",\n",
    "    ).drop(\"value\")\n",
    ")"
   ]
  },
  {
   "cell_type": "code",
   "execution_count": 61,
   "metadata": {},
   "outputs": [
    {
     "data": {
      "text/html": [
       "<div><style>\n",
       ".dataframe > thead > tr,\n",
       ".dataframe > tbody > tr {\n",
       "  text-align: right;\n",
       "  white-space: pre-wrap;\n",
       "}\n",
       "</style>\n",
       "<small>shape: (9, 5)</small><table border=\"1\" class=\"dataframe\"><thead><tr><th>Manufacturer</th><th>Device</th><th> Model </th><th> Quantity </th><th> Max-quant </th></tr><tr><td>str</td><td>str</td><td>str</td><td>i64</td><td>i64</td></tr></thead><tbody><tr><td>&quot;Sanyo &quot;</td><td>&quot; Radio &quot;</td><td>&quot;S111&quot;</td><td>4</td><td>9</td></tr><tr><td>&quot;Sanyo &quot;</td><td>&quot; Radio &quot;</td><td>&quot;S1s1&quot;</td><td>2</td><td>9</td></tr><tr><td>&quot;Sanyo &quot;</td><td>&quot; Radio &quot;</td><td>&quot;S1s2&quot;</td><td>4</td><td>10</td></tr><tr><td>&quot;Panasonic &quot;</td><td>&quot; TV &quot;</td><td>&quot;T232&quot;</td><td>1</td><td>10</td></tr><tr><td>&quot;Panasonic &quot;</td><td>&quot; TV &quot;</td><td>&quot;S3424&quot;</td><td>5</td><td>12</td></tr><tr><td>&quot;Panasonic &quot;</td><td>&quot; TV &quot;</td><td>&quot;X3421&quot;</td><td>1</td><td>11</td></tr><tr><td>&quot;Sony &quot;</td><td>&quot; TV &quot;</td><td>&quot;A222&quot;</td><td>5</td><td>10</td></tr><tr><td>&quot;Sony &quot;</td><td>&quot; TV &quot;</td><td>&quot;A234&quot;</td><td>5</td><td>9</td></tr><tr><td>&quot;Sony &quot;</td><td>&quot; TV &quot;</td><td>&quot;A4345&quot;</td><td>4</td><td>9</td></tr></tbody></table></div>"
      ],
      "text/plain": [
       "shape: (9, 5)\n",
       "┌──────────────┬─────────┬─────────┬────────────┬─────────────┐\n",
       "│ Manufacturer ┆ Device  ┆  Model  ┆  Quantity  ┆  Max-quant  │\n",
       "│ ---          ┆ ---     ┆ ---     ┆ ---        ┆ ---         │\n",
       "│ str          ┆ str     ┆ str     ┆ i64        ┆ i64         │\n",
       "╞══════════════╪═════════╪═════════╪════════════╪═════════════╡\n",
       "│ Sanyo        ┆  Radio  ┆ S111    ┆ 4          ┆ 9           │\n",
       "│ Sanyo        ┆  Radio  ┆ S1s1    ┆ 2          ┆ 9           │\n",
       "│ Sanyo        ┆  Radio  ┆ S1s2    ┆ 4          ┆ 10          │\n",
       "│ Panasonic    ┆  TV     ┆ T232    ┆ 1          ┆ 10          │\n",
       "│ Panasonic    ┆  TV     ┆ S3424   ┆ 5          ┆ 12          │\n",
       "│ Panasonic    ┆  TV     ┆ X3421   ┆ 1          ┆ 11          │\n",
       "│ Sony         ┆  TV     ┆ A222    ┆ 5          ┆ 10          │\n",
       "│ Sony         ┆  TV     ┆ A234    ┆ 5          ┆ 9           │\n",
       "│ Sony         ┆  TV     ┆ A4345   ┆ 4          ┆ 9           │\n",
       "└──────────────┴─────────┴─────────┴────────────┴─────────────┘"
      ]
     },
     "execution_count": 61,
     "metadata": {},
     "output_type": "execute_result"
    }
   ],
   "source": [
    "(\n",
    "    manufacturer.pivot_longer(\n",
    "        index=None,\n",
    "        names_to=(\"Manufacturer\", \"Device\", \".value\"),\n",
    "        names_pattern=r\"(.+)\\s?\\|(.+)\\s?\\|(.+)\\s?\\|.*\",\n",
    "    )\n",
    ")"
   ]
  },
  {
   "cell_type": "markdown",
   "metadata": {},
   "source": [
    "What if our header is actually composed of different parts of a column name? This is best explained with an example:"
   ]
  },
  {
   "cell_type": "code",
   "execution_count": 62,
   "metadata": {},
   "outputs": [
    {
     "data": {
      "text/html": [
       "<div><style>\n",
       ".dataframe > thead > tr,\n",
       ".dataframe > tbody > tr {\n",
       "  text-align: right;\n",
       "  white-space: pre-wrap;\n",
       "}\n",
       "</style>\n",
       "<small>shape: (1, 5)</small><table border=\"1\" class=\"dataframe\"><thead><tr><th>x_1_mean</th><th>x_2_mean</th><th>y_1_mean</th><th>y_2_mean</th><th>unit</th></tr><tr><td>i64</td><td>i64</td><td>i64</td><td>i64</td><td>i64</td></tr></thead><tbody><tr><td>10</td><td>20</td><td>30</td><td>40</td><td>50</td></tr></tbody></table></div>"
      ],
      "text/plain": [
       "shape: (1, 5)\n",
       "┌──────────┬──────────┬──────────┬──────────┬──────┐\n",
       "│ x_1_mean ┆ x_2_mean ┆ y_1_mean ┆ y_2_mean ┆ unit │\n",
       "│ ---      ┆ ---      ┆ ---      ┆ ---      ┆ ---  │\n",
       "│ i64      ┆ i64      ┆ i64      ┆ i64      ┆ i64  │\n",
       "╞══════════╪══════════╪══════════╪══════════╪══════╡\n",
       "│ 10       ┆ 20       ┆ 30       ┆ 40       ┆ 50   │\n",
       "└──────────┴──────────┴──────────┴──────────┴──────┘"
      ]
     },
     "execution_count": 62,
     "metadata": {},
     "output_type": "execute_result"
    }
   ],
   "source": [
    "df_mean = pl.DataFrame(\n",
    "    {\n",
    "        \"x_1_mean\": [10],\n",
    "        \"x_2_mean\": [20],\n",
    "        \"y_1_mean\": [30],\n",
    "        \"y_2_mean\": [40],\n",
    "        \"unit\": [50],\n",
    "    }\n",
    ")\n",
    "\n",
    "df_mean"
   ]
  },
  {
   "cell_type": "markdown",
   "metadata": {},
   "source": [
    "For the DataFrame above, we wish to lump similar columns together - specifically, we want to lump the x* columns into one, same goes for the y* columns.\n",
    "\n",
    "With [pivot_longer](https://pyjanitor-devs.github.io/pyjanitor/api/polars/#janitor.polars.pivot_longer) we pass multiple `.value` to handle this (you can pass as many `.value` as required for the reshaping):"
   ]
  },
  {
   "cell_type": "code",
   "execution_count": 63,
   "metadata": {},
   "outputs": [
    {
     "data": {
      "text/html": [
       "<div><style>\n",
       ".dataframe > thead > tr,\n",
       ".dataframe > tbody > tr {\n",
       "  text-align: right;\n",
       "  white-space: pre-wrap;\n",
       "}\n",
       "</style>\n",
       "<small>shape: (2, 4)</small><table border=\"1\" class=\"dataframe\"><thead><tr><th>unit</th><th>number</th><th>xmean</th><th>ymean</th></tr><tr><td>i64</td><td>i8</td><td>i64</td><td>i64</td></tr></thead><tbody><tr><td>50</td><td>1</td><td>10</td><td>30</td></tr><tr><td>50</td><td>2</td><td>20</td><td>40</td></tr></tbody></table></div>"
      ],
      "text/plain": [
       "shape: (2, 4)\n",
       "┌──────┬────────┬───────┬───────┐\n",
       "│ unit ┆ number ┆ xmean ┆ ymean │\n",
       "│ ---  ┆ ---    ┆ ---   ┆ ---   │\n",
       "│ i64  ┆ i8     ┆ i64   ┆ i64   │\n",
       "╞══════╪════════╪═══════╪═══════╡\n",
       "│ 50   ┆ 1      ┆ 10    ┆ 30    │\n",
       "│ 50   ┆ 2      ┆ 20    ┆ 40    │\n",
       "└──────┴────────┴───────┴───────┘"
      ]
     },
     "execution_count": 63,
     "metadata": {},
     "output_type": "execute_result"
    }
   ],
   "source": [
    "(\n",
    "    df_mean.pivot_longer(\n",
    "        index=\"unit\",\n",
    "        names_to=(\".value\", \"number\", \".value\"),\n",
    "        names_sep=\"_\",\n",
    "        names_transform=pl.col(\"number\").cast(pl.Int8),\n",
    "    )\n",
    ")"
   ]
  },
  {
   "cell_type": "markdown",
   "metadata": {},
   "source": [
    "## **Describe the output with [pivot_longer_spec](https://pyjanitor-devs.github.io/pyjanitor/api/polars/#janitor.polars.pivot_longer.pivot_longer_spec)**"
   ]
  },
  {
   "cell_type": "markdown",
   "metadata": {},
   "source": [
    "[pivot_longer](https://pyjanitor-devs.github.io/pyjanitor/api/polars/#janitor.polars.pivot_longer) offers a powerful, flexible and concise way to reshape data from wide to long form. However, there are situations where [pivot_longer](https://pyjanitor-devs.github.io/pyjanitor/api/polars/#janitor.polars.pivot_longer) is inadequate for the transformation, or you need more control over the reshaping. This is where [pivot_longer_spec](https://pyjanitor-devs.github.io/pyjanitor/api/polars/#janitor.polars.pivot_longer.pivot_longer_spec) shines - you describe how the new DataFrame should look, based on the source DataFrame. \n",
    "\n",
    "Let's look at an example, adapted from [data.table vignette](https://rdatatable.gitlab.io/data.table/articles/datatable-reshape.html#a-enhanced-melt):"
   ]
  },
  {
   "cell_type": "code",
   "execution_count": 64,
   "metadata": {},
   "outputs": [
    {
     "data": {
      "text/html": [
       "<div><style>\n",
       ".dataframe > thead > tr,\n",
       ".dataframe > tbody > tr {\n",
       "  text-align: right;\n",
       "  white-space: pre-wrap;\n",
       "}\n",
       "</style>\n",
       "<small>shape: (2, 5)</small><table border=\"1\" class=\"dataframe\"><thead><tr><th>Sepal.Length</th><th>Sepal.Width</th><th>Petal.Length</th><th>Petal.Width</th><th>Species</th></tr><tr><td>f64</td><td>f64</td><td>f64</td><td>f64</td><td>str</td></tr></thead><tbody><tr><td>5.1</td><td>3.5</td><td>1.4</td><td>0.2</td><td>&quot;setosa&quot;</td></tr><tr><td>5.9</td><td>3.0</td><td>5.1</td><td>1.8</td><td>&quot;virginica&quot;</td></tr></tbody></table></div>"
      ],
      "text/plain": [
       "shape: (2, 5)\n",
       "┌──────────────┬─────────────┬──────────────┬─────────────┬───────────┐\n",
       "│ Sepal.Length ┆ Sepal.Width ┆ Petal.Length ┆ Petal.Width ┆ Species   │\n",
       "│ ---          ┆ ---         ┆ ---          ┆ ---         ┆ ---       │\n",
       "│ f64          ┆ f64         ┆ f64          ┆ f64         ┆ str       │\n",
       "╞══════════════╪═════════════╪══════════════╪═════════════╪═══════════╡\n",
       "│ 5.1          ┆ 3.5         ┆ 1.4          ┆ 0.2         ┆ setosa    │\n",
       "│ 5.9          ┆ 3.0         ┆ 5.1          ┆ 1.8         ┆ virginica │\n",
       "└──────────────┴─────────────┴──────────────┴─────────────┴───────────┘"
      ]
     },
     "execution_count": 64,
     "metadata": {},
     "output_type": "execute_result"
    }
   ],
   "source": [
    "iris = pl.DataFrame(\n",
    "    {\n",
    "        \"Sepal.Length\": [5.1, 5.9],\n",
    "        \"Sepal.Width\": [3.5, 3.0],\n",
    "        \"Petal.Length\": [1.4, 5.1],\n",
    "        \"Petal.Width\": [0.2, 1.8],\n",
    "        \"Species\": [\"setosa\", \"virginica\"],\n",
    "    }\n",
    ")\n",
    "\n",
    "iris"
   ]
  },
  {
   "cell_type": "markdown",
   "metadata": {},
   "source": [
    "For the DataFrame above, we wish to consolidate the columns into `part` and `dimensions` - the `Sepal/Petal` prefixes go into the `part` column, while `Width/Length` go into the `dimension` column. Let's translate the specification into a table form:\n",
    "\n",
    "```\n",
    "source_column_name     new_column_name           part                 dimension\n",
    "Sepal.Length           measurement               Sepal                 Length\n",
    "Sepal.Width            measurement               Sepal                 Width\n",
    "Petal.Length           measurement               Petal                 Length\n",
    "Petal.Width            measurement               Petal                 Width                   \n",
    "```\n",
    "\n",
    "The table above shows a clear relation between the source and target; let's take this relationship and create a polars DataFrame of this specification: "
   ]
  },
  {
   "cell_type": "code",
   "execution_count": 65,
   "metadata": {},
   "outputs": [
    {
     "data": {
      "text/html": [
       "<div><style>\n",
       ".dataframe > thead > tr,\n",
       ".dataframe > tbody > tr {\n",
       "  text-align: right;\n",
       "  white-space: pre-wrap;\n",
       "}\n",
       "</style>\n",
       "<small>shape: (4, 4)</small><table border=\"1\" class=\"dataframe\"><thead><tr><th>.name</th><th>.value</th><th>part</th><th>dimension</th></tr><tr><td>str</td><td>str</td><td>str</td><td>str</td></tr></thead><tbody><tr><td>&quot;Sepal.Length&quot;</td><td>&quot;measurement&quot;</td><td>&quot;Sepal&quot;</td><td>&quot;Length&quot;</td></tr><tr><td>&quot;Sepal.Width&quot;</td><td>&quot;measurement&quot;</td><td>&quot;Sepal&quot;</td><td>&quot;Width&quot;</td></tr><tr><td>&quot;Petal.Length&quot;</td><td>&quot;measurement&quot;</td><td>&quot;Petal&quot;</td><td>&quot;Length&quot;</td></tr><tr><td>&quot;Petal.Width&quot;</td><td>&quot;measurement&quot;</td><td>&quot;Petal&quot;</td><td>&quot;Width&quot;</td></tr></tbody></table></div>"
      ],
      "text/plain": [
       "shape: (4, 4)\n",
       "┌──────────────┬─────────────┬───────┬───────────┐\n",
       "│ .name        ┆ .value      ┆ part  ┆ dimension │\n",
       "│ ---          ┆ ---         ┆ ---   ┆ ---       │\n",
       "│ str          ┆ str         ┆ str   ┆ str       │\n",
       "╞══════════════╪═════════════╪═══════╪═══════════╡\n",
       "│ Sepal.Length ┆ measurement ┆ Sepal ┆ Length    │\n",
       "│ Sepal.Width  ┆ measurement ┆ Sepal ┆ Width     │\n",
       "│ Petal.Length ┆ measurement ┆ Petal ┆ Length    │\n",
       "│ Petal.Width  ┆ measurement ┆ Petal ┆ Width     │\n",
       "└──────────────┴─────────────┴───────┴───────────┘"
      ]
     },
     "execution_count": 65,
     "metadata": {},
     "output_type": "execute_result"
    }
   ],
   "source": [
    "spec = {\n",
    "    \".name\": [\"Sepal.Length\", \"Sepal.Width\", \"Petal.Length\", \"Petal.Width\"],\n",
    "    \".value\": [\"measurement\", \"measurement\", \"measurement\", \"measurement\"],\n",
    "    \"part\": [\"Sepal\", \"Sepal\", \"Petal\", \"Petal\"],\n",
    "    \"dimension\": [\"Length\", \"Width\", \"Length\", \"Width\"],\n",
    "}\n",
    "spec = pl.DataFrame(spec)\n",
    "spec"
   ]
  },
  {
   "cell_type": "markdown",
   "metadata": {},
   "source": [
    "[pivot_longer_spec](https://pyjanitor-devs.github.io/pyjanitor/api/polars/#janitor.polars.pivot_longer.pivot_longer_spec) takes the specification above and returns the expected new DataFrame:"
   ]
  },
  {
   "cell_type": "code",
   "execution_count": 66,
   "metadata": {},
   "outputs": [
    {
     "data": {
      "text/html": [
       "<div><style>\n",
       ".dataframe > thead > tr,\n",
       ".dataframe > tbody > tr {\n",
       "  text-align: right;\n",
       "  white-space: pre-wrap;\n",
       "}\n",
       "</style>\n",
       "<small>shape: (8, 4)</small><table border=\"1\" class=\"dataframe\"><thead><tr><th>Species</th><th>part</th><th>dimension</th><th>measurement</th></tr><tr><td>str</td><td>str</td><td>str</td><td>f64</td></tr></thead><tbody><tr><td>&quot;setosa&quot;</td><td>&quot;Sepal&quot;</td><td>&quot;Length&quot;</td><td>5.1</td></tr><tr><td>&quot;virginica&quot;</td><td>&quot;Sepal&quot;</td><td>&quot;Length&quot;</td><td>5.9</td></tr><tr><td>&quot;setosa&quot;</td><td>&quot;Petal&quot;</td><td>&quot;Length&quot;</td><td>1.4</td></tr><tr><td>&quot;virginica&quot;</td><td>&quot;Petal&quot;</td><td>&quot;Length&quot;</td><td>5.1</td></tr><tr><td>&quot;setosa&quot;</td><td>&quot;Petal&quot;</td><td>&quot;Width&quot;</td><td>0.2</td></tr><tr><td>&quot;virginica&quot;</td><td>&quot;Petal&quot;</td><td>&quot;Width&quot;</td><td>1.8</td></tr><tr><td>&quot;setosa&quot;</td><td>&quot;Sepal&quot;</td><td>&quot;Width&quot;</td><td>3.5</td></tr><tr><td>&quot;virginica&quot;</td><td>&quot;Sepal&quot;</td><td>&quot;Width&quot;</td><td>3.0</td></tr></tbody></table></div>"
      ],
      "text/plain": [
       "shape: (8, 4)\n",
       "┌───────────┬───────┬───────────┬─────────────┐\n",
       "│ Species   ┆ part  ┆ dimension ┆ measurement │\n",
       "│ ---       ┆ ---   ┆ ---       ┆ ---         │\n",
       "│ str       ┆ str   ┆ str       ┆ f64         │\n",
       "╞═══════════╪═══════╪═══════════╪═════════════╡\n",
       "│ setosa    ┆ Sepal ┆ Length    ┆ 5.1         │\n",
       "│ virginica ┆ Sepal ┆ Length    ┆ 5.9         │\n",
       "│ setosa    ┆ Petal ┆ Length    ┆ 1.4         │\n",
       "│ virginica ┆ Petal ┆ Length    ┆ 5.1         │\n",
       "│ setosa    ┆ Petal ┆ Width     ┆ 0.2         │\n",
       "│ virginica ┆ Petal ┆ Width     ┆ 1.8         │\n",
       "│ setosa    ┆ Sepal ┆ Width     ┆ 3.5         │\n",
       "│ virginica ┆ Sepal ┆ Width     ┆ 3.0         │\n",
       "└───────────┴───────┴───────────┴─────────────┘"
      ]
     },
     "execution_count": 66,
     "metadata": {},
     "output_type": "execute_result"
    }
   ],
   "source": [
    "pivot_longer_spec(df=iris, spec=spec)"
   ]
  },
  {
   "cell_type": "markdown",
   "metadata": {},
   "source": [
    "Let's take it further - the Sepal/Petal prefixes go into a `part` column, while the `Width/Length` suffixes remain as headers:\n",
    "\n",
    "```\n",
    "source_column_name     new_column_name           part                 \n",
    "Sepal.Length           Length                   Sepal                 \n",
    "Sepal.Width            Width                    Sepal                 \n",
    "Petal.Length           Length                   Petal                 \n",
    "Petal.Width            Width                    Petal                                    \n",
    "```\n",
    "\n",
    "Again, the relationship is clear. Let's create the spec, and then unpivot:"
   ]
  },
  {
   "cell_type": "code",
   "execution_count": 67,
   "metadata": {},
   "outputs": [
    {
     "data": {
      "text/html": [
       "<div><style>\n",
       ".dataframe > thead > tr,\n",
       ".dataframe > tbody > tr {\n",
       "  text-align: right;\n",
       "  white-space: pre-wrap;\n",
       "}\n",
       "</style>\n",
       "<small>shape: (4, 3)</small><table border=\"1\" class=\"dataframe\"><thead><tr><th>.name</th><th>part</th><th>.value</th></tr><tr><td>str</td><td>str</td><td>str</td></tr></thead><tbody><tr><td>&quot;Sepal.Length&quot;</td><td>&quot;Sepal&quot;</td><td>&quot;Length&quot;</td></tr><tr><td>&quot;Sepal.Width&quot;</td><td>&quot;Sepal&quot;</td><td>&quot;Width&quot;</td></tr><tr><td>&quot;Petal.Length&quot;</td><td>&quot;Petal&quot;</td><td>&quot;Length&quot;</td></tr><tr><td>&quot;Petal.Width&quot;</td><td>&quot;Petal&quot;</td><td>&quot;Width&quot;</td></tr></tbody></table></div>"
      ],
      "text/plain": [
       "shape: (4, 3)\n",
       "┌──────────────┬───────┬────────┐\n",
       "│ .name        ┆ part  ┆ .value │\n",
       "│ ---          ┆ ---   ┆ ---    │\n",
       "│ str          ┆ str   ┆ str    │\n",
       "╞══════════════╪═══════╪════════╡\n",
       "│ Sepal.Length ┆ Sepal ┆ Length │\n",
       "│ Sepal.Width  ┆ Sepal ┆ Width  │\n",
       "│ Petal.Length ┆ Petal ┆ Length │\n",
       "│ Petal.Width  ┆ Petal ┆ Width  │\n",
       "└──────────────┴───────┴────────┘"
      ]
     },
     "execution_count": 67,
     "metadata": {},
     "output_type": "execute_result"
    }
   ],
   "source": [
    "spec = {\n",
    "    \".name\": [\"Sepal.Length\", \"Sepal.Width\", \"Petal.Length\", \"Petal.Width\"],\n",
    "    \"part\": [\"Sepal\", \"Sepal\", \"Petal\", \"Petal\"],\n",
    "    \".value\": [\"Length\", \"Width\", \"Length\", \"Width\"],\n",
    "}\n",
    "spec = pl.DataFrame(spec)\n",
    "spec"
   ]
  },
  {
   "cell_type": "code",
   "execution_count": 68,
   "metadata": {},
   "outputs": [
    {
     "data": {
      "text/html": [
       "<div><style>\n",
       ".dataframe > thead > tr,\n",
       ".dataframe > tbody > tr {\n",
       "  text-align: right;\n",
       "  white-space: pre-wrap;\n",
       "}\n",
       "</style>\n",
       "<small>shape: (4, 4)</small><table border=\"1\" class=\"dataframe\"><thead><tr><th>Species</th><th>part</th><th>Length</th><th>Width</th></tr><tr><td>str</td><td>str</td><td>f64</td><td>f64</td></tr></thead><tbody><tr><td>&quot;setosa&quot;</td><td>&quot;Petal&quot;</td><td>1.4</td><td>0.2</td></tr><tr><td>&quot;virginica&quot;</td><td>&quot;Petal&quot;</td><td>5.1</td><td>1.8</td></tr><tr><td>&quot;setosa&quot;</td><td>&quot;Sepal&quot;</td><td>5.1</td><td>3.5</td></tr><tr><td>&quot;virginica&quot;</td><td>&quot;Sepal&quot;</td><td>5.9</td><td>3.0</td></tr></tbody></table></div>"
      ],
      "text/plain": [
       "shape: (4, 4)\n",
       "┌───────────┬───────┬────────┬───────┐\n",
       "│ Species   ┆ part  ┆ Length ┆ Width │\n",
       "│ ---       ┆ ---   ┆ ---    ┆ ---   │\n",
       "│ str       ┆ str   ┆ f64    ┆ f64   │\n",
       "╞═══════════╪═══════╪════════╪═══════╡\n",
       "│ setosa    ┆ Petal ┆ 1.4    ┆ 0.2   │\n",
       "│ virginica ┆ Petal ┆ 5.1    ┆ 1.8   │\n",
       "│ setosa    ┆ Sepal ┆ 5.1    ┆ 3.5   │\n",
       "│ virginica ┆ Sepal ┆ 5.9    ┆ 3.0   │\n",
       "└───────────┴───────┴────────┴───────┘"
      ]
     },
     "execution_count": 68,
     "metadata": {},
     "output_type": "execute_result"
    }
   ],
   "source": [
    "pivot_longer_spec(df=iris, spec=spec)"
   ]
  },
  {
   "cell_type": "markdown",
   "metadata": {},
   "source": [
    "The idea is simple - you know your data well, so describe the new DataFrame based on the current DataFrame, and [pivot_longer_spec](https://pyjanitor-devs.github.io/pyjanitor/api/polars/#janitor.polars.pivot_longer.pivot_longer_spec) will take care of the transformation."
   ]
  },
  {
   "cell_type": "markdown",
   "metadata": {},
   "source": [
    "## **Performance**\n",
    "\n",
    "[pivot_longer](https://pyjanitor-devs.github.io/pyjanitor/api/functions/#janitor.functions.pivot.pivot_longer) is not just simple, convenient, and straightforward, it is efficient as well - We can refer to [part II](Reshape-Data-in-Polars-Wide-to_Long-Part-II.ipynb) of this series to compare speeds:"
   ]
  },
  {
   "cell_type": "code",
   "execution_count": 69,
   "metadata": {},
   "outputs": [
    {
     "data": {
      "text/html": [
       "<div><style>\n",
       ".dataframe > thead > tr,\n",
       ".dataframe > tbody > tr {\n",
       "  text-align: right;\n",
       "  white-space: pre-wrap;\n",
       "}\n",
       "</style>\n",
       "<small>shape: (100_000, 61)</small><table border=\"1\" class=\"dataframe\"><thead><tr><th>family</th><th>name_child0</th><th>dob_child0</th><th>name_child1</th><th>dob_child1</th><th>name_child2</th><th>dob_child2</th><th>name_child3</th><th>dob_child3</th><th>name_child4</th><th>dob_child4</th><th>name_child5</th><th>dob_child5</th><th>name_child6</th><th>dob_child6</th><th>name_child7</th><th>dob_child7</th><th>name_child8</th><th>dob_child8</th><th>name_child9</th><th>dob_child9</th><th>name_child10</th><th>dob_child10</th><th>name_child11</th><th>dob_child11</th><th>name_child12</th><th>dob_child12</th><th>name_child13</th><th>dob_child13</th><th>name_child14</th><th>dob_child14</th><th>name_child15</th><th>dob_child15</th><th>name_child16</th><th>dob_child16</th><th>name_child17</th><th>dob_child17</th><th>name_child18</th><th>dob_child18</th><th>name_child19</th><th>dob_child19</th><th>name_child20</th><th>dob_child20</th><th>name_child21</th><th>dob_child21</th><th>name_child22</th><th>dob_child22</th><th>name_child23</th><th>dob_child23</th><th>name_child24</th><th>dob_child24</th><th>name_child25</th><th>dob_child25</th><th>name_child26</th><th>dob_child26</th><th>name_child27</th><th>dob_child27</th><th>name_child28</th><th>dob_child28</th><th>name_child29</th><th>dob_child29</th></tr><tr><td>i64</td><td>str</td><td>str</td><td>str</td><td>str</td><td>str</td><td>str</td><td>str</td><td>str</td><td>str</td><td>str</td><td>str</td><td>str</td><td>str</td><td>str</td><td>str</td><td>str</td><td>str</td><td>str</td><td>str</td><td>str</td><td>str</td><td>str</td><td>str</td><td>str</td><td>str</td><td>str</td><td>str</td><td>str</td><td>str</td><td>str</td><td>str</td><td>str</td><td>str</td><td>str</td><td>str</td><td>str</td><td>str</td><td>str</td><td>str</td><td>str</td><td>str</td><td>str</td><td>str</td><td>str</td><td>str</td><td>str</td><td>str</td><td>str</td><td>str</td><td>str</td><td>str</td><td>str</td><td>str</td><td>str</td><td>str</td><td>str</td><td>str</td><td>str</td><td>str</td><td>str</td></tr></thead><tbody><tr><td>0</td><td>&quot;Brittany Mcdonald&quot;</td><td>&quot;1989-08-24&quot;</td><td>&quot;Karen Mendoza MD&quot;</td><td>&quot;1938-12-01&quot;</td><td>&quot;Stephanie Casey&quot;</td><td>&quot;1959-08-07&quot;</td><td>&quot;Rhonda Hartman&quot;</td><td>&quot;1984-01-17&quot;</td><td>&quot;Elizabeth Sampson&quot;</td><td>&quot;1947-01-25&quot;</td><td>&quot;Jacqueline Barrett&quot;</td><td>&quot;1949-02-15&quot;</td><td>&quot;Rebecca Harvey&quot;</td><td>&quot;1974-12-03&quot;</td><td>&quot;John Hopkins&quot;</td><td>&quot;2009-11-27&quot;</td><td>&quot;Diane Ali&quot;</td><td>&quot;1993-03-04&quot;</td><td>&quot;Emily Jones&quot;</td><td>&quot;1933-01-27&quot;</td><td>&quot;Rickey Bates&quot;</td><td>&quot;1938-06-03&quot;</td><td>&quot;Walter Stuart&quot;</td><td>&quot;1971-12-04&quot;</td><td>&quot;Megan Smith&quot;</td><td>&quot;1992-06-05&quot;</td><td>&quot;Amanda Morris&quot;</td><td>&quot;1976-02-01&quot;</td><td>&quot;Jennifer Greer&quot;</td><td>&quot;1971-12-12&quot;</td><td>&quot;Megan Haney&quot;</td><td>&quot;1935-09-11&quot;</td><td>&quot;Alyssa Garcia&quot;</td><td>&quot;1963-09-03&quot;</td><td>&quot;Daniel Turner&quot;</td><td>&quot;1938-11-17&quot;</td><td>&quot;Brittany Simmons&quot;</td><td>&quot;1919-11-21&quot;</td><td>&quot;Kurt Schwartz&quot;</td><td>&quot;1956-02-27&quot;</td><td>&quot;Tanya Brandt&quot;</td><td>&quot;1943-08-16&quot;</td><td>&quot;Jennifer White&quot;</td><td>&quot;1960-08-27&quot;</td><td>&quot;Eddie Hamilton&quot;</td><td>&quot;1988-01-15&quot;</td><td>&quot;Sean Chavez&quot;</td><td>&quot;1968-12-08&quot;</td><td>&quot;Rhonda White&quot;</td><td>&quot;1948-08-30&quot;</td><td>&quot;Linda Hicks&quot;</td><td>&quot;1936-08-03&quot;</td><td>&quot;Brittany Beard&quot;</td><td>&quot;1996-03-08&quot;</td><td>&quot;Nicole Schmidt&quot;</td><td>&quot;1948-12-06&quot;</td><td>&quot;Nancy Clark&quot;</td><td>&quot;1914-12-12&quot;</td><td>&quot;Dr. David Walters&quot;</td><td>&quot;1922-10-24&quot;</td></tr><tr><td>1</td><td>&quot;Diana Welch&quot;</td><td>&quot;1989-02-11&quot;</td><td>&quot;Brandon Pittman&quot;</td><td>&quot;2019-09-02&quot;</td><td>&quot;Alicia Smith&quot;</td><td>&quot;1923-06-27&quot;</td><td>&quot;Sarah Dean DVM&quot;</td><td>&quot;2001-02-10&quot;</td><td>&quot;Katherine Landry&quot;</td><td>&quot;1935-06-26&quot;</td><td>&quot;Sarah Hughes&quot;</td><td>&quot;1911-01-19&quot;</td><td>&quot;Amanda Peters&quot;</td><td>&quot;1922-06-02&quot;</td><td>&quot;Shawn Sanders&quot;</td><td>&quot;1936-11-17&quot;</td><td>&quot;David White&quot;</td><td>&quot;1998-02-25&quot;</td><td>&quot;Justin Mccormick&quot;</td><td>&quot;1994-03-06&quot;</td><td>&quot;James Kelly&quot;</td><td>&quot;2005-02-13&quot;</td><td>&quot;Kimberly Lynch MD&quot;</td><td>&quot;1986-02-18&quot;</td><td>&quot;Kimberly Hall&quot;</td><td>&quot;2001-07-23&quot;</td><td>&quot;Susan Anderson&quot;</td><td>&quot;1908-10-26&quot;</td><td>&quot;Anthony Hall&quot;</td><td>&quot;2012-10-10&quot;</td><td>&quot;Lisa Gardner&quot;</td><td>&quot;1939-08-17&quot;</td><td>&quot;Andrew Burke&quot;</td><td>&quot;1981-07-13&quot;</td><td>&quot;Brittney Evans&quot;</td><td>&quot;1993-06-06&quot;</td><td>&quot;Taylor Wood&quot;</td><td>&quot;1951-07-29&quot;</td><td>&quot;Tanya Taylor&quot;</td><td>&quot;2019-02-01&quot;</td><td>&quot;Ashley Schultz&quot;</td><td>&quot;1993-04-15&quot;</td><td>&quot;Amanda Sanchez&quot;</td><td>&quot;1923-07-14&quot;</td><td>&quot;Harry Stevens&quot;</td><td>&quot;1986-11-10&quot;</td><td>&quot;David Flores&quot;</td><td>&quot;1931-09-16&quot;</td><td>&quot;Timothy Gray&quot;</td><td>&quot;2017-05-07&quot;</td><td>&quot;Jay Ramsey&quot;</td><td>&quot;1936-05-08&quot;</td><td>&quot;Charles Bell&quot;</td><td>&quot;2014-12-05&quot;</td><td>&quot;Jacob Williams&quot;</td><td>&quot;1963-04-17&quot;</td><td>&quot;Kimberly Gonzalez&quot;</td><td>&quot;1991-11-15&quot;</td><td>&quot;Monica Newton&quot;</td><td>&quot;1923-10-27&quot;</td></tr><tr><td>2</td><td>&quot;Jamie Richards&quot;</td><td>&quot;1973-11-04&quot;</td><td>&quot;Kristin Dunn&quot;</td><td>&quot;1973-04-02&quot;</td><td>&quot;Kathy Vasquez&quot;</td><td>&quot;1966-03-20&quot;</td><td>&quot;William Johnson&quot;</td><td>&quot;2006-03-08&quot;</td><td>&quot;Anthony Brewer&quot;</td><td>&quot;1987-06-21&quot;</td><td>&quot;James Hendricks&quot;</td><td>&quot;1981-03-29&quot;</td><td>&quot;Emily Torres&quot;</td><td>&quot;1990-11-09&quot;</td><td>&quot;Jennifer Santos&quot;</td><td>&quot;1982-02-13&quot;</td><td>&quot;Travis Snyder&quot;</td><td>&quot;2018-09-04&quot;</td><td>&quot;Misty Hudson&quot;</td><td>&quot;1974-01-03&quot;</td><td>&quot;Mathew Price&quot;</td><td>&quot;1965-07-09&quot;</td><td>&quot;Charles Anthony&quot;</td><td>&quot;2003-07-20&quot;</td><td>&quot;Sean Cook&quot;</td><td>&quot;1919-03-26&quot;</td><td>&quot;Krista Hall&quot;</td><td>&quot;1951-02-12&quot;</td><td>&quot;Sarah Hurst&quot;</td><td>&quot;1962-09-22&quot;</td><td>&quot;Angela May&quot;</td><td>&quot;2009-11-07&quot;</td><td>&quot;Antonio Ayers&quot;</td><td>&quot;1980-12-11&quot;</td><td>&quot;Kathryn Beck&quot;</td><td>&quot;1944-05-27&quot;</td><td>&quot;Barbara Davis&quot;</td><td>&quot;1929-04-19&quot;</td><td>&quot;Vanessa Gonzalez&quot;</td><td>&quot;1944-06-13&quot;</td><td>&quot;Tina Benjamin&quot;</td><td>&quot;1911-02-01&quot;</td><td>&quot;Anthony Wade&quot;</td><td>&quot;1938-10-10&quot;</td><td>&quot;Rachel Green&quot;</td><td>&quot;2001-02-26&quot;</td><td>&quot;Laura Wright&quot;</td><td>&quot;1950-01-11&quot;</td><td>&quot;Kenneth Stewart&quot;</td><td>&quot;1976-03-10&quot;</td><td>&quot;Megan Glass&quot;</td><td>&quot;1987-10-25&quot;</td><td>&quot;Jennifer King&quot;</td><td>&quot;1962-01-26&quot;</td><td>&quot;Cheyenne Ramirez&quot;</td><td>&quot;2009-12-21&quot;</td><td>&quot;Hayden Williamson&quot;</td><td>&quot;1993-12-27&quot;</td><td>&quot;Thomas Buchanan&quot;</td><td>&quot;2017-06-23&quot;</td></tr><tr><td>3</td><td>&quot;Michele Reed&quot;</td><td>&quot;1994-11-05&quot;</td><td>&quot;John Perry&quot;</td><td>&quot;1915-07-08&quot;</td><td>&quot;Benjamin Garcia&quot;</td><td>&quot;2006-03-12&quot;</td><td>&quot;Mrs. Carolyn Chavez&quot;</td><td>&quot;1999-08-03&quot;</td><td>&quot;Bailey Stevens&quot;</td><td>&quot;2000-04-09&quot;</td><td>&quot;Gilbert Lynch&quot;</td><td>&quot;1978-10-06&quot;</td><td>&quot;Jennifer Burton&quot;</td><td>&quot;2000-12-13&quot;</td><td>&quot;Jose Nguyen&quot;</td><td>&quot;2020-11-15&quot;</td><td>&quot;Yvonne Wall&quot;</td><td>&quot;1910-10-16&quot;</td><td>&quot;Jacob Owens&quot;</td><td>&quot;1943-11-14&quot;</td><td>&quot;William Gibson&quot;</td><td>&quot;1935-09-11&quot;</td><td>&quot;Nicholas Garcia&quot;</td><td>&quot;2014-12-28&quot;</td><td>&quot;Jamie Diaz&quot;</td><td>&quot;1952-10-05&quot;</td><td>&quot;Brian Burns&quot;</td><td>&quot;1934-03-03&quot;</td><td>&quot;Ryan Taylor&quot;</td><td>&quot;1978-11-15&quot;</td><td>&quot;Ashley Miller&quot;</td><td>&quot;1915-01-14&quot;</td><td>&quot;Francisco Brewer&quot;</td><td>&quot;2006-10-21&quot;</td><td>&quot;Melissa Ramos&quot;</td><td>&quot;1966-05-01&quot;</td><td>&quot;Antonio Moore&quot;</td><td>&quot;1914-11-28&quot;</td><td>&quot;Darin Russell&quot;</td><td>&quot;1994-07-29&quot;</td><td>&quot;Eric Santos&quot;</td><td>&quot;1928-02-18&quot;</td><td>&quot;Mariah Cunningham&quot;</td><td>&quot;1958-07-21&quot;</td><td>&quot;Deanna White&quot;</td><td>&quot;1914-08-30&quot;</td><td>&quot;Peggy Williams&quot;</td><td>&quot;1973-03-17&quot;</td><td>&quot;Michael Richardson&quot;</td><td>&quot;1968-02-20&quot;</td><td>&quot;Debra Haney&quot;</td><td>&quot;1972-04-02&quot;</td><td>&quot;Alexander Roberts&quot;</td><td>&quot;1977-04-14&quot;</td><td>&quot;Derrick Martin&quot;</td><td>&quot;1999-09-02&quot;</td><td>&quot;Teresa Stephens&quot;</td><td>&quot;1928-04-11&quot;</td><td>&quot;Andrew Murphy&quot;</td><td>&quot;1910-03-21&quot;</td></tr><tr><td>4</td><td>&quot;Steven Burgess&quot;</td><td>&quot;1997-12-24&quot;</td><td>&quot;Robert Willis&quot;</td><td>&quot;2011-04-18&quot;</td><td>&quot;Amy Forbes&quot;</td><td>&quot;1943-06-26&quot;</td><td>&quot;Chase Gutierrez&quot;</td><td>&quot;1976-06-21&quot;</td><td>&quot;Kevin Gonzales&quot;</td><td>&quot;1977-10-03&quot;</td><td>&quot;Michael Lyons&quot;</td><td>&quot;1973-08-06&quot;</td><td>&quot;Brian Carlson&quot;</td><td>&quot;1964-07-16&quot;</td><td>&quot;Jonathan Brown&quot;</td><td>&quot;1983-07-06&quot;</td><td>&quot;Ryan Lewis&quot;</td><td>&quot;2011-09-30&quot;</td><td>&quot;Brandon Drake&quot;</td><td>&quot;1995-07-27&quot;</td><td>&quot;Christine Mueller&quot;</td><td>&quot;1945-07-15&quot;</td><td>&quot;Joseph Sanders&quot;</td><td>&quot;1995-01-22&quot;</td><td>&quot;Patricia Robertson&quot;</td><td>&quot;1953-01-29&quot;</td><td>&quot;Kevin Young&quot;</td><td>&quot;1962-08-12&quot;</td><td>&quot;Amber Gray&quot;</td><td>&quot;1992-05-30&quot;</td><td>&quot;Laura Powers&quot;</td><td>&quot;1934-10-28&quot;</td><td>&quot;Carrie Ross&quot;</td><td>&quot;1974-11-03&quot;</td><td>&quot;Anthony Taylor&quot;</td><td>&quot;2002-03-31&quot;</td><td>&quot;Bill Hawkins&quot;</td><td>&quot;1923-01-26&quot;</td><td>&quot;Erin Mcbride&quot;</td><td>&quot;2009-01-12&quot;</td><td>&quot;Roger Meza&quot;</td><td>&quot;1934-12-10&quot;</td><td>&quot;Sandra Davis&quot;</td><td>&quot;1918-11-05&quot;</td><td>&quot;Kristie Whitehead&quot;</td><td>&quot;1979-12-01&quot;</td><td>&quot;James Anderson&quot;</td><td>&quot;1954-02-02&quot;</td><td>&quot;Sara Aguilar&quot;</td><td>&quot;2008-03-09&quot;</td><td>&quot;Hector Reynolds&quot;</td><td>&quot;1990-08-17&quot;</td><td>&quot;Cynthia Klein&quot;</td><td>&quot;1931-12-16&quot;</td><td>&quot;Richard Copeland&quot;</td><td>&quot;1978-11-24&quot;</td><td>&quot;Rickey Hudson&quot;</td><td>&quot;1926-09-29&quot;</td><td>&quot;Carmen Smith&quot;</td><td>&quot;1963-11-05&quot;</td></tr><tr><td>&hellip;</td><td>&hellip;</td><td>&hellip;</td><td>&hellip;</td><td>&hellip;</td><td>&hellip;</td><td>&hellip;</td><td>&hellip;</td><td>&hellip;</td><td>&hellip;</td><td>&hellip;</td><td>&hellip;</td><td>&hellip;</td><td>&hellip;</td><td>&hellip;</td><td>&hellip;</td><td>&hellip;</td><td>&hellip;</td><td>&hellip;</td><td>&hellip;</td><td>&hellip;</td><td>&hellip;</td><td>&hellip;</td><td>&hellip;</td><td>&hellip;</td><td>&hellip;</td><td>&hellip;</td><td>&hellip;</td><td>&hellip;</td><td>&hellip;</td><td>&hellip;</td><td>&hellip;</td><td>&hellip;</td><td>&hellip;</td><td>&hellip;</td><td>&hellip;</td><td>&hellip;</td><td>&hellip;</td><td>&hellip;</td><td>&hellip;</td><td>&hellip;</td><td>&hellip;</td><td>&hellip;</td><td>&hellip;</td><td>&hellip;</td><td>&hellip;</td><td>&hellip;</td><td>&hellip;</td><td>&hellip;</td><td>&hellip;</td><td>&hellip;</td><td>&hellip;</td><td>&hellip;</td><td>&hellip;</td><td>&hellip;</td><td>&hellip;</td><td>&hellip;</td><td>&hellip;</td><td>&hellip;</td><td>&hellip;</td><td>&hellip;</td></tr><tr><td>99995</td><td>&quot;Donna Vazquez&quot;</td><td>&quot;1938-12-26&quot;</td><td>&quot;William Curry&quot;</td><td>&quot;1943-03-27&quot;</td><td>&quot;Brian Green&quot;</td><td>&quot;1941-08-20&quot;</td><td>&quot;Cathy Krause&quot;</td><td>&quot;1910-10-22&quot;</td><td>&quot;Christopher Johnson&quot;</td><td>&quot;2006-10-22&quot;</td><td>&quot;Amanda Anderson&quot;</td><td>&quot;1910-07-21&quot;</td><td>&quot;Paul Casey&quot;</td><td>&quot;1965-02-23&quot;</td><td>&quot;Franklin Strickland&quot;</td><td>&quot;2004-03-26&quot;</td><td>&quot;Brian Murphy&quot;</td><td>&quot;1951-06-04&quot;</td><td>&quot;Jennifer Martinez&quot;</td><td>&quot;1921-08-12&quot;</td><td>&quot;Tony Long&quot;</td><td>&quot;1928-04-01&quot;</td><td>&quot;Anthony Garcia&quot;</td><td>&quot;2015-12-03&quot;</td><td>&quot;Todd Gonzales&quot;</td><td>&quot;2001-10-31&quot;</td><td>&quot;Justin Anderson&quot;</td><td>&quot;2021-05-04&quot;</td><td>&quot;Chad Garrett&quot;</td><td>&quot;1939-06-03&quot;</td><td>&quot;Mr. Christopher Harper&quot;</td><td>&quot;2002-07-22&quot;</td><td>&quot;Jennifer Flores&quot;</td><td>&quot;1933-06-17&quot;</td><td>&quot;Alexis Porter&quot;</td><td>&quot;2020-08-27&quot;</td><td>&quot;Jason Pitts&quot;</td><td>&quot;1969-03-11&quot;</td><td>&quot;Adam Sanchez&quot;</td><td>&quot;1959-02-02&quot;</td><td>&quot;Angela Cooper&quot;</td><td>&quot;1972-02-16&quot;</td><td>&quot;Elizabeth Thomas&quot;</td><td>&quot;1959-10-25&quot;</td><td>&quot;Mark Aguilar&quot;</td><td>&quot;1989-03-28&quot;</td><td>&quot;Chad Chapman&quot;</td><td>&quot;1919-03-01&quot;</td><td>&quot;Jessica Doyle&quot;</td><td>&quot;1938-04-14&quot;</td><td>&quot;Kim Miller&quot;</td><td>&quot;2017-08-04&quot;</td><td>&quot;Angela Hughes&quot;</td><td>&quot;1930-10-31&quot;</td><td>&quot;Jamie Thompson&quot;</td><td>&quot;2017-02-28&quot;</td><td>&quot;Brandy Frederick&quot;</td><td>&quot;1932-07-31&quot;</td><td>&quot;Patrick Solomon&quot;</td><td>&quot;1920-03-12&quot;</td></tr><tr><td>99996</td><td>&quot;Monica Davis&quot;</td><td>&quot;1987-10-07&quot;</td><td>&quot;Laura Donovan&quot;</td><td>&quot;1992-07-30&quot;</td><td>&quot;Morgan Garcia&quot;</td><td>&quot;1997-01-09&quot;</td><td>&quot;Stacey Chambers&quot;</td><td>&quot;1944-01-10&quot;</td><td>&quot;Stephen Fields&quot;</td><td>&quot;1935-10-03&quot;</td><td>&quot;Ann Barnes&quot;</td><td>&quot;1996-01-04&quot;</td><td>&quot;Nicholas Jones&quot;</td><td>&quot;1967-02-01&quot;</td><td>&quot;Karen Dunn&quot;</td><td>&quot;2012-07-21&quot;</td><td>&quot;Sheryl Hill&quot;</td><td>&quot;1989-02-21&quot;</td><td>&quot;Kyle Fox&quot;</td><td>&quot;2005-01-04&quot;</td><td>&quot;Mark Adkins&quot;</td><td>&quot;1981-12-01&quot;</td><td>&quot;Spencer Blankenship&quot;</td><td>&quot;1934-04-05&quot;</td><td>&quot;Catherine Smith&quot;</td><td>&quot;2008-12-06&quot;</td><td>&quot;Andrea Walker&quot;</td><td>&quot;1940-07-01&quot;</td><td>&quot;Ricky Barr&quot;</td><td>&quot;1912-11-17&quot;</td><td>&quot;Desiree Parker&quot;</td><td>&quot;1939-11-15&quot;</td><td>&quot;Amanda Ruiz&quot;</td><td>&quot;2018-08-09&quot;</td><td>&quot;Sharon Miller&quot;</td><td>&quot;2019-05-05&quot;</td><td>&quot;Larry Smith&quot;</td><td>&quot;1981-02-24&quot;</td><td>&quot;James Harris&quot;</td><td>&quot;1990-12-14&quot;</td><td>&quot;Justin Smith&quot;</td><td>&quot;1994-10-18&quot;</td><td>&quot;Tamara Roman&quot;</td><td>&quot;1921-04-01&quot;</td><td>&quot;Bridget Serrano&quot;</td><td>&quot;1974-05-13&quot;</td><td>&quot;Ann Melendez&quot;</td><td>&quot;1986-07-06&quot;</td><td>&quot;Susan Huff&quot;</td><td>&quot;2018-09-05&quot;</td><td>&quot;Antonio Juarez&quot;</td><td>&quot;1995-08-11&quot;</td><td>&quot;Ashley Lamb&quot;</td><td>&quot;1955-05-31&quot;</td><td>&quot;Patrick Morse&quot;</td><td>&quot;1932-08-08&quot;</td><td>&quot;Thomas Gregory&quot;</td><td>&quot;1963-04-11&quot;</td><td>&quot;Steven Smith&quot;</td><td>&quot;1987-09-22&quot;</td></tr><tr><td>99997</td><td>&quot;Vanessa Byrd&quot;</td><td>&quot;1967-03-17&quot;</td><td>&quot;Tammy Mcpherson&quot;</td><td>&quot;1987-11-06&quot;</td><td>&quot;Jacob Schwartz&quot;</td><td>&quot;2019-07-07&quot;</td><td>&quot;Barry Smith&quot;</td><td>&quot;1996-03-17&quot;</td><td>&quot;Samuel Martinez&quot;</td><td>&quot;1980-02-27&quot;</td><td>&quot;Erin Flores&quot;</td><td>&quot;1959-04-12&quot;</td><td>&quot;Melissa Perez&quot;</td><td>&quot;2001-07-28&quot;</td><td>&quot;Victoria Wilson&quot;</td><td>&quot;1975-02-12&quot;</td><td>&quot;Timothy Ramirez&quot;</td><td>&quot;1912-08-05&quot;</td><td>&quot;Kyle Johnson&quot;</td><td>&quot;2015-04-01&quot;</td><td>&quot;David Roberts&quot;</td><td>&quot;2001-10-01&quot;</td><td>&quot;Michael Alexander&quot;</td><td>&quot;1922-10-18&quot;</td><td>&quot;Robert Green&quot;</td><td>&quot;2004-03-13&quot;</td><td>&quot;Brent Nelson&quot;</td><td>&quot;1973-02-24&quot;</td><td>&quot;Curtis Smith&quot;</td><td>&quot;1978-11-04&quot;</td><td>&quot;Walter Lyons&quot;</td><td>&quot;2002-03-03&quot;</td><td>&quot;Angela Johnson&quot;</td><td>&quot;2015-06-24&quot;</td><td>&quot;Amanda Smith&quot;</td><td>&quot;1913-01-08&quot;</td><td>&quot;Jacqueline Smith&quot;</td><td>&quot;2012-01-07&quot;</td><td>&quot;Brian Ho&quot;</td><td>&quot;1948-12-11&quot;</td><td>&quot;Robert Lopez&quot;</td><td>&quot;1967-02-04&quot;</td><td>&quot;Charles Rogers&quot;</td><td>&quot;1996-04-25&quot;</td><td>&quot;Marcus Dixon&quot;</td><td>&quot;1952-03-11&quot;</td><td>&quot;Alexis Moore&quot;</td><td>&quot;1952-07-26&quot;</td><td>&quot;Joshua Robles&quot;</td><td>&quot;1956-11-12&quot;</td><td>&quot;Rachel Hull&quot;</td><td>&quot;1979-05-28&quot;</td><td>&quot;Jessica Smith&quot;</td><td>&quot;2006-01-17&quot;</td><td>&quot;Joshua Hernandez&quot;</td><td>&quot;2005-06-26&quot;</td><td>&quot;Melanie Crawford&quot;</td><td>&quot;1927-07-12&quot;</td><td>&quot;Scott Carlson&quot;</td><td>&quot;1950-05-23&quot;</td></tr><tr><td>99998</td><td>&quot;Gary Harmon&quot;</td><td>&quot;2002-05-09&quot;</td><td>&quot;William Reeves&quot;</td><td>&quot;1960-01-23&quot;</td><td>&quot;Linda Cohen&quot;</td><td>&quot;1953-05-31&quot;</td><td>&quot;Damon Soto&quot;</td><td>&quot;1948-11-15&quot;</td><td>&quot;Christina Hull&quot;</td><td>&quot;1992-04-07&quot;</td><td>&quot;Sean Boone&quot;</td><td>&quot;2022-08-10&quot;</td><td>&quot;Benjamin Graham&quot;</td><td>&quot;1971-12-30&quot;</td><td>&quot;Daniel Pacheco&quot;</td><td>&quot;1926-08-16&quot;</td><td>&quot;Jennifer Hopkins&quot;</td><td>&quot;2016-04-15&quot;</td><td>&quot;Anne Kelly&quot;</td><td>&quot;1988-12-03&quot;</td><td>&quot;Cristina Garcia&quot;</td><td>&quot;1997-05-03&quot;</td><td>&quot;Lindsay Wright&quot;</td><td>&quot;1979-12-03&quot;</td><td>&quot;Teresa Berg&quot;</td><td>&quot;1953-11-01&quot;</td><td>&quot;Lisa Murphy&quot;</td><td>&quot;1930-09-15&quot;</td><td>&quot;Jacob Hernandez&quot;</td><td>&quot;2017-04-25&quot;</td><td>&quot;Amber Campbell&quot;</td><td>&quot;1983-10-31&quot;</td><td>&quot;Ashley Mitchell&quot;</td><td>&quot;1962-09-07&quot;</td><td>&quot;Jacqueline Singleton&quot;</td><td>&quot;1970-06-14&quot;</td><td>&quot;Melinda Miller&quot;</td><td>&quot;1978-05-08&quot;</td><td>&quot;Brenda Gibbs&quot;</td><td>&quot;1964-08-13&quot;</td><td>&quot;Rebecca Cooper&quot;</td><td>&quot;2022-10-04&quot;</td><td>&quot;Jonathan Kelly&quot;</td><td>&quot;1935-11-19&quot;</td><td>&quot;Stephen Sanchez&quot;</td><td>&quot;2010-05-15&quot;</td><td>&quot;Adam Stark&quot;</td><td>&quot;1911-07-12&quot;</td><td>&quot;Denise George&quot;</td><td>&quot;1930-02-08&quot;</td><td>&quot;Brenda Lee&quot;</td><td>&quot;2003-09-22&quot;</td><td>&quot;Tracey Nelson&quot;</td><td>&quot;1910-09-10&quot;</td><td>&quot;Greg Esparza&quot;</td><td>&quot;2000-07-07&quot;</td><td>&quot;Tanner Bell&quot;</td><td>&quot;1928-01-15&quot;</td><td>&quot;Veronica Collins&quot;</td><td>&quot;1934-09-23&quot;</td></tr><tr><td>99999</td><td>&quot;Sheila Elliott&quot;</td><td>&quot;1965-08-06&quot;</td><td>&quot;Charlene Lee&quot;</td><td>&quot;2014-06-22&quot;</td><td>&quot;Gabriella Brown&quot;</td><td>&quot;2015-03-17&quot;</td><td>&quot;Joseph Warren&quot;</td><td>&quot;2015-03-18&quot;</td><td>&quot;Martin Frederick&quot;</td><td>&quot;1992-05-01&quot;</td><td>&quot;Cameron Pruitt&quot;</td><td>&quot;1992-12-19&quot;</td><td>&quot;Jennifer Wilson&quot;</td><td>&quot;1929-02-17&quot;</td><td>&quot;Scott Soto&quot;</td><td>&quot;2014-02-18&quot;</td><td>&quot;Lisa Oneill&quot;</td><td>&quot;1909-10-27&quot;</td><td>&quot;Joy Jones&quot;</td><td>&quot;1963-11-07&quot;</td><td>&quot;Diana Rodriguez&quot;</td><td>&quot;1951-12-27&quot;</td><td>&quot;Rachel Estes&quot;</td><td>&quot;1986-01-22&quot;</td><td>&quot;Susan Smith&quot;</td><td>&quot;1985-01-30&quot;</td><td>&quot;Cody Perez&quot;</td><td>&quot;1932-02-02&quot;</td><td>&quot;Pamela Stevenson DDS&quot;</td><td>&quot;2020-07-06&quot;</td><td>&quot;Katelyn Oconnor&quot;</td><td>&quot;1975-11-13&quot;</td><td>&quot;James Blair&quot;</td><td>&quot;1976-03-29&quot;</td><td>&quot;Betty Rowe&quot;</td><td>&quot;1991-03-26&quot;</td><td>&quot;William Briggs&quot;</td><td>&quot;1932-10-01&quot;</td><td>&quot;James Hudson&quot;</td><td>&quot;1998-01-17&quot;</td><td>&quot;Shawn Martinez&quot;</td><td>&quot;2013-11-03&quot;</td><td>&quot;Carla Shelton&quot;</td><td>&quot;2018-10-05&quot;</td><td>&quot;Emily Burke&quot;</td><td>&quot;1965-04-03&quot;</td><td>&quot;Matthew Brown&quot;</td><td>&quot;1932-06-30&quot;</td><td>&quot;Mrs. Jill Rogers MD&quot;</td><td>&quot;2000-05-07&quot;</td><td>&quot;Martin Schmidt&quot;</td><td>&quot;1977-11-22&quot;</td><td>&quot;Cody Collins&quot;</td><td>&quot;1994-08-01&quot;</td><td>&quot;Kevin Duncan&quot;</td><td>&quot;2009-10-15&quot;</td><td>&quot;Jerry Brown&quot;</td><td>&quot;2004-01-29&quot;</td><td>&quot;Nancy Benjamin&quot;</td><td>&quot;1966-05-18&quot;</td></tr></tbody></table></div>"
      ],
      "text/plain": [
       "shape: (100_000, 61)\n",
       "┌────────┬────────────┬────────────┬───────────┬───┬───────────┬───────────┬───────────┬───────────┐\n",
       "│ family ┆ name_child ┆ dob_child0 ┆ name_chil ┆ … ┆ name_chil ┆ dob_child ┆ name_chil ┆ dob_child │\n",
       "│ ---    ┆ 0          ┆ ---        ┆ d1        ┆   ┆ d28       ┆ 28        ┆ d29       ┆ 29        │\n",
       "│ i64    ┆ ---        ┆ str        ┆ ---       ┆   ┆ ---       ┆ ---       ┆ ---       ┆ ---       │\n",
       "│        ┆ str        ┆            ┆ str       ┆   ┆ str       ┆ str       ┆ str       ┆ str       │\n",
       "╞════════╪════════════╪════════════╪═══════════╪═══╪═══════════╪═══════════╪═══════════╪═══════════╡\n",
       "│ 0      ┆ Brittany   ┆ 1989-08-24 ┆ Karen     ┆ … ┆ Nancy     ┆ 1914-12-1 ┆ Dr. David ┆ 1922-10-2 │\n",
       "│        ┆ Mcdonald   ┆            ┆ Mendoza   ┆   ┆ Clark     ┆ 2         ┆ Walters   ┆ 4         │\n",
       "│        ┆            ┆            ┆ MD        ┆   ┆           ┆           ┆           ┆           │\n",
       "│ 1      ┆ Diana      ┆ 1989-02-11 ┆ Brandon   ┆ … ┆ Kimberly  ┆ 1991-11-1 ┆ Monica    ┆ 1923-10-2 │\n",
       "│        ┆ Welch      ┆            ┆ Pittman   ┆   ┆ Gonzalez  ┆ 5         ┆ Newton    ┆ 7         │\n",
       "│ 2      ┆ Jamie      ┆ 1973-11-04 ┆ Kristin   ┆ … ┆ Hayden    ┆ 1993-12-2 ┆ Thomas    ┆ 2017-06-2 │\n",
       "│        ┆ Richards   ┆            ┆ Dunn      ┆   ┆ Williamso ┆ 7         ┆ Buchanan  ┆ 3         │\n",
       "│        ┆            ┆            ┆           ┆   ┆ n         ┆           ┆           ┆           │\n",
       "│ 3      ┆ Michele    ┆ 1994-11-05 ┆ John      ┆ … ┆ Teresa    ┆ 1928-04-1 ┆ Andrew    ┆ 1910-03-2 │\n",
       "│        ┆ Reed       ┆            ┆ Perry     ┆   ┆ Stephens  ┆ 1         ┆ Murphy    ┆ 1         │\n",
       "│ 4      ┆ Steven     ┆ 1997-12-24 ┆ Robert    ┆ … ┆ Rickey    ┆ 1926-09-2 ┆ Carmen    ┆ 1963-11-0 │\n",
       "│        ┆ Burgess    ┆            ┆ Willis    ┆   ┆ Hudson    ┆ 9         ┆ Smith     ┆ 5         │\n",
       "│ …      ┆ …          ┆ …          ┆ …         ┆ … ┆ …         ┆ …         ┆ …         ┆ …         │\n",
       "│ 99995  ┆ Donna      ┆ 1938-12-26 ┆ William   ┆ … ┆ Brandy    ┆ 1932-07-3 ┆ Patrick   ┆ 1920-03-1 │\n",
       "│        ┆ Vazquez    ┆            ┆ Curry     ┆   ┆ Frederick ┆ 1         ┆ Solomon   ┆ 2         │\n",
       "│ 99996  ┆ Monica     ┆ 1987-10-07 ┆ Laura     ┆ … ┆ Thomas    ┆ 1963-04-1 ┆ Steven    ┆ 1987-09-2 │\n",
       "│        ┆ Davis      ┆            ┆ Donovan   ┆   ┆ Gregory   ┆ 1         ┆ Smith     ┆ 2         │\n",
       "│ 99997  ┆ Vanessa    ┆ 1967-03-17 ┆ Tammy     ┆ … ┆ Melanie   ┆ 1927-07-1 ┆ Scott     ┆ 1950-05-2 │\n",
       "│        ┆ Byrd       ┆            ┆ Mcpherson ┆   ┆ Crawford  ┆ 2         ┆ Carlson   ┆ 3         │\n",
       "│ 99998  ┆ Gary       ┆ 2002-05-09 ┆ William   ┆ … ┆ Tanner    ┆ 1928-01-1 ┆ Veronica  ┆ 1934-09-2 │\n",
       "│        ┆ Harmon     ┆            ┆ Reeves    ┆   ┆ Bell      ┆ 5         ┆ Collins   ┆ 3         │\n",
       "│ 99999  ┆ Sheila     ┆ 1965-08-06 ┆ Charlene  ┆ … ┆ Jerry     ┆ 2004-01-2 ┆ Nancy     ┆ 1966-05-1 │\n",
       "│        ┆ Elliott    ┆            ┆ Lee       ┆   ┆ Brown     ┆ 9         ┆ Benjamin  ┆ 8         │\n",
       "└────────┴────────────┴────────────┴───────────┴───┴───────────┴───────────┴───────────┴───────────┘"
      ]
     },
     "execution_count": 69,
     "metadata": {},
     "output_type": "execute_result"
    }
   ],
   "source": [
    "from zipfile import ZipFile\n",
    "\n",
    "zip_file = ZipFile(\"./Data_files/household_large.csv.zip\")\n",
    "zip_file = zip_file.read(\"household_large.csv\")\n",
    "household_large = pl.read_csv(zip_file, null_values=\"NA\")\n",
    "household_large"
   ]
  },
  {
   "cell_type": "code",
   "execution_count": 70,
   "metadata": {},
   "outputs": [
    {
     "name": "stdout",
     "output_type": "stream",
     "text": [
      "1.21 s ± 9.77 ms per loop (mean ± std. dev. of 7 runs, 1 loop each)\n"
     ]
    }
   ],
   "source": [
    "%%timeit\n",
    "expression = pl.col(\"variable\").str.split(\"_\")\n",
    "expression = expression.list.to_struct(fields=[\"header\", \"child\"])\n",
    "(\n",
    "    household_large.unpivot(index=\"family\")\n",
    "    .drop_nulls(\"value\")\n",
    "    .with_columns(variable=expression)\n",
    "    .unnest(\"variable\")\n",
    "    .pivot(index=[\"family\", \"child\"], on=\"header\", values=\"value\")\n",
    ")"
   ]
  },
  {
   "cell_type": "code",
   "execution_count": 71,
   "metadata": {},
   "outputs": [
    {
     "name": "stdout",
     "output_type": "stream",
     "text": [
      "78.7 ms ± 1.88 ms per loop (mean ± std. dev. of 7 runs, 10 loops each)\n"
     ]
    }
   ],
   "source": [
    "%%timeit\n",
    "index = \"family\"\n",
    "columns = pl.Series(\"header\", household_large.columns)\n",
    "mask = columns.is_in([index]).not_()\n",
    "columns = columns.filter(mask)\n",
    "columns_ = columns.str.split(\"_\")\n",
    "columns_ = columns_.list.to_struct(fields=[\"header\", \"child\"])\n",
    "columns_ = columns_.struct.unnest()\n",
    "columns_ = columns_.with_columns(columns=columns)\n",
    "grouped = columns_.group_by(\"child\")\n",
    "grouped = grouped.agg(pl.all())\n",
    "expression = [index]\n",
    "zipped = zip(\n",
    "    grouped.get_column(\"header\").to_list(),\n",
    "    grouped.get_column(\"columns\").to_list(),\n",
    ")\n",
    "for num, (heads, column_names) in enumerate(zipped):\n",
    "    expr_ = dict(zip(heads, column_names))\n",
    "    expr_ = pl.struct(**expr_).alias(str(num))\n",
    "    expression.append(expr_)\n",
    "out = household_large.select(expression)\n",
    "out = out.select(pl.implode('*'))\n",
    "out = out.unpivot(index=index)\n",
    "out = out.with_columns(grouped.get_column('child'))\n",
    "out = out.drop('variable')\n",
    "out = out.explode(['family','value'])\n",
    "out = out.unnest('value')\n",
    "out"
   ]
  },
  {
   "cell_type": "code",
   "execution_count": 72,
   "metadata": {},
   "outputs": [
    {
     "name": "stdout",
     "output_type": "stream",
     "text": [
      "54.4 ms ± 119 μs per loop (mean ± std. dev. of 7 runs, 10 loops each)\n"
     ]
    }
   ],
   "source": [
    "%timeit household_large.pivot_longer(index='family', names_to=('.value','child'), names_sep='_')"
   ]
  },
  {
   "cell_type": "code",
   "execution_count": 73,
   "metadata": {},
   "outputs": [
    {
     "name": "stdout",
     "output_type": "stream",
     "text": [
      "57.9 ms ± 318 μs per loop (mean ± std. dev. of 7 runs, 10 loops each)\n"
     ]
    }
   ],
   "source": [
    "%%timeit\n",
    "spec = (\n",
    "    pl.DataFrame({\".name\": household_large.columns[1:]})\n",
    "    .with_columns(\n",
    "        other=pl.col(\".name\").str.split(\"_\").list.to_struct(fields=[\".value\", \"child\"])\n",
    "    )\n",
    "    .unnest(\"other\")\n",
    ")\n",
    "pivot_longer_spec(df=household_large, spec=spec)"
   ]
  },
  {
   "cell_type": "markdown",
   "metadata": {},
   "source": [
    "Your mileage may vary with these speed tests."
   ]
  },
  {
   "cell_type": "markdown",
   "metadata": {
    "execution": {
     "iopub.execute_input": "2020-07-30T10:57:18.265994Z",
     "iopub.status.busy": "2020-07-30T10:57:18.265751Z",
     "iopub.status.idle": "2020-07-30T10:57:18.283104Z",
     "shell.execute_reply": "2020-07-30T10:57:18.280684Z",
     "shell.execute_reply.started": "2020-07-30T10:57:18.265970Z"
    }
   },
   "source": [
    "## **Summary**\n",
    "\n",
    "This blog post shows various ways to reshape data into long form, using `pivot_longer` and `pivot_longer_spec`. They are meant to be concise, straightforward and efficient."
   ]
  },
  {
   "cell_type": "markdown",
   "metadata": {},
   "source": [
    "## Comments\n",
    "<script src=\"https://utteranc.es/client.js\"\n",
    "        repo=\"samukweku/data-wrangling-blog\"\n",
    "        issue-term=\"title\"\n",
    "        theme=\"github-light\"\n",
    "        crossorigin=\"anonymous\"\n",
    "        async>\n",
    "</script>"
   ]
  }
 ],
 "metadata": {
  "jupytext": {
   "formats": "ipynb,md"
  },
  "kernelspec": {
   "display_name": "blogger",
   "language": "python",
   "name": "python3"
  },
  "language_info": {
   "codemirror_mode": {
    "name": "ipython",
    "version": 3
   },
   "file_extension": ".py",
   "mimetype": "text/x-python",
   "name": "python",
   "nbconvert_exporter": "python",
   "pygments_lexer": "ipython3",
   "version": "3.10.14"
  }
 },
 "nbformat": 4,
 "nbformat_minor": 4
}
