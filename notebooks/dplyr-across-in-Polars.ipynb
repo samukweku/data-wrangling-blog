{
 "cells": [
  {
   "attachments": {},
   "cell_type": "markdown",
   "metadata": {},
   "source": [
    "# Dplyr's across: Replicating within Polars"
   ]
  },
  {
   "cell_type": "markdown",
   "metadata": {},
   "source": [
    "[dplyr](https://dplyr.tidyverse.org/index.html) has the [across](https://dplyr.tidyverse.org/reference/across.html) function, which is meant to make column wise processing easy. \n",
    "This article aims to replicate solutions in the dplyr [column-wise operations](https://dplyr.tidyverse.org/articles/colwise.html) vignette with Polars."
   ]
  },
  {
   "cell_type": "markdown",
   "metadata": {},
   "source": [
    "Let's load in the relevant libraries"
   ]
  },
  {
   "cell_type": "code",
   "execution_count": 23,
   "metadata": {},
   "outputs": [
    {
     "name": "stdout",
     "output_type": "stream",
     "text": [
      " polars version : 1.7.1 \n",
      " python version : 3.10.14 | packaged by conda-forge | (main, Mar 20 2024, 12:51:49) [Clang 16.0.6 ]\n"
     ]
    }
   ],
   "source": [
    "import polars as pl\n",
    "import polars.selectors as cs\n",
    "import sys\n",
    "\n",
    "print(\" polars version :\", pl.__version__, \"\\n\", \"python version :\", sys.version)"
   ]
  },
  {
   "cell_type": "code",
   "execution_count": 24,
   "metadata": {},
   "outputs": [
    {
     "data": {
      "text/html": [
       "<div><style>\n",
       ".dataframe > thead > tr,\n",
       ".dataframe > tbody > tr {\n",
       "  text-align: right;\n",
       "  white-space: pre-wrap;\n",
       "}\n",
       "</style>\n",
       "<small>shape: (5, 14)</small><table border=\"1\" class=\"dataframe\"><thead><tr><th>name</th><th>height</th><th>mass</th><th>hair_color</th><th>skin_color</th><th>eye_color</th><th>birth_year</th><th>sex</th><th>gender</th><th>homeworld</th><th>species</th><th>films</th><th>vehicles</th><th>starships</th></tr><tr><td>str</td><td>f64</td><td>f64</td><td>str</td><td>str</td><td>str</td><td>f64</td><td>str</td><td>str</td><td>str</td><td>str</td><td>str</td><td>str</td><td>str</td></tr></thead><tbody><tr><td>&quot;Luke Skywalker&quot;</td><td>172.0</td><td>77.0</td><td>&quot;blond&quot;</td><td>&quot;fair&quot;</td><td>&quot;blue&quot;</td><td>19.0</td><td>&quot;male&quot;</td><td>&quot;masculine&quot;</td><td>&quot;Tatooine&quot;</td><td>&quot;Human&quot;</td><td>&quot;A New Hope, The Empire Strikes…</td><td>&quot;Snowspeeder, Imperial Speeder …</td><td>&quot;X-wing, Imperial shuttle&quot;</td></tr><tr><td>&quot;C-3PO&quot;</td><td>167.0</td><td>75.0</td><td>null</td><td>&quot;gold&quot;</td><td>&quot;yellow&quot;</td><td>112.0</td><td>&quot;none&quot;</td><td>&quot;masculine&quot;</td><td>&quot;Tatooine&quot;</td><td>&quot;Droid&quot;</td><td>&quot;A New Hope, The Empire Strikes…</td><td>null</td><td>null</td></tr><tr><td>&quot;R2-D2&quot;</td><td>96.0</td><td>32.0</td><td>null</td><td>&quot;white, blue&quot;</td><td>&quot;red&quot;</td><td>33.0</td><td>&quot;none&quot;</td><td>&quot;masculine&quot;</td><td>&quot;Naboo&quot;</td><td>&quot;Droid&quot;</td><td>&quot;A New Hope, The Empire Strikes…</td><td>null</td><td>null</td></tr><tr><td>&quot;Darth Vader&quot;</td><td>202.0</td><td>136.0</td><td>&quot;none&quot;</td><td>&quot;white&quot;</td><td>&quot;yellow&quot;</td><td>41.9</td><td>&quot;male&quot;</td><td>&quot;masculine&quot;</td><td>&quot;Tatooine&quot;</td><td>&quot;Human&quot;</td><td>&quot;A New Hope, The Empire Strikes…</td><td>null</td><td>&quot;TIE Advanced x1&quot;</td></tr><tr><td>&quot;Leia Organa&quot;</td><td>150.0</td><td>49.0</td><td>&quot;brown&quot;</td><td>&quot;light&quot;</td><td>&quot;brown&quot;</td><td>19.0</td><td>&quot;female&quot;</td><td>&quot;feminine&quot;</td><td>&quot;Alderaan&quot;</td><td>&quot;Human&quot;</td><td>&quot;A New Hope, The Empire Strikes…</td><td>&quot;Imperial Speeder Bike&quot;</td><td>null</td></tr></tbody></table></div>"
      ],
      "text/plain": [
       "shape: (5, 14)\n",
       "┌─────────────┬────────┬───────┬────────────┬───┬─────────┬─────────────┬─────────────┬────────────┐\n",
       "│ name        ┆ height ┆ mass  ┆ hair_color ┆ … ┆ species ┆ films       ┆ vehicles    ┆ starships  │\n",
       "│ ---         ┆ ---    ┆ ---   ┆ ---        ┆   ┆ ---     ┆ ---         ┆ ---         ┆ ---        │\n",
       "│ str         ┆ f64    ┆ f64   ┆ str        ┆   ┆ str     ┆ str         ┆ str         ┆ str        │\n",
       "╞═════════════╪════════╪═══════╪════════════╪═══╪═════════╪═════════════╪═════════════╪════════════╡\n",
       "│ Luke        ┆ 172.0  ┆ 77.0  ┆ blond      ┆ … ┆ Human   ┆ A New Hope, ┆ Snowspeeder ┆ X-wing,    │\n",
       "│ Skywalker   ┆        ┆       ┆            ┆   ┆         ┆ The Empire  ┆ , Imperial  ┆ Imperial   │\n",
       "│             ┆        ┆       ┆            ┆   ┆         ┆ Strikes…    ┆ Speeder …   ┆ shuttle    │\n",
       "│ C-3PO       ┆ 167.0  ┆ 75.0  ┆ null       ┆ … ┆ Droid   ┆ A New Hope, ┆ null        ┆ null       │\n",
       "│             ┆        ┆       ┆            ┆   ┆         ┆ The Empire  ┆             ┆            │\n",
       "│             ┆        ┆       ┆            ┆   ┆         ┆ Strikes…    ┆             ┆            │\n",
       "│ R2-D2       ┆ 96.0   ┆ 32.0  ┆ null       ┆ … ┆ Droid   ┆ A New Hope, ┆ null        ┆ null       │\n",
       "│             ┆        ┆       ┆            ┆   ┆         ┆ The Empire  ┆             ┆            │\n",
       "│             ┆        ┆       ┆            ┆   ┆         ┆ Strikes…    ┆             ┆            │\n",
       "│ Darth Vader ┆ 202.0  ┆ 136.0 ┆ none       ┆ … ┆ Human   ┆ A New Hope, ┆ null        ┆ TIE        │\n",
       "│             ┆        ┆       ┆            ┆   ┆         ┆ The Empire  ┆             ┆ Advanced   │\n",
       "│             ┆        ┆       ┆            ┆   ┆         ┆ Strikes…    ┆             ┆ x1         │\n",
       "│ Leia Organa ┆ 150.0  ┆ 49.0  ┆ brown      ┆ … ┆ Human   ┆ A New Hope, ┆ Imperial    ┆ null       │\n",
       "│             ┆        ┆       ┆            ┆   ┆         ┆ The Empire  ┆ Speeder     ┆            │\n",
       "│             ┆        ┆       ┆            ┆   ┆         ┆ Strikes…    ┆ Bike        ┆            │\n",
       "└─────────────┴────────┴───────┴────────────┴───┴─────────┴─────────────┴─────────────┴────────────┘"
      ]
     },
     "execution_count": 24,
     "metadata": {},
     "output_type": "execute_result"
    }
   ],
   "source": [
    "# https://raw.githubusercontent.com/tidyverse/dplyr/main/data-raw/starwars.csv\n",
    "starwars = pl.read_csv('Data_files/starwars.csv')\n",
    "starwars.head()"
   ]
  },
  {
   "cell_type": "code",
   "execution_count": 25,
   "metadata": {},
   "outputs": [
    {
     "data": {
      "text/html": [
       "<div><style>\n",
       ".dataframe > thead > tr,\n",
       ".dataframe > tbody > tr {\n",
       "  text-align: right;\n",
       "  white-space: pre-wrap;\n",
       "}\n",
       "</style>\n",
       "<small>shape: (1, 11)</small><table border=\"1\" class=\"dataframe\"><thead><tr><th>name</th><th>hair_color</th><th>skin_color</th><th>eye_color</th><th>sex</th><th>gender</th><th>homeworld</th><th>species</th><th>films</th><th>vehicles</th><th>starships</th></tr><tr><td>u32</td><td>u32</td><td>u32</td><td>u32</td><td>u32</td><td>u32</td><td>u32</td><td>u32</td><td>u32</td><td>u32</td><td>u32</td></tr></thead><tbody><tr><td>87</td><td>12</td><td>31</td><td>15</td><td>5</td><td>3</td><td>49</td><td>38</td><td>24</td><td>11</td><td>16</td></tr></tbody></table></div>"
      ],
      "text/plain": [
       "shape: (1, 11)\n",
       "┌──────┬────────────┬────────────┬───────────┬───┬─────────┬───────┬──────────┬───────────┐\n",
       "│ name ┆ hair_color ┆ skin_color ┆ eye_color ┆ … ┆ species ┆ films ┆ vehicles ┆ starships │\n",
       "│ ---  ┆ ---        ┆ ---        ┆ ---       ┆   ┆ ---     ┆ ---   ┆ ---      ┆ ---       │\n",
       "│ u32  ┆ u32        ┆ u32        ┆ u32       ┆   ┆ u32     ┆ u32   ┆ u32      ┆ u32       │\n",
       "╞══════╪════════════╪════════════╪═══════════╪═══╪═════════╪═══════╪══════════╪═══════════╡\n",
       "│ 87   ┆ 12         ┆ 31         ┆ 15        ┆ … ┆ 38      ┆ 24    ┆ 11       ┆ 16        │\n",
       "└──────┴────────────┴────────────┴───────────┴───┴─────────┴───────┴──────────┴───────────┘"
      ]
     },
     "execution_count": 25,
     "metadata": {},
     "output_type": "execute_result"
    }
   ],
   "source": [
    "# dplyr :\n",
    "# starwars %>%\n",
    "#   summarise(across(where(is.character), n_distinct))\n",
    "starwars.select(cs.string().n_unique())"
   ]
  },
  {
   "cell_type": "code",
   "execution_count": null,
   "metadata": {},
   "outputs": [
    {
     "data": {
      "text/html": [
       "<div><style>\n",
       ".dataframe > thead > tr,\n",
       ".dataframe > tbody > tr {\n",
       "  text-align: right;\n",
       "  white-space: pre-wrap;\n",
       "}\n",
       "</style>\n",
       "<small>shape: (9, 4)</small><table border=\"1\" class=\"dataframe\"><thead><tr><th>species</th><th>sex</th><th>gender</th><th>homeworld</th></tr><tr><td>str</td><td>u32</td><td>u32</td><td>u32</td></tr></thead><tbody><tr><td>&quot;Human&quot;</td><td>2</td><td>2</td><td>15</td></tr><tr><td>&quot;Droid&quot;</td><td>1</td><td>2</td><td>3</td></tr><tr><td>&quot;Wookiee&quot;</td><td>1</td><td>1</td><td>1</td></tr><tr><td>null</td><td>1</td><td>1</td><td>3</td></tr><tr><td>&quot;Gungan&quot;</td><td>1</td><td>1</td><td>1</td></tr><tr><td>&quot;Zabrak&quot;</td><td>1</td><td>1</td><td>2</td></tr><tr><td>&quot;Twi&#x27;lek&quot;</td><td>2</td><td>2</td><td>1</td></tr><tr><td>&quot;Mirialan&quot;</td><td>1</td><td>1</td><td>1</td></tr><tr><td>&quot;Kaminoan&quot;</td><td>2</td><td>2</td><td>1</td></tr></tbody></table></div>"
      ],
      "text/plain": [
       "shape: (9, 4)\n",
       "┌──────────┬─────┬────────┬───────────┐\n",
       "│ species  ┆ sex ┆ gender ┆ homeworld │\n",
       "│ ---      ┆ --- ┆ ---    ┆ ---       │\n",
       "│ str      ┆ u32 ┆ u32    ┆ u32       │\n",
       "╞══════════╪═════╪════════╪═══════════╡\n",
       "│ Human    ┆ 2   ┆ 2      ┆ 15        │\n",
       "│ Droid    ┆ 1   ┆ 2      ┆ 3         │\n",
       "│ Wookiee  ┆ 1   ┆ 1      ┆ 1         │\n",
       "│ null     ┆ 1   ┆ 1      ┆ 3         │\n",
       "│ Gungan   ┆ 1   ┆ 1      ┆ 1         │\n",
       "│ Zabrak   ┆ 1   ┆ 1      ┆ 2         │\n",
       "│ Twi'lek  ┆ 2   ┆ 2      ┆ 1         │\n",
       "│ Mirialan ┆ 1   ┆ 1      ┆ 1         │\n",
       "│ Kaminoan ┆ 2   ┆ 2      ┆ 1         │\n",
       "└──────────┴─────┴────────┴───────────┘"
      ]
     },
     "execution_count": 26,
     "metadata": {},
     "output_type": "execute_result"
    }
   ],
   "source": [
    "# dplyr :\n",
    "# starwars %>%\n",
    "#   group_by(species) %>%\n",
    "#   filter(n() > 1) %>%\n",
    "#   summarise(across(c(sex, gender, homeworld), n_distinct))\n",
    "(starwars\n",
    " .group_by(\"species\")\n",
    " .agg(pl.n_unique(\"sex\", \"gender\", \"homeworld\"), \n",
    "      pl.len().alias(\"n\")\n",
    ")\n",
    ".filter(pl.col(\"n\").gt(1))\n",
    ".select(pl.exclude(\"n\"))\n",
    ")"
   ]
  },
  {
   "cell_type": "code",
   "execution_count": null,
   "metadata": {},
   "outputs": [
    {
     "data": {
      "text/html": [
       "<div><style>\n",
       ".dataframe > thead > tr,\n",
       ".dataframe > tbody > tr {\n",
       "  text-align: right;\n",
       "  white-space: pre-wrap;\n",
       "}\n",
       "</style>\n",
       "<small>shape: (10, 4)</small><table border=\"1\" class=\"dataframe\"><thead><tr><th>homeworld</th><th>height</th><th>mass</th><th>birth_year</th></tr><tr><td>str</td><td>f64</td><td>f64</td><td>f64</td></tr></thead><tbody><tr><td>&quot;Tatooine&quot;</td><td>169.8</td><td>85.375</td><td>54.644444</td></tr><tr><td>&quot;Naboo&quot;</td><td>177.272727</td><td>64.166667</td><td>55.0</td></tr><tr><td>&quot;Alderaan&quot;</td><td>176.333333</td><td>64.0</td><td>43.0</td></tr><tr><td>&quot;Kashyyyk&quot;</td><td>231.0</td><td>124.0</td><td>200.0</td></tr><tr><td>&quot;Corellia&quot;</td><td>175.0</td><td>78.5</td><td>25.0</td></tr><tr><td>null</td><td>138.75</td><td>82.0</td><td>334.333333</td></tr><tr><td>&quot;Kamino&quot;</td><td>208.333333</td><td>83.1</td><td>31.5</td></tr><tr><td>&quot;Coruscant&quot;</td><td>173.666667</td><td>50.0</td><td>91.0</td></tr><tr><td>&quot;Ryloth&quot;</td><td>179.0</td><td>55.0</td><td>48.0</td></tr><tr><td>&quot;Mirial&quot;</td><td>168.0</td><td>53.1</td><td>49.0</td></tr></tbody></table></div>"
      ],
      "text/plain": [
       "shape: (10, 4)\n",
       "┌───────────┬────────────┬───────────┬────────────┐\n",
       "│ homeworld ┆ height     ┆ mass      ┆ birth_year │\n",
       "│ ---       ┆ ---        ┆ ---       ┆ ---        │\n",
       "│ str       ┆ f64        ┆ f64       ┆ f64        │\n",
       "╞═══════════╪════════════╪═══════════╪════════════╡\n",
       "│ Tatooine  ┆ 169.8      ┆ 85.375    ┆ 54.644444  │\n",
       "│ Naboo     ┆ 177.272727 ┆ 64.166667 ┆ 55.0       │\n",
       "│ Alderaan  ┆ 176.333333 ┆ 64.0      ┆ 43.0       │\n",
       "│ Kashyyyk  ┆ 231.0      ┆ 124.0     ┆ 200.0      │\n",
       "│ Corellia  ┆ 175.0      ┆ 78.5      ┆ 25.0       │\n",
       "│ null      ┆ 138.75     ┆ 82.0      ┆ 334.333333 │\n",
       "│ Kamino    ┆ 208.333333 ┆ 83.1      ┆ 31.5       │\n",
       "│ Coruscant ┆ 173.666667 ┆ 50.0      ┆ 91.0       │\n",
       "│ Ryloth    ┆ 179.0      ┆ 55.0      ┆ 48.0       │\n",
       "│ Mirial    ┆ 168.0      ┆ 53.1      ┆ 49.0       │\n",
       "└───────────┴────────────┴───────────┴────────────┘"
      ]
     },
     "execution_count": 28,
     "metadata": {},
     "output_type": "execute_result"
    }
   ],
   "source": [
    "# dplyr :\n",
    "# starwars %>%\n",
    "#   group_by(homeworld) %>%\n",
    "#   filter(n() > 1) %>%\n",
    "#   summarise(across(where(is.numeric), ~ mean(.x, na.rm = TRUE)))\n",
    "(starwars\n",
    " .group_by(\"homeworld\")\n",
    " .agg(cs.numeric().mean(), pl.len().alias(\"n\"))\n",
    " .filter(pl.col(\"n\").gt(1))\n",
    ".select(pl.exclude(\"n\"))\n",
    ")"
   ]
  },
  {
   "cell_type": "code",
   "execution_count": 30,
   "metadata": {},
   "outputs": [
    {
     "data": {
      "text/html": [
       "<div><style>\n",
       ".dataframe > thead > tr,\n",
       ".dataframe > tbody > tr {\n",
       "  text-align: right;\n",
       "  white-space: pre-wrap;\n",
       "}\n",
       "</style>\n",
       "<small>shape: (67, 3)</small><table border=\"1\" class=\"dataframe\"><thead><tr><th>hair_color</th><th>skin_color</th><th>eye_color</th></tr><tr><td>str</td><td>str</td><td>str</td></tr></thead><tbody><tr><td>&quot;brown&quot;</td><td>&quot;light&quot;</td><td>&quot;brown&quot;</td></tr><tr><td>&quot;none&quot;</td><td>&quot;grey&quot;</td><td>&quot;gold&quot;</td></tr><tr><td>&quot;none&quot;</td><td>&quot;grey, green, yellow&quot;</td><td>&quot;orange&quot;</td></tr><tr><td>&quot;none&quot;</td><td>&quot;light&quot;</td><td>&quot;blue&quot;</td></tr><tr><td>&quot;brown&quot;</td><td>&quot;brown&quot;</td><td>&quot;blue&quot;</td></tr><tr><td>&hellip;</td><td>&hellip;</td><td>&hellip;</td></tr><tr><td>&quot;none&quot;</td><td>&quot;silver, red&quot;</td><td>&quot;red, blue&quot;</td></tr><tr><td>&quot;blonde&quot;</td><td>&quot;fair, green, yellow&quot;</td><td>&quot;yellow&quot;</td></tr><tr><td>&quot;none&quot;</td><td>&quot;blue, grey&quot;</td><td>&quot;yellow&quot;</td></tr><tr><td>&quot;white&quot;</td><td>&quot;pale&quot;</td><td>&quot;yellow&quot;</td></tr><tr><td>&quot;auburn&quot;</td><td>&quot;fair&quot;</td><td>&quot;blue&quot;</td></tr></tbody></table></div>"
      ],
      "text/plain": [
       "shape: (67, 3)\n",
       "┌────────────┬─────────────────────┬───────────┐\n",
       "│ hair_color ┆ skin_color          ┆ eye_color │\n",
       "│ ---        ┆ ---                 ┆ ---       │\n",
       "│ str        ┆ str                 ┆ str       │\n",
       "╞════════════╪═════════════════════╪═══════════╡\n",
       "│ brown      ┆ light               ┆ brown     │\n",
       "│ none       ┆ grey                ┆ gold      │\n",
       "│ none       ┆ grey, green, yellow ┆ orange    │\n",
       "│ none       ┆ light               ┆ blue      │\n",
       "│ brown      ┆ brown               ┆ blue      │\n",
       "│ …          ┆ …                   ┆ …         │\n",
       "│ none       ┆ silver, red         ┆ red, blue │\n",
       "│ blonde     ┆ fair, green, yellow ┆ yellow    │\n",
       "│ none       ┆ blue, grey          ┆ yellow    │\n",
       "│ white      ┆ pale                ┆ yellow    │\n",
       "│ auburn     ┆ fair                ┆ blue      │\n",
       "└────────────┴─────────────────────┴───────────┘"
      ]
     },
     "execution_count": 30,
     "metadata": {},
     "output_type": "execute_result"
    }
   ],
   "source": [
    "# dplyr:\n",
    "# starwars %>% distinct(across(contains(\"color\")))\n",
    "starwars.select(cs.ends_with('color')).unique()"
   ]
  },
  {
   "cell_type": "code",
   "execution_count": 31,
   "metadata": {},
   "outputs": [
    {
     "data": {
      "text/html": [
       "<div><style>\n",
       ".dataframe > thead > tr,\n",
       ".dataframe > tbody > tr {\n",
       "  text-align: right;\n",
       "  white-space: pre-wrap;\n",
       "}\n",
       "</style>\n",
       "<small>shape: (67, 4)</small><table border=\"1\" class=\"dataframe\"><thead><tr><th>hair_color</th><th>skin_color</th><th>eye_color</th><th>count</th></tr><tr><td>str</td><td>str</td><td>str</td><td>u32</td></tr></thead><tbody><tr><td>&quot;brown&quot;</td><td>&quot;fair&quot;</td><td>&quot;hazel&quot;</td><td>1</td></tr><tr><td>&quot;black&quot;</td><td>&quot;yellow&quot;</td><td>&quot;blue&quot;</td><td>2</td></tr><tr><td>&quot;none&quot;</td><td>&quot;brown&quot;</td><td>&quot;yellow&quot;</td><td>1</td></tr><tr><td>&quot;none&quot;</td><td>&quot;silver, red&quot;</td><td>&quot;red, blue&quot;</td><td>1</td></tr><tr><td>&quot;brown&quot;</td><td>&quot;light&quot;</td><td>&quot;blue&quot;</td><td>1</td></tr><tr><td>&hellip;</td><td>&hellip;</td><td>&hellip;</td><td>&hellip;</td></tr><tr><td>&quot;brown&quot;</td><td>&quot;brown&quot;</td><td>&quot;blue&quot;</td><td>1</td></tr><tr><td>&quot;none&quot;</td><td>&quot;grey&quot;</td><td>&quot;gold&quot;</td><td>1</td></tr><tr><td>&quot;none&quot;</td><td>&quot;none&quot;</td><td>&quot;black&quot;</td><td>1</td></tr><tr><td>&quot;none&quot;</td><td>&quot;grey, blue&quot;</td><td>&quot;unknown&quot;</td><td>1</td></tr><tr><td>&quot;black&quot;</td><td>&quot;dark&quot;</td><td>&quot;brown&quot;</td><td>3</td></tr></tbody></table></div>"
      ],
      "text/plain": [
       "shape: (67, 4)\n",
       "┌────────────┬─────────────┬───────────┬───────┐\n",
       "│ hair_color ┆ skin_color  ┆ eye_color ┆ count │\n",
       "│ ---        ┆ ---         ┆ ---       ┆ ---   │\n",
       "│ str        ┆ str         ┆ str       ┆ u32   │\n",
       "╞════════════╪═════════════╪═══════════╪═══════╡\n",
       "│ brown      ┆ fair        ┆ hazel     ┆ 1     │\n",
       "│ black      ┆ yellow      ┆ blue      ┆ 2     │\n",
       "│ none       ┆ brown       ┆ yellow    ┆ 1     │\n",
       "│ none       ┆ silver, red ┆ red, blue ┆ 1     │\n",
       "│ brown      ┆ light       ┆ blue      ┆ 1     │\n",
       "│ …          ┆ …           ┆ …         ┆ …     │\n",
       "│ brown      ┆ brown       ┆ blue      ┆ 1     │\n",
       "│ none       ┆ grey        ┆ gold      ┆ 1     │\n",
       "│ none       ┆ none        ┆ black     ┆ 1     │\n",
       "│ none       ┆ grey, blue  ┆ unknown   ┆ 1     │\n",
       "│ black      ┆ dark        ┆ brown     ┆ 3     │\n",
       "└────────────┴─────────────┴───────────┴───────┘"
      ]
     },
     "execution_count": 31,
     "metadata": {},
     "output_type": "execute_result"
    }
   ],
   "source": [
    "# dplyr\n",
    "# starwars %>% count(across(contains(\"color\")), sort = TRUE)\n",
    "(starwars\n",
    " .select(pl.struct(cs.ends_with('color')).value_counts())\n",
    " .unnest('hair_color')\n",
    " .unnest('hair_color')\n",
    " )"
   ]
  },
  {
   "cell_type": "code",
   "execution_count": 32,
   "metadata": {},
   "outputs": [
    {
     "data": {
      "text/html": [
       "<div><style>\n",
       ".dataframe > thead > tr,\n",
       ".dataframe > tbody > tr {\n",
       "  text-align: right;\n",
       "  white-space: pre-wrap;\n",
       "}\n",
       "</style>\n",
       "<small>shape: (87, 14)</small><table border=\"1\" class=\"dataframe\"><thead><tr><th>name</th><th>height</th><th>mass</th><th>hair_color</th><th>skin_color</th><th>eye_color</th><th>birth_year</th><th>sex</th><th>gender</th><th>homeworld</th><th>species</th><th>films</th><th>vehicles</th><th>starships</th></tr><tr><td>str</td><td>f64</td><td>f64</td><td>str</td><td>str</td><td>str</td><td>f64</td><td>str</td><td>str</td><td>str</td><td>str</td><td>str</td><td>str</td><td>str</td></tr></thead><tbody><tr><td>&quot;Luke Skywalker&quot;</td><td>172.0</td><td>77.0</td><td>&quot;blond&quot;</td><td>&quot;fair&quot;</td><td>&quot;blue&quot;</td><td>19.0</td><td>&quot;male&quot;</td><td>&quot;masculine&quot;</td><td>&quot;Tatooine&quot;</td><td>&quot;Human&quot;</td><td>&quot;A New Hope, The Empire Strikes…</td><td>&quot;Snowspeeder, Imperial Speeder …</td><td>&quot;X-wing, Imperial shuttle&quot;</td></tr><tr><td>&quot;C-3PO&quot;</td><td>167.0</td><td>75.0</td><td>null</td><td>&quot;gold&quot;</td><td>&quot;yellow&quot;</td><td>112.0</td><td>&quot;none&quot;</td><td>&quot;masculine&quot;</td><td>&quot;Tatooine&quot;</td><td>&quot;Droid&quot;</td><td>&quot;A New Hope, The Empire Strikes…</td><td>null</td><td>null</td></tr><tr><td>&quot;R2-D2&quot;</td><td>96.0</td><td>32.0</td><td>null</td><td>&quot;white, blue&quot;</td><td>&quot;red&quot;</td><td>33.0</td><td>&quot;none&quot;</td><td>&quot;masculine&quot;</td><td>&quot;Naboo&quot;</td><td>&quot;Droid&quot;</td><td>&quot;A New Hope, The Empire Strikes…</td><td>null</td><td>null</td></tr><tr><td>&quot;Darth Vader&quot;</td><td>202.0</td><td>136.0</td><td>&quot;none&quot;</td><td>&quot;white&quot;</td><td>&quot;yellow&quot;</td><td>41.9</td><td>&quot;male&quot;</td><td>&quot;masculine&quot;</td><td>&quot;Tatooine&quot;</td><td>&quot;Human&quot;</td><td>&quot;A New Hope, The Empire Strikes…</td><td>null</td><td>&quot;TIE Advanced x1&quot;</td></tr><tr><td>&quot;Leia Organa&quot;</td><td>150.0</td><td>49.0</td><td>&quot;brown&quot;</td><td>&quot;light&quot;</td><td>&quot;brown&quot;</td><td>19.0</td><td>&quot;female&quot;</td><td>&quot;feminine&quot;</td><td>&quot;Alderaan&quot;</td><td>&quot;Human&quot;</td><td>&quot;A New Hope, The Empire Strikes…</td><td>&quot;Imperial Speeder Bike&quot;</td><td>null</td></tr><tr><td>&hellip;</td><td>&hellip;</td><td>&hellip;</td><td>&hellip;</td><td>&hellip;</td><td>&hellip;</td><td>&hellip;</td><td>&hellip;</td><td>&hellip;</td><td>&hellip;</td><td>&hellip;</td><td>&hellip;</td><td>&hellip;</td><td>&hellip;</td></tr><tr><td>&quot;Finn&quot;</td><td>null</td><td>null</td><td>&quot;black&quot;</td><td>&quot;dark&quot;</td><td>&quot;dark&quot;</td><td>null</td><td>&quot;male&quot;</td><td>&quot;masculine&quot;</td><td>null</td><td>&quot;Human&quot;</td><td>&quot;The Force Awakens&quot;</td><td>null</td><td>null</td></tr><tr><td>&quot;Rey&quot;</td><td>null</td><td>null</td><td>&quot;brown&quot;</td><td>&quot;light&quot;</td><td>&quot;hazel&quot;</td><td>null</td><td>&quot;female&quot;</td><td>&quot;feminine&quot;</td><td>null</td><td>&quot;Human&quot;</td><td>&quot;The Force Awakens&quot;</td><td>null</td><td>null</td></tr><tr><td>&quot;Poe Dameron&quot;</td><td>null</td><td>null</td><td>&quot;brown&quot;</td><td>&quot;light&quot;</td><td>&quot;brown&quot;</td><td>null</td><td>&quot;male&quot;</td><td>&quot;masculine&quot;</td><td>null</td><td>&quot;Human&quot;</td><td>&quot;The Force Awakens&quot;</td><td>null</td><td>&quot;X-wing&quot;</td></tr><tr><td>&quot;BB8&quot;</td><td>null</td><td>null</td><td>&quot;none&quot;</td><td>&quot;none&quot;</td><td>&quot;black&quot;</td><td>null</td><td>&quot;none&quot;</td><td>&quot;masculine&quot;</td><td>null</td><td>&quot;Droid&quot;</td><td>&quot;The Force Awakens&quot;</td><td>null</td><td>null</td></tr><tr><td>&quot;Captain Phasma&quot;</td><td>null</td><td>null</td><td>&quot;none&quot;</td><td>&quot;none&quot;</td><td>&quot;unknown&quot;</td><td>null</td><td>&quot;female&quot;</td><td>&quot;feminine&quot;</td><td>null</td><td>&quot;Human&quot;</td><td>&quot;The Force Awakens&quot;</td><td>null</td><td>null</td></tr></tbody></table></div>"
      ],
      "text/plain": [
       "shape: (87, 14)\n",
       "┌─────────────┬────────┬───────┬────────────┬───┬─────────┬─────────────┬─────────────┬────────────┐\n",
       "│ name        ┆ height ┆ mass  ┆ hair_color ┆ … ┆ species ┆ films       ┆ vehicles    ┆ starships  │\n",
       "│ ---         ┆ ---    ┆ ---   ┆ ---        ┆   ┆ ---     ┆ ---         ┆ ---         ┆ ---        │\n",
       "│ str         ┆ f64    ┆ f64   ┆ str        ┆   ┆ str     ┆ str         ┆ str         ┆ str        │\n",
       "╞═════════════╪════════╪═══════╪════════════╪═══╪═════════╪═════════════╪═════════════╪════════════╡\n",
       "│ Luke        ┆ 172.0  ┆ 77.0  ┆ blond      ┆ … ┆ Human   ┆ A New Hope, ┆ Snowspeeder ┆ X-wing,    │\n",
       "│ Skywalker   ┆        ┆       ┆            ┆   ┆         ┆ The Empire  ┆ , Imperial  ┆ Imperial   │\n",
       "│             ┆        ┆       ┆            ┆   ┆         ┆ Strikes…    ┆ Speeder …   ┆ shuttle    │\n",
       "│ C-3PO       ┆ 167.0  ┆ 75.0  ┆ null       ┆ … ┆ Droid   ┆ A New Hope, ┆ null        ┆ null       │\n",
       "│             ┆        ┆       ┆            ┆   ┆         ┆ The Empire  ┆             ┆            │\n",
       "│             ┆        ┆       ┆            ┆   ┆         ┆ Strikes…    ┆             ┆            │\n",
       "│ R2-D2       ┆ 96.0   ┆ 32.0  ┆ null       ┆ … ┆ Droid   ┆ A New Hope, ┆ null        ┆ null       │\n",
       "│             ┆        ┆       ┆            ┆   ┆         ┆ The Empire  ┆             ┆            │\n",
       "│             ┆        ┆       ┆            ┆   ┆         ┆ Strikes…    ┆             ┆            │\n",
       "│ Darth Vader ┆ 202.0  ┆ 136.0 ┆ none       ┆ … ┆ Human   ┆ A New Hope, ┆ null        ┆ TIE        │\n",
       "│             ┆        ┆       ┆            ┆   ┆         ┆ The Empire  ┆             ┆ Advanced   │\n",
       "│             ┆        ┆       ┆            ┆   ┆         ┆ Strikes…    ┆             ┆ x1         │\n",
       "│ Leia Organa ┆ 150.0  ┆ 49.0  ┆ brown      ┆ … ┆ Human   ┆ A New Hope, ┆ Imperial    ┆ null       │\n",
       "│             ┆        ┆       ┆            ┆   ┆         ┆ The Empire  ┆ Speeder     ┆            │\n",
       "│             ┆        ┆       ┆            ┆   ┆         ┆ Strikes…    ┆ Bike        ┆            │\n",
       "│ …           ┆ …      ┆ …     ┆ …          ┆ … ┆ …       ┆ …           ┆ …           ┆ …          │\n",
       "│ Finn        ┆ null   ┆ null  ┆ black      ┆ … ┆ Human   ┆ The Force   ┆ null        ┆ null       │\n",
       "│             ┆        ┆       ┆            ┆   ┆         ┆ Awakens     ┆             ┆            │\n",
       "│ Rey         ┆ null   ┆ null  ┆ brown      ┆ … ┆ Human   ┆ The Force   ┆ null        ┆ null       │\n",
       "│             ┆        ┆       ┆            ┆   ┆         ┆ Awakens     ┆             ┆            │\n",
       "│ Poe Dameron ┆ null   ┆ null  ┆ brown      ┆ … ┆ Human   ┆ The Force   ┆ null        ┆ X-wing     │\n",
       "│             ┆        ┆       ┆            ┆   ┆         ┆ Awakens     ┆             ┆            │\n",
       "│ BB8         ┆ null   ┆ null  ┆ none       ┆ … ┆ Droid   ┆ The Force   ┆ null        ┆ null       │\n",
       "│             ┆        ┆       ┆            ┆   ┆         ┆ Awakens     ┆             ┆            │\n",
       "│ Captain     ┆ null   ┆ null  ┆ none       ┆ … ┆ Human   ┆ The Force   ┆ null        ┆ null       │\n",
       "│ Phasma      ┆        ┆       ┆            ┆   ┆         ┆ Awakens     ┆             ┆            │\n",
       "└─────────────┴────────┴───────┴────────────┴───┴─────────┴─────────────┴─────────────┴────────────┘"
      ]
     },
     "execution_count": 32,
     "metadata": {},
     "output_type": "execute_result"
    }
   ],
   "source": [
    "# starwars %>%\n",
    "#   filter(if_any(everything(), ~ !is.na(.x)))\n",
    "starwars.filter(pl.any_horizontal(pl.all().is_not_null()))"
   ]
  },
  {
   "cell_type": "markdown",
   "metadata": {},
   "source": [
    "Let's look at another solution, from [Stack Overflow](https://stackoverflow.com/questions/63200530/python-pandas-equivalent-to-dplyr-1-0-0-summarizeacross):"
   ]
  },
  {
   "cell_type": "code",
   "execution_count": 33,
   "metadata": {},
   "outputs": [
    {
     "data": {
      "text/html": [
       "<div><style>\n",
       ".dataframe > thead > tr,\n",
       ".dataframe > tbody > tr {\n",
       "  text-align: right;\n",
       "  white-space: pre-wrap;\n",
       "}\n",
       "</style>\n",
       "<small>shape: (5, 12)</small><table border=\"1\" class=\"dataframe\"><thead><tr><th>model</th><th>mpg</th><th>cyl</th><th>disp</th><th>hp</th><th>drat</th><th>wt</th><th>qsec</th><th>vs</th><th>am</th><th>gear</th><th>carb</th></tr><tr><td>str</td><td>f64</td><td>i64</td><td>f64</td><td>i64</td><td>f64</td><td>f64</td><td>f64</td><td>i64</td><td>i64</td><td>i64</td><td>i64</td></tr></thead><tbody><tr><td>&quot;Mazda RX4&quot;</td><td>21.0</td><td>6</td><td>160.0</td><td>110</td><td>3.9</td><td>2.62</td><td>16.46</td><td>0</td><td>1</td><td>4</td><td>4</td></tr><tr><td>&quot;Mazda RX4 Wag&quot;</td><td>21.0</td><td>6</td><td>160.0</td><td>110</td><td>3.9</td><td>2.875</td><td>17.02</td><td>0</td><td>1</td><td>4</td><td>4</td></tr><tr><td>&quot;Datsun 710&quot;</td><td>22.8</td><td>4</td><td>108.0</td><td>93</td><td>3.85</td><td>2.32</td><td>18.61</td><td>1</td><td>1</td><td>4</td><td>1</td></tr><tr><td>&quot;Hornet 4 Drive&quot;</td><td>21.4</td><td>6</td><td>258.0</td><td>110</td><td>3.08</td><td>3.215</td><td>19.44</td><td>1</td><td>0</td><td>3</td><td>1</td></tr><tr><td>&quot;Hornet Sportabout&quot;</td><td>18.7</td><td>8</td><td>360.0</td><td>175</td><td>3.15</td><td>3.44</td><td>17.02</td><td>0</td><td>0</td><td>3</td><td>2</td></tr></tbody></table></div>"
      ],
      "text/plain": [
       "shape: (5, 12)\n",
       "┌───────────────────┬──────┬─────┬───────┬───┬─────┬─────┬──────┬──────┐\n",
       "│ model             ┆ mpg  ┆ cyl ┆ disp  ┆ … ┆ vs  ┆ am  ┆ gear ┆ carb │\n",
       "│ ---               ┆ ---  ┆ --- ┆ ---   ┆   ┆ --- ┆ --- ┆ ---  ┆ ---  │\n",
       "│ str               ┆ f64  ┆ i64 ┆ f64   ┆   ┆ i64 ┆ i64 ┆ i64  ┆ i64  │\n",
       "╞═══════════════════╪══════╪═════╪═══════╪═══╪═════╪═════╪══════╪══════╡\n",
       "│ Mazda RX4         ┆ 21.0 ┆ 6   ┆ 160.0 ┆ … ┆ 0   ┆ 1   ┆ 4    ┆ 4    │\n",
       "│ Mazda RX4 Wag     ┆ 21.0 ┆ 6   ┆ 160.0 ┆ … ┆ 0   ┆ 1   ┆ 4    ┆ 4    │\n",
       "│ Datsun 710        ┆ 22.8 ┆ 4   ┆ 108.0 ┆ … ┆ 1   ┆ 1   ┆ 4    ┆ 1    │\n",
       "│ Hornet 4 Drive    ┆ 21.4 ┆ 6   ┆ 258.0 ┆ … ┆ 1   ┆ 0   ┆ 3    ┆ 1    │\n",
       "│ Hornet Sportabout ┆ 18.7 ┆ 8   ┆ 360.0 ┆ … ┆ 0   ┆ 0   ┆ 3    ┆ 2    │\n",
       "└───────────────────┴──────┴─────┴───────┴───┴─────┴─────┴──────┴──────┘"
      ]
     },
     "execution_count": 33,
     "metadata": {},
     "output_type": "execute_result"
    }
   ],
   "source": [
    "# \"https://gist.githubusercontent.com/seankross/a412dfbd88b3db70b74b/raw/5f23f993cd87c283ce766e7ac6b329ee7cc2e1d1/mtcars.csv\"\n",
    "cars = pl.read_csv('Data_files/cars.csv')\n",
    "cars.head()"
   ]
  },
  {
   "cell_type": "code",
   "execution_count": 34,
   "metadata": {},
   "outputs": [
    {
     "data": {
      "text/html": [
       "<div><style>\n",
       ".dataframe > thead > tr,\n",
       ".dataframe > tbody > tr {\n",
       "  text-align: right;\n",
       "  white-space: pre-wrap;\n",
       "}\n",
       "</style>\n",
       "<small>shape: (3, 5)</small><table border=\"1\" class=\"dataframe\"><thead><tr><th>cyl</th><th>disp</th><th>hp</th><th>drat</th><th>wt</th></tr><tr><td>i64</td><td>f64</td><td>f64</td><td>f64</td><td>f64</td></tr></thead><tbody><tr><td>4</td><td>105.136364</td><td>82.636364</td><td>44.78</td><td>25.143</td></tr><tr><td>8</td><td>353.1</td><td>209.214286</td><td>45.21</td><td>55.989</td></tr><tr><td>6</td><td>183.314286</td><td>122.285714</td><td>25.1</td><td>21.82</td></tr></tbody></table></div>"
      ],
      "text/plain": [
       "shape: (3, 5)\n",
       "┌─────┬────────────┬────────────┬───────┬────────┐\n",
       "│ cyl ┆ disp       ┆ hp         ┆ drat  ┆ wt     │\n",
       "│ --- ┆ ---        ┆ ---        ┆ ---   ┆ ---    │\n",
       "│ i64 ┆ f64        ┆ f64        ┆ f64   ┆ f64    │\n",
       "╞═════╪════════════╪════════════╪═══════╪════════╡\n",
       "│ 4   ┆ 105.136364 ┆ 82.636364  ┆ 44.78 ┆ 25.143 │\n",
       "│ 8   ┆ 353.1      ┆ 209.214286 ┆ 45.21 ┆ 55.989 │\n",
       "│ 6   ┆ 183.314286 ┆ 122.285714 ┆ 25.1  ┆ 21.82  │\n",
       "└─────┴────────────┴────────────┴───────┴────────┘"
      ]
     },
     "execution_count": 34,
     "metadata": {},
     "output_type": "execute_result"
    }
   ],
   "source": [
    "# dplyr:\n",
    "# dat <- group_by(mtcars, cyl)\n",
    "# summarize(dat, across(ends_with('p'), sum), across(ends_with('t'), mean))\n",
    "cars.group_by('cyl').agg(cs.ends_with('p').mean(), cs.ends_with('t').sum())"
   ]
  },
  {
   "cell_type": "markdown",
   "metadata": {},
   "source": [
    "## Comments\n",
    "<script src=\"https://utteranc.es/client.js\"\n",
    "        repo=\"samukweku/data-wrangling-blog\"\n",
    "        issue-term=\"title\"\n",
    "        theme=\"github-light\"\n",
    "        crossorigin=\"anonymous\"\n",
    "        async>\n",
    "</script>"
   ]
  }
 ],
 "metadata": {
  "jupytext": {
   "formats": "ipynb,md"
  },
  "kernelspec": {
   "display_name": "blogger",
   "language": "python",
   "name": "python3"
  },
  "language_info": {
   "codemirror_mode": {
    "name": "ipython",
    "version": 3
   },
   "file_extension": ".py",
   "mimetype": "text/x-python",
   "name": "python",
   "nbconvert_exporter": "python",
   "pygments_lexer": "ipython3",
   "version": "3.10.14"
  }
 },
 "nbformat": 4,
 "nbformat_minor": 4
}
