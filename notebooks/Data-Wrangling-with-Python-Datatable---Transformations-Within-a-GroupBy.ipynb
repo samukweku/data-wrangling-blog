{
 "cells": [
  {
   "attachments": {},
   "cell_type": "markdown",
   "metadata": {},
   "source": [
    "# Data Wrangling with Python Datatable - Transformations Within a GroupBy"
   ]
  },
  {
   "cell_type": "markdown",
   "metadata": {},
   "source": [
    "#### [Link to Source data](https://stackoverflow.com/questions/65602458/create-a-new-column-in-pandas-dataframe-based-on-the-filetered-values-in-the-row)"
   ]
  },
  {
   "cell_type": "markdown",
   "metadata": {},
   "source": [
    "Task: Group data by `Date` and `Zip` and get the ratio of Price to maximum Price per group."
   ]
  },
  {
   "cell_type": "code",
   "execution_count": 3,
   "metadata": {},
   "outputs": [
    {
     "data": {
      "text/html": [
       "<div class='datatable'>\n",
       "  <table class='frame'>\n",
       "  <thead>\n",
       "    <tr class='colnames'><td class='row_index'></td><th>Date</th><th>Zip</th><th>Price</th></tr>\n",
       "    <tr class='coltypes'><td class='row_index'></td><td class='str' title='str32'>&#x25AA;&#x25AA;&#x25AA;&#x25AA;</td><td class='int' title='int32'>&#x25AA;&#x25AA;&#x25AA;&#x25AA;</td><td class='float' title='float64'>&#x25AA;&#x25AA;&#x25AA;&#x25AA;&#x25AA;&#x25AA;&#x25AA;&#x25AA;</td></tr>\n",
       "  </thead>\n",
       "  <tbody>\n",
       "    <tr><td class='row_index'>0</td><td>2019-01-01</td><td>90102</td><td>58.02</td></tr>\n",
       "    <tr><td class='row_index'>1</td><td>2019-01-01</td><td>90102</td><td>81.55</td></tr>\n",
       "    <tr><td class='row_index'>2</td><td>2019-01-01</td><td>90102</td><td>11.97</td></tr>\n",
       "    <tr><td class='row_index'>3</td><td>2019-01-01</td><td>90102</td><td>93.23</td></tr>\n",
       "    <tr><td class='row_index'>4</td><td>2019-01-01</td><td>90103</td><td>13.68</td></tr>\n",
       "  </tbody>\n",
       "  </table>\n",
       "  <div class='footer'>\n",
       "    <div class='frame_dimensions'>5 rows &times; 3 columns</div>\n",
       "  </div>\n",
       "</div>\n"
      ],
      "text/plain": [
       "<Frame#7f122020cc30 5x3>"
      ]
     },
     "execution_count": 3,
     "metadata": {},
     "output_type": "execute_result"
    }
   ],
   "source": [
    "from datatable import dt, f, update, by\n",
    "\n",
    "df = dt.Frame(\n",
    "    {\n",
    "        \"Date\": [\"2019-01-01\", \"2019-01-01\", \"2019-01-01\", \"2019-01-01\", \"2019-01-01\"],\n",
    "        \"Zip\": [90102, 90102, 90102, 90102, 90103],\n",
    "        \"Price\": [58.02, 81.55, 11.97, 93.23, 13.68],\n",
    "    }\n",
    ")\n",
    "\n",
    "\n",
    "df"
   ]
  },
  {
   "cell_type": "markdown",
   "metadata": {},
   "source": [
    "**SOLUTION**"
   ]
  },
  {
   "cell_type": "code",
   "execution_count": 4,
   "metadata": {},
   "outputs": [
    {
     "data": {
      "text/html": [
       "<div class='datatable'>\n",
       "  <table class='frame'>\n",
       "  <thead>\n",
       "    <tr class='colnames'><td class='row_index'></td><th>Date</th><th>Zip</th><th>Price</th><th>Ratio</th></tr>\n",
       "    <tr class='coltypes'><td class='row_index'></td><td class='str' title='str32'>&#x25AA;&#x25AA;&#x25AA;&#x25AA;</td><td class='int' title='int32'>&#x25AA;&#x25AA;&#x25AA;&#x25AA;</td><td class='float' title='float64'>&#x25AA;&#x25AA;&#x25AA;&#x25AA;&#x25AA;&#x25AA;&#x25AA;&#x25AA;</td><td class='float' title='float64'>&#x25AA;&#x25AA;&#x25AA;&#x25AA;&#x25AA;&#x25AA;&#x25AA;&#x25AA;</td></tr>\n",
       "  </thead>\n",
       "  <tbody>\n",
       "    <tr><td class='row_index'>0</td><td>2019-01-01</td><td>90102</td><td>58.02</td><td>0.622332</td></tr>\n",
       "    <tr><td class='row_index'>1</td><td>2019-01-01</td><td>90102</td><td>81.55</td><td>0.874718</td></tr>\n",
       "    <tr><td class='row_index'>2</td><td>2019-01-01</td><td>90102</td><td>11.97</td><td>0.128392</td></tr>\n",
       "    <tr><td class='row_index'>3</td><td>2019-01-01</td><td>90102</td><td>93.23</td><td>1</td></tr>\n",
       "    <tr><td class='row_index'>4</td><td>2019-01-01</td><td>90103</td><td>13.68</td><td>1</td></tr>\n",
       "  </tbody>\n",
       "  </table>\n",
       "  <div class='footer'>\n",
       "    <div class='frame_dimensions'>5 rows &times; 4 columns</div>\n",
       "  </div>\n",
       "</div>\n"
      ],
      "text/plain": [
       "<Frame#7f122020cc30 5x4>"
      ]
     },
     "execution_count": 4,
     "metadata": {},
     "output_type": "execute_result"
    }
   ],
   "source": [
    "df[:, update(Ratio=f.Price / f.Price.max()), by(\"Date\", \"Zip\")]\n",
    "df"
   ]
  },
  {
   "cell_type": "markdown",
   "metadata": {},
   "source": [
    "Resources: \n",
    "- [update](https://datatable.readthedocs.io/en/latest/api/dt/update.html#)\n",
    "\n",
    "- [Grouping with by documentation](https://datatable.readthedocs.io/en/latest/manual/groupby_examples.html)"
   ]
  },
  {
   "cell_type": "markdown",
   "metadata": {},
   "source": [
    "## Comments\n",
    "<script src=\"https://utteranc.es/client.js\"\n",
    "        repo=\"samukweku/data-wrangling-blog\"\n",
    "        issue-term=\"title\"\n",
    "        theme=\"github-light\"\n",
    "        crossorigin=\"anonymous\"\n",
    "        async>\n",
    "</script>"
   ]
  }
 ],
 "metadata": {
  "kernelspec": {
   "display_name": "Python 3",
   "language": "python",
   "name": "python3"
  },
  "language_info": {
   "codemirror_mode": {
    "name": "ipython",
    "version": 3
   },
   "file_extension": ".py",
   "mimetype": "text/x-python",
   "name": "python",
   "nbconvert_exporter": "python",
   "pygments_lexer": "ipython3",
   "version": "3.9.18"
  }
 },
 "nbformat": 4,
 "nbformat_minor": 4
}
