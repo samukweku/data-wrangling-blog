{
 "cells": [
  {
   "attachments": {},
   "cell_type": "markdown",
   "metadata": {},
   "source": [
    "# Reshape Data in Polars Efficiently from Wide to Long Form - Part II"
   ]
  },
  {
   "cell_type": "markdown",
   "metadata": {},
   "source": [
    "## **Introduction**"
   ]
  },
  {
   "cell_type": "markdown",
   "metadata": {},
   "source": [
    "In a [previous blogpost](Reshape-Data-in-Polars-Wide-to_Long-Part-I.ipynb), we explored various scenarios when reshaping a DataFrame from wide to long form.\n",
    "\n",
    "This article focuses on reshaping efficiently, especially for large datasets, where some post processing is done after [unpivoting](https://docs.pola.rs/api/python/stable/reference/dataframe/api/polars.DataFrame.unpivot.html#polars.DataFrame.unpivot). \n",
    "\n",
    "For the most part, we will reuse the datasets used in the [previous blogpost](Reshape-Data-in-Polars-Wide-to_Long-Part-I.ipynb).\n",
    "\n",
    "Polars' [eager API](https://docs.pola.rs/api/python/stable/reference/dataframe/index.html) is used in the examples below; for more performance, or in production mode, it is recommended to use the [lazy API](https://docs.pola.rs/api/python/stable/reference/lazyframe/index.html).\n",
    "\n",
    "The examples are broken down in a line by line approach, instead of a chainable form, for illustration purposes - this way we can clearly identify what sections of the code have the biggest impact on performance.\n",
    "\n",
    "Caveat: Do not optimise prematurely, or rather optimise only if you need to."
   ]
  },
  {
   "cell_type": "code",
   "execution_count": 35,
   "metadata": {},
   "outputs": [
    {
     "name": "stdout",
     "output_type": "stream",
     "text": [
      "polars version : 1.7.1\n",
      "python version : 3.10.14 | packaged by conda-forge | (main, Mar 20 2024, 12:51:49) [Clang 16.0.6 ]\n"
     ]
    }
   ],
   "source": [
    "import polars as pl\n",
    "import sys\n",
    "\n",
    "print(\"polars version :\", pl.__version__)\n",
    "print(\"python version :\", sys.version)"
   ]
  },
  {
   "cell_type": "markdown",
   "metadata": {},
   "source": [
    "(Many-variables-in-column-names)=\n",
    "## **Many variables in column names**"
   ]
  },
  {
   "cell_type": "code",
   "execution_count": 36,
   "metadata": {},
   "outputs": [
    {
     "data": {
      "text/html": [
       "<div><style>\n",
       ".dataframe > thead > tr,\n",
       ".dataframe > tbody > tr {\n",
       "  text-align: right;\n",
       "  white-space: pre-wrap;\n",
       "}\n",
       "</style>\n",
       "<small>shape: (7_240, 60)</small><table border=\"1\" class=\"dataframe\"><thead><tr><th>country</th><th>iso2</th><th>iso3</th><th>year</th><th>new_sp_m014</th><th>new_sp_m1524</th><th>new_sp_m2534</th><th>new_sp_m3544</th><th>new_sp_m4554</th><th>new_sp_m5564</th><th>new_sp_m65</th><th>new_sp_f014</th><th>new_sp_f1524</th><th>new_sp_f2534</th><th>new_sp_f3544</th><th>new_sp_f4554</th><th>new_sp_f5564</th><th>new_sp_f65</th><th>new_sn_m014</th><th>new_sn_m1524</th><th>new_sn_m2534</th><th>new_sn_m3544</th><th>new_sn_m4554</th><th>new_sn_m5564</th><th>new_sn_m65</th><th>new_sn_f014</th><th>new_sn_f1524</th><th>new_sn_f2534</th><th>new_sn_f3544</th><th>new_sn_f4554</th><th>new_sn_f5564</th><th>new_sn_f65</th><th>new_ep_m014</th><th>new_ep_m1524</th><th>new_ep_m2534</th><th>new_ep_m3544</th><th>new_ep_m4554</th><th>new_ep_m5564</th><th>new_ep_m65</th><th>new_ep_f014</th><th>new_ep_f1524</th><th>new_ep_f2534</th><th>new_ep_f3544</th><th>new_ep_f4554</th><th>new_ep_f5564</th><th>new_ep_f65</th><th>newrel_m014</th><th>newrel_m1524</th><th>newrel_m2534</th><th>newrel_m3544</th><th>newrel_m4554</th><th>newrel_m5564</th><th>newrel_m65</th><th>newrel_f014</th><th>newrel_f1524</th><th>newrel_f2534</th><th>newrel_f3544</th><th>newrel_f4554</th><th>newrel_f5564</th><th>newrel_f65</th></tr><tr><td>str</td><td>str</td><td>str</td><td>i64</td><td>i64</td><td>i64</td><td>i64</td><td>i64</td><td>i64</td><td>i64</td><td>i64</td><td>i64</td><td>i64</td><td>i64</td><td>i64</td><td>i64</td><td>i64</td><td>i64</td><td>i64</td><td>i64</td><td>i64</td><td>i64</td><td>i64</td><td>i64</td><td>i64</td><td>i64</td><td>i64</td><td>i64</td><td>i64</td><td>i64</td><td>i64</td><td>i64</td><td>i64</td><td>i64</td><td>i64</td><td>i64</td><td>i64</td><td>i64</td><td>i64</td><td>i64</td><td>i64</td><td>i64</td><td>i64</td><td>i64</td><td>i64</td><td>i64</td><td>i64</td><td>i64</td><td>i64</td><td>i64</td><td>i64</td><td>i64</td><td>i64</td><td>i64</td><td>i64</td><td>i64</td><td>i64</td><td>i64</td><td>i64</td><td>i64</td></tr></thead><tbody><tr><td>&quot;Afghanistan&quot;</td><td>&quot;AF&quot;</td><td>&quot;AFG&quot;</td><td>1980</td><td>null</td><td>null</td><td>null</td><td>null</td><td>null</td><td>null</td><td>null</td><td>null</td><td>null</td><td>null</td><td>null</td><td>null</td><td>null</td><td>null</td><td>null</td><td>null</td><td>null</td><td>null</td><td>null</td><td>null</td><td>null</td><td>null</td><td>null</td><td>null</td><td>null</td><td>null</td><td>null</td><td>null</td><td>null</td><td>null</td><td>null</td><td>null</td><td>null</td><td>null</td><td>null</td><td>null</td><td>null</td><td>null</td><td>null</td><td>null</td><td>null</td><td>null</td><td>null</td><td>null</td><td>null</td><td>null</td><td>null</td><td>null</td><td>null</td><td>null</td><td>null</td><td>null</td><td>null</td><td>null</td><td>null</td><td>null</td></tr><tr><td>&quot;Afghanistan&quot;</td><td>&quot;AF&quot;</td><td>&quot;AFG&quot;</td><td>1981</td><td>null</td><td>null</td><td>null</td><td>null</td><td>null</td><td>null</td><td>null</td><td>null</td><td>null</td><td>null</td><td>null</td><td>null</td><td>null</td><td>null</td><td>null</td><td>null</td><td>null</td><td>null</td><td>null</td><td>null</td><td>null</td><td>null</td><td>null</td><td>null</td><td>null</td><td>null</td><td>null</td><td>null</td><td>null</td><td>null</td><td>null</td><td>null</td><td>null</td><td>null</td><td>null</td><td>null</td><td>null</td><td>null</td><td>null</td><td>null</td><td>null</td><td>null</td><td>null</td><td>null</td><td>null</td><td>null</td><td>null</td><td>null</td><td>null</td><td>null</td><td>null</td><td>null</td><td>null</td><td>null</td><td>null</td><td>null</td></tr><tr><td>&quot;Afghanistan&quot;</td><td>&quot;AF&quot;</td><td>&quot;AFG&quot;</td><td>1982</td><td>null</td><td>null</td><td>null</td><td>null</td><td>null</td><td>null</td><td>null</td><td>null</td><td>null</td><td>null</td><td>null</td><td>null</td><td>null</td><td>null</td><td>null</td><td>null</td><td>null</td><td>null</td><td>null</td><td>null</td><td>null</td><td>null</td><td>null</td><td>null</td><td>null</td><td>null</td><td>null</td><td>null</td><td>null</td><td>null</td><td>null</td><td>null</td><td>null</td><td>null</td><td>null</td><td>null</td><td>null</td><td>null</td><td>null</td><td>null</td><td>null</td><td>null</td><td>null</td><td>null</td><td>null</td><td>null</td><td>null</td><td>null</td><td>null</td><td>null</td><td>null</td><td>null</td><td>null</td><td>null</td><td>null</td><td>null</td></tr><tr><td>&quot;Afghanistan&quot;</td><td>&quot;AF&quot;</td><td>&quot;AFG&quot;</td><td>1983</td><td>null</td><td>null</td><td>null</td><td>null</td><td>null</td><td>null</td><td>null</td><td>null</td><td>null</td><td>null</td><td>null</td><td>null</td><td>null</td><td>null</td><td>null</td><td>null</td><td>null</td><td>null</td><td>null</td><td>null</td><td>null</td><td>null</td><td>null</td><td>null</td><td>null</td><td>null</td><td>null</td><td>null</td><td>null</td><td>null</td><td>null</td><td>null</td><td>null</td><td>null</td><td>null</td><td>null</td><td>null</td><td>null</td><td>null</td><td>null</td><td>null</td><td>null</td><td>null</td><td>null</td><td>null</td><td>null</td><td>null</td><td>null</td><td>null</td><td>null</td><td>null</td><td>null</td><td>null</td><td>null</td><td>null</td><td>null</td></tr><tr><td>&quot;Afghanistan&quot;</td><td>&quot;AF&quot;</td><td>&quot;AFG&quot;</td><td>1984</td><td>null</td><td>null</td><td>null</td><td>null</td><td>null</td><td>null</td><td>null</td><td>null</td><td>null</td><td>null</td><td>null</td><td>null</td><td>null</td><td>null</td><td>null</td><td>null</td><td>null</td><td>null</td><td>null</td><td>null</td><td>null</td><td>null</td><td>null</td><td>null</td><td>null</td><td>null</td><td>null</td><td>null</td><td>null</td><td>null</td><td>null</td><td>null</td><td>null</td><td>null</td><td>null</td><td>null</td><td>null</td><td>null</td><td>null</td><td>null</td><td>null</td><td>null</td><td>null</td><td>null</td><td>null</td><td>null</td><td>null</td><td>null</td><td>null</td><td>null</td><td>null</td><td>null</td><td>null</td><td>null</td><td>null</td><td>null</td></tr><tr><td>&hellip;</td><td>&hellip;</td><td>&hellip;</td><td>&hellip;</td><td>&hellip;</td><td>&hellip;</td><td>&hellip;</td><td>&hellip;</td><td>&hellip;</td><td>&hellip;</td><td>&hellip;</td><td>&hellip;</td><td>&hellip;</td><td>&hellip;</td><td>&hellip;</td><td>&hellip;</td><td>&hellip;</td><td>&hellip;</td><td>&hellip;</td><td>&hellip;</td><td>&hellip;</td><td>&hellip;</td><td>&hellip;</td><td>&hellip;</td><td>&hellip;</td><td>&hellip;</td><td>&hellip;</td><td>&hellip;</td><td>&hellip;</td><td>&hellip;</td><td>&hellip;</td><td>&hellip;</td><td>&hellip;</td><td>&hellip;</td><td>&hellip;</td><td>&hellip;</td><td>&hellip;</td><td>&hellip;</td><td>&hellip;</td><td>&hellip;</td><td>&hellip;</td><td>&hellip;</td><td>&hellip;</td><td>&hellip;</td><td>&hellip;</td><td>&hellip;</td><td>&hellip;</td><td>&hellip;</td><td>&hellip;</td><td>&hellip;</td><td>&hellip;</td><td>&hellip;</td><td>&hellip;</td><td>&hellip;</td><td>&hellip;</td><td>&hellip;</td><td>&hellip;</td><td>&hellip;</td><td>&hellip;</td><td>&hellip;</td></tr><tr><td>&quot;Zimbabwe&quot;</td><td>&quot;ZW&quot;</td><td>&quot;ZWE&quot;</td><td>2009</td><td>125</td><td>578</td><td>null</td><td>3471</td><td>681</td><td>293</td><td>192</td><td>180</td><td>873</td><td>null</td><td>3028</td><td>419</td><td>229</td><td>126</td><td>1560</td><td>860</td><td>null</td><td>6496</td><td>1655</td><td>882</td><td>861</td><td>1425</td><td>1334</td><td>null</td><td>7023</td><td>1551</td><td>729</td><td>514</td><td>244</td><td>266</td><td>0</td><td>1922</td><td>491</td><td>231</td><td>223</td><td>210</td><td>394</td><td>0</td><td>1944</td><td>438</td><td>182</td><td>138</td><td>null</td><td>null</td><td>null</td><td>null</td><td>null</td><td>null</td><td>null</td><td>null</td><td>null</td><td>null</td><td>null</td><td>null</td><td>null</td><td>null</td></tr><tr><td>&quot;Zimbabwe&quot;</td><td>&quot;ZW&quot;</td><td>&quot;ZWE&quot;</td><td>2010</td><td>150</td><td>710</td><td>2208</td><td>1682</td><td>761</td><td>350</td><td>252</td><td>173</td><td>974</td><td>2185</td><td>1283</td><td>490</td><td>265</td><td>171</td><td>1826</td><td>821</td><td>3342</td><td>3270</td><td>1545</td><td>882</td><td>864</td><td>1732</td><td>1282</td><td>4013</td><td>2851</td><td>1377</td><td>789</td><td>563</td><td>270</td><td>243</td><td>902</td><td>868</td><td>418</td><td>229</td><td>192</td><td>220</td><td>319</td><td>1058</td><td>677</td><td>338</td><td>181</td><td>146</td><td>null</td><td>null</td><td>null</td><td>null</td><td>null</td><td>null</td><td>null</td><td>null</td><td>null</td><td>null</td><td>null</td><td>null</td><td>null</td><td>null</td></tr><tr><td>&quot;Zimbabwe&quot;</td><td>&quot;ZW&quot;</td><td>&quot;ZWE&quot;</td><td>2011</td><td>152</td><td>784</td><td>2467</td><td>2071</td><td>780</td><td>377</td><td>278</td><td>174</td><td>1084</td><td>2161</td><td>1386</td><td>448</td><td>274</td><td>160</td><td>1364</td><td>596</td><td>2473</td><td>2813</td><td>1264</td><td>702</td><td>728</td><td>1271</td><td>947</td><td>2754</td><td>2216</td><td>962</td><td>587</td><td>495</td><td>250</td><td>195</td><td>746</td><td>796</td><td>342</td><td>172</td><td>172</td><td>209</td><td>318</td><td>802</td><td>640</td><td>284</td><td>137</td><td>129</td><td>null</td><td>null</td><td>null</td><td>null</td><td>null</td><td>null</td><td>null</td><td>null</td><td>null</td><td>null</td><td>null</td><td>null</td><td>null</td><td>null</td></tr><tr><td>&quot;Zimbabwe&quot;</td><td>&quot;ZW&quot;</td><td>&quot;ZWE&quot;</td><td>2012</td><td>120</td><td>783</td><td>2421</td><td>2086</td><td>796</td><td>360</td><td>271</td><td>173</td><td>939</td><td>2053</td><td>1286</td><td>483</td><td>231</td><td>161</td><td>1169</td><td>613</td><td>2302</td><td>2657</td><td>1154</td><td>708</td><td>796</td><td>1008</td><td>888</td><td>2287</td><td>1957</td><td>829</td><td>516</td><td>432</td><td>233</td><td>214</td><td>658</td><td>789</td><td>331</td><td>178</td><td>182</td><td>208</td><td>319</td><td>710</td><td>579</td><td>228</td><td>140</td><td>143</td><td>null</td><td>null</td><td>null</td><td>null</td><td>null</td><td>null</td><td>null</td><td>null</td><td>null</td><td>null</td><td>null</td><td>null</td><td>null</td><td>null</td></tr><tr><td>&quot;Zimbabwe&quot;</td><td>&quot;ZW&quot;</td><td>&quot;ZWE&quot;</td><td>2013</td><td>null</td><td>null</td><td>null</td><td>null</td><td>null</td><td>null</td><td>null</td><td>null</td><td>null</td><td>null</td><td>null</td><td>null</td><td>null</td><td>null</td><td>null</td><td>null</td><td>null</td><td>null</td><td>null</td><td>null</td><td>null</td><td>null</td><td>null</td><td>null</td><td>null</td><td>null</td><td>null</td><td>null</td><td>null</td><td>null</td><td>null</td><td>null</td><td>null</td><td>null</td><td>null</td><td>null</td><td>null</td><td>null</td><td>null</td><td>null</td><td>null</td><td>null</td><td>1315</td><td>1642</td><td>5331</td><td>5363</td><td>2349</td><td>1206</td><td>1208</td><td>1252</td><td>2069</td><td>4649</td><td>3526</td><td>1453</td><td>811</td><td>725</td></tr></tbody></table></div>"
      ],
      "text/plain": [
       "shape: (7_240, 60)\n",
       "┌─────────────┬──────┬──────┬──────┬───┬──────────────┬──────────────┬──────────────┬────────────┐\n",
       "│ country     ┆ iso2 ┆ iso3 ┆ year ┆ … ┆ newrel_f3544 ┆ newrel_f4554 ┆ newrel_f5564 ┆ newrel_f65 │\n",
       "│ ---         ┆ ---  ┆ ---  ┆ ---  ┆   ┆ ---          ┆ ---          ┆ ---          ┆ ---        │\n",
       "│ str         ┆ str  ┆ str  ┆ i64  ┆   ┆ i64          ┆ i64          ┆ i64          ┆ i64        │\n",
       "╞═════════════╪══════╪══════╪══════╪═══╪══════════════╪══════════════╪══════════════╪════════════╡\n",
       "│ Afghanistan ┆ AF   ┆ AFG  ┆ 1980 ┆ … ┆ null         ┆ null         ┆ null         ┆ null       │\n",
       "│ Afghanistan ┆ AF   ┆ AFG  ┆ 1981 ┆ … ┆ null         ┆ null         ┆ null         ┆ null       │\n",
       "│ Afghanistan ┆ AF   ┆ AFG  ┆ 1982 ┆ … ┆ null         ┆ null         ┆ null         ┆ null       │\n",
       "│ Afghanistan ┆ AF   ┆ AFG  ┆ 1983 ┆ … ┆ null         ┆ null         ┆ null         ┆ null       │\n",
       "│ Afghanistan ┆ AF   ┆ AFG  ┆ 1984 ┆ … ┆ null         ┆ null         ┆ null         ┆ null       │\n",
       "│ …           ┆ …    ┆ …    ┆ …    ┆ … ┆ …            ┆ …            ┆ …            ┆ …          │\n",
       "│ Zimbabwe    ┆ ZW   ┆ ZWE  ┆ 2009 ┆ … ┆ null         ┆ null         ┆ null         ┆ null       │\n",
       "│ Zimbabwe    ┆ ZW   ┆ ZWE  ┆ 2010 ┆ … ┆ null         ┆ null         ┆ null         ┆ null       │\n",
       "│ Zimbabwe    ┆ ZW   ┆ ZWE  ┆ 2011 ┆ … ┆ null         ┆ null         ┆ null         ┆ null       │\n",
       "│ Zimbabwe    ┆ ZW   ┆ ZWE  ┆ 2012 ┆ … ┆ null         ┆ null         ┆ null         ┆ null       │\n",
       "│ Zimbabwe    ┆ ZW   ┆ ZWE  ┆ 2013 ┆ … ┆ 3526         ┆ 1453         ┆ 811          ┆ 725        │\n",
       "└─────────────┴──────┴──────┴──────┴───┴──────────────┴──────────────┴──────────────┴────────────┘"
      ]
     },
     "execution_count": 36,
     "metadata": {},
     "output_type": "execute_result"
    }
   ],
   "source": [
    "who = pl.read_csv(\"./Data_files/who.csv\", null_values=\"NA\")\n",
    "who"
   ]
  },
  {
   "cell_type": "markdown",
   "metadata": {},
   "source": [
    "In the [previous blogpost](Reshape-Data-in-Polars-Wide-to_Long-Part-I.ipynb), we flipped to long form using the code below:"
   ]
  },
  {
   "cell_type": "code",
   "execution_count": 37,
   "metadata": {},
   "outputs": [
    {
     "data": {
      "text/html": [
       "<div><style>\n",
       ".dataframe > thead > tr,\n",
       ".dataframe > tbody > tr {\n",
       "  text-align: right;\n",
       "  white-space: pre-wrap;\n",
       "}\n",
       "</style>\n",
       "<small>shape: (405_440, 8)</small><table border=\"1\" class=\"dataframe\"><thead><tr><th>country</th><th>iso2</th><th>iso3</th><th>year</th><th>diagnosis</th><th>gender</th><th>age</th><th>count</th></tr><tr><td>str</td><td>str</td><td>str</td><td>i64</td><td>str</td><td>str</td><td>str</td><td>i32</td></tr></thead><tbody><tr><td>&quot;Afghanistan&quot;</td><td>&quot;AF&quot;</td><td>&quot;AFG&quot;</td><td>1980</td><td>&quot;sp&quot;</td><td>&quot;m&quot;</td><td>&quot;014&quot;</td><td>null</td></tr><tr><td>&quot;Afghanistan&quot;</td><td>&quot;AF&quot;</td><td>&quot;AFG&quot;</td><td>1981</td><td>&quot;sp&quot;</td><td>&quot;m&quot;</td><td>&quot;014&quot;</td><td>null</td></tr><tr><td>&quot;Afghanistan&quot;</td><td>&quot;AF&quot;</td><td>&quot;AFG&quot;</td><td>1982</td><td>&quot;sp&quot;</td><td>&quot;m&quot;</td><td>&quot;014&quot;</td><td>null</td></tr><tr><td>&quot;Afghanistan&quot;</td><td>&quot;AF&quot;</td><td>&quot;AFG&quot;</td><td>1983</td><td>&quot;sp&quot;</td><td>&quot;m&quot;</td><td>&quot;014&quot;</td><td>null</td></tr><tr><td>&quot;Afghanistan&quot;</td><td>&quot;AF&quot;</td><td>&quot;AFG&quot;</td><td>1984</td><td>&quot;sp&quot;</td><td>&quot;m&quot;</td><td>&quot;014&quot;</td><td>null</td></tr><tr><td>&hellip;</td><td>&hellip;</td><td>&hellip;</td><td>&hellip;</td><td>&hellip;</td><td>&hellip;</td><td>&hellip;</td><td>&hellip;</td></tr><tr><td>&quot;Zimbabwe&quot;</td><td>&quot;ZW&quot;</td><td>&quot;ZWE&quot;</td><td>2009</td><td>&quot;rel&quot;</td><td>&quot;f&quot;</td><td>&quot;65&quot;</td><td>null</td></tr><tr><td>&quot;Zimbabwe&quot;</td><td>&quot;ZW&quot;</td><td>&quot;ZWE&quot;</td><td>2010</td><td>&quot;rel&quot;</td><td>&quot;f&quot;</td><td>&quot;65&quot;</td><td>null</td></tr><tr><td>&quot;Zimbabwe&quot;</td><td>&quot;ZW&quot;</td><td>&quot;ZWE&quot;</td><td>2011</td><td>&quot;rel&quot;</td><td>&quot;f&quot;</td><td>&quot;65&quot;</td><td>null</td></tr><tr><td>&quot;Zimbabwe&quot;</td><td>&quot;ZW&quot;</td><td>&quot;ZWE&quot;</td><td>2012</td><td>&quot;rel&quot;</td><td>&quot;f&quot;</td><td>&quot;65&quot;</td><td>null</td></tr><tr><td>&quot;Zimbabwe&quot;</td><td>&quot;ZW&quot;</td><td>&quot;ZWE&quot;</td><td>2013</td><td>&quot;rel&quot;</td><td>&quot;f&quot;</td><td>&quot;65&quot;</td><td>725</td></tr></tbody></table></div>"
      ],
      "text/plain": [
       "shape: (405_440, 8)\n",
       "┌─────────────┬──────┬──────┬──────┬───────────┬────────┬─────┬───────┐\n",
       "│ country     ┆ iso2 ┆ iso3 ┆ year ┆ diagnosis ┆ gender ┆ age ┆ count │\n",
       "│ ---         ┆ ---  ┆ ---  ┆ ---  ┆ ---       ┆ ---    ┆ --- ┆ ---   │\n",
       "│ str         ┆ str  ┆ str  ┆ i64  ┆ str       ┆ str    ┆ str ┆ i32   │\n",
       "╞═════════════╪══════╪══════╪══════╪═══════════╪════════╪═════╪═══════╡\n",
       "│ Afghanistan ┆ AF   ┆ AFG  ┆ 1980 ┆ sp        ┆ m      ┆ 014 ┆ null  │\n",
       "│ Afghanistan ┆ AF   ┆ AFG  ┆ 1981 ┆ sp        ┆ m      ┆ 014 ┆ null  │\n",
       "│ Afghanistan ┆ AF   ┆ AFG  ┆ 1982 ┆ sp        ┆ m      ┆ 014 ┆ null  │\n",
       "│ Afghanistan ┆ AF   ┆ AFG  ┆ 1983 ┆ sp        ┆ m      ┆ 014 ┆ null  │\n",
       "│ Afghanistan ┆ AF   ┆ AFG  ┆ 1984 ┆ sp        ┆ m      ┆ 014 ┆ null  │\n",
       "│ …           ┆ …    ┆ …    ┆ …    ┆ …         ┆ …      ┆ …   ┆ …     │\n",
       "│ Zimbabwe    ┆ ZW   ┆ ZWE  ┆ 2009 ┆ rel       ┆ f      ┆ 65  ┆ null  │\n",
       "│ Zimbabwe    ┆ ZW   ┆ ZWE  ┆ 2010 ┆ rel       ┆ f      ┆ 65  ┆ null  │\n",
       "│ Zimbabwe    ┆ ZW   ┆ ZWE  ┆ 2011 ┆ rel       ┆ f      ┆ 65  ┆ null  │\n",
       "│ Zimbabwe    ┆ ZW   ┆ ZWE  ┆ 2012 ┆ rel       ┆ f      ┆ 65  ┆ null  │\n",
       "│ Zimbabwe    ┆ ZW   ┆ ZWE  ┆ 2013 ┆ rel       ┆ f      ┆ 65  ┆ 725   │\n",
       "└─────────────┴──────┴──────┴──────┴───────────┴────────┴─────┴───────┘"
      ]
     },
     "execution_count": 37,
     "metadata": {},
     "output_type": "execute_result"
    }
   ],
   "source": [
    "regex = r\"new_?(?<diagnosis>.*)_(?<gender>.)(?<age>.*)\"\n",
    "expression = pl.col(\"variable\").str.extract_groups(regex)\n",
    "out_naive = (\n",
    "    who.unpivot(\n",
    "        index=[\"country\", \"iso2\", \"iso3\", \"year\"],\n",
    "        value_name=\"count\",\n",
    "    )\n",
    "    .with_columns(variable=expression)\n",
    "    .unnest(\"variable\")\n",
    "    .cast({\"count\": pl.Int32})\n",
    ")\n",
    "\n",
    "out_naive"
   ]
  },
  {
   "cell_type": "code",
   "execution_count": 38,
   "metadata": {},
   "outputs": [
    {
     "name": "stdout",
     "output_type": "stream",
     "text": [
      "101 ms ± 230 μs per loop (mean ± std. dev. of 7 runs, 10 loops each)\n"
     ]
    }
   ],
   "source": [
    "%%timeit\n",
    "regex = r\"new_?(?<diagnosis>.*)_(?<gender>.)(?<age>.*)\"\n",
    "expression = pl.col(\"variable\").str.extract_groups(regex)\n",
    "(\n",
    "    who.unpivot(\n",
    "        index = [\"country\", \"iso2\", \"iso3\", \"year\"],\n",
    "        value_name=\"count\",\n",
    "    )\n",
    "    .with_columns(variable=expression)\n",
    "    .unnest(\"variable\")\n",
    ")"
   ]
  },
  {
   "cell_type": "markdown",
   "metadata": {},
   "source": [
    "Is this good enough, or can we do better? Let's investigate with [lprun](https://github.com/pyutils/line_profiler):"
   ]
  },
  {
   "cell_type": "code",
   "execution_count": 39,
   "metadata": {},
   "outputs": [
    {
     "name": "stdout",
     "output_type": "stream",
     "text": [
      "The line_profiler extension is already loaded. To reload it, use:\n",
      "  %reload_ext line_profiler\n"
     ]
    }
   ],
   "source": [
    "%load_ext line_profiler"
   ]
  },
  {
   "cell_type": "code",
   "execution_count": 40,
   "metadata": {},
   "outputs": [],
   "source": [
    "def wide_to_long(df):\n",
    "    # the computation is broken down\n",
    "    # into parts for more clarity\n",
    "    # on what happens at each stage\n",
    "    out = df.unpivot(\n",
    "        index=[\"country\", \"iso2\", \"iso3\", \"year\"],\n",
    "        value_name=\"count\",\n",
    "    )\n",
    "    string = out.get_column(\"variable\")\n",
    "    regex = r\"new_?(?<diagnosis>.*)_(?<gender>.)(?<age>.*)\"\n",
    "    string = string.str.extract_groups(regex)\n",
    "    out = out.with_columns(variable=string)\n",
    "    out = out.unnest(\"variable\")\n",
    "    return out"
   ]
  },
  {
   "cell_type": "code",
   "execution_count": 41,
   "metadata": {},
   "outputs": [
    {
     "name": "stdout",
     "output_type": "stream",
     "text": [
      "Timer unit: 1e-09 s\n",
      "\n",
      "Total time: 0.103107 s\n",
      "File: /var/folders/yh/003fk4jn5fl9kl3mnm1y0b1h0000gr/T/ipykernel_83318/3562139280.py\n",
      "Function: wide_to_long at line 1\n",
      "\n",
      "Line #      Hits         Time  Per Hit   % Time  Line Contents\n",
      "==============================================================\n",
      "     1                                           def wide_to_long(df):\n",
      "     2                                               # the computation is broken down\n",
      "     3                                               # into parts for more clarity\n",
      "     4                                               # on what happens at each stage\n",
      "     5         2    3527000.0    2e+06      3.4      out = df.unpivot(\n",
      "     6         1          0.0      0.0      0.0          index=[\"country\", \"iso2\", \"iso3\", \"year\"],\n",
      "     7         1          0.0      0.0      0.0          value_name=\"count\",\n",
      "     8                                               )\n",
      "     9         1      11000.0  11000.0      0.0      string = out.get_column(\"variable\")\n",
      "    10         1       1000.0   1000.0      0.0      regex = r\"new_?(?<diagnosis>.*)_(?<gender>.)(?<age>.*)\"\n",
      "    11         1   99471000.0    1e+08     96.5      string = string.str.extract_groups(regex)\n",
      "    12         1      81000.0  81000.0      0.1      out = out.with_columns(variable=string)\n",
      "    13         1      15000.0  15000.0      0.0      out = out.unnest(\"variable\")\n",
      "    14         1       1000.0   1000.0      0.0      return out"
     ]
    }
   ],
   "source": [
    "%lprun -f wide_to_long wide_to_long(df=who)"
   ]
  },
  {
   "cell_type": "markdown",
   "metadata": {},
   "source": [
    "```\n",
    "Timer unit: 1e-09 s\n",
    "\n",
    "Total time: 0.100968 s\n",
    "File: /var/folders/yh/003fk4jn5fl9kl3mnm1y0b1h0000gr/T/ipykernel_83318/3562139280.py\n",
    "Function: wide_to_long at line 1\n",
    "\n",
    "Line #      Hits         Time  Per Hit   % Time  Line Contents\n",
    "==============================================================\n",
    "     1                                           def wide_to_long(df):\n",
    "     2                                               # the computation is broken down\n",
    "     3                                               # into parts for more clarity\n",
    "     4                                               # on what happens at each stage\n",
    "     5         2    3317000.0    2e+06      3.3      out = df.unpivot(\n",
    "     6         1          0.0      0.0      0.0          index=[\"country\", \"iso2\", \"iso3\", \"year\"],\n",
    "     7         1          0.0      0.0      0.0          value_name=\"count\",\n",
    "     8                                               )\n",
    "     9         1      12000.0  12000.0      0.0      string = out.get_column(\"variable\")\n",
    "    10         1          0.0      0.0      0.0      regex = r\"new_?(?<diagnosis>.*)_(?<gender>.)(?<age>.*)\"\n",
    "    11         1   97543000.0    1e+08     96.6      string = string.str.extract_groups(regex)\n",
    "    12         1      82000.0  82000.0      0.1      out = out.with_columns(variable=string)\n",
    "    13         1      14000.0  14000.0      0.0      out = out.unnest(\"variable\")\n",
    "    14         1          0.0      0.0      0.0      return out\n",
    "```"
   ]
  },
  {
   "cell_type": "markdown",
   "metadata": {},
   "source": [
    "The bulk of time is spent in the string computation, specifically the section where we extract the `diagnosis`, `gender` and `age` columns, using the [extract_groups](https://docs.pola.rs/api/python/stable/reference/series/api/polars.Series.str.extract_groups.html) method. \n",
    "\n",
    "\n",
    "Can we reduce this cost? How? What if we compute the string regex operation on the columns before unpivoting? \t🤔"
   ]
  },
  {
   "cell_type": "code",
   "execution_count": 42,
   "metadata": {},
   "outputs": [
    {
     "data": {
      "text/html": [
       "<div><style>\n",
       ".dataframe > thead > tr,\n",
       ".dataframe > tbody > tr {\n",
       "  text-align: right;\n",
       "  white-space: pre-wrap;\n",
       "}\n",
       "</style>\n",
       "<small>shape: (56, 3)</small><table border=\"1\" class=\"dataframe\"><thead><tr><th>diagnosis</th><th>gender</th><th>age</th></tr><tr><td>str</td><td>str</td><td>str</td></tr></thead><tbody><tr><td>&quot;sp&quot;</td><td>&quot;m&quot;</td><td>&quot;014&quot;</td></tr><tr><td>&quot;sp&quot;</td><td>&quot;m&quot;</td><td>&quot;1524&quot;</td></tr><tr><td>&quot;sp&quot;</td><td>&quot;m&quot;</td><td>&quot;2534&quot;</td></tr><tr><td>&quot;sp&quot;</td><td>&quot;m&quot;</td><td>&quot;3544&quot;</td></tr><tr><td>&quot;sp&quot;</td><td>&quot;m&quot;</td><td>&quot;4554&quot;</td></tr><tr><td>&hellip;</td><td>&hellip;</td><td>&hellip;</td></tr><tr><td>&quot;rel&quot;</td><td>&quot;f&quot;</td><td>&quot;2534&quot;</td></tr><tr><td>&quot;rel&quot;</td><td>&quot;f&quot;</td><td>&quot;3544&quot;</td></tr><tr><td>&quot;rel&quot;</td><td>&quot;f&quot;</td><td>&quot;4554&quot;</td></tr><tr><td>&quot;rel&quot;</td><td>&quot;f&quot;</td><td>&quot;5564&quot;</td></tr><tr><td>&quot;rel&quot;</td><td>&quot;f&quot;</td><td>&quot;65&quot;</td></tr></tbody></table></div>"
      ],
      "text/plain": [
       "shape: (56, 3)\n",
       "┌───────────┬────────┬──────┐\n",
       "│ diagnosis ┆ gender ┆ age  │\n",
       "│ ---       ┆ ---    ┆ ---  │\n",
       "│ str       ┆ str    ┆ str  │\n",
       "╞═══════════╪════════╪══════╡\n",
       "│ sp        ┆ m      ┆ 014  │\n",
       "│ sp        ┆ m      ┆ 1524 │\n",
       "│ sp        ┆ m      ┆ 2534 │\n",
       "│ sp        ┆ m      ┆ 3544 │\n",
       "│ sp        ┆ m      ┆ 4554 │\n",
       "│ …         ┆ …      ┆ …    │\n",
       "│ rel       ┆ f      ┆ 2534 │\n",
       "│ rel       ┆ f      ┆ 3544 │\n",
       "│ rel       ┆ f      ┆ 4554 │\n",
       "│ rel       ┆ f      ┆ 5564 │\n",
       "│ rel       ┆ f      ┆ 65   │\n",
       "└───────────┴────────┴──────┘"
      ]
     },
     "execution_count": 42,
     "metadata": {},
     "output_type": "execute_result"
    }
   ],
   "source": [
    "index = [\"country\", \"iso2\", \"iso3\", \"year\"]\n",
    "columns = pl.Series(who.columns)\n",
    "mask = columns.is_in(index).not_()\n",
    "columns = columns.filter(mask)\n",
    "regex = r\"new_?(?<diagnosis>.*)_(?<gender>.)(?<age>.*)\"\n",
    "columns = columns.str.extract_groups(regex)\n",
    "columns = columns.struct.unnest()\n",
    "columns"
   ]
  },
  {
   "cell_type": "markdown",
   "metadata": {},
   "source": [
    "Next, we need to properly pair the extracted column with the unpivoted data: "
   ]
  },
  {
   "cell_type": "code",
   "execution_count": 43,
   "metadata": {},
   "outputs": [
    {
     "data": {
      "text/html": [
       "<div><style>\n",
       ".dataframe > thead > tr,\n",
       ".dataframe > tbody > tr {\n",
       "  text-align: right;\n",
       "  white-space: pre-wrap;\n",
       "}\n",
       "</style>\n",
       "<small>shape: (405_440, 8)</small><table border=\"1\" class=\"dataframe\"><thead><tr><th>country</th><th>iso2</th><th>iso3</th><th>year</th><th>count</th><th>diagnosis</th><th>gender</th><th>age</th></tr><tr><td>str</td><td>str</td><td>str</td><td>i64</td><td>i64</td><td>str</td><td>str</td><td>str</td></tr></thead><tbody><tr><td>&quot;Afghanistan&quot;</td><td>&quot;AF&quot;</td><td>&quot;AFG&quot;</td><td>1980</td><td>null</td><td>&quot;sp&quot;</td><td>&quot;m&quot;</td><td>&quot;014&quot;</td></tr><tr><td>&quot;Afghanistan&quot;</td><td>&quot;AF&quot;</td><td>&quot;AFG&quot;</td><td>1981</td><td>null</td><td>&quot;sp&quot;</td><td>&quot;m&quot;</td><td>&quot;014&quot;</td></tr><tr><td>&quot;Afghanistan&quot;</td><td>&quot;AF&quot;</td><td>&quot;AFG&quot;</td><td>1982</td><td>null</td><td>&quot;sp&quot;</td><td>&quot;m&quot;</td><td>&quot;014&quot;</td></tr><tr><td>&quot;Afghanistan&quot;</td><td>&quot;AF&quot;</td><td>&quot;AFG&quot;</td><td>1983</td><td>null</td><td>&quot;sp&quot;</td><td>&quot;m&quot;</td><td>&quot;014&quot;</td></tr><tr><td>&quot;Afghanistan&quot;</td><td>&quot;AF&quot;</td><td>&quot;AFG&quot;</td><td>1984</td><td>null</td><td>&quot;sp&quot;</td><td>&quot;m&quot;</td><td>&quot;014&quot;</td></tr><tr><td>&hellip;</td><td>&hellip;</td><td>&hellip;</td><td>&hellip;</td><td>&hellip;</td><td>&hellip;</td><td>&hellip;</td><td>&hellip;</td></tr><tr><td>&quot;Zimbabwe&quot;</td><td>&quot;ZW&quot;</td><td>&quot;ZWE&quot;</td><td>2009</td><td>null</td><td>&quot;rel&quot;</td><td>&quot;f&quot;</td><td>&quot;65&quot;</td></tr><tr><td>&quot;Zimbabwe&quot;</td><td>&quot;ZW&quot;</td><td>&quot;ZWE&quot;</td><td>2010</td><td>null</td><td>&quot;rel&quot;</td><td>&quot;f&quot;</td><td>&quot;65&quot;</td></tr><tr><td>&quot;Zimbabwe&quot;</td><td>&quot;ZW&quot;</td><td>&quot;ZWE&quot;</td><td>2011</td><td>null</td><td>&quot;rel&quot;</td><td>&quot;f&quot;</td><td>&quot;65&quot;</td></tr><tr><td>&quot;Zimbabwe&quot;</td><td>&quot;ZW&quot;</td><td>&quot;ZWE&quot;</td><td>2012</td><td>null</td><td>&quot;rel&quot;</td><td>&quot;f&quot;</td><td>&quot;65&quot;</td></tr><tr><td>&quot;Zimbabwe&quot;</td><td>&quot;ZW&quot;</td><td>&quot;ZWE&quot;</td><td>2013</td><td>725</td><td>&quot;rel&quot;</td><td>&quot;f&quot;</td><td>&quot;65&quot;</td></tr></tbody></table></div>"
      ],
      "text/plain": [
       "shape: (405_440, 8)\n",
       "┌─────────────┬──────┬──────┬──────┬───────┬───────────┬────────┬─────┐\n",
       "│ country     ┆ iso2 ┆ iso3 ┆ year ┆ count ┆ diagnosis ┆ gender ┆ age │\n",
       "│ ---         ┆ ---  ┆ ---  ┆ ---  ┆ ---   ┆ ---       ┆ ---    ┆ --- │\n",
       "│ str         ┆ str  ┆ str  ┆ i64  ┆ i64   ┆ str       ┆ str    ┆ str │\n",
       "╞═════════════╪══════╪══════╪══════╪═══════╪═══════════╪════════╪═════╡\n",
       "│ Afghanistan ┆ AF   ┆ AFG  ┆ 1980 ┆ null  ┆ sp        ┆ m      ┆ 014 │\n",
       "│ Afghanistan ┆ AF   ┆ AFG  ┆ 1981 ┆ null  ┆ sp        ┆ m      ┆ 014 │\n",
       "│ Afghanistan ┆ AF   ┆ AFG  ┆ 1982 ┆ null  ┆ sp        ┆ m      ┆ 014 │\n",
       "│ Afghanistan ┆ AF   ┆ AFG  ┆ 1983 ┆ null  ┆ sp        ┆ m      ┆ 014 │\n",
       "│ Afghanistan ┆ AF   ┆ AFG  ┆ 1984 ┆ null  ┆ sp        ┆ m      ┆ 014 │\n",
       "│ …           ┆ …    ┆ …    ┆ …    ┆ …     ┆ …         ┆ …      ┆ …   │\n",
       "│ Zimbabwe    ┆ ZW   ┆ ZWE  ┆ 2009 ┆ null  ┆ rel       ┆ f      ┆ 65  │\n",
       "│ Zimbabwe    ┆ ZW   ┆ ZWE  ┆ 2010 ┆ null  ┆ rel       ┆ f      ┆ 65  │\n",
       "│ Zimbabwe    ┆ ZW   ┆ ZWE  ┆ 2011 ┆ null  ┆ rel       ┆ f      ┆ 65  │\n",
       "│ Zimbabwe    ┆ ZW   ┆ ZWE  ┆ 2012 ┆ null  ┆ rel       ┆ f      ┆ 65  │\n",
       "│ Zimbabwe    ┆ ZW   ┆ ZWE  ┆ 2013 ┆ 725   ┆ rel       ┆ f      ┆ 65  │\n",
       "└─────────────┴──────┴──────┴──────┴───────┴───────────┴────────┴─────┘"
      ]
     },
     "execution_count": 43,
     "metadata": {},
     "output_type": "execute_result"
    }
   ],
   "source": [
    "# implosion and unpivoting ensures we get a final length\n",
    "# that is the same as the columns' length\n",
    "# ensuring we can pair correctly\n",
    "out = who.select(pl.implode(\"*\"))\n",
    "out = out.unpivot(index=index, value_name=\"count\")\n",
    "out = out.drop(\"variable\")\n",
    "out = out.with_columns(columns)\n",
    "index.append(\"count\")\n",
    "out = out.explode(index)\n",
    "out"
   ]
  },
  {
   "cell_type": "code",
   "execution_count": 44,
   "metadata": {},
   "outputs": [
    {
     "data": {
      "text/plain": [
       "True"
      ]
     },
     "execution_count": 44,
     "metadata": {},
     "output_type": "execute_result"
    }
   ],
   "source": [
    "cols = out_naive.columns\n",
    "out_naive.sort(by=pl.all()).equals(out.select(cols).sort(by=pl.all()))"
   ]
  },
  {
   "cell_type": "code",
   "execution_count": 45,
   "metadata": {},
   "outputs": [
    {
     "name": "stdout",
     "output_type": "stream",
     "text": [
      "5.61 ms ± 233 μs per loop (mean ± std. dev. of 7 runs, 100 loops each)\n"
     ]
    }
   ],
   "source": [
    "%%timeit\n",
    "index = [\"country\", \"iso2\", \"iso3\", \"year\"]\n",
    "columns = pl.Series(who.columns)\n",
    "mask = columns.is_in(index).not_()\n",
    "columns = columns.filter(mask)\n",
    "regex = r\"new_?(?<diagnosis>.*)_(?<gender>.)(?<age>.*)\"\n",
    "columns = columns.str.extract_groups(regex)\n",
    "columns = columns.struct.unnest()\n",
    "out = who.select(pl.implode(\"*\"))\n",
    "out = out.unpivot(index=index, value_name=\"count\")\n",
    "out = out.drop('variable')\n",
    "out = out.with_columns(columns)\n",
    "index.append('count')\n",
    "out = out.explode(index)\n",
    "out"
   ]
  },
  {
   "cell_type": "markdown",
   "metadata": {},
   "source": [
    "````{margin}\n",
    "```{note}\n",
    "Note that the primary performance culprit here is the regex computation - other string operations may offer better performance e.g string slice - in which case, you probably would not need the implode/explode approach.\n",
    "```\n",
    "````\n",
    "\n",
    "That is a significant improvement in performance - about 20x faster.\n",
    "\n",
    "By changing our approach and shifting the computation to a less expensive section, we claw back some performance gains. \n",
    "\n"
   ]
  },
  {
   "cell_type": "code",
   "execution_count": 46,
   "metadata": {},
   "outputs": [],
   "source": [
    "def wide_to_long_optimised(df):\n",
    "    index = [\"country\", \"iso2\", \"iso3\", \"year\"]\n",
    "    columns = pl.Series(df.columns)\n",
    "    mask = columns.is_in(index).not_()\n",
    "    columns = columns.filter(mask)\n",
    "    regex = r\"new_?(?<diagnosis>.*)_(?<gender>.)(?<age>.*)\"\n",
    "    columns = columns.str.extract_groups(regex)\n",
    "    columns = columns.struct.unnest()\n",
    "    out = df.select(pl.implode(\"*\"))\n",
    "    out = out.unpivot(index=index, value_name=\"count\")\n",
    "    out = out.drop(\"variable\")\n",
    "    out = out.with_columns(columns)\n",
    "    index.append(\"count\")\n",
    "    out = out.explode(index)\n",
    "    return out"
   ]
  },
  {
   "cell_type": "code",
   "execution_count": 47,
   "metadata": {},
   "outputs": [
    {
     "name": "stdout",
     "output_type": "stream",
     "text": [
      "Timer unit: 1e-09 s\n",
      "\n",
      "Total time: 0.006154 s\n",
      "File: /var/folders/yh/003fk4jn5fl9kl3mnm1y0b1h0000gr/T/ipykernel_83318/509568358.py\n",
      "Function: wide_to_long_optimised at line 1\n",
      "\n",
      "Line #      Hits         Time  Per Hit   % Time  Line Contents\n",
      "==============================================================\n",
      "     1                                           def wide_to_long_optimised(df):\n",
      "     2         1          0.0      0.0      0.0      index = [\"country\", \"iso2\", \"iso3\", \"year\"]\n",
      "     3         1      34000.0  34000.0      0.6      columns = pl.Series(df.columns)\n",
      "     4         1     223000.0 223000.0      3.6      mask = columns.is_in(index).not_()\n",
      "     5         1       6000.0   6000.0      0.1      columns = columns.filter(mask)\n",
      "     6         1          0.0      0.0      0.0      regex = r\"new_?(?<diagnosis>.*)_(?<gender>.)(?<age>.*)\"\n",
      "     7         1     190000.0 190000.0      3.1      columns = columns.str.extract_groups(regex)\n",
      "     8         1       6000.0   6000.0      0.1      columns = columns.struct.unnest()\n",
      "     9         1     354000.0 354000.0      5.8      out = df.select(pl.implode(\"*\"))\n",
      "    10         1    3491000.0    3e+06     56.7      out = out.unpivot(index=index, value_name=\"count\")\n",
      "    11         1      42000.0  42000.0      0.7      out = out.drop(\"variable\")\n",
      "    12         1      76000.0  76000.0      1.2      out = out.with_columns(columns)\n",
      "    13         1          0.0      0.0      0.0      index.append(\"count\")\n",
      "    14         1    1732000.0    2e+06     28.1      out = out.explode(index)\n",
      "    15         1          0.0      0.0      0.0      return out"
     ]
    }
   ],
   "source": [
    "%lprun -f wide_to_long_optimised wide_to_long_optimised(df=who)"
   ]
  },
  {
   "cell_type": "markdown",
   "metadata": {},
   "source": [
    "```\n",
    "Timer unit: 1e-09 s\n",
    "\n",
    "Total time: 0.00589 s\n",
    "File: /var/folders/yh/003fk4jn5fl9kl3mnm1y0b1h0000gr/T/ipykernel_83318/509568358.py\n",
    "Function: wide_to_long_optimised at line 1\n",
    "\n",
    "Line #      Hits         Time  Per Hit   % Time  Line Contents\n",
    "==============================================================\n",
    "     1                                           def wide_to_long_optimised(df):\n",
    "     2         1          0.0      0.0      0.0      index = [\"country\", \"iso2\", \"iso3\", \"year\"]\n",
    "     3         1      29000.0  29000.0      0.5      columns = pl.Series(df.columns)\n",
    "     4         1     232000.0 232000.0      3.9      mask = columns.is_in(index).not_()\n",
    "     5         1       4000.0   4000.0      0.1      columns = columns.filter(mask)\n",
    "     6         1          0.0      0.0      0.0      regex = r\"new_?(?<diagnosis>.*)_(?<gender>.)(?<age>.*)\"\n",
    "     7         1     299000.0 299000.0      5.1      columns = columns.str.extract_groups(regex)\n",
    "     8         1       5000.0   5000.0      0.1      columns = columns.struct.unnest()\n",
    "     9         1     439000.0 439000.0      7.5      out = df.select(pl.implode(\"*\"))\n",
    "    10         1    3119000.0    3e+06     53.0      out = out.unpivot(index=index, value_name=\"count\")\n",
    "    11         1      34000.0  34000.0      0.6      out = out.drop(\"variable\")\n",
    "    12         1      60000.0  60000.0      1.0      out = out.with_columns(columns)\n",
    "    13         1          0.0      0.0      0.0      index.append(\"count\")\n",
    "    14         1    1669000.0    2e+06     28.3      out = out.explode(index)\n",
    "    15         1          0.0      0.0      0.0      return out\n",
    "```"
   ]
  },
  {
   "cell_type": "markdown",
   "metadata": {},
   "source": [
    "## **Multiple observations per row**"
   ]
  },
  {
   "cell_type": "code",
   "execution_count": 48,
   "metadata": {},
   "outputs": [
    {
     "data": {
      "text/html": [
       "<div><style>\n",
       ".dataframe > thead > tr,\n",
       ".dataframe > tbody > tr {\n",
       "  text-align: right;\n",
       "  white-space: pre-wrap;\n",
       "}\n",
       "</style>\n",
       "<small>shape: (5, 5)</small><table border=\"1\" class=\"dataframe\"><thead><tr><th>family</th><th>dob_child1</th><th>dob_child2</th><th>name_child1</th><th>name_child2</th></tr><tr><td>i64</td><td>str</td><td>str</td><td>str</td><td>str</td></tr></thead><tbody><tr><td>1</td><td>&quot;1998-11-26&quot;</td><td>&quot;2000-01-29&quot;</td><td>&quot;Susan&quot;</td><td>&quot;Jose&quot;</td></tr><tr><td>2</td><td>&quot;1996-06-22&quot;</td><td>null</td><td>&quot;Mark&quot;</td><td>null</td></tr><tr><td>3</td><td>&quot;2002-07-11&quot;</td><td>&quot;2004-04-05&quot;</td><td>&quot;Sam&quot;</td><td>&quot;Seth&quot;</td></tr><tr><td>4</td><td>&quot;2004-10-10&quot;</td><td>&quot;2009-08-27&quot;</td><td>&quot;Craig&quot;</td><td>&quot;Khai&quot;</td></tr><tr><td>5</td><td>&quot;2000-12-05&quot;</td><td>&quot;2005-02-28&quot;</td><td>&quot;Parker&quot;</td><td>&quot;Gracie&quot;</td></tr></tbody></table></div>"
      ],
      "text/plain": [
       "shape: (5, 5)\n",
       "┌────────┬────────────┬────────────┬─────────────┬─────────────┐\n",
       "│ family ┆ dob_child1 ┆ dob_child2 ┆ name_child1 ┆ name_child2 │\n",
       "│ ---    ┆ ---        ┆ ---        ┆ ---         ┆ ---         │\n",
       "│ i64    ┆ str        ┆ str        ┆ str         ┆ str         │\n",
       "╞════════╪════════════╪════════════╪═════════════╪═════════════╡\n",
       "│ 1      ┆ 1998-11-26 ┆ 2000-01-29 ┆ Susan       ┆ Jose        │\n",
       "│ 2      ┆ 1996-06-22 ┆ null       ┆ Mark        ┆ null        │\n",
       "│ 3      ┆ 2002-07-11 ┆ 2004-04-05 ┆ Sam         ┆ Seth        │\n",
       "│ 4      ┆ 2004-10-10 ┆ 2009-08-27 ┆ Craig       ┆ Khai        │\n",
       "│ 5      ┆ 2000-12-05 ┆ 2005-02-28 ┆ Parker      ┆ Gracie      │\n",
       "└────────┴────────────┴────────────┴─────────────┴─────────────┘"
      ]
     },
     "execution_count": 48,
     "metadata": {},
     "output_type": "execute_result"
    }
   ],
   "source": [
    "household = pl.read_csv(\"./Data_files/household.csv\", null_values=\"NA\")\n",
    "household"
   ]
  },
  {
   "cell_type": "markdown",
   "metadata": {},
   "source": [
    "In the [previous blogpost](Reshape-Data-in-Polars-Wide-to_Long-Part-I.ipynb), we kept the `dob` and `name` as column headers, while flipping the remaining parts of the columns to rows: "
   ]
  },
  {
   "cell_type": "code",
   "execution_count": 49,
   "metadata": {},
   "outputs": [
    {
     "data": {
      "text/html": [
       "<div><style>\n",
       ".dataframe > thead > tr,\n",
       ".dataframe > tbody > tr {\n",
       "  text-align: right;\n",
       "  white-space: pre-wrap;\n",
       "}\n",
       "</style>\n",
       "<small>shape: (9, 4)</small><table border=\"1\" class=\"dataframe\"><thead><tr><th>family</th><th>child</th><th>dob</th><th>name</th></tr><tr><td>i64</td><td>str</td><td>str</td><td>str</td></tr></thead><tbody><tr><td>1</td><td>&quot;child1&quot;</td><td>&quot;1998-11-26&quot;</td><td>&quot;Susan&quot;</td></tr><tr><td>2</td><td>&quot;child1&quot;</td><td>&quot;1996-06-22&quot;</td><td>&quot;Mark&quot;</td></tr><tr><td>3</td><td>&quot;child1&quot;</td><td>&quot;2002-07-11&quot;</td><td>&quot;Sam&quot;</td></tr><tr><td>4</td><td>&quot;child1&quot;</td><td>&quot;2004-10-10&quot;</td><td>&quot;Craig&quot;</td></tr><tr><td>5</td><td>&quot;child1&quot;</td><td>&quot;2000-12-05&quot;</td><td>&quot;Parker&quot;</td></tr><tr><td>1</td><td>&quot;child2&quot;</td><td>&quot;2000-01-29&quot;</td><td>&quot;Jose&quot;</td></tr><tr><td>3</td><td>&quot;child2&quot;</td><td>&quot;2004-04-05&quot;</td><td>&quot;Seth&quot;</td></tr><tr><td>4</td><td>&quot;child2&quot;</td><td>&quot;2009-08-27&quot;</td><td>&quot;Khai&quot;</td></tr><tr><td>5</td><td>&quot;child2&quot;</td><td>&quot;2005-02-28&quot;</td><td>&quot;Gracie&quot;</td></tr></tbody></table></div>"
      ],
      "text/plain": [
       "shape: (9, 4)\n",
       "┌────────┬────────┬────────────┬────────┐\n",
       "│ family ┆ child  ┆ dob        ┆ name   │\n",
       "│ ---    ┆ ---    ┆ ---        ┆ ---    │\n",
       "│ i64    ┆ str    ┆ str        ┆ str    │\n",
       "╞════════╪════════╪════════════╪════════╡\n",
       "│ 1      ┆ child1 ┆ 1998-11-26 ┆ Susan  │\n",
       "│ 2      ┆ child1 ┆ 1996-06-22 ┆ Mark   │\n",
       "│ 3      ┆ child1 ┆ 2002-07-11 ┆ Sam    │\n",
       "│ 4      ┆ child1 ┆ 2004-10-10 ┆ Craig  │\n",
       "│ 5      ┆ child1 ┆ 2000-12-05 ┆ Parker │\n",
       "│ 1      ┆ child2 ┆ 2000-01-29 ┆ Jose   │\n",
       "│ 3      ┆ child2 ┆ 2004-04-05 ┆ Seth   │\n",
       "│ 4      ┆ child2 ┆ 2009-08-27 ┆ Khai   │\n",
       "│ 5      ┆ child2 ┆ 2005-02-28 ┆ Gracie │\n",
       "└────────┴────────┴────────────┴────────┘"
      ]
     },
     "execution_count": 49,
     "metadata": {},
     "output_type": "execute_result"
    }
   ],
   "source": [
    "expression = pl.col(\"variable\").str.split(\"_\")\n",
    "expression = expression.list.to_struct(fields=[\"header\", \"child\"])\n",
    "(\n",
    "    household.unpivot(index=\"family\")\n",
    "    .drop_nulls(\"value\")\n",
    "    .with_columns(variable=expression)\n",
    "    .unnest(\"variable\")\n",
    "    .pivot(index=[\"family\", \"child\"], on=\"header\", values=\"value\")\n",
    ")"
   ]
  },
  {
   "cell_type": "code",
   "execution_count": 50,
   "metadata": {},
   "outputs": [
    {
     "name": "stdout",
     "output_type": "stream",
     "text": [
      "497 μs ± 10.5 μs per loop (mean ± std. dev. of 7 runs, 1,000 loops each)\n"
     ]
    }
   ],
   "source": [
    "%%timeit\n",
    "expression = pl.col(\"variable\").str.split(\"_\")\n",
    "expression = expression.list.to_struct(fields=[\"header\", \"child\"])\n",
    "(\n",
    "    household.unpivot(index=\"family\")\n",
    "    .drop_nulls(\"value\")\n",
    "    .with_columns(variable=expression)\n",
    "    .unnest(\"variable\")\n",
    "    .pivot(index=[\"family\", \"child\"], on=\"header\", values=\"value\")\n",
    ")"
   ]
  },
  {
   "cell_type": "markdown",
   "metadata": {},
   "source": [
    "Let's see the performance for a similar dataset, but larger:"
   ]
  },
  {
   "cell_type": "code",
   "execution_count": 51,
   "metadata": {},
   "outputs": [
    {
     "data": {
      "text/html": [
       "<div><style>\n",
       ".dataframe > thead > tr,\n",
       ".dataframe > tbody > tr {\n",
       "  text-align: right;\n",
       "  white-space: pre-wrap;\n",
       "}\n",
       "</style>\n",
       "<small>shape: (100_000, 61)</small><table border=\"1\" class=\"dataframe\"><thead><tr><th>family</th><th>name_child0</th><th>dob_child0</th><th>name_child1</th><th>dob_child1</th><th>name_child2</th><th>dob_child2</th><th>name_child3</th><th>dob_child3</th><th>name_child4</th><th>dob_child4</th><th>name_child5</th><th>dob_child5</th><th>name_child6</th><th>dob_child6</th><th>name_child7</th><th>dob_child7</th><th>name_child8</th><th>dob_child8</th><th>name_child9</th><th>dob_child9</th><th>name_child10</th><th>dob_child10</th><th>name_child11</th><th>dob_child11</th><th>name_child12</th><th>dob_child12</th><th>name_child13</th><th>dob_child13</th><th>name_child14</th><th>dob_child14</th><th>name_child15</th><th>dob_child15</th><th>name_child16</th><th>dob_child16</th><th>name_child17</th><th>dob_child17</th><th>name_child18</th><th>dob_child18</th><th>name_child19</th><th>dob_child19</th><th>name_child20</th><th>dob_child20</th><th>name_child21</th><th>dob_child21</th><th>name_child22</th><th>dob_child22</th><th>name_child23</th><th>dob_child23</th><th>name_child24</th><th>dob_child24</th><th>name_child25</th><th>dob_child25</th><th>name_child26</th><th>dob_child26</th><th>name_child27</th><th>dob_child27</th><th>name_child28</th><th>dob_child28</th><th>name_child29</th><th>dob_child29</th></tr><tr><td>i64</td><td>str</td><td>str</td><td>str</td><td>str</td><td>str</td><td>str</td><td>str</td><td>str</td><td>str</td><td>str</td><td>str</td><td>str</td><td>str</td><td>str</td><td>str</td><td>str</td><td>str</td><td>str</td><td>str</td><td>str</td><td>str</td><td>str</td><td>str</td><td>str</td><td>str</td><td>str</td><td>str</td><td>str</td><td>str</td><td>str</td><td>str</td><td>str</td><td>str</td><td>str</td><td>str</td><td>str</td><td>str</td><td>str</td><td>str</td><td>str</td><td>str</td><td>str</td><td>str</td><td>str</td><td>str</td><td>str</td><td>str</td><td>str</td><td>str</td><td>str</td><td>str</td><td>str</td><td>str</td><td>str</td><td>str</td><td>str</td><td>str</td><td>str</td><td>str</td><td>str</td></tr></thead><tbody><tr><td>0</td><td>&quot;Brittany Mcdonald&quot;</td><td>&quot;1989-08-24&quot;</td><td>&quot;Karen Mendoza MD&quot;</td><td>&quot;1938-12-01&quot;</td><td>&quot;Stephanie Casey&quot;</td><td>&quot;1959-08-07&quot;</td><td>&quot;Rhonda Hartman&quot;</td><td>&quot;1984-01-17&quot;</td><td>&quot;Elizabeth Sampson&quot;</td><td>&quot;1947-01-25&quot;</td><td>&quot;Jacqueline Barrett&quot;</td><td>&quot;1949-02-15&quot;</td><td>&quot;Rebecca Harvey&quot;</td><td>&quot;1974-12-03&quot;</td><td>&quot;John Hopkins&quot;</td><td>&quot;2009-11-27&quot;</td><td>&quot;Diane Ali&quot;</td><td>&quot;1993-03-04&quot;</td><td>&quot;Emily Jones&quot;</td><td>&quot;1933-01-27&quot;</td><td>&quot;Rickey Bates&quot;</td><td>&quot;1938-06-03&quot;</td><td>&quot;Walter Stuart&quot;</td><td>&quot;1971-12-04&quot;</td><td>&quot;Megan Smith&quot;</td><td>&quot;1992-06-05&quot;</td><td>&quot;Amanda Morris&quot;</td><td>&quot;1976-02-01&quot;</td><td>&quot;Jennifer Greer&quot;</td><td>&quot;1971-12-12&quot;</td><td>&quot;Megan Haney&quot;</td><td>&quot;1935-09-11&quot;</td><td>&quot;Alyssa Garcia&quot;</td><td>&quot;1963-09-03&quot;</td><td>&quot;Daniel Turner&quot;</td><td>&quot;1938-11-17&quot;</td><td>&quot;Brittany Simmons&quot;</td><td>&quot;1919-11-21&quot;</td><td>&quot;Kurt Schwartz&quot;</td><td>&quot;1956-02-27&quot;</td><td>&quot;Tanya Brandt&quot;</td><td>&quot;1943-08-16&quot;</td><td>&quot;Jennifer White&quot;</td><td>&quot;1960-08-27&quot;</td><td>&quot;Eddie Hamilton&quot;</td><td>&quot;1988-01-15&quot;</td><td>&quot;Sean Chavez&quot;</td><td>&quot;1968-12-08&quot;</td><td>&quot;Rhonda White&quot;</td><td>&quot;1948-08-30&quot;</td><td>&quot;Linda Hicks&quot;</td><td>&quot;1936-08-03&quot;</td><td>&quot;Brittany Beard&quot;</td><td>&quot;1996-03-08&quot;</td><td>&quot;Nicole Schmidt&quot;</td><td>&quot;1948-12-06&quot;</td><td>&quot;Nancy Clark&quot;</td><td>&quot;1914-12-12&quot;</td><td>&quot;Dr. David Walters&quot;</td><td>&quot;1922-10-24&quot;</td></tr><tr><td>1</td><td>&quot;Diana Welch&quot;</td><td>&quot;1989-02-11&quot;</td><td>&quot;Brandon Pittman&quot;</td><td>&quot;2019-09-02&quot;</td><td>&quot;Alicia Smith&quot;</td><td>&quot;1923-06-27&quot;</td><td>&quot;Sarah Dean DVM&quot;</td><td>&quot;2001-02-10&quot;</td><td>&quot;Katherine Landry&quot;</td><td>&quot;1935-06-26&quot;</td><td>&quot;Sarah Hughes&quot;</td><td>&quot;1911-01-19&quot;</td><td>&quot;Amanda Peters&quot;</td><td>&quot;1922-06-02&quot;</td><td>&quot;Shawn Sanders&quot;</td><td>&quot;1936-11-17&quot;</td><td>&quot;David White&quot;</td><td>&quot;1998-02-25&quot;</td><td>&quot;Justin Mccormick&quot;</td><td>&quot;1994-03-06&quot;</td><td>&quot;James Kelly&quot;</td><td>&quot;2005-02-13&quot;</td><td>&quot;Kimberly Lynch MD&quot;</td><td>&quot;1986-02-18&quot;</td><td>&quot;Kimberly Hall&quot;</td><td>&quot;2001-07-23&quot;</td><td>&quot;Susan Anderson&quot;</td><td>&quot;1908-10-26&quot;</td><td>&quot;Anthony Hall&quot;</td><td>&quot;2012-10-10&quot;</td><td>&quot;Lisa Gardner&quot;</td><td>&quot;1939-08-17&quot;</td><td>&quot;Andrew Burke&quot;</td><td>&quot;1981-07-13&quot;</td><td>&quot;Brittney Evans&quot;</td><td>&quot;1993-06-06&quot;</td><td>&quot;Taylor Wood&quot;</td><td>&quot;1951-07-29&quot;</td><td>&quot;Tanya Taylor&quot;</td><td>&quot;2019-02-01&quot;</td><td>&quot;Ashley Schultz&quot;</td><td>&quot;1993-04-15&quot;</td><td>&quot;Amanda Sanchez&quot;</td><td>&quot;1923-07-14&quot;</td><td>&quot;Harry Stevens&quot;</td><td>&quot;1986-11-10&quot;</td><td>&quot;David Flores&quot;</td><td>&quot;1931-09-16&quot;</td><td>&quot;Timothy Gray&quot;</td><td>&quot;2017-05-07&quot;</td><td>&quot;Jay Ramsey&quot;</td><td>&quot;1936-05-08&quot;</td><td>&quot;Charles Bell&quot;</td><td>&quot;2014-12-05&quot;</td><td>&quot;Jacob Williams&quot;</td><td>&quot;1963-04-17&quot;</td><td>&quot;Kimberly Gonzalez&quot;</td><td>&quot;1991-11-15&quot;</td><td>&quot;Monica Newton&quot;</td><td>&quot;1923-10-27&quot;</td></tr><tr><td>2</td><td>&quot;Jamie Richards&quot;</td><td>&quot;1973-11-04&quot;</td><td>&quot;Kristin Dunn&quot;</td><td>&quot;1973-04-02&quot;</td><td>&quot;Kathy Vasquez&quot;</td><td>&quot;1966-03-20&quot;</td><td>&quot;William Johnson&quot;</td><td>&quot;2006-03-08&quot;</td><td>&quot;Anthony Brewer&quot;</td><td>&quot;1987-06-21&quot;</td><td>&quot;James Hendricks&quot;</td><td>&quot;1981-03-29&quot;</td><td>&quot;Emily Torres&quot;</td><td>&quot;1990-11-09&quot;</td><td>&quot;Jennifer Santos&quot;</td><td>&quot;1982-02-13&quot;</td><td>&quot;Travis Snyder&quot;</td><td>&quot;2018-09-04&quot;</td><td>&quot;Misty Hudson&quot;</td><td>&quot;1974-01-03&quot;</td><td>&quot;Mathew Price&quot;</td><td>&quot;1965-07-09&quot;</td><td>&quot;Charles Anthony&quot;</td><td>&quot;2003-07-20&quot;</td><td>&quot;Sean Cook&quot;</td><td>&quot;1919-03-26&quot;</td><td>&quot;Krista Hall&quot;</td><td>&quot;1951-02-12&quot;</td><td>&quot;Sarah Hurst&quot;</td><td>&quot;1962-09-22&quot;</td><td>&quot;Angela May&quot;</td><td>&quot;2009-11-07&quot;</td><td>&quot;Antonio Ayers&quot;</td><td>&quot;1980-12-11&quot;</td><td>&quot;Kathryn Beck&quot;</td><td>&quot;1944-05-27&quot;</td><td>&quot;Barbara Davis&quot;</td><td>&quot;1929-04-19&quot;</td><td>&quot;Vanessa Gonzalez&quot;</td><td>&quot;1944-06-13&quot;</td><td>&quot;Tina Benjamin&quot;</td><td>&quot;1911-02-01&quot;</td><td>&quot;Anthony Wade&quot;</td><td>&quot;1938-10-10&quot;</td><td>&quot;Rachel Green&quot;</td><td>&quot;2001-02-26&quot;</td><td>&quot;Laura Wright&quot;</td><td>&quot;1950-01-11&quot;</td><td>&quot;Kenneth Stewart&quot;</td><td>&quot;1976-03-10&quot;</td><td>&quot;Megan Glass&quot;</td><td>&quot;1987-10-25&quot;</td><td>&quot;Jennifer King&quot;</td><td>&quot;1962-01-26&quot;</td><td>&quot;Cheyenne Ramirez&quot;</td><td>&quot;2009-12-21&quot;</td><td>&quot;Hayden Williamson&quot;</td><td>&quot;1993-12-27&quot;</td><td>&quot;Thomas Buchanan&quot;</td><td>&quot;2017-06-23&quot;</td></tr><tr><td>3</td><td>&quot;Michele Reed&quot;</td><td>&quot;1994-11-05&quot;</td><td>&quot;John Perry&quot;</td><td>&quot;1915-07-08&quot;</td><td>&quot;Benjamin Garcia&quot;</td><td>&quot;2006-03-12&quot;</td><td>&quot;Mrs. Carolyn Chavez&quot;</td><td>&quot;1999-08-03&quot;</td><td>&quot;Bailey Stevens&quot;</td><td>&quot;2000-04-09&quot;</td><td>&quot;Gilbert Lynch&quot;</td><td>&quot;1978-10-06&quot;</td><td>&quot;Jennifer Burton&quot;</td><td>&quot;2000-12-13&quot;</td><td>&quot;Jose Nguyen&quot;</td><td>&quot;2020-11-15&quot;</td><td>&quot;Yvonne Wall&quot;</td><td>&quot;1910-10-16&quot;</td><td>&quot;Jacob Owens&quot;</td><td>&quot;1943-11-14&quot;</td><td>&quot;William Gibson&quot;</td><td>&quot;1935-09-11&quot;</td><td>&quot;Nicholas Garcia&quot;</td><td>&quot;2014-12-28&quot;</td><td>&quot;Jamie Diaz&quot;</td><td>&quot;1952-10-05&quot;</td><td>&quot;Brian Burns&quot;</td><td>&quot;1934-03-03&quot;</td><td>&quot;Ryan Taylor&quot;</td><td>&quot;1978-11-15&quot;</td><td>&quot;Ashley Miller&quot;</td><td>&quot;1915-01-14&quot;</td><td>&quot;Francisco Brewer&quot;</td><td>&quot;2006-10-21&quot;</td><td>&quot;Melissa Ramos&quot;</td><td>&quot;1966-05-01&quot;</td><td>&quot;Antonio Moore&quot;</td><td>&quot;1914-11-28&quot;</td><td>&quot;Darin Russell&quot;</td><td>&quot;1994-07-29&quot;</td><td>&quot;Eric Santos&quot;</td><td>&quot;1928-02-18&quot;</td><td>&quot;Mariah Cunningham&quot;</td><td>&quot;1958-07-21&quot;</td><td>&quot;Deanna White&quot;</td><td>&quot;1914-08-30&quot;</td><td>&quot;Peggy Williams&quot;</td><td>&quot;1973-03-17&quot;</td><td>&quot;Michael Richardson&quot;</td><td>&quot;1968-02-20&quot;</td><td>&quot;Debra Haney&quot;</td><td>&quot;1972-04-02&quot;</td><td>&quot;Alexander Roberts&quot;</td><td>&quot;1977-04-14&quot;</td><td>&quot;Derrick Martin&quot;</td><td>&quot;1999-09-02&quot;</td><td>&quot;Teresa Stephens&quot;</td><td>&quot;1928-04-11&quot;</td><td>&quot;Andrew Murphy&quot;</td><td>&quot;1910-03-21&quot;</td></tr><tr><td>4</td><td>&quot;Steven Burgess&quot;</td><td>&quot;1997-12-24&quot;</td><td>&quot;Robert Willis&quot;</td><td>&quot;2011-04-18&quot;</td><td>&quot;Amy Forbes&quot;</td><td>&quot;1943-06-26&quot;</td><td>&quot;Chase Gutierrez&quot;</td><td>&quot;1976-06-21&quot;</td><td>&quot;Kevin Gonzales&quot;</td><td>&quot;1977-10-03&quot;</td><td>&quot;Michael Lyons&quot;</td><td>&quot;1973-08-06&quot;</td><td>&quot;Brian Carlson&quot;</td><td>&quot;1964-07-16&quot;</td><td>&quot;Jonathan Brown&quot;</td><td>&quot;1983-07-06&quot;</td><td>&quot;Ryan Lewis&quot;</td><td>&quot;2011-09-30&quot;</td><td>&quot;Brandon Drake&quot;</td><td>&quot;1995-07-27&quot;</td><td>&quot;Christine Mueller&quot;</td><td>&quot;1945-07-15&quot;</td><td>&quot;Joseph Sanders&quot;</td><td>&quot;1995-01-22&quot;</td><td>&quot;Patricia Robertson&quot;</td><td>&quot;1953-01-29&quot;</td><td>&quot;Kevin Young&quot;</td><td>&quot;1962-08-12&quot;</td><td>&quot;Amber Gray&quot;</td><td>&quot;1992-05-30&quot;</td><td>&quot;Laura Powers&quot;</td><td>&quot;1934-10-28&quot;</td><td>&quot;Carrie Ross&quot;</td><td>&quot;1974-11-03&quot;</td><td>&quot;Anthony Taylor&quot;</td><td>&quot;2002-03-31&quot;</td><td>&quot;Bill Hawkins&quot;</td><td>&quot;1923-01-26&quot;</td><td>&quot;Erin Mcbride&quot;</td><td>&quot;2009-01-12&quot;</td><td>&quot;Roger Meza&quot;</td><td>&quot;1934-12-10&quot;</td><td>&quot;Sandra Davis&quot;</td><td>&quot;1918-11-05&quot;</td><td>&quot;Kristie Whitehead&quot;</td><td>&quot;1979-12-01&quot;</td><td>&quot;James Anderson&quot;</td><td>&quot;1954-02-02&quot;</td><td>&quot;Sara Aguilar&quot;</td><td>&quot;2008-03-09&quot;</td><td>&quot;Hector Reynolds&quot;</td><td>&quot;1990-08-17&quot;</td><td>&quot;Cynthia Klein&quot;</td><td>&quot;1931-12-16&quot;</td><td>&quot;Richard Copeland&quot;</td><td>&quot;1978-11-24&quot;</td><td>&quot;Rickey Hudson&quot;</td><td>&quot;1926-09-29&quot;</td><td>&quot;Carmen Smith&quot;</td><td>&quot;1963-11-05&quot;</td></tr><tr><td>&hellip;</td><td>&hellip;</td><td>&hellip;</td><td>&hellip;</td><td>&hellip;</td><td>&hellip;</td><td>&hellip;</td><td>&hellip;</td><td>&hellip;</td><td>&hellip;</td><td>&hellip;</td><td>&hellip;</td><td>&hellip;</td><td>&hellip;</td><td>&hellip;</td><td>&hellip;</td><td>&hellip;</td><td>&hellip;</td><td>&hellip;</td><td>&hellip;</td><td>&hellip;</td><td>&hellip;</td><td>&hellip;</td><td>&hellip;</td><td>&hellip;</td><td>&hellip;</td><td>&hellip;</td><td>&hellip;</td><td>&hellip;</td><td>&hellip;</td><td>&hellip;</td><td>&hellip;</td><td>&hellip;</td><td>&hellip;</td><td>&hellip;</td><td>&hellip;</td><td>&hellip;</td><td>&hellip;</td><td>&hellip;</td><td>&hellip;</td><td>&hellip;</td><td>&hellip;</td><td>&hellip;</td><td>&hellip;</td><td>&hellip;</td><td>&hellip;</td><td>&hellip;</td><td>&hellip;</td><td>&hellip;</td><td>&hellip;</td><td>&hellip;</td><td>&hellip;</td><td>&hellip;</td><td>&hellip;</td><td>&hellip;</td><td>&hellip;</td><td>&hellip;</td><td>&hellip;</td><td>&hellip;</td><td>&hellip;</td><td>&hellip;</td></tr><tr><td>99995</td><td>&quot;Donna Vazquez&quot;</td><td>&quot;1938-12-26&quot;</td><td>&quot;William Curry&quot;</td><td>&quot;1943-03-27&quot;</td><td>&quot;Brian Green&quot;</td><td>&quot;1941-08-20&quot;</td><td>&quot;Cathy Krause&quot;</td><td>&quot;1910-10-22&quot;</td><td>&quot;Christopher Johnson&quot;</td><td>&quot;2006-10-22&quot;</td><td>&quot;Amanda Anderson&quot;</td><td>&quot;1910-07-21&quot;</td><td>&quot;Paul Casey&quot;</td><td>&quot;1965-02-23&quot;</td><td>&quot;Franklin Strickland&quot;</td><td>&quot;2004-03-26&quot;</td><td>&quot;Brian Murphy&quot;</td><td>&quot;1951-06-04&quot;</td><td>&quot;Jennifer Martinez&quot;</td><td>&quot;1921-08-12&quot;</td><td>&quot;Tony Long&quot;</td><td>&quot;1928-04-01&quot;</td><td>&quot;Anthony Garcia&quot;</td><td>&quot;2015-12-03&quot;</td><td>&quot;Todd Gonzales&quot;</td><td>&quot;2001-10-31&quot;</td><td>&quot;Justin Anderson&quot;</td><td>&quot;2021-05-04&quot;</td><td>&quot;Chad Garrett&quot;</td><td>&quot;1939-06-03&quot;</td><td>&quot;Mr. Christopher Harper&quot;</td><td>&quot;2002-07-22&quot;</td><td>&quot;Jennifer Flores&quot;</td><td>&quot;1933-06-17&quot;</td><td>&quot;Alexis Porter&quot;</td><td>&quot;2020-08-27&quot;</td><td>&quot;Jason Pitts&quot;</td><td>&quot;1969-03-11&quot;</td><td>&quot;Adam Sanchez&quot;</td><td>&quot;1959-02-02&quot;</td><td>&quot;Angela Cooper&quot;</td><td>&quot;1972-02-16&quot;</td><td>&quot;Elizabeth Thomas&quot;</td><td>&quot;1959-10-25&quot;</td><td>&quot;Mark Aguilar&quot;</td><td>&quot;1989-03-28&quot;</td><td>&quot;Chad Chapman&quot;</td><td>&quot;1919-03-01&quot;</td><td>&quot;Jessica Doyle&quot;</td><td>&quot;1938-04-14&quot;</td><td>&quot;Kim Miller&quot;</td><td>&quot;2017-08-04&quot;</td><td>&quot;Angela Hughes&quot;</td><td>&quot;1930-10-31&quot;</td><td>&quot;Jamie Thompson&quot;</td><td>&quot;2017-02-28&quot;</td><td>&quot;Brandy Frederick&quot;</td><td>&quot;1932-07-31&quot;</td><td>&quot;Patrick Solomon&quot;</td><td>&quot;1920-03-12&quot;</td></tr><tr><td>99996</td><td>&quot;Monica Davis&quot;</td><td>&quot;1987-10-07&quot;</td><td>&quot;Laura Donovan&quot;</td><td>&quot;1992-07-30&quot;</td><td>&quot;Morgan Garcia&quot;</td><td>&quot;1997-01-09&quot;</td><td>&quot;Stacey Chambers&quot;</td><td>&quot;1944-01-10&quot;</td><td>&quot;Stephen Fields&quot;</td><td>&quot;1935-10-03&quot;</td><td>&quot;Ann Barnes&quot;</td><td>&quot;1996-01-04&quot;</td><td>&quot;Nicholas Jones&quot;</td><td>&quot;1967-02-01&quot;</td><td>&quot;Karen Dunn&quot;</td><td>&quot;2012-07-21&quot;</td><td>&quot;Sheryl Hill&quot;</td><td>&quot;1989-02-21&quot;</td><td>&quot;Kyle Fox&quot;</td><td>&quot;2005-01-04&quot;</td><td>&quot;Mark Adkins&quot;</td><td>&quot;1981-12-01&quot;</td><td>&quot;Spencer Blankenship&quot;</td><td>&quot;1934-04-05&quot;</td><td>&quot;Catherine Smith&quot;</td><td>&quot;2008-12-06&quot;</td><td>&quot;Andrea Walker&quot;</td><td>&quot;1940-07-01&quot;</td><td>&quot;Ricky Barr&quot;</td><td>&quot;1912-11-17&quot;</td><td>&quot;Desiree Parker&quot;</td><td>&quot;1939-11-15&quot;</td><td>&quot;Amanda Ruiz&quot;</td><td>&quot;2018-08-09&quot;</td><td>&quot;Sharon Miller&quot;</td><td>&quot;2019-05-05&quot;</td><td>&quot;Larry Smith&quot;</td><td>&quot;1981-02-24&quot;</td><td>&quot;James Harris&quot;</td><td>&quot;1990-12-14&quot;</td><td>&quot;Justin Smith&quot;</td><td>&quot;1994-10-18&quot;</td><td>&quot;Tamara Roman&quot;</td><td>&quot;1921-04-01&quot;</td><td>&quot;Bridget Serrano&quot;</td><td>&quot;1974-05-13&quot;</td><td>&quot;Ann Melendez&quot;</td><td>&quot;1986-07-06&quot;</td><td>&quot;Susan Huff&quot;</td><td>&quot;2018-09-05&quot;</td><td>&quot;Antonio Juarez&quot;</td><td>&quot;1995-08-11&quot;</td><td>&quot;Ashley Lamb&quot;</td><td>&quot;1955-05-31&quot;</td><td>&quot;Patrick Morse&quot;</td><td>&quot;1932-08-08&quot;</td><td>&quot;Thomas Gregory&quot;</td><td>&quot;1963-04-11&quot;</td><td>&quot;Steven Smith&quot;</td><td>&quot;1987-09-22&quot;</td></tr><tr><td>99997</td><td>&quot;Vanessa Byrd&quot;</td><td>&quot;1967-03-17&quot;</td><td>&quot;Tammy Mcpherson&quot;</td><td>&quot;1987-11-06&quot;</td><td>&quot;Jacob Schwartz&quot;</td><td>&quot;2019-07-07&quot;</td><td>&quot;Barry Smith&quot;</td><td>&quot;1996-03-17&quot;</td><td>&quot;Samuel Martinez&quot;</td><td>&quot;1980-02-27&quot;</td><td>&quot;Erin Flores&quot;</td><td>&quot;1959-04-12&quot;</td><td>&quot;Melissa Perez&quot;</td><td>&quot;2001-07-28&quot;</td><td>&quot;Victoria Wilson&quot;</td><td>&quot;1975-02-12&quot;</td><td>&quot;Timothy Ramirez&quot;</td><td>&quot;1912-08-05&quot;</td><td>&quot;Kyle Johnson&quot;</td><td>&quot;2015-04-01&quot;</td><td>&quot;David Roberts&quot;</td><td>&quot;2001-10-01&quot;</td><td>&quot;Michael Alexander&quot;</td><td>&quot;1922-10-18&quot;</td><td>&quot;Robert Green&quot;</td><td>&quot;2004-03-13&quot;</td><td>&quot;Brent Nelson&quot;</td><td>&quot;1973-02-24&quot;</td><td>&quot;Curtis Smith&quot;</td><td>&quot;1978-11-04&quot;</td><td>&quot;Walter Lyons&quot;</td><td>&quot;2002-03-03&quot;</td><td>&quot;Angela Johnson&quot;</td><td>&quot;2015-06-24&quot;</td><td>&quot;Amanda Smith&quot;</td><td>&quot;1913-01-08&quot;</td><td>&quot;Jacqueline Smith&quot;</td><td>&quot;2012-01-07&quot;</td><td>&quot;Brian Ho&quot;</td><td>&quot;1948-12-11&quot;</td><td>&quot;Robert Lopez&quot;</td><td>&quot;1967-02-04&quot;</td><td>&quot;Charles Rogers&quot;</td><td>&quot;1996-04-25&quot;</td><td>&quot;Marcus Dixon&quot;</td><td>&quot;1952-03-11&quot;</td><td>&quot;Alexis Moore&quot;</td><td>&quot;1952-07-26&quot;</td><td>&quot;Joshua Robles&quot;</td><td>&quot;1956-11-12&quot;</td><td>&quot;Rachel Hull&quot;</td><td>&quot;1979-05-28&quot;</td><td>&quot;Jessica Smith&quot;</td><td>&quot;2006-01-17&quot;</td><td>&quot;Joshua Hernandez&quot;</td><td>&quot;2005-06-26&quot;</td><td>&quot;Melanie Crawford&quot;</td><td>&quot;1927-07-12&quot;</td><td>&quot;Scott Carlson&quot;</td><td>&quot;1950-05-23&quot;</td></tr><tr><td>99998</td><td>&quot;Gary Harmon&quot;</td><td>&quot;2002-05-09&quot;</td><td>&quot;William Reeves&quot;</td><td>&quot;1960-01-23&quot;</td><td>&quot;Linda Cohen&quot;</td><td>&quot;1953-05-31&quot;</td><td>&quot;Damon Soto&quot;</td><td>&quot;1948-11-15&quot;</td><td>&quot;Christina Hull&quot;</td><td>&quot;1992-04-07&quot;</td><td>&quot;Sean Boone&quot;</td><td>&quot;2022-08-10&quot;</td><td>&quot;Benjamin Graham&quot;</td><td>&quot;1971-12-30&quot;</td><td>&quot;Daniel Pacheco&quot;</td><td>&quot;1926-08-16&quot;</td><td>&quot;Jennifer Hopkins&quot;</td><td>&quot;2016-04-15&quot;</td><td>&quot;Anne Kelly&quot;</td><td>&quot;1988-12-03&quot;</td><td>&quot;Cristina Garcia&quot;</td><td>&quot;1997-05-03&quot;</td><td>&quot;Lindsay Wright&quot;</td><td>&quot;1979-12-03&quot;</td><td>&quot;Teresa Berg&quot;</td><td>&quot;1953-11-01&quot;</td><td>&quot;Lisa Murphy&quot;</td><td>&quot;1930-09-15&quot;</td><td>&quot;Jacob Hernandez&quot;</td><td>&quot;2017-04-25&quot;</td><td>&quot;Amber Campbell&quot;</td><td>&quot;1983-10-31&quot;</td><td>&quot;Ashley Mitchell&quot;</td><td>&quot;1962-09-07&quot;</td><td>&quot;Jacqueline Singleton&quot;</td><td>&quot;1970-06-14&quot;</td><td>&quot;Melinda Miller&quot;</td><td>&quot;1978-05-08&quot;</td><td>&quot;Brenda Gibbs&quot;</td><td>&quot;1964-08-13&quot;</td><td>&quot;Rebecca Cooper&quot;</td><td>&quot;2022-10-04&quot;</td><td>&quot;Jonathan Kelly&quot;</td><td>&quot;1935-11-19&quot;</td><td>&quot;Stephen Sanchez&quot;</td><td>&quot;2010-05-15&quot;</td><td>&quot;Adam Stark&quot;</td><td>&quot;1911-07-12&quot;</td><td>&quot;Denise George&quot;</td><td>&quot;1930-02-08&quot;</td><td>&quot;Brenda Lee&quot;</td><td>&quot;2003-09-22&quot;</td><td>&quot;Tracey Nelson&quot;</td><td>&quot;1910-09-10&quot;</td><td>&quot;Greg Esparza&quot;</td><td>&quot;2000-07-07&quot;</td><td>&quot;Tanner Bell&quot;</td><td>&quot;1928-01-15&quot;</td><td>&quot;Veronica Collins&quot;</td><td>&quot;1934-09-23&quot;</td></tr><tr><td>99999</td><td>&quot;Sheila Elliott&quot;</td><td>&quot;1965-08-06&quot;</td><td>&quot;Charlene Lee&quot;</td><td>&quot;2014-06-22&quot;</td><td>&quot;Gabriella Brown&quot;</td><td>&quot;2015-03-17&quot;</td><td>&quot;Joseph Warren&quot;</td><td>&quot;2015-03-18&quot;</td><td>&quot;Martin Frederick&quot;</td><td>&quot;1992-05-01&quot;</td><td>&quot;Cameron Pruitt&quot;</td><td>&quot;1992-12-19&quot;</td><td>&quot;Jennifer Wilson&quot;</td><td>&quot;1929-02-17&quot;</td><td>&quot;Scott Soto&quot;</td><td>&quot;2014-02-18&quot;</td><td>&quot;Lisa Oneill&quot;</td><td>&quot;1909-10-27&quot;</td><td>&quot;Joy Jones&quot;</td><td>&quot;1963-11-07&quot;</td><td>&quot;Diana Rodriguez&quot;</td><td>&quot;1951-12-27&quot;</td><td>&quot;Rachel Estes&quot;</td><td>&quot;1986-01-22&quot;</td><td>&quot;Susan Smith&quot;</td><td>&quot;1985-01-30&quot;</td><td>&quot;Cody Perez&quot;</td><td>&quot;1932-02-02&quot;</td><td>&quot;Pamela Stevenson DDS&quot;</td><td>&quot;2020-07-06&quot;</td><td>&quot;Katelyn Oconnor&quot;</td><td>&quot;1975-11-13&quot;</td><td>&quot;James Blair&quot;</td><td>&quot;1976-03-29&quot;</td><td>&quot;Betty Rowe&quot;</td><td>&quot;1991-03-26&quot;</td><td>&quot;William Briggs&quot;</td><td>&quot;1932-10-01&quot;</td><td>&quot;James Hudson&quot;</td><td>&quot;1998-01-17&quot;</td><td>&quot;Shawn Martinez&quot;</td><td>&quot;2013-11-03&quot;</td><td>&quot;Carla Shelton&quot;</td><td>&quot;2018-10-05&quot;</td><td>&quot;Emily Burke&quot;</td><td>&quot;1965-04-03&quot;</td><td>&quot;Matthew Brown&quot;</td><td>&quot;1932-06-30&quot;</td><td>&quot;Mrs. Jill Rogers MD&quot;</td><td>&quot;2000-05-07&quot;</td><td>&quot;Martin Schmidt&quot;</td><td>&quot;1977-11-22&quot;</td><td>&quot;Cody Collins&quot;</td><td>&quot;1994-08-01&quot;</td><td>&quot;Kevin Duncan&quot;</td><td>&quot;2009-10-15&quot;</td><td>&quot;Jerry Brown&quot;</td><td>&quot;2004-01-29&quot;</td><td>&quot;Nancy Benjamin&quot;</td><td>&quot;1966-05-18&quot;</td></tr></tbody></table></div>"
      ],
      "text/plain": [
       "shape: (100_000, 61)\n",
       "┌────────┬────────────┬────────────┬───────────┬───┬───────────┬───────────┬───────────┬───────────┐\n",
       "│ family ┆ name_child ┆ dob_child0 ┆ name_chil ┆ … ┆ name_chil ┆ dob_child ┆ name_chil ┆ dob_child │\n",
       "│ ---    ┆ 0          ┆ ---        ┆ d1        ┆   ┆ d28       ┆ 28        ┆ d29       ┆ 29        │\n",
       "│ i64    ┆ ---        ┆ str        ┆ ---       ┆   ┆ ---       ┆ ---       ┆ ---       ┆ ---       │\n",
       "│        ┆ str        ┆            ┆ str       ┆   ┆ str       ┆ str       ┆ str       ┆ str       │\n",
       "╞════════╪════════════╪════════════╪═══════════╪═══╪═══════════╪═══════════╪═══════════╪═══════════╡\n",
       "│ 0      ┆ Brittany   ┆ 1989-08-24 ┆ Karen     ┆ … ┆ Nancy     ┆ 1914-12-1 ┆ Dr. David ┆ 1922-10-2 │\n",
       "│        ┆ Mcdonald   ┆            ┆ Mendoza   ┆   ┆ Clark     ┆ 2         ┆ Walters   ┆ 4         │\n",
       "│        ┆            ┆            ┆ MD        ┆   ┆           ┆           ┆           ┆           │\n",
       "│ 1      ┆ Diana      ┆ 1989-02-11 ┆ Brandon   ┆ … ┆ Kimberly  ┆ 1991-11-1 ┆ Monica    ┆ 1923-10-2 │\n",
       "│        ┆ Welch      ┆            ┆ Pittman   ┆   ┆ Gonzalez  ┆ 5         ┆ Newton    ┆ 7         │\n",
       "│ 2      ┆ Jamie      ┆ 1973-11-04 ┆ Kristin   ┆ … ┆ Hayden    ┆ 1993-12-2 ┆ Thomas    ┆ 2017-06-2 │\n",
       "│        ┆ Richards   ┆            ┆ Dunn      ┆   ┆ Williamso ┆ 7         ┆ Buchanan  ┆ 3         │\n",
       "│        ┆            ┆            ┆           ┆   ┆ n         ┆           ┆           ┆           │\n",
       "│ 3      ┆ Michele    ┆ 1994-11-05 ┆ John      ┆ … ┆ Teresa    ┆ 1928-04-1 ┆ Andrew    ┆ 1910-03-2 │\n",
       "│        ┆ Reed       ┆            ┆ Perry     ┆   ┆ Stephens  ┆ 1         ┆ Murphy    ┆ 1         │\n",
       "│ 4      ┆ Steven     ┆ 1997-12-24 ┆ Robert    ┆ … ┆ Rickey    ┆ 1926-09-2 ┆ Carmen    ┆ 1963-11-0 │\n",
       "│        ┆ Burgess    ┆            ┆ Willis    ┆   ┆ Hudson    ┆ 9         ┆ Smith     ┆ 5         │\n",
       "│ …      ┆ …          ┆ …          ┆ …         ┆ … ┆ …         ┆ …         ┆ …         ┆ …         │\n",
       "│ 99995  ┆ Donna      ┆ 1938-12-26 ┆ William   ┆ … ┆ Brandy    ┆ 1932-07-3 ┆ Patrick   ┆ 1920-03-1 │\n",
       "│        ┆ Vazquez    ┆            ┆ Curry     ┆   ┆ Frederick ┆ 1         ┆ Solomon   ┆ 2         │\n",
       "│ 99996  ┆ Monica     ┆ 1987-10-07 ┆ Laura     ┆ … ┆ Thomas    ┆ 1963-04-1 ┆ Steven    ┆ 1987-09-2 │\n",
       "│        ┆ Davis      ┆            ┆ Donovan   ┆   ┆ Gregory   ┆ 1         ┆ Smith     ┆ 2         │\n",
       "│ 99997  ┆ Vanessa    ┆ 1967-03-17 ┆ Tammy     ┆ … ┆ Melanie   ┆ 1927-07-1 ┆ Scott     ┆ 1950-05-2 │\n",
       "│        ┆ Byrd       ┆            ┆ Mcpherson ┆   ┆ Crawford  ┆ 2         ┆ Carlson   ┆ 3         │\n",
       "│ 99998  ┆ Gary       ┆ 2002-05-09 ┆ William   ┆ … ┆ Tanner    ┆ 1928-01-1 ┆ Veronica  ┆ 1934-09-2 │\n",
       "│        ┆ Harmon     ┆            ┆ Reeves    ┆   ┆ Bell      ┆ 5         ┆ Collins   ┆ 3         │\n",
       "│ 99999  ┆ Sheila     ┆ 1965-08-06 ┆ Charlene  ┆ … ┆ Jerry     ┆ 2004-01-2 ┆ Nancy     ┆ 1966-05-1 │\n",
       "│        ┆ Elliott    ┆            ┆ Lee       ┆   ┆ Brown     ┆ 9         ┆ Benjamin  ┆ 8         │\n",
       "└────────┴────────────┴────────────┴───────────┴───┴───────────┴───────────┴───────────┴───────────┘"
      ]
     },
     "execution_count": 51,
     "metadata": {},
     "output_type": "execute_result"
    }
   ],
   "source": [
    "from zipfile import ZipFile\n",
    "zip_file = ZipFile(\"./Data_files/household_large.csv.zip\")\n",
    "zip_file = zip_file.read(\"household_large.csv\")\n",
    "household_large = pl.read_csv(zip_file, null_values=\"NA\")\n",
    "household_large"
   ]
  },
  {
   "cell_type": "code",
   "execution_count": 52,
   "metadata": {},
   "outputs": [
    {
     "data": {
      "text/plain": [
       "(100000, 61)"
      ]
     },
     "execution_count": 52,
     "metadata": {},
     "output_type": "execute_result"
    }
   ],
   "source": [
    "household_large.shape"
   ]
  },
  {
   "cell_type": "code",
   "execution_count": 53,
   "metadata": {},
   "outputs": [
    {
     "data": {
      "text/html": [
       "<div><style>\n",
       ".dataframe > thead > tr,\n",
       ".dataframe > tbody > tr {\n",
       "  text-align: right;\n",
       "  white-space: pre-wrap;\n",
       "}\n",
       "</style>\n",
       "<small>shape: (3_000_000, 4)</small><table border=\"1\" class=\"dataframe\"><thead><tr><th>family</th><th>child</th><th>name</th><th>dob</th></tr><tr><td>i64</td><td>str</td><td>str</td><td>str</td></tr></thead><tbody><tr><td>0</td><td>&quot;child0&quot;</td><td>&quot;Brittany Mcdonald&quot;</td><td>&quot;1989-08-24&quot;</td></tr><tr><td>1</td><td>&quot;child0&quot;</td><td>&quot;Diana Welch&quot;</td><td>&quot;1989-02-11&quot;</td></tr><tr><td>2</td><td>&quot;child0&quot;</td><td>&quot;Jamie Richards&quot;</td><td>&quot;1973-11-04&quot;</td></tr><tr><td>3</td><td>&quot;child0&quot;</td><td>&quot;Michele Reed&quot;</td><td>&quot;1994-11-05&quot;</td></tr><tr><td>4</td><td>&quot;child0&quot;</td><td>&quot;Steven Burgess&quot;</td><td>&quot;1997-12-24&quot;</td></tr><tr><td>&hellip;</td><td>&hellip;</td><td>&hellip;</td><td>&hellip;</td></tr><tr><td>99995</td><td>&quot;child29&quot;</td><td>&quot;Patrick Solomon&quot;</td><td>&quot;1920-03-12&quot;</td></tr><tr><td>99996</td><td>&quot;child29&quot;</td><td>&quot;Steven Smith&quot;</td><td>&quot;1987-09-22&quot;</td></tr><tr><td>99997</td><td>&quot;child29&quot;</td><td>&quot;Scott Carlson&quot;</td><td>&quot;1950-05-23&quot;</td></tr><tr><td>99998</td><td>&quot;child29&quot;</td><td>&quot;Veronica Collins&quot;</td><td>&quot;1934-09-23&quot;</td></tr><tr><td>99999</td><td>&quot;child29&quot;</td><td>&quot;Nancy Benjamin&quot;</td><td>&quot;1966-05-18&quot;</td></tr></tbody></table></div>"
      ],
      "text/plain": [
       "shape: (3_000_000, 4)\n",
       "┌────────┬─────────┬───────────────────┬────────────┐\n",
       "│ family ┆ child   ┆ name              ┆ dob        │\n",
       "│ ---    ┆ ---     ┆ ---               ┆ ---        │\n",
       "│ i64    ┆ str     ┆ str               ┆ str        │\n",
       "╞════════╪═════════╪═══════════════════╪════════════╡\n",
       "│ 0      ┆ child0  ┆ Brittany Mcdonald ┆ 1989-08-24 │\n",
       "│ 1      ┆ child0  ┆ Diana Welch       ┆ 1989-02-11 │\n",
       "│ 2      ┆ child0  ┆ Jamie Richards    ┆ 1973-11-04 │\n",
       "│ 3      ┆ child0  ┆ Michele Reed      ┆ 1994-11-05 │\n",
       "│ 4      ┆ child0  ┆ Steven Burgess    ┆ 1997-12-24 │\n",
       "│ …      ┆ …       ┆ …                 ┆ …          │\n",
       "│ 99995  ┆ child29 ┆ Patrick Solomon   ┆ 1920-03-12 │\n",
       "│ 99996  ┆ child29 ┆ Steven Smith      ┆ 1987-09-22 │\n",
       "│ 99997  ┆ child29 ┆ Scott Carlson     ┆ 1950-05-23 │\n",
       "│ 99998  ┆ child29 ┆ Veronica Collins  ┆ 1934-09-23 │\n",
       "│ 99999  ┆ child29 ┆ Nancy Benjamin    ┆ 1966-05-18 │\n",
       "└────────┴─────────┴───────────────────┴────────────┘"
      ]
     },
     "execution_count": 53,
     "metadata": {},
     "output_type": "execute_result"
    }
   ],
   "source": [
    "expression = pl.col(\"variable\").str.split(\"_\")\n",
    "expression = expression.list.to_struct(fields=[\"header\", \"child\"])\n",
    "out_naive = (\n",
    "    household_large.unpivot(index=\"family\")\n",
    "    .drop_nulls(\"value\")\n",
    "    .with_columns(variable=expression)\n",
    "    .unnest(\"variable\")\n",
    "    .pivot(index=[\"family\", \"child\"], on=\"header\", values=\"value\")\n",
    ")\n",
    "out_naive"
   ]
  },
  {
   "cell_type": "code",
   "execution_count": 54,
   "metadata": {},
   "outputs": [
    {
     "name": "stdout",
     "output_type": "stream",
     "text": [
      "1.23 s ± 6.81 ms per loop (mean ± std. dev. of 7 runs, 1 loop each)\n"
     ]
    }
   ],
   "source": [
    "%%timeit\n",
    "expression = pl.col(\"variable\").str.split(\"_\")\n",
    "expression = expression.list.to_struct(fields=[\"header\", \"child\"])\n",
    "(\n",
    "    household_large.unpivot(index=\"family\")\n",
    "    .drop_nulls(\"value\")\n",
    "    .with_columns(variable=expression)\n",
    "    .unnest(\"variable\")\n",
    "    .pivot(index=[\"family\", \"child\"], on=\"header\", values=\"value\")\n",
    ")"
   ]
  },
  {
   "cell_type": "code",
   "execution_count": 55,
   "metadata": {},
   "outputs": [],
   "source": [
    "def lreshape(df):\n",
    "    out = df.unpivot(index=\"family\")\n",
    "    out = out.drop_nulls(\"value\")\n",
    "    string = out.get_column(\"variable\")\n",
    "    string = string.str.split(\"_\")\n",
    "    string = string.list.to_struct(fields=[\"header\", \"child\"])\n",
    "    out = out.with_columns(variable=string)\n",
    "    out = out.unnest(\"variable\")\n",
    "    out = out.pivot(index=[\"family\", \"child\"], on=\"header\", values=\"value\")\n",
    "    return out"
   ]
  },
  {
   "cell_type": "code",
   "execution_count": 56,
   "metadata": {},
   "outputs": [
    {
     "name": "stdout",
     "output_type": "stream",
     "text": [
      "Timer unit: 1e-09 s\n",
      "\n",
      "Total time: 1.24179 s\n",
      "File: /var/folders/yh/003fk4jn5fl9kl3mnm1y0b1h0000gr/T/ipykernel_83318/2283907795.py\n",
      "Function: lreshape at line 1\n",
      "\n",
      "Line #      Hits         Time  Per Hit   % Time  Line Contents\n",
      "==============================================================\n",
      "     1                                           def lreshape(df):\n",
      "     2         1   56682000.0    6e+07      4.6      out = df.unpivot(index=\"family\")\n",
      "     3         1     242000.0 242000.0      0.0      out = out.drop_nulls(\"value\")\n",
      "     4         1       6000.0   6000.0      0.0      string = out.get_column(\"variable\")\n",
      "     5         1  232017000.0    2e+08     18.7      string = string.str.split(\"_\")\n",
      "     6         1   42616000.0    4e+07      3.4      string = string.list.to_struct(fields=[\"header\", \"child\"])\n",
      "     7         1    1193000.0    1e+06      0.1      out = out.with_columns(variable=string)\n",
      "     8         1      21000.0  21000.0      0.0      out = out.unnest(\"variable\")\n",
      "     9         1  909016000.0    9e+08     73.2      out = out.pivot(index=[\"family\", \"child\"], on=\"header\", values=\"value\")\n",
      "    10         1          0.0      0.0      0.0      return out"
     ]
    }
   ],
   "source": [
    "%lprun -f lreshape lreshape(household_large)"
   ]
  },
  {
   "cell_type": "markdown",
   "metadata": {},
   "source": [
    "```\n",
    "Timer unit: 1e-09 s\n",
    "\n",
    "Total time: 1.14191 s\n",
    "File: /var/folders/yh/003fk4jn5fl9kl3mnm1y0b1h0000gr/T/ipykernel_83318/2283907795.py\n",
    "Function: lreshape at line 1\n",
    "\n",
    "Line #      Hits         Time  Per Hit   % Time  Line Contents\n",
    "==============================================================\n",
    "     1                                           def lreshape(df):\n",
    "     2         1   55695000.0    6e+07      4.9      out = df.unpivot(index=\"family\")\n",
    "     3         1     268000.0 268000.0      0.0      out = out.drop_nulls(\"value\")\n",
    "     4         1       9000.0   9000.0      0.0      string = out.get_column(\"variable\")\n",
    "     5         1  222072000.0    2e+08     19.4      string = string.str.split(\"_\")\n",
    "     6         1   31940000.0    3e+07      2.8      string = string.list.to_struct(fields=[\"header\", \"child\"])\n",
    "     7         1    1298000.0    1e+06      0.1      out = out.with_columns(variable=string)\n",
    "     8         1      17000.0  17000.0      0.0      out = out.unnest(\"variable\")\n",
    "     9         1  830615000.0    8e+08     72.7      out = out.pivot(index=[\"family\", \"child\"], on=\"header\", values=\"value\")\n",
    "    10         1          0.0      0.0      0.0      return out\n",
    "```"
   ]
  },
  {
   "cell_type": "markdown",
   "metadata": {},
   "source": [
    "The `pivot` operation takes more than half of the reshaping; looks like a good place to start, with a view to improving performance, if possible. \n",
    "\n",
    "To possibly improve performance, we need to find a way to pair the headers(`dob`, `name`) with the relevant columns, before unpivoting. \n",
    "\n",
    "We will also process the columns before unpivoting, based on what we learnt from our [previous reshaping exercise](#Many-variables-in-column-names).\n",
    "\n",
    "Let's start with processing the columns :"
   ]
  },
  {
   "cell_type": "code",
   "execution_count": 57,
   "metadata": {},
   "outputs": [
    {
     "data": {
      "text/html": [
       "<div><style>\n",
       ".dataframe > thead > tr,\n",
       ".dataframe > tbody > tr {\n",
       "  text-align: right;\n",
       "  white-space: pre-wrap;\n",
       "}\n",
       "</style>\n",
       "<small>shape: (60, 3)</small><table border=\"1\" class=\"dataframe\"><thead><tr><th>header</th><th>child</th><th>columns</th></tr><tr><td>str</td><td>str</td><td>str</td></tr></thead><tbody><tr><td>&quot;name&quot;</td><td>&quot;child0&quot;</td><td>&quot;name_child0&quot;</td></tr><tr><td>&quot;dob&quot;</td><td>&quot;child0&quot;</td><td>&quot;dob_child0&quot;</td></tr><tr><td>&quot;name&quot;</td><td>&quot;child1&quot;</td><td>&quot;name_child1&quot;</td></tr><tr><td>&quot;dob&quot;</td><td>&quot;child1&quot;</td><td>&quot;dob_child1&quot;</td></tr><tr><td>&quot;name&quot;</td><td>&quot;child2&quot;</td><td>&quot;name_child2&quot;</td></tr><tr><td>&hellip;</td><td>&hellip;</td><td>&hellip;</td></tr><tr><td>&quot;dob&quot;</td><td>&quot;child27&quot;</td><td>&quot;dob_child27&quot;</td></tr><tr><td>&quot;name&quot;</td><td>&quot;child28&quot;</td><td>&quot;name_child28&quot;</td></tr><tr><td>&quot;dob&quot;</td><td>&quot;child28&quot;</td><td>&quot;dob_child28&quot;</td></tr><tr><td>&quot;name&quot;</td><td>&quot;child29&quot;</td><td>&quot;name_child29&quot;</td></tr><tr><td>&quot;dob&quot;</td><td>&quot;child29&quot;</td><td>&quot;dob_child29&quot;</td></tr></tbody></table></div>"
      ],
      "text/plain": [
       "shape: (60, 3)\n",
       "┌────────┬─────────┬──────────────┐\n",
       "│ header ┆ child   ┆ columns      │\n",
       "│ ---    ┆ ---     ┆ ---          │\n",
       "│ str    ┆ str     ┆ str          │\n",
       "╞════════╪═════════╪══════════════╡\n",
       "│ name   ┆ child0  ┆ name_child0  │\n",
       "│ dob    ┆ child0  ┆ dob_child0   │\n",
       "│ name   ┆ child1  ┆ name_child1  │\n",
       "│ dob    ┆ child1  ┆ dob_child1   │\n",
       "│ name   ┆ child2  ┆ name_child2  │\n",
       "│ …      ┆ …       ┆ …            │\n",
       "│ dob    ┆ child27 ┆ dob_child27  │\n",
       "│ name   ┆ child28 ┆ name_child28 │\n",
       "│ dob    ┆ child28 ┆ dob_child28  │\n",
       "│ name   ┆ child29 ┆ name_child29 │\n",
       "│ dob    ┆ child29 ┆ dob_child29  │\n",
       "└────────┴─────────┴──────────────┘"
      ]
     },
     "execution_count": 57,
     "metadata": {},
     "output_type": "execute_result"
    }
   ],
   "source": [
    "index = \"family\"\n",
    "columns = pl.Series(\"header\", household_large.columns)\n",
    "mask = columns.is_in([index]).not_()\n",
    "columns = columns.filter(mask)\n",
    "columns_ = columns.str.split(\"_\")\n",
    "columns_ = columns_.list.to_struct(fields=[\"header\", \"child\"])\n",
    "columns_ = columns_.struct.unnest()\n",
    "columns_ = columns_.with_columns(columns=columns)\n",
    "columns_"
   ]
  },
  {
   "cell_type": "markdown",
   "metadata": {},
   "source": [
    "The next step is to pair the `header` and `columns`, based on `child`:"
   ]
  },
  {
   "cell_type": "code",
   "execution_count": 58,
   "metadata": {},
   "outputs": [
    {
     "data": {
      "text/html": [
       "<div><style>\n",
       ".dataframe > thead > tr,\n",
       ".dataframe > tbody > tr {\n",
       "  text-align: right;\n",
       "  white-space: pre-wrap;\n",
       "}\n",
       "</style>\n",
       "<small>shape: (30, 3)</small><table border=\"1\" class=\"dataframe\"><thead><tr><th>child</th><th>header</th><th>columns</th></tr><tr><td>str</td><td>list[str]</td><td>list[str]</td></tr></thead><tbody><tr><td>&quot;child20&quot;</td><td>[&quot;name&quot;, &quot;dob&quot;]</td><td>[&quot;name_child20&quot;, &quot;dob_child20&quot;]</td></tr><tr><td>&quot;child18&quot;</td><td>[&quot;name&quot;, &quot;dob&quot;]</td><td>[&quot;name_child18&quot;, &quot;dob_child18&quot;]</td></tr><tr><td>&quot;child3&quot;</td><td>[&quot;name&quot;, &quot;dob&quot;]</td><td>[&quot;name_child3&quot;, &quot;dob_child3&quot;]</td></tr><tr><td>&quot;child26&quot;</td><td>[&quot;name&quot;, &quot;dob&quot;]</td><td>[&quot;name_child26&quot;, &quot;dob_child26&quot;]</td></tr><tr><td>&quot;child23&quot;</td><td>[&quot;name&quot;, &quot;dob&quot;]</td><td>[&quot;name_child23&quot;, &quot;dob_child23&quot;]</td></tr><tr><td>&hellip;</td><td>&hellip;</td><td>&hellip;</td></tr><tr><td>&quot;child5&quot;</td><td>[&quot;name&quot;, &quot;dob&quot;]</td><td>[&quot;name_child5&quot;, &quot;dob_child5&quot;]</td></tr><tr><td>&quot;child14&quot;</td><td>[&quot;name&quot;, &quot;dob&quot;]</td><td>[&quot;name_child14&quot;, &quot;dob_child14&quot;]</td></tr><tr><td>&quot;child27&quot;</td><td>[&quot;name&quot;, &quot;dob&quot;]</td><td>[&quot;name_child27&quot;, &quot;dob_child27&quot;]</td></tr><tr><td>&quot;child12&quot;</td><td>[&quot;name&quot;, &quot;dob&quot;]</td><td>[&quot;name_child12&quot;, &quot;dob_child12&quot;]</td></tr><tr><td>&quot;child16&quot;</td><td>[&quot;name&quot;, &quot;dob&quot;]</td><td>[&quot;name_child16&quot;, &quot;dob_child16&quot;]</td></tr></tbody></table></div>"
      ],
      "text/plain": [
       "shape: (30, 3)\n",
       "┌─────────┬─────────────────┬─────────────────────────────────┐\n",
       "│ child   ┆ header          ┆ columns                         │\n",
       "│ ---     ┆ ---             ┆ ---                             │\n",
       "│ str     ┆ list[str]       ┆ list[str]                       │\n",
       "╞═════════╪═════════════════╪═════════════════════════════════╡\n",
       "│ child20 ┆ [\"name\", \"dob\"] ┆ [\"name_child20\", \"dob_child20\"… │\n",
       "│ child18 ┆ [\"name\", \"dob\"] ┆ [\"name_child18\", \"dob_child18\"… │\n",
       "│ child3  ┆ [\"name\", \"dob\"] ┆ [\"name_child3\", \"dob_child3\"]   │\n",
       "│ child26 ┆ [\"name\", \"dob\"] ┆ [\"name_child26\", \"dob_child26\"… │\n",
       "│ child23 ┆ [\"name\", \"dob\"] ┆ [\"name_child23\", \"dob_child23\"… │\n",
       "│ …       ┆ …               ┆ …                               │\n",
       "│ child5  ┆ [\"name\", \"dob\"] ┆ [\"name_child5\", \"dob_child5\"]   │\n",
       "│ child14 ┆ [\"name\", \"dob\"] ┆ [\"name_child14\", \"dob_child14\"… │\n",
       "│ child27 ┆ [\"name\", \"dob\"] ┆ [\"name_child27\", \"dob_child27\"… │\n",
       "│ child12 ┆ [\"name\", \"dob\"] ┆ [\"name_child12\", \"dob_child12\"… │\n",
       "│ child16 ┆ [\"name\", \"dob\"] ┆ [\"name_child16\", \"dob_child16\"… │\n",
       "└─────────┴─────────────────┴─────────────────────────────────┘"
      ]
     },
     "execution_count": 58,
     "metadata": {},
     "output_type": "execute_result"
    }
   ],
   "source": [
    "# pass maintain_order=True\n",
    "# if you want to retain the order\n",
    "grouped = columns_.group_by(\"child\") \n",
    "grouped = grouped.agg(pl.all())\n",
    "grouped"
   ]
  },
  {
   "cell_type": "markdown",
   "metadata": {},
   "source": [
    "From the above we can see a relationship; we'll create structs of pairs, where the field names are the headers(`dob`, `name`) and the values in the structs are the relevant column names:"
   ]
  },
  {
   "cell_type": "code",
   "execution_count": 59,
   "metadata": {},
   "outputs": [],
   "source": [
    "expression = [index]\n",
    "zipped = zip(\n",
    "    grouped.get_column(\"header\").to_list(),\n",
    "    grouped.get_column(\"columns\").to_list(),\n",
    ")\n",
    "for num, (heads, column_names) in enumerate(zipped):\n",
    "    expr_ = dict(zip(heads, column_names))\n",
    "    expr_ = pl.struct(**expr_).alias(str(num))\n",
    "    expression.append(expr_)"
   ]
  },
  {
   "cell_type": "markdown",
   "metadata": {},
   "source": [
    "Now, we unpivot:"
   ]
  },
  {
   "cell_type": "code",
   "execution_count": 60,
   "metadata": {},
   "outputs": [
    {
     "data": {
      "text/html": [
       "<div><style>\n",
       ".dataframe > thead > tr,\n",
       ".dataframe > tbody > tr {\n",
       "  text-align: right;\n",
       "  white-space: pre-wrap;\n",
       "}\n",
       "</style>\n",
       "<small>shape: (3_000_000, 4)</small><table border=\"1\" class=\"dataframe\"><thead><tr><th>family</th><th>name</th><th>dob</th><th>child</th></tr><tr><td>i64</td><td>str</td><td>str</td><td>str</td></tr></thead><tbody><tr><td>0</td><td>&quot;Tanya Brandt&quot;</td><td>&quot;1943-08-16&quot;</td><td>&quot;child20&quot;</td></tr><tr><td>1</td><td>&quot;Ashley Schultz&quot;</td><td>&quot;1993-04-15&quot;</td><td>&quot;child20&quot;</td></tr><tr><td>2</td><td>&quot;Tina Benjamin&quot;</td><td>&quot;1911-02-01&quot;</td><td>&quot;child20&quot;</td></tr><tr><td>3</td><td>&quot;Eric Santos&quot;</td><td>&quot;1928-02-18&quot;</td><td>&quot;child20&quot;</td></tr><tr><td>4</td><td>&quot;Roger Meza&quot;</td><td>&quot;1934-12-10&quot;</td><td>&quot;child20&quot;</td></tr><tr><td>&hellip;</td><td>&hellip;</td><td>&hellip;</td><td>&hellip;</td></tr><tr><td>99995</td><td>&quot;Jennifer Flores&quot;</td><td>&quot;1933-06-17&quot;</td><td>&quot;child16&quot;</td></tr><tr><td>99996</td><td>&quot;Amanda Ruiz&quot;</td><td>&quot;2018-08-09&quot;</td><td>&quot;child16&quot;</td></tr><tr><td>99997</td><td>&quot;Angela Johnson&quot;</td><td>&quot;2015-06-24&quot;</td><td>&quot;child16&quot;</td></tr><tr><td>99998</td><td>&quot;Ashley Mitchell&quot;</td><td>&quot;1962-09-07&quot;</td><td>&quot;child16&quot;</td></tr><tr><td>99999</td><td>&quot;James Blair&quot;</td><td>&quot;1976-03-29&quot;</td><td>&quot;child16&quot;</td></tr></tbody></table></div>"
      ],
      "text/plain": [
       "shape: (3_000_000, 4)\n",
       "┌────────┬─────────────────┬────────────┬─────────┐\n",
       "│ family ┆ name            ┆ dob        ┆ child   │\n",
       "│ ---    ┆ ---             ┆ ---        ┆ ---     │\n",
       "│ i64    ┆ str             ┆ str        ┆ str     │\n",
       "╞════════╪═════════════════╪════════════╪═════════╡\n",
       "│ 0      ┆ Tanya Brandt    ┆ 1943-08-16 ┆ child20 │\n",
       "│ 1      ┆ Ashley Schultz  ┆ 1993-04-15 ┆ child20 │\n",
       "│ 2      ┆ Tina Benjamin   ┆ 1911-02-01 ┆ child20 │\n",
       "│ 3      ┆ Eric Santos     ┆ 1928-02-18 ┆ child20 │\n",
       "│ 4      ┆ Roger Meza      ┆ 1934-12-10 ┆ child20 │\n",
       "│ …      ┆ …               ┆ …          ┆ …       │\n",
       "│ 99995  ┆ Jennifer Flores ┆ 1933-06-17 ┆ child16 │\n",
       "│ 99996  ┆ Amanda Ruiz     ┆ 2018-08-09 ┆ child16 │\n",
       "│ 99997  ┆ Angela Johnson  ┆ 2015-06-24 ┆ child16 │\n",
       "│ 99998  ┆ Ashley Mitchell ┆ 1962-09-07 ┆ child16 │\n",
       "│ 99999  ┆ James Blair     ┆ 1976-03-29 ┆ child16 │\n",
       "└────────┴─────────────────┴────────────┴─────────┘"
      ]
     },
     "execution_count": 60,
     "metadata": {},
     "output_type": "execute_result"
    }
   ],
   "source": [
    "out = household_large.select(expression)\n",
    "out = out.select(pl.implode('*'))\n",
    "out = out.unpivot(index=index)\n",
    "out = out.with_columns(grouped.get_column('child'))\n",
    "out = out.drop('variable')\n",
    "out = out.explode(['family','value'])\n",
    "out = out.unnest('value')\n",
    "out"
   ]
  },
  {
   "cell_type": "code",
   "execution_count": 61,
   "metadata": {},
   "outputs": [
    {
     "data": {
      "text/plain": [
       "True"
      ]
     },
     "execution_count": 61,
     "metadata": {},
     "output_type": "execute_result"
    }
   ],
   "source": [
    "cols = out_naive.columns\n",
    "out_naive.sort(by=pl.all()).equals(out.select(cols).sort(by=pl.all()))"
   ]
  },
  {
   "cell_type": "code",
   "execution_count": 62,
   "metadata": {},
   "outputs": [
    {
     "name": "stdout",
     "output_type": "stream",
     "text": [
      "83.1 ms ± 190 μs per loop (mean ± std. dev. of 7 runs, 10 loops each)\n"
     ]
    }
   ],
   "source": [
    "%%timeit\n",
    "index = \"family\"\n",
    "columns = pl.Series(\"header\", household_large.columns)\n",
    "mask = columns.is_in([index]).not_()\n",
    "columns = columns.filter(mask)\n",
    "columns_ = columns.str.split(\"_\")\n",
    "columns_ = columns_.list.to_struct(fields=[\"header\", \"child\"])\n",
    "columns_ = columns_.struct.unnest()\n",
    "columns_ = columns_.with_columns(columns=columns)\n",
    "grouped = columns_.group_by(\"child\")\n",
    "grouped = grouped.agg(pl.all())\n",
    "expression = [index]\n",
    "zipped = zip(\n",
    "    grouped.get_column(\"header\").to_list(),\n",
    "    grouped.get_column(\"columns\").to_list(),\n",
    ")\n",
    "for num, (heads, column_names) in enumerate(zipped):\n",
    "    expr_ = dict(zip(heads, column_names))\n",
    "    expr_ = pl.struct(**expr_).alias(str(num))\n",
    "    expression.append(expr_)\n",
    "out = household_large.select(expression)\n",
    "out = out.select(pl.implode('*'))\n",
    "out = out.unpivot(index=index)\n",
    "out = out.with_columns(grouped.get_column('child'))\n",
    "out = out.drop('variable')\n",
    "out = out.explode(['family','value'])\n",
    "out = out.unnest('value')\n",
    "out"
   ]
  },
  {
   "cell_type": "markdown",
   "metadata": {},
   "source": [
    "By changing our approach (preprocess the columns, and grouping related columns into structs before unpivoting) we improve the peformance significantly - about 14x faster."
   ]
  },
  {
   "cell_type": "code",
   "execution_count": 63,
   "metadata": {},
   "outputs": [],
   "source": [
    "def lreshape_optimised(df):\n",
    "    index = \"family\"\n",
    "    columns = pl.Series(\"header\", df.columns)\n",
    "    mask = columns.is_in([index]).not_()\n",
    "    columns = columns.filter(mask)\n",
    "    columns_ = columns.str.split(\"_\")\n",
    "    columns_ = columns_.list.to_struct(fields=[\"header\", \"child\"])\n",
    "    columns_ = columns_.struct.unnest()\n",
    "    columns_ = columns_.with_columns(columns=columns)\n",
    "    grouped = columns_.group_by(\"child\")\n",
    "    grouped = grouped.agg(pl.all())\n",
    "    expression = [index]\n",
    "    zipped = zip(\n",
    "        grouped.get_column(\"header\").to_list(),\n",
    "        grouped.get_column(\"columns\").to_list(),\n",
    "    )\n",
    "    for num, (heads, column_names) in enumerate(zipped):\n",
    "        expr_ = dict(zip(heads, column_names))\n",
    "        expr_ = pl.struct(**expr_).alias(str(num))\n",
    "        expression.append(expr_)\n",
    "    out = df.select(expression)\n",
    "    out = out.select(pl.implode('*'))\n",
    "    out = out.unpivot(index=index)\n",
    "    out = out.with_columns(grouped.get_column('child'))\n",
    "    out = out.drop('variable')\n",
    "    out = out.explode(['family','value'])\n",
    "    out = out.unnest('value')\n",
    "    return out"
   ]
  },
  {
   "cell_type": "code",
   "execution_count": 64,
   "metadata": {},
   "outputs": [
    {
     "name": "stdout",
     "output_type": "stream",
     "text": [
      "Timer unit: 1e-09 s\n",
      "\n",
      "Total time: 0.083045 s\n",
      "File: /var/folders/yh/003fk4jn5fl9kl3mnm1y0b1h0000gr/T/ipykernel_83318/2813683113.py\n",
      "Function: lreshape_optimised at line 1\n",
      "\n",
      "Line #      Hits         Time  Per Hit   % Time  Line Contents\n",
      "==============================================================\n",
      "     1                                           def lreshape_optimised(df):\n",
      "     2         1       1000.0   1000.0      0.0      index = \"family\"\n",
      "     3         1      43000.0  43000.0      0.1      columns = pl.Series(\"header\", df.columns)\n",
      "     4         1     278000.0 278000.0      0.3      mask = columns.is_in([index]).not_()\n",
      "     5         1      12000.0  12000.0      0.0      columns = columns.filter(mask)\n",
      "     6         1     196000.0 196000.0      0.2      columns_ = columns.str.split(\"_\")\n",
      "     7         1     244000.0 244000.0      0.3      columns_ = columns_.list.to_struct(fields=[\"header\", \"child\"])\n",
      "     8         1       6000.0   6000.0      0.0      columns_ = columns_.struct.unnest()\n",
      "     9         1     127000.0 127000.0      0.2      columns_ = columns_.with_columns(columns=columns)\n",
      "    10         1       5000.0   5000.0      0.0      grouped = columns_.group_by(\"child\")\n",
      "    11         1     216000.0 216000.0      0.3      grouped = grouped.agg(pl.all())\n",
      "    12         1          0.0      0.0      0.0      expression = [index]\n",
      "    13         2       2000.0   1000.0      0.0      zipped = zip(\n",
      "    14         1      12000.0  12000.0      0.0          grouped.get_column(\"header\").to_list(),\n",
      "    15         1       7000.0   7000.0      0.0          grouped.get_column(\"columns\").to_list(),\n",
      "    16                                               )\n",
      "    17        31       7000.0    225.8      0.0      for num, (heads, column_names) in enumerate(zipped):\n",
      "    18        30      13000.0    433.3      0.0          expr_ = dict(zip(heads, column_names))\n",
      "    19        30     178000.0   5933.3      0.2          expr_ = pl.struct(**expr_).alias(str(num))\n",
      "    20        30       5000.0    166.7      0.0          expression.append(expr_)\n",
      "    21         1    1063000.0    1e+06      1.3      out = df.select(expression)\n",
      "    22         1    6824000.0    7e+06      8.2      out = out.select(pl.implode('*'))\n",
      "    23         1   53012000.0    5e+07     63.8      out = out.unpivot(index=index)\n",
      "    24         1      90000.0  90000.0      0.1      out = out.with_columns(grouped.get_column('child'))\n",
      "    25         1      23000.0  23000.0      0.0      out = out.drop('variable')\n",
      "    26         1   20647000.0    2e+07     24.9      out = out.explode(['family','value'])\n",
      "    27         1      34000.0  34000.0      0.0      out = out.unnest('value')\n",
      "    28         1          0.0      0.0      0.0      return out"
     ]
    }
   ],
   "source": [
    "%lprun -f lreshape_optimised lreshape_optimised(household_large)"
   ]
  },
  {
   "cell_type": "markdown",
   "metadata": {},
   "source": [
    "```\n",
    "Timer unit: 1e-09 s\n",
    "\n",
    "Total time: 0.08356 s\n",
    "File: /var/folders/yh/003fk4jn5fl9kl3mnm1y0b1h0000gr/T/ipykernel_83318/2813683113.py\n",
    "Function: lreshape_optimised at line 1\n",
    "\n",
    "Line #      Hits         Time  Per Hit   % Time  Line Contents\n",
    "==============================================================\n",
    "     1                                           def lreshape_optimised(df):\n",
    "     2         1          0.0      0.0      0.0      index = \"family\"\n",
    "     3         1      34000.0  34000.0      0.0      columns = pl.Series(\"header\", df.columns)\n",
    "     4         1     165000.0 165000.0      0.2      mask = columns.is_in([index]).not_()\n",
    "     5         1       6000.0   6000.0      0.0      columns = columns.filter(mask)\n",
    "     6         1     136000.0 136000.0      0.2      columns_ = columns.str.split(\"_\")\n",
    "     7         1     157000.0 157000.0      0.2      columns_ = columns_.list.to_struct(fields=[\"header\", \"child\"])\n",
    "     8         1       8000.0   8000.0      0.0      columns_ = columns_.struct.unnest()\n",
    "     9         1     187000.0 187000.0      0.2      columns_ = columns_.with_columns(columns=columns)\n",
    "    10         1       4000.0   4000.0      0.0      grouped = columns_.group_by(\"child\")\n",
    "    11         1     274000.0 274000.0      0.3      grouped = grouped.agg(pl.all())\n",
    "    12         1       1000.0   1000.0      0.0      expression = [index]\n",
    "    13         2       1000.0    500.0      0.0      zipped = zip(\n",
    "    14         1      14000.0  14000.0      0.0          grouped.get_column(\"header\").to_list(),\n",
    "    15         1       6000.0   6000.0      0.0          grouped.get_column(\"columns\").to_list(),\n",
    "    16                                               )\n",
    "    17        31       8000.0    258.1      0.0      for num, (heads, column_names) in enumerate(zipped):\n",
    "    18        30      12000.0    400.0      0.0          expr_ = dict(zip(heads, column_names))\n",
    "    19        30     193000.0   6433.3      0.2          expr_ = pl.struct(**expr_).alias(str(num))\n",
    "    20        30       5000.0    166.7      0.0          expression.append(expr_)\n",
    "    21         1     719000.0 719000.0      0.9      out = df.select(expression)\n",
    "    22         1    6927000.0    7e+06      8.3      out = out.select(pl.implode('*'))\n",
    "    23         1   57090000.0    6e+07     68.3      out = out.unpivot(index=index)\n",
    "    24         1      93000.0  93000.0      0.1      out = out.with_columns(grouped.get_column('child'))\n",
    "    25         1      23000.0  23000.0      0.0      out = out.drop('variable')\n",
    "    26         1   17479000.0    2e+07     20.9      out = out.explode(['family','value'])\n",
    "    27         1      18000.0  18000.0      0.0      out = out.unnest('value')\n",
    "    28         1          0.0      0.0      0.0      return out\n",
    "```"
   ]
  },
  {
   "cell_type": "markdown",
   "metadata": {
    "execution": {
     "iopub.execute_input": "2020-07-30T10:57:18.265994Z",
     "iopub.status.busy": "2020-07-30T10:57:18.265751Z",
     "iopub.status.idle": "2020-07-30T10:57:18.283104Z",
     "shell.execute_reply": "2020-07-30T10:57:18.280684Z",
     "shell.execute_reply.started": "2020-07-30T10:57:18.265970Z"
    }
   },
   "source": [
    "## **Summary**\n",
    "\n",
    "This blog post highlights how to flip from wide to long form efficiently. \n",
    "\n",
    "One thing to note is the verbosity of the faster approach. In another blog post, we'll have a look at two functions from the [pyjanitor](https://pyjanitor-devs.github.io/pyjanitor/) library that offer conciseness and efficiency when reshaping from wide to long form."
   ]
  }
 ],
 "metadata": {
  "jupytext": {
   "formats": "ipynb,md"
  },
  "kernelspec": {
   "display_name": "blogger",
   "language": "python",
   "name": "python3"
  },
  "language_info": {
   "codemirror_mode": {
    "name": "ipython",
    "version": 3
   },
   "file_extension": ".py",
   "mimetype": "text/x-python",
   "name": "python",
   "nbconvert_exporter": "python",
   "pygments_lexer": "ipython3",
   "version": "3.10.14"
  }
 },
 "nbformat": 4,
 "nbformat_minor": 4
}
