{
 "cells": [
  {
   "cell_type": "markdown",
   "metadata": {},
   "source": [
    "# \"Filtering Rows in Datatable\"\n",
    "> \"Explore various ways of filtering in python Datatable.\"\n",
    "\n",
    "- toc: true\n",
    "- branch: master\n",
    "- badges: true\n",
    "- hide_binder_badge: True\n",
    "- hide_colab_badge: True\n",
    "- comments: true\n",
    "- author: Samuel Oranyeli\n",
    "- categories: [python, datatable, filter, row selection]\n",
    "- hide: false\n",
    "- search_exclude: true\n",
    "- metadata_key1: \"python datatable\"\n",
    "- metadata_key2: \"filters\""
   ]
  },
  {
   "cell_type": "markdown",
   "metadata": {},
   "source": [
    "This article highlights various ways of filtering rows in python [datatable](https://datatable.readthedocs.io/en/latest/). The examples used here are based off the excellent [article](https://suzan.rbind.io/2018/02/dplyr-tutorial-3/) by [Susan Baert](https://twitter.com/SuzanBaert).\n",
    "\n",
    "The data file can be accessed [here](https://github.com/samukweku/data_files/raw/master/msleep.txt)"
   ]
  },
  {
   "cell_type": "markdown",
   "metadata": {},
   "source": [
    "## **Basic Row Filters**"
   ]
  },
  {
   "cell_type": "code",
   "execution_count": 1,
   "metadata": {},
   "outputs": [
    {
     "data": {
      "text/html": [
       "<style type='text/css'>\n",
       ".datatable table.frame { margin-bottom: 0; }\n",
       ".datatable table.frame thead { border-bottom: none; }\n",
       ".datatable table.frame tr.coltypes td {  color: #FFFFFF;  line-height: 6px;  padding: 0 0.5em;}\n",
       ".datatable .bool    { background: #DDDD99; }\n",
       ".datatable .object  { background: #565656; }\n",
       ".datatable .int     { background: #5D9E5D; }\n",
       ".datatable .float   { background: #4040CC; }\n",
       ".datatable .str     { background: #CC4040; }\n",
       ".datatable .time    { background: #40CC40; }\n",
       ".datatable .row_index {  background: var(--jp-border-color3);  border-right: 1px solid var(--jp-border-color0);  color: var(--jp-ui-font-color3);  font-size: 9px;}\n",
       ".datatable .frame tbody td { text-align: left; }\n",
       ".datatable .frame tr.coltypes .row_index {  background: var(--jp-border-color0);}\n",
       ".datatable th:nth-child(2) { padding-left: 12px; }\n",
       ".datatable .hellipsis {  color: var(--jp-cell-editor-border-color);}\n",
       ".datatable .vellipsis {  background: var(--jp-layout-color0);  color: var(--jp-cell-editor-border-color);}\n",
       ".datatable .na {  color: var(--jp-cell-editor-border-color);  font-size: 80%;}\n",
       ".datatable .sp {  opacity: 0.25;}\n",
       ".datatable .footer { font-size: 9px; }\n",
       ".datatable .frame_dimensions {  background: var(--jp-border-color3);  border-top: 1px solid var(--jp-border-color0);  color: var(--jp-ui-font-color3);  display: inline-block;  opacity: 0.6;  padding: 1px 10px 1px 5px;}\n",
       "</style>\n"
      ],
      "text/plain": [
       "<IPython.core.display.HTML object>"
      ]
     },
     "metadata": {},
     "output_type": "display_data"
    }
   ],
   "source": [
    "from datatable import dt, f\n",
    "from operator import and_, or_, xor, eq"
   ]
  },
  {
   "cell_type": "code",
   "execution_count": 2,
   "metadata": {},
   "outputs": [
    {
     "data": {
      "text/html": [
       "<div class='datatable'>\n",
       "  <table class='frame'>\n",
       "  <thead>\n",
       "    <tr class='colnames'><td class='row_index'></td><th>name</th><th>genus</th><th>vore</th><th>order</th><th>conservation</th><th>sleep_total</th><th>sleep_rem</th><th>sleep_cycle</th><th>awake</th><th>brainwt</th><th>bodywt</th></tr>\n",
       "    <tr class='coltypes'><td class='row_index'></td><td class='str' title='str32'>&#x25AA;&#x25AA;&#x25AA;&#x25AA;</td><td class='str' title='str32'>&#x25AA;&#x25AA;&#x25AA;&#x25AA;</td><td class='str' title='str32'>&#x25AA;&#x25AA;&#x25AA;&#x25AA;</td><td class='str' title='str32'>&#x25AA;&#x25AA;&#x25AA;&#x25AA;</td><td class='str' title='str32'>&#x25AA;&#x25AA;&#x25AA;&#x25AA;</td><td class='float' title='float64'>&#x25AA;&#x25AA;&#x25AA;&#x25AA;&#x25AA;&#x25AA;&#x25AA;&#x25AA;</td><td class='float' title='float64'>&#x25AA;&#x25AA;&#x25AA;&#x25AA;&#x25AA;&#x25AA;&#x25AA;&#x25AA;</td><td class='float' title='float64'>&#x25AA;&#x25AA;&#x25AA;&#x25AA;&#x25AA;&#x25AA;&#x25AA;&#x25AA;</td><td class='float' title='float64'>&#x25AA;&#x25AA;&#x25AA;&#x25AA;&#x25AA;&#x25AA;&#x25AA;&#x25AA;</td><td class='float' title='float64'>&#x25AA;&#x25AA;&#x25AA;&#x25AA;&#x25AA;&#x25AA;&#x25AA;&#x25AA;</td><td class='float' title='float64'>&#x25AA;&#x25AA;&#x25AA;&#x25AA;&#x25AA;&#x25AA;&#x25AA;&#x25AA;</td></tr>\n",
       "  </thead>\n",
       "  <tbody>\n",
       "    <tr><td class='row_index'>0</td><td>Cheetah</td><td>Acinonyx</td><td>carni</td><td>Carnivora</td><td>lc</td><td>12.1</td><td><span class=na>NA</span></td><td><span class=na>NA</span></td><td>11.9</td><td><span class=na>NA</span></td><td>50</td></tr>\n",
       "    <tr><td class='row_index'>1</td><td>Owl monkey</td><td>Aotus</td><td>omni</td><td>Primates</td><td><span class=na>NA</span></td><td>17</td><td>1.8</td><td><span class=na>NA</span></td><td>7</td><td>0.0155</td><td>0.48</td></tr>\n",
       "    <tr><td class='row_index'>2</td><td>Mountain beaver</td><td>Aplodontia</td><td>herbi</td><td>Rodentia</td><td>nt</td><td>14.4</td><td>2.4</td><td><span class=na>NA</span></td><td>9.6</td><td><span class=na>NA</span></td><td>1.35</td></tr>\n",
       "    <tr><td class='row_index'>3</td><td>Greater short-tailed shrew</td><td>Blarina</td><td>omni</td><td>Soricomorpha</td><td>lc</td><td>14.9</td><td>2.3</td><td>0.133333</td><td>9.1</td><td>0.00029</td><td>0.019</td></tr>\n",
       "    <tr><td class='row_index'>4</td><td>Cow</td><td>Bos</td><td>herbi</td><td>Artiodactyla</td><td>domesticated</td><td>4</td><td>0.7</td><td>0.666667</td><td>20</td><td>0.423</td><td>600</td></tr>\n",
       "  </tbody>\n",
       "  </table>\n",
       "  <div class='footer'>\n",
       "    <div class='frame_dimensions'>5 rows &times; 11 columns</div>\n",
       "  </div>\n",
       "</div>\n"
      ],
      "text/plain": [
       "<Frame#7f77b54fe5b0 5x11>"
      ]
     },
     "execution_count": 2,
     "metadata": {},
     "output_type": "execute_result"
    }
   ],
   "source": [
    "file_path = \"https://github.com/samukweku/data_files/raw/master/msleep.txt\"\n",
    "\n",
    "DT = dt.fread(file_path)\n",
    "\n",
    "DT.head(5)"
   ]
  },
  {
   "cell_type": "markdown",
   "metadata": {},
   "source": [
    "### Filtering Rows Based on a Numeric Variable"
   ]
  },
  {
   "cell_type": "markdown",
   "metadata": {},
   "source": [
    "You can filter numeric variables based on their values. A number of commonly used operators include: >, >=, <, <=, == and !=.\n",
    "\n",
    "Note that in datatable, filtration occurs in the ``i`` section: "
   ]
  },
  {
   "cell_type": "code",
   "execution_count": 3,
   "metadata": {},
   "outputs": [
    {
     "data": {
      "text/html": [
       "<div class='datatable'>\n",
       "  <table class='frame'>\n",
       "  <thead>\n",
       "    <tr class='colnames'><td class='row_index'></td><th>name</th><th>sleep_total</th></tr>\n",
       "    <tr class='coltypes'><td class='row_index'></td><td class='str' title='str32'>&#x25AA;&#x25AA;&#x25AA;&#x25AA;</td><td class='float' title='float64'>&#x25AA;&#x25AA;&#x25AA;&#x25AA;&#x25AA;&#x25AA;&#x25AA;&#x25AA;</td></tr>\n",
       "  </thead>\n",
       "  <tbody>\n",
       "    <tr><td class='row_index'>0</td><td>Big brown bat</td><td>19.7</td></tr>\n",
       "    <tr><td class='row_index'>1</td><td>Thick-tailed opposum</td><td>19.4</td></tr>\n",
       "    <tr><td class='row_index'>2</td><td>Little brown bat</td><td>19.9</td></tr>\n",
       "    <tr><td class='row_index'>3</td><td>Giant armadillo</td><td>18.1</td></tr>\n",
       "  </tbody>\n",
       "  </table>\n",
       "  <div class='footer'>\n",
       "    <div class='frame_dimensions'>4 rows &times; 2 columns</div>\n",
       "  </div>\n",
       "</div>\n"
      ],
      "text/plain": [
       "<Frame#7f77b54ff4b0 4x2>"
      ]
     },
     "execution_count": 3,
     "metadata": {},
     "output_type": "execute_result"
    }
   ],
   "source": [
    "DT[f.sleep_total > 18,  [\"name\", \"sleep_total\"]]"
   ]
  },
  {
   "cell_type": "markdown",
   "metadata": {},
   "source": [
    "To select a range of values, you can use two logical requirements; in the example below, only rows where `sleep_total` is greater than or equal to 16, and less than or equal to 18 are selected:"
   ]
  },
  {
   "cell_type": "code",
   "execution_count": 4,
   "metadata": {},
   "outputs": [
    {
     "data": {
      "text/html": [
       "<div class='datatable'>\n",
       "  <table class='frame'>\n",
       "  <thead>\n",
       "    <tr class='colnames'><td class='row_index'></td><th>name</th><th>sleep_total</th></tr>\n",
       "    <tr class='coltypes'><td class='row_index'></td><td class='str' title='str32'>&#x25AA;&#x25AA;&#x25AA;&#x25AA;</td><td class='float' title='float64'>&#x25AA;&#x25AA;&#x25AA;&#x25AA;&#x25AA;&#x25AA;&#x25AA;&#x25AA;</td></tr>\n",
       "  </thead>\n",
       "  <tbody>\n",
       "    <tr><td class='row_index'>0</td><td>Owl monkey</td><td>17</td></tr>\n",
       "    <tr><td class='row_index'>1</td><td>Long-nosed armadillo</td><td>17.4</td></tr>\n",
       "    <tr><td class='row_index'>2</td><td>North American Opossum</td><td>18</td></tr>\n",
       "    <tr><td class='row_index'>3</td><td>Arctic ground squirrel</td><td>16.6</td></tr>\n",
       "  </tbody>\n",
       "  </table>\n",
       "  <div class='footer'>\n",
       "    <div class='frame_dimensions'>4 rows &times; 2 columns</div>\n",
       "  </div>\n",
       "</div>\n"
      ],
      "text/plain": [
       "<Frame#7f77b54fe580 4x2>"
      ]
     },
     "execution_count": 4,
     "metadata": {},
     "output_type": "execute_result"
    }
   ],
   "source": [
    "DT[(f.sleep_total >= 16) & (f.sleep_total <= 18),  [\"name\", \"sleep_total\"]]"
   ]
  },
  {
   "cell_type": "markdown",
   "metadata": {},
   "source": [
    "Note in the code above, that each condition is wrapped in parentheses; this is to ensure that the correct output is obtained.\n",
    "\n",
    "In [Pandas](https://www.google.com/url?sa=t&rct=j&q=&esrc=s&source=web&cd=&cad=rja&uact=8&ved=2ahUKEwi-ybqouovvAhWRzjgGHcYtB1sQFjAAegQIAxAD&url=https%3A%2F%2Fpandas.pydata.org%2Fpandas-docs%2Fstable%2Freference%2Fapi%2Fpandas.Series.between.html&usg=AOvVaw2JuKj72awwkzd_18ykvwPx)/[dplyr](https://dplyr.tidyverse.org/reference/between.html)/[rdatatable](https://rdatatable.gitlab.io/data.table/reference/between.html), there is a `between` function that makes selection such as the above easier; at the moment, there is no equivalent function in [datatable](https://datatable.readthedocs.io/en/latest/api/index-api.html); you can create a temporary `between` function:"
   ]
  },
  {
   "cell_type": "code",
   "execution_count": 5,
   "metadata": {},
   "outputs": [
    {
     "data": {
      "text/html": [
       "<div class='datatable'>\n",
       "  <table class='frame'>\n",
       "  <thead>\n",
       "    <tr class='colnames'><td class='row_index'></td><th>name</th><th>sleep_total</th></tr>\n",
       "    <tr class='coltypes'><td class='row_index'></td><td class='str' title='str32'>&#x25AA;&#x25AA;&#x25AA;&#x25AA;</td><td class='float' title='float64'>&#x25AA;&#x25AA;&#x25AA;&#x25AA;&#x25AA;&#x25AA;&#x25AA;&#x25AA;</td></tr>\n",
       "  </thead>\n",
       "  <tbody>\n",
       "    <tr><td class='row_index'>0</td><td>Owl monkey</td><td>17</td></tr>\n",
       "    <tr><td class='row_index'>1</td><td>Long-nosed armadillo</td><td>17.4</td></tr>\n",
       "    <tr><td class='row_index'>2</td><td>North American Opossum</td><td>18</td></tr>\n",
       "    <tr><td class='row_index'>3</td><td>Arctic ground squirrel</td><td>16.6</td></tr>\n",
       "  </tbody>\n",
       "  </table>\n",
       "  <div class='footer'>\n",
       "    <div class='frame_dimensions'>4 rows &times; 2 columns</div>\n",
       "  </div>\n",
       "</div>\n"
      ],
      "text/plain": [
       "<Frame#7f77b54ffa50 4x2>"
      ]
     },
     "execution_count": 5,
     "metadata": {},
     "output_type": "execute_result"
    }
   ],
   "source": [
    "def between(column, left, right):\n",
    "    l = f[column]>=left\n",
    "    r = f[column]<=right\n",
    "    return l & r\n",
    "\n",
    "DT[between('sleep_total', 16, 18),  ['name', 'sleep_total']]\n"
   ]
  },
  {
   "cell_type": "markdown",
   "metadata": {},
   "source": [
    "There are scenarios where you may want to select rows where the value is nearly a given value. You may also want to specify a tolerance value to indicate how far the values can be. \n",
    "\n",
    "This can be replicated with the [isclose](https://datatable.readthedocs.io/en/latest/api/math/isclose.html) function in the [datatable.math](https://datatable.readthedocs.io/en/latest/api/math.html) submodule.\n",
    "\n",
    "Let's assume that the tolerance should be within one standard deviation of 17:"
   ]
  },
  {
   "cell_type": "code",
   "execution_count": 6,
   "metadata": {},
   "outputs": [
    {
     "data": {
      "text/html": [
       "<div class='datatable'>\n",
       "  <table class='frame'>\n",
       "  <thead>\n",
       "    <tr class='colnames'><td class='row_index'></td><th>name</th><th>sleep_total</th></tr>\n",
       "    <tr class='coltypes'><td class='row_index'></td><td class='str' title='str32'>&#x25AA;&#x25AA;&#x25AA;&#x25AA;</td><td class='float' title='float64'>&#x25AA;&#x25AA;&#x25AA;&#x25AA;&#x25AA;&#x25AA;&#x25AA;&#x25AA;</td></tr>\n",
       "  </thead>\n",
       "  <tbody>\n",
       "    <tr><td class='row_index'>0</td><td>Owl monkey</td><td>17</td></tr>\n",
       "    <tr><td class='row_index'>1</td><td>Mountain beaver</td><td>14.4</td></tr>\n",
       "    <tr><td class='row_index'>2</td><td>Greater short-tailed shrew</td><td>14.9</td></tr>\n",
       "    <tr><td class='row_index'>3</td><td>Three-toed sloth</td><td>14.4</td></tr>\n",
       "    <tr><td class='row_index'>4</td><td>Long-nosed armadillo</td><td>17.4</td></tr>\n",
       "    <tr><td class='row_index'>5</td><td>North American Opossum</td><td>18</td></tr>\n",
       "    <tr><td class='row_index'>6</td><td>Big brown bat</td><td>19.7</td></tr>\n",
       "    <tr><td class='row_index'>7</td><td>Western american chipmunk</td><td>14.9</td></tr>\n",
       "    <tr><td class='row_index'>8</td><td>Thick-tailed opposum</td><td>19.4</td></tr>\n",
       "    <tr><td class='row_index'>9</td><td>Mongolian gerbil</td><td>14.2</td></tr>\n",
       "    <tr><td class='row_index'>10</td><td>Golden hamster</td><td>14.3</td></tr>\n",
       "    <tr><td class='row_index'>11</td><td>Vole</td><td>12.8</td></tr>\n",
       "    <tr><td class='row_index'>12</td><td>Little brown bat</td><td>19.9</td></tr>\n",
       "    <tr><td class='row_index'>13</td><td>Round-tailed muskrat</td><td>14.6</td></tr>\n",
       "    <tr><td class='row_index'>14</td><td>Northern grasshopper mouse</td><td>14.5</td></tr>\n",
       "    <tr><td class='row_index'>15</td><td>Tiger</td><td>15.8</td></tr>\n",
       "    <tr><td class='row_index'>16</td><td>Lion</td><td>13.5</td></tr>\n",
       "    <tr><td class='row_index'>17</td><td>Phalanger</td><td>13.7</td></tr>\n",
       "    <tr><td class='row_index'>18</td><td>Giant armadillo</td><td>18.1</td></tr>\n",
       "    <tr><td class='row_index'>19</td><td>Laboratory rat</td><td>13</td></tr>\n",
       "    <tr><td class='row_index'>20</td><td>Arctic ground squirrel</td><td>16.6</td></tr>\n",
       "    <tr><td class='row_index'>21</td><td>Thirteen-lined ground squirrel</td><td>13.8</td></tr>\n",
       "    <tr><td class='row_index'>22</td><td>Golden-mantled ground squirrel</td><td>15.9</td></tr>\n",
       "    <tr><td class='row_index'>23</td><td>Musk shrew</td><td>12.8</td></tr>\n",
       "    <tr><td class='row_index'>24</td><td>Eastern american chipmunk</td><td>15.8</td></tr>\n",
       "    <tr><td class='row_index'>25</td><td>Tenrec</td><td>15.6</td></tr>\n",
       "  </tbody>\n",
       "  </table>\n",
       "  <div class='footer'>\n",
       "    <div class='frame_dimensions'>26 rows &times; 2 columns</div>\n",
       "  </div>\n",
       "</div>\n"
      ],
      "text/plain": [
       "<Frame#7f77b54ff2d0 26x2>"
      ]
     },
     "execution_count": 6,
     "metadata": {},
     "output_type": "execute_result"
    }
   ],
   "source": [
    "from datatable.math import isclose\n",
    "\n",
    "# calculate tolerance\n",
    "tolerance = DT['sleep_total'].sd1()\n",
    "\n",
    "DT[isclose(f.sleep_total, 17, atol = tolerance),  ['name', 'sleep_total']]"
   ]
  },
  {
   "cell_type": "markdown",
   "metadata": {},
   "source": [
    "### Filtering based on String Matches"
   ]
  },
  {
   "cell_type": "markdown",
   "metadata": {},
   "source": [
    "You can select on string matches as well; in the example below, the ``==`` comparison operator is used to select a specific group of animals:"
   ]
  },
  {
   "cell_type": "code",
   "execution_count": 7,
   "metadata": {},
   "outputs": [
    {
     "data": {
      "text/html": [
       "<div class='datatable'>\n",
       "  <table class='frame'>\n",
       "  <thead>\n",
       "    <tr class='colnames'><td class='row_index'></td><th>order</th><th>name</th><th>sleep_total</th></tr>\n",
       "    <tr class='coltypes'><td class='row_index'></td><td class='str' title='str32'>&#x25AA;&#x25AA;&#x25AA;&#x25AA;</td><td class='str' title='str32'>&#x25AA;&#x25AA;&#x25AA;&#x25AA;</td><td class='float' title='float64'>&#x25AA;&#x25AA;&#x25AA;&#x25AA;&#x25AA;&#x25AA;&#x25AA;&#x25AA;</td></tr>\n",
       "  </thead>\n",
       "  <tbody>\n",
       "    <tr><td class='row_index'>0</td><td>Didelphimorphia</td><td>North American Opossum</td><td>18</td></tr>\n",
       "    <tr><td class='row_index'>1</td><td>Didelphimorphia</td><td>Thick-tailed opposum</td><td>19.4</td></tr>\n",
       "  </tbody>\n",
       "  </table>\n",
       "  <div class='footer'>\n",
       "    <div class='frame_dimensions'>2 rows &times; 3 columns</div>\n",
       "  </div>\n",
       "</div>\n"
      ],
      "text/plain": [
       "<Frame#7f77b54ff600 2x3>"
      ]
     },
     "execution_count": 7,
     "metadata": {},
     "output_type": "execute_result"
    }
   ],
   "source": [
    "DT[f.order == \"Didelphimorphia\",  [\"order\", \"name\", \"sleep_total\"]]"
   ]
  },
  {
   "cell_type": "markdown",
   "metadata": {},
   "source": [
    "Other operators can be used also:"
   ]
  },
  {
   "cell_type": "code",
   "execution_count": 8,
   "metadata": {},
   "outputs": [
    {
     "data": {
      "text/html": [
       "<div class='datatable'>\n",
       "  <table class='frame'>\n",
       "  <thead>\n",
       "    <tr class='colnames'><td class='row_index'></td><th>order</th><th>name</th><th>sleep_total</th></tr>\n",
       "    <tr class='coltypes'><td class='row_index'></td><td class='str' title='str32'>&#x25AA;&#x25AA;&#x25AA;&#x25AA;</td><td class='str' title='str32'>&#x25AA;&#x25AA;&#x25AA;&#x25AA;</td><td class='float' title='float64'>&#x25AA;&#x25AA;&#x25AA;&#x25AA;&#x25AA;&#x25AA;&#x25AA;&#x25AA;</td></tr>\n",
       "  </thead>\n",
       "  <tbody>\n",
       "    <tr><td class='row_index'>0</td><td>Carnivora</td><td>Cheetah</td><td>12.1</td></tr>\n",
       "    <tr><td class='row_index'>1</td><td>Primates</td><td>Owl monkey</td><td>17</td></tr>\n",
       "    <tr><td class='row_index'>2</td><td>Soricomorpha</td><td>Greater short-tailed shrew</td><td>14.9</td></tr>\n",
       "    <tr><td class='row_index'>3</td><td>Artiodactyla</td><td>Cow</td><td>4</td></tr>\n",
       "    <tr><td class='row_index'>4</td><td>Pilosa</td><td>Three-toed sloth</td><td>14.4</td></tr>\n",
       "    <tr><td class='row_index'>5</td><td>Carnivora</td><td>Northern fur seal</td><td>8.7</td></tr>\n",
       "    <tr><td class='row_index'>6</td><td>Carnivora</td><td>Dog</td><td>10.1</td></tr>\n",
       "    <tr><td class='row_index'>7</td><td>Artiodactyla</td><td>Roe deer</td><td>3</td></tr>\n",
       "    <tr><td class='row_index'>8</td><td>Artiodactyla</td><td>Goat</td><td>5.3</td></tr>\n",
       "    <tr><td class='row_index'>9</td><td>Primates</td><td>Grivet</td><td>10</td></tr>\n",
       "    <tr><td class='row_index'>10</td><td>Soricomorpha</td><td>Star-nosed mole</td><td>10.3</td></tr>\n",
       "    <tr><td class='row_index'>11</td><td>Soricomorpha</td><td>Lesser short-tailed shrew</td><td>9.1</td></tr>\n",
       "    <tr><td class='row_index'>12</td><td>Cingulata</td><td>Long-nosed armadillo</td><td>17.4</td></tr>\n",
       "    <tr><td class='row_index'>13</td><td>Hyracoidea</td><td>Tree hyrax</td><td>5.3</td></tr>\n",
       "    <tr><td class='row_index'>14</td><td>Didelphimorphia</td><td>North American Opossum</td><td>18</td></tr>\n",
       "    <tr><td class='row_index'>&#x22EE;</td><td class='hellipsis'>&#x22EE;</td><td class='hellipsis'>&#x22EE;</td><td class='hellipsis'>&#x22EE;</td></tr>\n",
       "    <tr><td class='row_index'>56</td><td>Scandentia</td><td>Tree shrew</td><td>8.9</td></tr>\n",
       "    <tr><td class='row_index'>57</td><td>Cetacea</td><td>Bottle-nosed dolphin</td><td>5.2</td></tr>\n",
       "    <tr><td class='row_index'>58</td><td>Carnivora</td><td>Genet</td><td>6.3</td></tr>\n",
       "    <tr><td class='row_index'>59</td><td>Carnivora</td><td>Arctic fox</td><td>12.5</td></tr>\n",
       "    <tr><td class='row_index'>60</td><td>Carnivora</td><td>Red fox</td><td>9.8</td></tr>\n",
       "  </tbody>\n",
       "  </table>\n",
       "  <div class='footer'>\n",
       "    <div class='frame_dimensions'>61 rows &times; 3 columns</div>\n",
       "  </div>\n",
       "</div>\n"
      ],
      "text/plain": [
       "<Frame#7f77b54fe550 61x3>"
      ]
     },
     "execution_count": 8,
     "metadata": {},
     "output_type": "execute_result"
    }
   ],
   "source": [
    "DT[f.order != 'Rodentia',  ['order', 'name', 'sleep_total']]\n"
   ]
  },
  {
   "cell_type": "code",
   "execution_count": 9,
   "metadata": {},
   "outputs": [
    {
     "data": {
      "text/html": [
       "<div class='datatable'>\n",
       "  <table class='frame'>\n",
       "  <thead>\n",
       "    <tr class='colnames'><td class='row_index'></td><th>order</th><th>name</th><th>sleep_total</th></tr>\n",
       "    <tr class='coltypes'><td class='row_index'></td><td class='str' title='str32'>&#x25AA;&#x25AA;&#x25AA;&#x25AA;</td><td class='str' title='str32'>&#x25AA;&#x25AA;&#x25AA;&#x25AA;</td><td class='float' title='float64'>&#x25AA;&#x25AA;&#x25AA;&#x25AA;&#x25AA;&#x25AA;&#x25AA;&#x25AA;</td></tr>\n",
       "  </thead>\n",
       "  <tbody>\n",
       "    <tr><td class='row_index'>0</td><td>Rodentia</td><td>Vesper mouse</td><td>7</td></tr>\n",
       "    <tr><td class='row_index'>1</td><td>Rodentia</td><td>Western american chipmunk</td><td>14.9</td></tr>\n",
       "    <tr><td class='row_index'>2</td><td>Rodentia</td><td>Vole</td><td>12.8</td></tr>\n",
       "  </tbody>\n",
       "  </table>\n",
       "  <div class='footer'>\n",
       "    <div class='frame_dimensions'>3 rows &times; 3 columns</div>\n",
       "  </div>\n",
       "</div>\n"
      ],
      "text/plain": [
       "<Frame#7f77b54ff300 3x3>"
      ]
     },
     "execution_count": 9,
     "metadata": {},
     "output_type": "execute_result"
    }
   ],
   "source": [
    "DT[f.name > 'V', ['order', 'name', 'sleep_total']]"
   ]
  },
  {
   "cell_type": "markdown",
   "metadata": {},
   "source": [
    "In the examples above, only one animal is used; to select more animals, you could pass a list of conditions, with the `|` (or) symbol:"
   ]
  },
  {
   "cell_type": "code",
   "execution_count": 10,
   "metadata": {},
   "outputs": [
    {
     "data": {
      "text/html": [
       "<div class='datatable'>\n",
       "  <table class='frame'>\n",
       "  <thead>\n",
       "    <tr class='colnames'><td class='row_index'></td><th>order</th><th>name</th><th>sleep_total</th></tr>\n",
       "    <tr class='coltypes'><td class='row_index'></td><td class='str' title='str32'>&#x25AA;&#x25AA;&#x25AA;&#x25AA;</td><td class='str' title='str32'>&#x25AA;&#x25AA;&#x25AA;&#x25AA;</td><td class='float' title='float64'>&#x25AA;&#x25AA;&#x25AA;&#x25AA;&#x25AA;&#x25AA;&#x25AA;&#x25AA;</td></tr>\n",
       "  </thead>\n",
       "  <tbody>\n",
       "    <tr><td class='row_index'>0</td><td>Didelphimorphia</td><td>North American Opossum</td><td>18</td></tr>\n",
       "    <tr><td class='row_index'>1</td><td>Didelphimorphia</td><td>Thick-tailed opposum</td><td>19.4</td></tr>\n",
       "    <tr><td class='row_index'>2</td><td>Diprotodontia</td><td>Phalanger</td><td>13.7</td></tr>\n",
       "    <tr><td class='row_index'>3</td><td>Diprotodontia</td><td>Potoroo</td><td>11.1</td></tr>\n",
       "  </tbody>\n",
       "  </table>\n",
       "  <div class='footer'>\n",
       "    <div class='frame_dimensions'>4 rows &times; 3 columns</div>\n",
       "  </div>\n",
       "</div>\n"
      ],
      "text/plain": [
       "<Frame#7f77b54fec40 4x3>"
      ]
     },
     "execution_count": 10,
     "metadata": {},
     "output_type": "execute_result"
    }
   ],
   "source": [
    "rows = (f.order == \"Didelphimorphia\") | (f.order == \"Diprotodontia\")\n",
    "\n",
    "columns = ['order', 'name', 'sleep_total']\n",
    "\n",
    "DT[rows, columns]"
   ]
  },
  {
   "cell_type": "markdown",
   "metadata": {},
   "source": [
    "However, this can become unwieldy, as the number of animals increase. At the moment, there is no equivalent of python's [in](https://docs.python.org/3/reference/expressions.html#membership-test-operations) operator in [datatable](https://datatable.readthedocs.io/en/latest/api/index-api.html); let's create a temporary [function](https://stackoverflow.com/a/61509482/7175713) to help with this:"
   ]
  },
  {
   "cell_type": "code",
   "execution_count": 11,
   "metadata": {},
   "outputs": [
    {
     "data": {
      "text/html": [
       "<div class='datatable'>\n",
       "  <table class='frame'>\n",
       "  <thead>\n",
       "    <tr class='colnames'><td class='row_index'></td><th>order</th><th>name</th><th>sleep_total</th></tr>\n",
       "    <tr class='coltypes'><td class='row_index'></td><td class='str' title='str32'>&#x25AA;&#x25AA;&#x25AA;&#x25AA;</td><td class='str' title='str32'>&#x25AA;&#x25AA;&#x25AA;&#x25AA;</td><td class='float' title='float64'>&#x25AA;&#x25AA;&#x25AA;&#x25AA;&#x25AA;&#x25AA;&#x25AA;&#x25AA;</td></tr>\n",
       "  </thead>\n",
       "  <tbody>\n",
       "    <tr><td class='row_index'>0</td><td>Didelphimorphia</td><td>North American Opossum</td><td>18</td></tr>\n",
       "    <tr><td class='row_index'>1</td><td>Didelphimorphia</td><td>Thick-tailed opposum</td><td>19.4</td></tr>\n",
       "    <tr><td class='row_index'>2</td><td>Diprotodontia</td><td>Phalanger</td><td>13.7</td></tr>\n",
       "    <tr><td class='row_index'>3</td><td>Diprotodontia</td><td>Potoroo</td><td>11.1</td></tr>\n",
       "  </tbody>\n",
       "  </table>\n",
       "  <div class='footer'>\n",
       "    <div class='frame_dimensions'>4 rows &times; 3 columns</div>\n",
       "  </div>\n",
       "</div>\n"
      ],
      "text/plain": [
       "<Frame#7f77b54ff5a0 4x3>"
      ]
     },
     "execution_count": 11,
     "metadata": {},
     "output_type": "execute_result"
    }
   ],
   "source": [
    "from functools import reduce\n",
    "\n",
    "def isin(column, sequence_of_labels):\n",
    "    func = lambda x: f[column] == x\n",
    "    return reduce(or_, map(func, sequence_of_labels))\n",
    "\n",
    "\n",
    "labels =  (\"Didelphimorphia\", \"Diprotodontia\")\n",
    "\n",
    "columns = [\"order\", \"name\", \"sleep_total\"]\n",
    "\n",
    "DT[isin('order', labels), columns]"
   ]
  },
  {
   "cell_type": "markdown",
   "metadata": {},
   "source": [
    "You can also deselect certain groups using the `isin` function above, and combine it with the `~` symbol:"
   ]
  },
  {
   "cell_type": "code",
   "execution_count": 12,
   "metadata": {},
   "outputs": [
    {
     "data": {
      "text/html": [
       "<div class='datatable'>\n",
       "  <table class='frame'>\n",
       "  <thead>\n",
       "    <tr class='colnames'><td class='row_index'></td><th>order</th><th>name</th><th>sleep_total</th></tr>\n",
       "    <tr class='coltypes'><td class='row_index'></td><td class='str' title='str32'>&#x25AA;&#x25AA;&#x25AA;&#x25AA;</td><td class='str' title='str32'>&#x25AA;&#x25AA;&#x25AA;&#x25AA;</td><td class='float' title='float64'>&#x25AA;&#x25AA;&#x25AA;&#x25AA;&#x25AA;&#x25AA;&#x25AA;&#x25AA;</td></tr>\n",
       "  </thead>\n",
       "  <tbody>\n",
       "    <tr><td class='row_index'>0</td><td>Soricomorpha</td><td>Greater short-tailed shrew</td><td>14.9</td></tr>\n",
       "    <tr><td class='row_index'>1</td><td>Artiodactyla</td><td>Cow</td><td>4</td></tr>\n",
       "    <tr><td class='row_index'>2</td><td>Pilosa</td><td>Three-toed sloth</td><td>14.4</td></tr>\n",
       "    <tr><td class='row_index'>3</td><td>Artiodactyla</td><td>Roe deer</td><td>3</td></tr>\n",
       "    <tr><td class='row_index'>4</td><td>Artiodactyla</td><td>Goat</td><td>5.3</td></tr>\n",
       "    <tr><td class='row_index'>5</td><td>Soricomorpha</td><td>Star-nosed mole</td><td>10.3</td></tr>\n",
       "    <tr><td class='row_index'>6</td><td>Soricomorpha</td><td>Lesser short-tailed shrew</td><td>9.1</td></tr>\n",
       "    <tr><td class='row_index'>7</td><td>Cingulata</td><td>Long-nosed armadillo</td><td>17.4</td></tr>\n",
       "    <tr><td class='row_index'>8</td><td>Hyracoidea</td><td>Tree hyrax</td><td>5.3</td></tr>\n",
       "    <tr><td class='row_index'>9</td><td>Didelphimorphia</td><td>North American Opossum</td><td>18</td></tr>\n",
       "    <tr><td class='row_index'>10</td><td>Proboscidea</td><td>Asian elephant</td><td>3.9</td></tr>\n",
       "    <tr><td class='row_index'>11</td><td>Chiroptera</td><td>Big brown bat</td><td>19.7</td></tr>\n",
       "    <tr><td class='row_index'>12</td><td>Perissodactyla</td><td>Horse</td><td>2.9</td></tr>\n",
       "    <tr><td class='row_index'>13</td><td>Perissodactyla</td><td>Donkey</td><td>3.1</td></tr>\n",
       "    <tr><td class='row_index'>14</td><td>Erinaceomorpha</td><td>European hedgehog</td><td>10.1</td></tr>\n",
       "    <tr><td class='row_index'>&#x22EE;</td><td class='hellipsis'>&#x22EE;</td><td class='hellipsis'>&#x22EE;</td><td class='hellipsis'>&#x22EE;</td></tr>\n",
       "    <tr><td class='row_index'>32</td><td>Monotremata</td><td>Short-nosed echidna</td><td>8.6</td></tr>\n",
       "    <tr><td class='row_index'>33</td><td>Perissodactyla</td><td>Brazilian tapir</td><td>4.4</td></tr>\n",
       "    <tr><td class='row_index'>34</td><td>Afrosoricida</td><td>Tenrec</td><td>15.6</td></tr>\n",
       "    <tr><td class='row_index'>35</td><td>Scandentia</td><td>Tree shrew</td><td>8.9</td></tr>\n",
       "    <tr><td class='row_index'>36</td><td>Cetacea</td><td>Bottle-nosed dolphin</td><td>5.2</td></tr>\n",
       "  </tbody>\n",
       "  </table>\n",
       "  <div class='footer'>\n",
       "    <div class='frame_dimensions'>37 rows &times; 3 columns</div>\n",
       "  </div>\n",
       "</div>\n"
      ],
      "text/plain": [
       "<Frame#7f77b54ff8a0 37x3>"
      ]
     },
     "execution_count": 12,
     "metadata": {},
     "output_type": "execute_result"
    }
   ],
   "source": [
    "labels = (\"Rodentia\", \"Carnivora\", \"Primates\")\n",
    "\n",
    "columns = ['order', 'name', 'sleep_total']\n",
    "\n",
    "DT[~isin('order', labels), columns]"
   ]
  },
  {
   "cell_type": "markdown",
   "metadata": {},
   "source": [
    "### Filtering Rows Based on Regex"
   ]
  },
  {
   "cell_type": "markdown",
   "metadata": {},
   "source": [
    "There are scenarios where you need to filter string columns based on partial matches; a regular expression comes in handy here.\n",
    "\n",
    "At the moment, there are very few string functions in [datatable](https://datatable.readthedocs.io/en/latest/api/index-api.html); However, we can make do with the `re_match` function, which is similar to Python's [re.match](https://docs.python.org/3/library/re.html#re.Pattern.match) to get by.\n",
    "\n",
    "Let's filter for rows where `mouse` can be found in the column `name`:"
   ]
  },
  {
   "cell_type": "code",
   "execution_count": 13,
   "metadata": {},
   "outputs": [
    {
     "data": {
      "text/html": [
       "<div class='datatable'>\n",
       "  <table class='frame'>\n",
       "  <thead>\n",
       "    <tr class='colnames'><td class='row_index'></td><th>name</th><th>sleep_total</th></tr>\n",
       "    <tr class='coltypes'><td class='row_index'></td><td class='str' title='str32'>&#x25AA;&#x25AA;&#x25AA;&#x25AA;</td><td class='float' title='float64'>&#x25AA;&#x25AA;&#x25AA;&#x25AA;&#x25AA;&#x25AA;&#x25AA;&#x25AA;</td></tr>\n",
       "  </thead>\n",
       "  <tbody>\n",
       "    <tr><td class='row_index'>0</td><td>North American Opossum</td><td>18</td></tr>\n",
       "    <tr><td class='row_index'>1</td><td>Thick-tailed opposum</td><td>19.4</td></tr>\n",
       "    <tr><td class='row_index'>2</td><td>Phalanger</td><td>13.7</td></tr>\n",
       "    <tr><td class='row_index'>3</td><td>Potoroo</td><td>11.1</td></tr>\n",
       "  </tbody>\n",
       "  </table>\n",
       "  <div class='footer'>\n",
       "    <div class='frame_dimensions'>4 rows &times; 2 columns</div>\n",
       "  </div>\n",
       "</div>\n"
      ],
      "text/plain": [
       "<Frame#7f77b54ff9f0 4x2>"
      ]
     },
     "execution_count": 13,
     "metadata": {},
     "output_type": "execute_result"
    }
   ],
   "source": [
    "columns = ['name', 'sleep_total']\n",
    "\n",
    "# returns a boolean column \n",
    "row = dt.re.match(f.name, '.*mouse.*')\n",
    "\n",
    "DT[rows, columns]"
   ]
  },
  {
   "cell_type": "markdown",
   "metadata": {},
   "source": [
    "### Filtering Rows based on Multiple Conditions"
   ]
  },
  {
   "cell_type": "markdown",
   "metadata": {},
   "source": [
    "Select rows with a `bodywt` above 100 and either have a `sleep_total` above 15, or are not part of the `Carnivora` `order`:"
   ]
  },
  {
   "cell_type": "code",
   "execution_count": 14,
   "metadata": {},
   "outputs": [
    {
     "data": {
      "text/html": [
       "<div class='datatable'>\n",
       "  <table class='frame'>\n",
       "  <thead>\n",
       "    <tr class='colnames'><td class='row_index'></td><th>name</th><th>order</th><th>sleep_total</th><th>sleep_rem</th><th>sleep_cycle</th><th>awake</th><th>brainwt</th><th>bodywt</th></tr>\n",
       "    <tr class='coltypes'><td class='row_index'></td><td class='str' title='str32'>&#x25AA;&#x25AA;&#x25AA;&#x25AA;</td><td class='str' title='str32'>&#x25AA;&#x25AA;&#x25AA;&#x25AA;</td><td class='float' title='float64'>&#x25AA;&#x25AA;&#x25AA;&#x25AA;&#x25AA;&#x25AA;&#x25AA;&#x25AA;</td><td class='float' title='float64'>&#x25AA;&#x25AA;&#x25AA;&#x25AA;&#x25AA;&#x25AA;&#x25AA;&#x25AA;</td><td class='float' title='float64'>&#x25AA;&#x25AA;&#x25AA;&#x25AA;&#x25AA;&#x25AA;&#x25AA;&#x25AA;</td><td class='float' title='float64'>&#x25AA;&#x25AA;&#x25AA;&#x25AA;&#x25AA;&#x25AA;&#x25AA;&#x25AA;</td><td class='float' title='float64'>&#x25AA;&#x25AA;&#x25AA;&#x25AA;&#x25AA;&#x25AA;&#x25AA;&#x25AA;</td><td class='float' title='float64'>&#x25AA;&#x25AA;&#x25AA;&#x25AA;&#x25AA;&#x25AA;&#x25AA;&#x25AA;</td></tr>\n",
       "  </thead>\n",
       "  <tbody>\n",
       "    <tr><td class='row_index'>0</td><td>Cow</td><td>Artiodactyla</td><td>4</td><td>0.7</td><td>0.666667</td><td>20</td><td>0.423</td><td>600</td></tr>\n",
       "    <tr><td class='row_index'>1</td><td>Asian elephant</td><td>Proboscidea</td><td>3.9</td><td><span class=na>NA</span></td><td><span class=na>NA</span></td><td>20.1</td><td>4.603</td><td>2547</td></tr>\n",
       "    <tr><td class='row_index'>2</td><td>Horse</td><td>Perissodactyla</td><td>2.9</td><td>0.6</td><td>1</td><td>21.1</td><td>0.655</td><td>521</td></tr>\n",
       "    <tr><td class='row_index'>3</td><td>Donkey</td><td>Perissodactyla</td><td>3.1</td><td>0.4</td><td><span class=na>NA</span></td><td>20.9</td><td>0.419</td><td>187</td></tr>\n",
       "    <tr><td class='row_index'>4</td><td>Giraffe</td><td>Artiodactyla</td><td>1.9</td><td>0.4</td><td><span class=na>NA</span></td><td>22.1</td><td><span class=na>NA</span></td><td>899.995</td></tr>\n",
       "    <tr><td class='row_index'>5</td><td>Pilot whale</td><td>Cetacea</td><td>2.7</td><td>0.1</td><td><span class=na>NA</span></td><td>21.35</td><td><span class=na>NA</span></td><td>800</td></tr>\n",
       "    <tr><td class='row_index'>6</td><td>African elephant</td><td>Proboscidea</td><td>3.3</td><td><span class=na>NA</span></td><td><span class=na>NA</span></td><td>20.7</td><td>5.712</td><td>6654</td></tr>\n",
       "    <tr><td class='row_index'>7</td><td>Tiger</td><td>Carnivora</td><td>15.8</td><td><span class=na>NA</span></td><td><span class=na>NA</span></td><td>8.2</td><td><span class=na>NA</span></td><td>162.564</td></tr>\n",
       "    <tr><td class='row_index'>8</td><td>Brazilian tapir</td><td>Perissodactyla</td><td>4.4</td><td>1</td><td>0.9</td><td>19.6</td><td>0.169</td><td>207.501</td></tr>\n",
       "    <tr><td class='row_index'>9</td><td>Bottle-nosed dolphin</td><td>Cetacea</td><td>5.2</td><td><span class=na>NA</span></td><td><span class=na>NA</span></td><td>18.8</td><td><span class=na>NA</span></td><td>173.33</td></tr>\n",
       "  </tbody>\n",
       "  </table>\n",
       "  <div class='footer'>\n",
       "    <div class='frame_dimensions'>10 rows &times; 8 columns</div>\n",
       "  </div>\n",
       "</div>\n"
      ],
      "text/plain": [
       "<Frame#7f77b54ff420 10x8>"
      ]
     },
     "execution_count": 14,
     "metadata": {},
     "output_type": "execute_result"
    }
   ],
   "source": [
    "rows = (f.bodywt > 100) & ((f.sleep_total > 15) | (f.order != \"Carnivora\"))\n",
    "\n",
    "columns = [\"name\", \"order\", slice(\"sleep_total\", \"bodywt\")]\n",
    "\n",
    "DT[rows, columns]"
   ]
  },
  {
   "cell_type": "markdown",
   "metadata": {},
   "source": [
    "Return rows where `bodywt` is either greater than 100 or `brainwt` greater than 1, but not both:"
   ]
  },
  {
   "cell_type": "code",
   "execution_count": 15,
   "metadata": {},
   "outputs": [
    {
     "data": {
      "text/html": [
       "<div class='datatable'>\n",
       "  <table class='frame'>\n",
       "  <thead>\n",
       "    <tr class='colnames'><td class='row_index'></td><th>name</th><th>bodywt</th><th>brainwt</th></tr>\n",
       "    <tr class='coltypes'><td class='row_index'></td><td class='str' title='str32'>&#x25AA;&#x25AA;&#x25AA;&#x25AA;</td><td class='float' title='float64'>&#x25AA;&#x25AA;&#x25AA;&#x25AA;&#x25AA;&#x25AA;&#x25AA;&#x25AA;</td><td class='float' title='float64'>&#x25AA;&#x25AA;&#x25AA;&#x25AA;&#x25AA;&#x25AA;&#x25AA;&#x25AA;</td></tr>\n",
       "  </thead>\n",
       "  <tbody>\n",
       "    <tr><td class='row_index'>0</td><td>Cow</td><td>600</td><td>0.423</td></tr>\n",
       "    <tr><td class='row_index'>1</td><td>Horse</td><td>521</td><td>0.655</td></tr>\n",
       "    <tr><td class='row_index'>2</td><td>Donkey</td><td>187</td><td>0.419</td></tr>\n",
       "    <tr><td class='row_index'>3</td><td>Giraffe</td><td>899.995</td><td><span class=na>NA</span></td></tr>\n",
       "    <tr><td class='row_index'>4</td><td>Pilot whale</td><td>800</td><td><span class=na>NA</span></td></tr>\n",
       "    <tr><td class='row_index'>5</td><td>Human</td><td>62</td><td>1.32</td></tr>\n",
       "    <tr><td class='row_index'>6</td><td>Tiger</td><td>162.564</td><td><span class=na>NA</span></td></tr>\n",
       "    <tr><td class='row_index'>7</td><td>Lion</td><td>161.499</td><td><span class=na>NA</span></td></tr>\n",
       "    <tr><td class='row_index'>8</td><td>Brazilian tapir</td><td>207.501</td><td>0.169</td></tr>\n",
       "    <tr><td class='row_index'>9</td><td>Bottle-nosed dolphin</td><td>173.33</td><td><span class=na>NA</span></td></tr>\n",
       "  </tbody>\n",
       "  </table>\n",
       "  <div class='footer'>\n",
       "    <div class='frame_dimensions'>10 rows &times; 3 columns</div>\n",
       "  </div>\n",
       "</div>\n"
      ],
      "text/plain": [
       "<Frame#7f77b54ff3c0 10x3>"
      ]
     },
     "execution_count": 15,
     "metadata": {},
     "output_type": "execute_result"
    }
   ],
   "source": [
    "rows = xor((f.bodywt > 100), (f.brainwt > 1))\n",
    "\n",
    "columns = [\"name\", slice(\"bodywt\", \"brainwt\")]\n",
    "\n",
    "DT[rows, columns]"
   ]
  },
  {
   "cell_type": "markdown",
   "metadata": {},
   "source": [
    "Select all rows where `brainwt` is larger than 1, but `bodywt` does not exceed 100:"
   ]
  },
  {
   "cell_type": "code",
   "execution_count": 16,
   "metadata": {},
   "outputs": [
    {
     "data": {
      "text/html": [
       "<div class='datatable'>\n",
       "  <table class='frame'>\n",
       "  <thead>\n",
       "    <tr class='colnames'><td class='row_index'></td><th>name</th><th>sleep_total</th><th>brainwt</th><th>bodywt</th></tr>\n",
       "    <tr class='coltypes'><td class='row_index'></td><td class='str' title='str32'>&#x25AA;&#x25AA;&#x25AA;&#x25AA;</td><td class='float' title='float64'>&#x25AA;&#x25AA;&#x25AA;&#x25AA;&#x25AA;&#x25AA;&#x25AA;&#x25AA;</td><td class='float' title='float64'>&#x25AA;&#x25AA;&#x25AA;&#x25AA;&#x25AA;&#x25AA;&#x25AA;&#x25AA;</td><td class='float' title='float64'>&#x25AA;&#x25AA;&#x25AA;&#x25AA;&#x25AA;&#x25AA;&#x25AA;&#x25AA;</td></tr>\n",
       "  </thead>\n",
       "  <tbody>\n",
       "    <tr><td class='row_index'>0</td><td>Human</td><td>8</td><td>1.32</td><td>62</td></tr>\n",
       "  </tbody>\n",
       "  </table>\n",
       "  <div class='footer'>\n",
       "    <div class='frame_dimensions'>1 row &times; 4 columns</div>\n",
       "  </div>\n",
       "</div>\n"
      ],
      "text/plain": [
       "<Frame#7f77b54ffba0 1x4>"
      ]
     },
     "execution_count": 16,
     "metadata": {},
     "output_type": "execute_result"
    }
   ],
   "source": [
    "rows = (f.bodywt <= 100) & (f.brainwt > 1)\n",
    "\n",
    "columns = [\"name\", \"sleep_total\", \"brainwt\", \"bodywt\"]\n",
    "\n",
    "DT[rows, columns]"
   ]
  },
  {
   "cell_type": "markdown",
   "metadata": {},
   "source": [
    "### Filtering out Empty Rows"
   ]
  },
  {
   "cell_type": "markdown",
   "metadata": {},
   "source": [
    "There are two options for filtering out empty rows - comparing with `None`, or using the `isna` function:"
   ]
  },
  {
   "cell_type": "code",
   "execution_count": 17,
   "metadata": {},
   "outputs": [
    {
     "data": {
      "text/html": [
       "<div class='datatable'>\n",
       "  <table class='frame'>\n",
       "  <thead>\n",
       "    <tr class='colnames'><td class='row_index'></td><th>name</th><th>conservation</th><th>sleep_total</th><th>sleep_rem</th><th>sleep_cycle</th></tr>\n",
       "    <tr class='coltypes'><td class='row_index'></td><td class='str' title='str32'>&#x25AA;&#x25AA;&#x25AA;&#x25AA;</td><td class='str' title='str32'>&#x25AA;&#x25AA;&#x25AA;&#x25AA;</td><td class='float' title='float64'>&#x25AA;&#x25AA;&#x25AA;&#x25AA;&#x25AA;&#x25AA;&#x25AA;&#x25AA;</td><td class='float' title='float64'>&#x25AA;&#x25AA;&#x25AA;&#x25AA;&#x25AA;&#x25AA;&#x25AA;&#x25AA;</td><td class='float' title='float64'>&#x25AA;&#x25AA;&#x25AA;&#x25AA;&#x25AA;&#x25AA;&#x25AA;&#x25AA;</td></tr>\n",
       "  </thead>\n",
       "  <tbody>\n",
       "    <tr><td class='row_index'>0</td><td>Cheetah</td><td>lc</td><td>12.1</td><td><span class=na>NA</span></td><td><span class=na>NA</span></td></tr>\n",
       "    <tr><td class='row_index'>1</td><td>Mountain beaver</td><td>nt</td><td>14.4</td><td>2.4</td><td><span class=na>NA</span></td></tr>\n",
       "    <tr><td class='row_index'>2</td><td>Greater short-tailed shrew</td><td>lc</td><td>14.9</td><td>2.3</td><td>0.133333</td></tr>\n",
       "    <tr><td class='row_index'>3</td><td>Cow</td><td>domesticated</td><td>4</td><td>0.7</td><td>0.666667</td></tr>\n",
       "    <tr><td class='row_index'>4</td><td>Northern fur seal</td><td>vu</td><td>8.7</td><td>1.4</td><td>0.383333</td></tr>\n",
       "    <tr><td class='row_index'>5</td><td>Dog</td><td>domesticated</td><td>10.1</td><td>2.9</td><td>0.333333</td></tr>\n",
       "    <tr><td class='row_index'>6</td><td>Roe deer</td><td>lc</td><td>3</td><td><span class=na>NA</span></td><td><span class=na>NA</span></td></tr>\n",
       "    <tr><td class='row_index'>7</td><td>Goat</td><td>lc</td><td>5.3</td><td>0.6</td><td><span class=na>NA</span></td></tr>\n",
       "    <tr><td class='row_index'>8</td><td>Guinea pig</td><td>domesticated</td><td>9.4</td><td>0.8</td><td>0.216667</td></tr>\n",
       "    <tr><td class='row_index'>9</td><td>Grivet</td><td>lc</td><td>10</td><td>0.7</td><td><span class=na>NA</span></td></tr>\n",
       "    <tr><td class='row_index'>10</td><td>Chinchilla</td><td>domesticated</td><td>12.5</td><td>1.5</td><td>0.116667</td></tr>\n",
       "    <tr><td class='row_index'>11</td><td>Star-nosed mole</td><td>lc</td><td>10.3</td><td>2.2</td><td><span class=na>NA</span></td></tr>\n",
       "    <tr><td class='row_index'>12</td><td>Lesser short-tailed shrew</td><td>lc</td><td>9.1</td><td>1.4</td><td>0.15</td></tr>\n",
       "    <tr><td class='row_index'>13</td><td>Long-nosed armadillo</td><td>lc</td><td>17.4</td><td>3.1</td><td>0.383333</td></tr>\n",
       "    <tr><td class='row_index'>14</td><td>Tree hyrax</td><td>lc</td><td>5.3</td><td>0.5</td><td><span class=na>NA</span></td></tr>\n",
       "    <tr><td class='row_index'>&#x22EE;</td><td class='hellipsis'>&#x22EE;</td><td class='hellipsis'>&#x22EE;</td><td class='hellipsis'>&#x22EE;</td><td class='hellipsis'>&#x22EE;</td><td class='hellipsis'>&#x22EE;</td></tr>\n",
       "    <tr><td class='row_index'>49</td><td>Arctic ground squirrel</td><td>lc</td><td>16.6</td><td><span class=na>NA</span></td><td><span class=na>NA</span></td></tr>\n",
       "    <tr><td class='row_index'>50</td><td>Thirteen-lined ground squirrel</td><td>lc</td><td>13.8</td><td>3.4</td><td>0.216667</td></tr>\n",
       "    <tr><td class='row_index'>51</td><td>Golden-mantled ground squirrel</td><td>lc</td><td>15.9</td><td>3</td><td><span class=na>NA</span></td></tr>\n",
       "    <tr><td class='row_index'>52</td><td>Pig</td><td>domesticated</td><td>9.1</td><td>2.4</td><td>0.5</td></tr>\n",
       "    <tr><td class='row_index'>53</td><td>Brazilian tapir</td><td>vu</td><td>4.4</td><td>1</td><td>0.9</td></tr>\n",
       "  </tbody>\n",
       "  </table>\n",
       "  <div class='footer'>\n",
       "    <div class='frame_dimensions'>54 rows &times; 5 columns</div>\n",
       "  </div>\n",
       "</div>\n"
      ],
      "text/plain": [
       "<Frame#7f77b54ff330 54x5>"
      ]
     },
     "execution_count": 17,
     "metadata": {},
     "output_type": "execute_result"
    }
   ],
   "source": [
    "rows = f.conservation != None \n",
    "\n",
    "columns = [\"name\", slice(\"conservation\", \"sleep_cycle\")]\n",
    "\n",
    "DT[rows, columns]"
   ]
  },
  {
   "cell_type": "code",
   "execution_count": 18,
   "metadata": {},
   "outputs": [
    {
     "data": {
      "text/html": [
       "<div class='datatable'>\n",
       "  <table class='frame'>\n",
       "  <thead>\n",
       "    <tr class='colnames'><td class='row_index'></td><th>name</th><th>conservation</th><th>sleep_total</th><th>sleep_rem</th><th>sleep_cycle</th></tr>\n",
       "    <tr class='coltypes'><td class='row_index'></td><td class='str' title='str32'>&#x25AA;&#x25AA;&#x25AA;&#x25AA;</td><td class='str' title='str32'>&#x25AA;&#x25AA;&#x25AA;&#x25AA;</td><td class='float' title='float64'>&#x25AA;&#x25AA;&#x25AA;&#x25AA;&#x25AA;&#x25AA;&#x25AA;&#x25AA;</td><td class='float' title='float64'>&#x25AA;&#x25AA;&#x25AA;&#x25AA;&#x25AA;&#x25AA;&#x25AA;&#x25AA;</td><td class='float' title='float64'>&#x25AA;&#x25AA;&#x25AA;&#x25AA;&#x25AA;&#x25AA;&#x25AA;&#x25AA;</td></tr>\n",
       "  </thead>\n",
       "  <tbody>\n",
       "    <tr><td class='row_index'>0</td><td>Cheetah</td><td>lc</td><td>12.1</td><td><span class=na>NA</span></td><td><span class=na>NA</span></td></tr>\n",
       "    <tr><td class='row_index'>1</td><td>Mountain beaver</td><td>nt</td><td>14.4</td><td>2.4</td><td><span class=na>NA</span></td></tr>\n",
       "    <tr><td class='row_index'>2</td><td>Greater short-tailed shrew</td><td>lc</td><td>14.9</td><td>2.3</td><td>0.133333</td></tr>\n",
       "    <tr><td class='row_index'>3</td><td>Cow</td><td>domesticated</td><td>4</td><td>0.7</td><td>0.666667</td></tr>\n",
       "    <tr><td class='row_index'>4</td><td>Northern fur seal</td><td>vu</td><td>8.7</td><td>1.4</td><td>0.383333</td></tr>\n",
       "    <tr><td class='row_index'>5</td><td>Dog</td><td>domesticated</td><td>10.1</td><td>2.9</td><td>0.333333</td></tr>\n",
       "    <tr><td class='row_index'>6</td><td>Roe deer</td><td>lc</td><td>3</td><td><span class=na>NA</span></td><td><span class=na>NA</span></td></tr>\n",
       "    <tr><td class='row_index'>7</td><td>Goat</td><td>lc</td><td>5.3</td><td>0.6</td><td><span class=na>NA</span></td></tr>\n",
       "    <tr><td class='row_index'>8</td><td>Guinea pig</td><td>domesticated</td><td>9.4</td><td>0.8</td><td>0.216667</td></tr>\n",
       "    <tr><td class='row_index'>9</td><td>Grivet</td><td>lc</td><td>10</td><td>0.7</td><td><span class=na>NA</span></td></tr>\n",
       "    <tr><td class='row_index'>10</td><td>Chinchilla</td><td>domesticated</td><td>12.5</td><td>1.5</td><td>0.116667</td></tr>\n",
       "    <tr><td class='row_index'>11</td><td>Star-nosed mole</td><td>lc</td><td>10.3</td><td>2.2</td><td><span class=na>NA</span></td></tr>\n",
       "    <tr><td class='row_index'>12</td><td>Lesser short-tailed shrew</td><td>lc</td><td>9.1</td><td>1.4</td><td>0.15</td></tr>\n",
       "    <tr><td class='row_index'>13</td><td>Long-nosed armadillo</td><td>lc</td><td>17.4</td><td>3.1</td><td>0.383333</td></tr>\n",
       "    <tr><td class='row_index'>14</td><td>Tree hyrax</td><td>lc</td><td>5.3</td><td>0.5</td><td><span class=na>NA</span></td></tr>\n",
       "    <tr><td class='row_index'>&#x22EE;</td><td class='hellipsis'>&#x22EE;</td><td class='hellipsis'>&#x22EE;</td><td class='hellipsis'>&#x22EE;</td><td class='hellipsis'>&#x22EE;</td><td class='hellipsis'>&#x22EE;</td></tr>\n",
       "    <tr><td class='row_index'>49</td><td>Arctic ground squirrel</td><td>lc</td><td>16.6</td><td><span class=na>NA</span></td><td><span class=na>NA</span></td></tr>\n",
       "    <tr><td class='row_index'>50</td><td>Thirteen-lined ground squirrel</td><td>lc</td><td>13.8</td><td>3.4</td><td>0.216667</td></tr>\n",
       "    <tr><td class='row_index'>51</td><td>Golden-mantled ground squirrel</td><td>lc</td><td>15.9</td><td>3</td><td><span class=na>NA</span></td></tr>\n",
       "    <tr><td class='row_index'>52</td><td>Pig</td><td>domesticated</td><td>9.1</td><td>2.4</td><td>0.5</td></tr>\n",
       "    <tr><td class='row_index'>53</td><td>Brazilian tapir</td><td>vu</td><td>4.4</td><td>1</td><td>0.9</td></tr>\n",
       "  </tbody>\n",
       "  </table>\n",
       "  <div class='footer'>\n",
       "    <div class='frame_dimensions'>54 rows &times; 5 columns</div>\n",
       "  </div>\n",
       "</div>\n"
      ],
      "text/plain": [
       "<Frame#7f77b54ffe40 54x5>"
      ]
     },
     "execution_count": 18,
     "metadata": {},
     "output_type": "execute_result"
    }
   ],
   "source": [
    "rows = ~dt.isna(f.conservation) \n",
    "\n",
    "columns = [\"name\", slice(\"conservation\", \"sleep_cycle\")]\n",
    "\n",
    "DT[rows, columns]"
   ]
  },
  {
   "cell_type": "markdown",
   "metadata": {},
   "source": [
    "## Filtering across Multiple Columns"
   ]
  },
  {
   "cell_type": "markdown",
   "metadata": {},
   "source": [
    "### Filter across all Columns"
   ]
  },
  {
   "cell_type": "markdown",
   "metadata": {},
   "source": [
    "It is possible to filter for rows based on values across columns.\n",
    "\n",
    "One thing to note, and be careful about, is that in [datatable](https://datatable.readthedocs.io/en/latest/start/quick-start.html), within the same bracket, operations in the `i` section, occur before any operation within the `j` section; as such, depending on the context, and to ensure the right output, it is better to select the columns first, then chain the row filtration via another bracket. The examples below should make this clearer.\n",
    "\n",
    "Let's filter for rows across the selected columns, keeping only rows where any column has the pattern `Ca` inside:"
   ]
  },
  {
   "cell_type": "code",
   "execution_count": 19,
   "metadata": {},
   "outputs": [
    {
     "data": {
      "text/html": [
       "<div class='datatable'>\n",
       "  <table class='frame'>\n",
       "  <thead>\n",
       "    <tr class='colnames'><td class='row_index'></td><th>name</th><th>genus</th><th>order</th><th>sleep_total</th></tr>\n",
       "    <tr class='coltypes'><td class='row_index'></td><td class='str' title='str32'>&#x25AA;&#x25AA;&#x25AA;&#x25AA;</td><td class='str' title='str32'>&#x25AA;&#x25AA;&#x25AA;&#x25AA;</td><td class='str' title='str32'>&#x25AA;&#x25AA;&#x25AA;&#x25AA;</td><td class='float' title='float64'>&#x25AA;&#x25AA;&#x25AA;&#x25AA;&#x25AA;&#x25AA;&#x25AA;&#x25AA;</td></tr>\n",
       "  </thead>\n",
       "  <tbody>\n",
       "    <tr><td class='row_index'>0</td><td>Cheetah</td><td>Acinonyx</td><td>Carnivora</td><td>12.1</td></tr>\n",
       "    <tr><td class='row_index'>1</td><td>Northern fur seal</td><td>Callorhinus</td><td>Carnivora</td><td>8.7</td></tr>\n",
       "    <tr><td class='row_index'>2</td><td>Vesper mouse</td><td>Calomys</td><td>Rodentia</td><td>7</td></tr>\n",
       "    <tr><td class='row_index'>3</td><td>Dog</td><td>Canis</td><td>Carnivora</td><td>10.1</td></tr>\n",
       "    <tr><td class='row_index'>4</td><td>Roe deer</td><td>Capreolus</td><td>Artiodactyla</td><td>3</td></tr>\n",
       "    <tr><td class='row_index'>5</td><td>Goat</td><td>Capri</td><td>Artiodactyla</td><td>5.3</td></tr>\n",
       "    <tr><td class='row_index'>6</td><td>Guinea pig</td><td>Cavis</td><td>Rodentia</td><td>9.4</td></tr>\n",
       "    <tr><td class='row_index'>7</td><td>Domestic cat</td><td>Felis</td><td>Carnivora</td><td>12.5</td></tr>\n",
       "    <tr><td class='row_index'>8</td><td>Gray seal</td><td>Haliochoerus</td><td>Carnivora</td><td>6.2</td></tr>\n",
       "    <tr><td class='row_index'>9</td><td>Tiger</td><td>Panthera</td><td>Carnivora</td><td>15.8</td></tr>\n",
       "    <tr><td class='row_index'>10</td><td>Jaguar</td><td>Panthera</td><td>Carnivora</td><td>10.4</td></tr>\n",
       "    <tr><td class='row_index'>11</td><td>Lion</td><td>Panthera</td><td>Carnivora</td><td>13.5</td></tr>\n",
       "    <tr><td class='row_index'>12</td><td>Caspian seal</td><td>Phoca</td><td>Carnivora</td><td>3.5</td></tr>\n",
       "    <tr><td class='row_index'>13</td><td>Genet</td><td>Genetta</td><td>Carnivora</td><td>6.3</td></tr>\n",
       "    <tr><td class='row_index'>14</td><td>Arctic fox</td><td>Vulpes</td><td>Carnivora</td><td>12.5</td></tr>\n",
       "    <tr><td class='row_index'>15</td><td>Red fox</td><td>Vulpes</td><td>Carnivora</td><td>9.8</td></tr>\n",
       "  </tbody>\n",
       "  </table>\n",
       "  <div class='footer'>\n",
       "    <div class='frame_dimensions'>16 rows &times; 4 columns</div>\n",
       "  </div>\n",
       "</div>\n"
      ],
      "text/plain": [
       "<Frame#7f77b54fe760 16x4>"
      ]
     },
     "execution_count": 19,
     "metadata": {},
     "output_type": "execute_result"
    }
   ],
   "source": [
    "columns = f['name':'order', 'sleep_total'].remove(f.vore)\n",
    "rows = dt.re.match(f[str], \".*Ca.*\").rowany()\n",
    "\n",
    "DT[rows, columns]"
   ]
  },
  {
   "cell_type": "markdown",
   "metadata": {},
   "source": [
    "Let's look at another example, to filter for rows, across selected columns, where any column has a value less than 0.1:"
   ]
  },
  {
   "cell_type": "code",
   "execution_count": 20,
   "metadata": {},
   "outputs": [
    {
     "data": {
      "text/html": [
       "<div class='datatable'>\n",
       "  <table class='frame'>\n",
       "  <thead>\n",
       "    <tr class='colnames'><td class='row_index'></td><th>name</th><th>sleep_total</th><th>sleep_rem</th><th>sleep_cycle</th><th>awake</th><th>brainwt</th><th>bodywt</th></tr>\n",
       "    <tr class='coltypes'><td class='row_index'></td><td class='str' title='str32'>&#x25AA;&#x25AA;&#x25AA;&#x25AA;</td><td class='float' title='float64'>&#x25AA;&#x25AA;&#x25AA;&#x25AA;&#x25AA;&#x25AA;&#x25AA;&#x25AA;</td><td class='float' title='float64'>&#x25AA;&#x25AA;&#x25AA;&#x25AA;&#x25AA;&#x25AA;&#x25AA;&#x25AA;</td><td class='float' title='float64'>&#x25AA;&#x25AA;&#x25AA;&#x25AA;&#x25AA;&#x25AA;&#x25AA;&#x25AA;</td><td class='float' title='float64'>&#x25AA;&#x25AA;&#x25AA;&#x25AA;&#x25AA;&#x25AA;&#x25AA;&#x25AA;</td><td class='float' title='float64'>&#x25AA;&#x25AA;&#x25AA;&#x25AA;&#x25AA;&#x25AA;&#x25AA;&#x25AA;</td><td class='float' title='float64'>&#x25AA;&#x25AA;&#x25AA;&#x25AA;&#x25AA;&#x25AA;&#x25AA;&#x25AA;</td></tr>\n",
       "  </thead>\n",
       "  <tbody>\n",
       "    <tr><td class='row_index'>0</td><td>Owl monkey</td><td>17</td><td>1.8</td><td><span class=na>NA</span></td><td>7</td><td>0.0155</td><td>0.48</td></tr>\n",
       "    <tr><td class='row_index'>1</td><td>Greater short-tailed shrew</td><td>14.9</td><td>2.3</td><td>0.133333</td><td>9.1</td><td>0.00029</td><td>0.019</td></tr>\n",
       "    <tr><td class='row_index'>2</td><td>Vesper mouse</td><td>7</td><td><span class=na>NA</span></td><td><span class=na>NA</span></td><td>17</td><td><span class=na>NA</span></td><td>0.045</td></tr>\n",
       "    <tr><td class='row_index'>3</td><td>Dog</td><td>10.1</td><td>2.9</td><td>0.333333</td><td>13.9</td><td>0.07</td><td>14</td></tr>\n",
       "    <tr><td class='row_index'>4</td><td>Roe deer</td><td>3</td><td><span class=na>NA</span></td><td><span class=na>NA</span></td><td>21</td><td>0.0982</td><td>14.8</td></tr>\n",
       "    <tr><td class='row_index'>5</td><td>Guinea pig</td><td>9.4</td><td>0.8</td><td>0.216667</td><td>14.6</td><td>0.0055</td><td>0.728</td></tr>\n",
       "    <tr><td class='row_index'>6</td><td>Chinchilla</td><td>12.5</td><td>1.5</td><td>0.116667</td><td>11.5</td><td>0.0064</td><td>0.42</td></tr>\n",
       "    <tr><td class='row_index'>7</td><td>Star-nosed mole</td><td>10.3</td><td>2.2</td><td><span class=na>NA</span></td><td>13.7</td><td>0.001</td><td>0.06</td></tr>\n",
       "    <tr><td class='row_index'>8</td><td>African giant pouched rat</td><td>8.3</td><td>2</td><td><span class=na>NA</span></td><td>15.7</td><td>0.0066</td><td>1</td></tr>\n",
       "    <tr><td class='row_index'>9</td><td>Lesser short-tailed shrew</td><td>9.1</td><td>1.4</td><td>0.15</td><td>14.9</td><td>0.00014</td><td>0.005</td></tr>\n",
       "    <tr><td class='row_index'>10</td><td>Long-nosed armadillo</td><td>17.4</td><td>3.1</td><td>0.383333</td><td>6.6</td><td>0.0108</td><td>3.5</td></tr>\n",
       "    <tr><td class='row_index'>11</td><td>Tree hyrax</td><td>5.3</td><td>0.5</td><td><span class=na>NA</span></td><td>18.7</td><td>0.0123</td><td>2.95</td></tr>\n",
       "    <tr><td class='row_index'>12</td><td>North American Opossum</td><td>18</td><td>4.9</td><td>0.333333</td><td>6</td><td>0.0063</td><td>1.7</td></tr>\n",
       "    <tr><td class='row_index'>13</td><td>Big brown bat</td><td>19.7</td><td>3.9</td><td>0.116667</td><td>4.3</td><td>0.0003</td><td>0.023</td></tr>\n",
       "    <tr><td class='row_index'>14</td><td>European hedgehog</td><td>10.1</td><td>3.5</td><td>0.283333</td><td>13.9</td><td>0.0035</td><td>0.77</td></tr>\n",
       "    <tr><td class='row_index'>&#x22EE;</td><td class='hellipsis'>&#x22EE;</td><td class='hellipsis'>&#x22EE;</td><td class='hellipsis'>&#x22EE;</td><td class='hellipsis'>&#x22EE;</td><td class='hellipsis'>&#x22EE;</td><td class='hellipsis'>&#x22EE;</td><td class='hellipsis'>&#x22EE;</td></tr>\n",
       "    <tr><td class='row_index'>42</td><td>Tenrec</td><td>15.6</td><td>2.3</td><td><span class=na>NA</span></td><td>8.4</td><td>0.0026</td><td>0.9</td></tr>\n",
       "    <tr><td class='row_index'>43</td><td>Tree shrew</td><td>8.9</td><td>2.6</td><td>0.233333</td><td>15.1</td><td>0.0025</td><td>0.104</td></tr>\n",
       "    <tr><td class='row_index'>44</td><td>Genet</td><td>6.3</td><td>1.3</td><td><span class=na>NA</span></td><td>17.7</td><td>0.0175</td><td>2</td></tr>\n",
       "    <tr><td class='row_index'>45</td><td>Arctic fox</td><td>12.5</td><td><span class=na>NA</span></td><td><span class=na>NA</span></td><td>11.5</td><td>0.0445</td><td>3.38</td></tr>\n",
       "    <tr><td class='row_index'>46</td><td>Red fox</td><td>9.8</td><td>2.4</td><td>0.35</td><td>14.2</td><td>0.0504</td><td>4.23</td></tr>\n",
       "  </tbody>\n",
       "  </table>\n",
       "  <div class='footer'>\n",
       "    <div class='frame_dimensions'>47 rows &times; 7 columns</div>\n",
       "  </div>\n",
       "</div>\n"
      ],
      "text/plain": [
       "<Frame#7f77b54ffa80 47x7>"
      ]
     },
     "execution_count": 20,
     "metadata": {},
     "output_type": "execute_result"
    }
   ],
   "source": [
    "columns = f['name', 'sleep_total':'bodywt']\n",
    "\n",
    "rows = (f[int, float] < 0.1).rowany()\n",
    "\n",
    "DT[rows, columns]"
   ]
  },
  {
   "cell_type": "markdown",
   "metadata": {},
   "source": [
    "The above example only requires that at least one column has a value less than 0.1. What if the goal is to return only rows where all the columns have values above 1? "
   ]
  },
  {
   "cell_type": "code",
   "execution_count": 21,
   "metadata": {},
   "outputs": [
    {
     "data": {
      "text/html": [
       "<div class='datatable'>\n",
       "  <table class='frame'>\n",
       "  <thead>\n",
       "    <tr class='colnames'><td class='row_index'></td><th>name</th><th>sleep_total</th><th>sleep_rem</th><th>sleep_cycle</th><th>brainwt</th><th>bodywt</th></tr>\n",
       "    <tr class='coltypes'><td class='row_index'></td><td class='str' title='str32'>&#x25AA;&#x25AA;&#x25AA;&#x25AA;</td><td class='float' title='float64'>&#x25AA;&#x25AA;&#x25AA;&#x25AA;&#x25AA;&#x25AA;&#x25AA;&#x25AA;</td><td class='float' title='float64'>&#x25AA;&#x25AA;&#x25AA;&#x25AA;&#x25AA;&#x25AA;&#x25AA;&#x25AA;</td><td class='float' title='float64'>&#x25AA;&#x25AA;&#x25AA;&#x25AA;&#x25AA;&#x25AA;&#x25AA;&#x25AA;</td><td class='float' title='float64'>&#x25AA;&#x25AA;&#x25AA;&#x25AA;&#x25AA;&#x25AA;&#x25AA;&#x25AA;</td><td class='float' title='float64'>&#x25AA;&#x25AA;&#x25AA;&#x25AA;&#x25AA;&#x25AA;&#x25AA;&#x25AA;</td></tr>\n",
       "  </thead>\n",
       "  <tbody>\n",
       "    <tr><td class='row_index'>0</td><td>Human</td><td>8</td><td>1.9</td><td>1.5</td><td>1.32</td><td>62</td></tr>\n",
       "  </tbody>\n",
       "  </table>\n",
       "  <div class='footer'>\n",
       "    <div class='frame_dimensions'>1 row &times; 6 columns</div>\n",
       "  </div>\n",
       "</div>\n"
      ],
      "text/plain": [
       "<Frame#7f77b54ffc00 1x6>"
      ]
     },
     "execution_count": 21,
     "metadata": {},
     "output_type": "execute_result"
    }
   ],
   "source": [
    "columns = f['name', 'sleep_total' : 'bodywt'].remove(f.awake)\n",
    "\n",
    "rows = (f[int, float] > 1).rowall()\n",
    "\n",
    "DT[rows, columns]"
   ]
  },
  {
   "cell_type": "markdown",
   "metadata": {},
   "source": [
    "Note the change from [rowany](https://datatable.readthedocs.io/en/latest/api/dt/rowany.html) to [rowall](https://datatable.readthedocs.io/en/latest/api/dt/rowall.html); [rowany](https://datatable.readthedocs.io/en/latest/api/dt/rowany.html) will return `True` for rows where `ANY` column matches the condition, whereas [rowall](https://datatable.readthedocs.io/en/latest/api/dt/rowall.html) will only return `True` for rows where `ALL` columns match the condition.\n",
    "\n",
    "\n",
    "All the examples so far combine `i` and `j` within a single bracket; so why all the noise about context and selecting columns first before rows? The next section should shed more light."
   ]
  },
  {
   "cell_type": "markdown",
   "metadata": {},
   "source": [
    "You can also limit the filtration to columns that match a particular type; the examples above show how that can be done. This can be handy in certain situations where the target is not limited to one data type.\n",
    "\n",
    "Consider the example below, where only rows that have nulls should be returned. Nulls can be both in numeric and string columns:"
   ]
  },
  {
   "cell_type": "code",
   "execution_count": 22,
   "metadata": {},
   "outputs": [
    {
     "data": {
      "text/html": [
       "<div class='datatable'>\n",
       "  <table class='frame'>\n",
       "  <thead>\n",
       "    <tr class='colnames'><td class='row_index'></td><th>name</th><th>genus</th><th>vore</th><th>order</th><th>sleep_total</th><th>sleep_rem</th></tr>\n",
       "    <tr class='coltypes'><td class='row_index'></td><td class='str' title='str32'>&#x25AA;&#x25AA;&#x25AA;&#x25AA;</td><td class='str' title='str32'>&#x25AA;&#x25AA;&#x25AA;&#x25AA;</td><td class='str' title='str32'>&#x25AA;&#x25AA;&#x25AA;&#x25AA;</td><td class='str' title='str32'>&#x25AA;&#x25AA;&#x25AA;&#x25AA;</td><td class='float' title='float64'>&#x25AA;&#x25AA;&#x25AA;&#x25AA;&#x25AA;&#x25AA;&#x25AA;&#x25AA;</td><td class='float' title='float64'>&#x25AA;&#x25AA;&#x25AA;&#x25AA;&#x25AA;&#x25AA;&#x25AA;&#x25AA;</td></tr>\n",
       "  </thead>\n",
       "  <tbody>\n",
       "    <tr><td class='row_index'>0</td><td>Cheetah</td><td>Acinonyx</td><td>carni</td><td>Carnivora</td><td>12.1</td><td><span class=na>NA</span></td></tr>\n",
       "    <tr><td class='row_index'>1</td><td>Vesper mouse</td><td>Calomys</td><td><span class=na>NA</span></td><td>Rodentia</td><td>7</td><td><span class=na>NA</span></td></tr>\n",
       "    <tr><td class='row_index'>2</td><td>Roe deer</td><td>Capreolus</td><td>herbi</td><td>Artiodactyla</td><td>3</td><td><span class=na>NA</span></td></tr>\n",
       "    <tr><td class='row_index'>3</td><td>Asian elephant</td><td>Elephas</td><td>herbi</td><td>Proboscidea</td><td>3.9</td><td><span class=na>NA</span></td></tr>\n",
       "    <tr><td class='row_index'>4</td><td>Western american chipmunk</td><td>Eutamias</td><td>herbi</td><td>Rodentia</td><td>14.9</td><td><span class=na>NA</span></td></tr>\n",
       "    <tr><td class='row_index'>5</td><td>African elephant</td><td>Loxodonta</td><td>herbi</td><td>Proboscidea</td><td>3.3</td><td><span class=na>NA</span></td></tr>\n",
       "    <tr><td class='row_index'>6</td><td>Vole</td><td>Microtus</td><td>herbi</td><td>Rodentia</td><td>12.8</td><td><span class=na>NA</span></td></tr>\n",
       "    <tr><td class='row_index'>7</td><td>Round-tailed muskrat</td><td>Neofiber</td><td>herbi</td><td>Rodentia</td><td>14.6</td><td><span class=na>NA</span></td></tr>\n",
       "    <tr><td class='row_index'>8</td><td>Slow loris</td><td>Nyctibeus</td><td>carni</td><td>Primates</td><td>11</td><td><span class=na>NA</span></td></tr>\n",
       "    <tr><td class='row_index'>9</td><td>Northern grasshopper mouse</td><td>Onychomys</td><td>carni</td><td>Rodentia</td><td>14.5</td><td><span class=na>NA</span></td></tr>\n",
       "    <tr><td class='row_index'>10</td><td>Tiger</td><td>Panthera</td><td>carni</td><td>Carnivora</td><td>15.8</td><td><span class=na>NA</span></td></tr>\n",
       "    <tr><td class='row_index'>11</td><td>Jaguar</td><td>Panthera</td><td>carni</td><td>Carnivora</td><td>10.4</td><td><span class=na>NA</span></td></tr>\n",
       "    <tr><td class='row_index'>12</td><td>Lion</td><td>Panthera</td><td>carni</td><td>Carnivora</td><td>13.5</td><td><span class=na>NA</span></td></tr>\n",
       "    <tr><td class='row_index'>13</td><td>Desert hedgehog</td><td>Paraechinus</td><td><span class=na>NA</span></td><td>Erinaceomorpha</td><td>10.3</td><td>2.7</td></tr>\n",
       "    <tr><td class='row_index'>14</td><td>Potto</td><td>Perodicticus</td><td>omni</td><td>Primates</td><td>11</td><td><span class=na>NA</span></td></tr>\n",
       "    <tr><td class='row_index'>15</td><td>Deer mouse</td><td>Peromyscus</td><td><span class=na>NA</span></td><td>Rodentia</td><td>11.5</td><td><span class=na>NA</span></td></tr>\n",
       "    <tr><td class='row_index'>16</td><td>Phalanger</td><td>Phalanger</td><td><span class=na>NA</span></td><td>Diprotodontia</td><td>13.7</td><td>1.8</td></tr>\n",
       "    <tr><td class='row_index'>17</td><td>Common porpoise</td><td>Phocoena</td><td>carni</td><td>Cetacea</td><td>5.6</td><td><span class=na>NA</span></td></tr>\n",
       "    <tr><td class='row_index'>18</td><td>Rock hyrax</td><td>Procavia</td><td><span class=na>NA</span></td><td>Hyracoidea</td><td>5.4</td><td>0.5</td></tr>\n",
       "    <tr><td class='row_index'>19</td><td>African striped mouse</td><td>Rhabdomys</td><td>omni</td><td>Rodentia</td><td>8.7</td><td><span class=na>NA</span></td></tr>\n",
       "    <tr><td class='row_index'>20</td><td>Mole rat</td><td>Spalax</td><td><span class=na>NA</span></td><td>Rodentia</td><td>10.6</td><td>2.4</td></tr>\n",
       "    <tr><td class='row_index'>21</td><td>Arctic ground squirrel</td><td>Spermophilus</td><td>herbi</td><td>Rodentia</td><td>16.6</td><td><span class=na>NA</span></td></tr>\n",
       "    <tr><td class='row_index'>22</td><td>Musk shrew</td><td>Suncus</td><td><span class=na>NA</span></td><td>Soricomorpha</td><td>12.8</td><td>2</td></tr>\n",
       "    <tr><td class='row_index'>23</td><td>Short-nosed echidna</td><td>Tachyglossus</td><td>insecti</td><td>Monotremata</td><td>8.6</td><td><span class=na>NA</span></td></tr>\n",
       "    <tr><td class='row_index'>24</td><td>Eastern american chipmunk</td><td>Tamias</td><td>herbi</td><td>Rodentia</td><td>15.8</td><td><span class=na>NA</span></td></tr>\n",
       "    <tr><td class='row_index'>25</td><td>Bottle-nosed dolphin</td><td>Tursiops</td><td>carni</td><td>Cetacea</td><td>5.2</td><td><span class=na>NA</span></td></tr>\n",
       "    <tr><td class='row_index'>26</td><td>Arctic fox</td><td>Vulpes</td><td>carni</td><td>Carnivora</td><td>12.5</td><td><span class=na>NA</span></td></tr>\n",
       "  </tbody>\n",
       "  </table>\n",
       "  <div class='footer'>\n",
       "    <div class='frame_dimensions'>27 rows &times; 6 columns</div>\n",
       "  </div>\n",
       "</div>\n"
      ],
      "text/plain": [
       "<Frame#7f77b54ffd80 27x6>"
      ]
     },
     "execution_count": 22,
     "metadata": {},
     "output_type": "execute_result"
    }
   ],
   "source": [
    "columns = f['name' : 'order', 'sleep_total' : 'sleep_rem']\n",
    "\n",
    "rows = (f[:] == None).rowany()\n",
    "\n",
    "DT[:, columns][rows, :]"
   ]
  },
  {
   "cell_type": "markdown",
   "metadata": {},
   "source": [
    "However, we are only interested in rows where the string columns are null; simply modifying the selected columns in `rows` should resolve this: "
   ]
  },
  {
   "cell_type": "code",
   "execution_count": 23,
   "metadata": {},
   "outputs": [
    {
     "data": {
      "text/html": [
       "<div class='datatable'>\n",
       "  <table class='frame'>\n",
       "  <thead>\n",
       "    <tr class='colnames'><td class='row_index'></td><th>name</th><th>genus</th><th>vore</th><th>order</th><th>sleep_total</th><th>sleep_rem</th></tr>\n",
       "    <tr class='coltypes'><td class='row_index'></td><td class='str' title='str32'>&#x25AA;&#x25AA;&#x25AA;&#x25AA;</td><td class='str' title='str32'>&#x25AA;&#x25AA;&#x25AA;&#x25AA;</td><td class='str' title='str32'>&#x25AA;&#x25AA;&#x25AA;&#x25AA;</td><td class='str' title='str32'>&#x25AA;&#x25AA;&#x25AA;&#x25AA;</td><td class='float' title='float64'>&#x25AA;&#x25AA;&#x25AA;&#x25AA;&#x25AA;&#x25AA;&#x25AA;&#x25AA;</td><td class='float' title='float64'>&#x25AA;&#x25AA;&#x25AA;&#x25AA;&#x25AA;&#x25AA;&#x25AA;&#x25AA;</td></tr>\n",
       "  </thead>\n",
       "  <tbody>\n",
       "    <tr><td class='row_index'>0</td><td>Owl monkey</td><td>Aotus</td><td>omni</td><td>Primates</td><td>17</td><td>1.8</td></tr>\n",
       "    <tr><td class='row_index'>1</td><td>Three-toed sloth</td><td>Bradypus</td><td>herbi</td><td>Pilosa</td><td>14.4</td><td>2.2</td></tr>\n",
       "    <tr><td class='row_index'>2</td><td>Vesper mouse</td><td>Calomys</td><td><span class=na>NA</span></td><td>Rodentia</td><td>7</td><td><span class=na>NA</span></td></tr>\n",
       "    <tr><td class='row_index'>3</td><td>African giant pouched rat</td><td>Cricetomys</td><td>omni</td><td>Rodentia</td><td>8.3</td><td>2</td></tr>\n",
       "    <tr><td class='row_index'>4</td><td>Western american chipmunk</td><td>Eutamias</td><td>herbi</td><td>Rodentia</td><td>14.9</td><td><span class=na>NA</span></td></tr>\n",
       "    <tr><td class='row_index'>5</td><td>Galago</td><td>Galago</td><td>omni</td><td>Primates</td><td>9.8</td><td>1.1</td></tr>\n",
       "    <tr><td class='row_index'>6</td><td>Human</td><td>Homo</td><td>omni</td><td>Primates</td><td>8</td><td>1.9</td></tr>\n",
       "    <tr><td class='row_index'>7</td><td>Macaque</td><td>Macaca</td><td>omni</td><td>Primates</td><td>10.1</td><td>1.2</td></tr>\n",
       "    <tr><td class='row_index'>8</td><td>Vole</td><td>Microtus</td><td>herbi</td><td>Rodentia</td><td>12.8</td><td><span class=na>NA</span></td></tr>\n",
       "    <tr><td class='row_index'>9</td><td>Little brown bat</td><td>Myotis</td><td>insecti</td><td>Chiroptera</td><td>19.9</td><td>2</td></tr>\n",
       "    <tr><td class='row_index'>10</td><td>Slow loris</td><td>Nyctibeus</td><td>carni</td><td>Primates</td><td>11</td><td><span class=na>NA</span></td></tr>\n",
       "    <tr><td class='row_index'>11</td><td>Chimpanzee</td><td>Pan</td><td>omni</td><td>Primates</td><td>9.7</td><td>1.4</td></tr>\n",
       "    <tr><td class='row_index'>12</td><td>Baboon</td><td>Papio</td><td>omni</td><td>Primates</td><td>9.4</td><td>1</td></tr>\n",
       "    <tr><td class='row_index'>13</td><td>Desert hedgehog</td><td>Paraechinus</td><td><span class=na>NA</span></td><td>Erinaceomorpha</td><td>10.3</td><td>2.7</td></tr>\n",
       "    <tr><td class='row_index'>14</td><td>Deer mouse</td><td>Peromyscus</td><td><span class=na>NA</span></td><td>Rodentia</td><td>11.5</td><td><span class=na>NA</span></td></tr>\n",
       "    <tr><td class='row_index'>&#x22EE;</td><td class='hellipsis'>&#x22EE;</td><td class='hellipsis'>&#x22EE;</td><td class='hellipsis'>&#x22EE;</td><td class='hellipsis'>&#x22EE;</td><td class='hellipsis'>&#x22EE;</td><td class='hellipsis'>&#x22EE;</td></tr>\n",
       "    <tr><td class='row_index'>26</td><td>Tree shrew</td><td>Tupaia</td><td>omni</td><td>Scandentia</td><td>8.9</td><td>2.6</td></tr>\n",
       "    <tr><td class='row_index'>27</td><td>Bottle-nosed dolphin</td><td>Tursiops</td><td>carni</td><td>Cetacea</td><td>5.2</td><td><span class=na>NA</span></td></tr>\n",
       "    <tr><td class='row_index'>28</td><td>Genet</td><td>Genetta</td><td>carni</td><td>Carnivora</td><td>6.3</td><td>1.3</td></tr>\n",
       "    <tr><td class='row_index'>29</td><td>Arctic fox</td><td>Vulpes</td><td>carni</td><td>Carnivora</td><td>12.5</td><td><span class=na>NA</span></td></tr>\n",
       "    <tr><td class='row_index'>30</td><td>Red fox</td><td>Vulpes</td><td>carni</td><td>Carnivora</td><td>9.8</td><td>2.4</td></tr>\n",
       "  </tbody>\n",
       "  </table>\n",
       "  <div class='footer'>\n",
       "    <div class='frame_dimensions'>31 rows &times; 6 columns</div>\n",
       "  </div>\n",
       "</div>\n"
      ],
      "text/plain": [
       "<Frame#7f77b54ff870 31x6>"
      ]
     },
     "execution_count": 23,
     "metadata": {},
     "output_type": "execute_result"
    }
   ],
   "source": [
    "rows = (f[str] == None).rowany()\n",
    "\n",
    "DT[rows, columns]"
   ]
  },
  {
   "cell_type": "markdown",
   "metadata": {},
   "source": [
    "That doesn't seem right. There are no missing values in rows 0 and 1, same for rows 26 and 30. What's going on?\n",
    "\n",
    "As mentioned earlier, operations in `i` occur before `j`; in the code above, ALL the string columns in the frame were filtered, and not restricted to the selected columns. The right way about it is to select the columns first, then chain the row filtration:"
   ]
  },
  {
   "cell_type": "code",
   "execution_count": 24,
   "metadata": {},
   "outputs": [
    {
     "data": {
      "text/html": [
       "<div class='datatable'>\n",
       "  <table class='frame'>\n",
       "  <thead>\n",
       "    <tr class='colnames'><td class='row_index'></td><th>name</th><th>genus</th><th>vore</th><th>order</th><th>sleep_total</th><th>sleep_rem</th></tr>\n",
       "    <tr class='coltypes'><td class='row_index'></td><td class='str' title='str32'>&#x25AA;&#x25AA;&#x25AA;&#x25AA;</td><td class='str' title='str32'>&#x25AA;&#x25AA;&#x25AA;&#x25AA;</td><td class='str' title='str32'>&#x25AA;&#x25AA;&#x25AA;&#x25AA;</td><td class='str' title='str32'>&#x25AA;&#x25AA;&#x25AA;&#x25AA;</td><td class='float' title='float64'>&#x25AA;&#x25AA;&#x25AA;&#x25AA;&#x25AA;&#x25AA;&#x25AA;&#x25AA;</td><td class='float' title='float64'>&#x25AA;&#x25AA;&#x25AA;&#x25AA;&#x25AA;&#x25AA;&#x25AA;&#x25AA;</td></tr>\n",
       "  </thead>\n",
       "  <tbody>\n",
       "    <tr><td class='row_index'>0</td><td>Vesper mouse</td><td>Calomys</td><td><span class=na>NA</span></td><td>Rodentia</td><td>7</td><td><span class=na>NA</span></td></tr>\n",
       "    <tr><td class='row_index'>1</td><td>Desert hedgehog</td><td>Paraechinus</td><td><span class=na>NA</span></td><td>Erinaceomorpha</td><td>10.3</td><td>2.7</td></tr>\n",
       "    <tr><td class='row_index'>2</td><td>Deer mouse</td><td>Peromyscus</td><td><span class=na>NA</span></td><td>Rodentia</td><td>11.5</td><td><span class=na>NA</span></td></tr>\n",
       "    <tr><td class='row_index'>3</td><td>Phalanger</td><td>Phalanger</td><td><span class=na>NA</span></td><td>Diprotodontia</td><td>13.7</td><td>1.8</td></tr>\n",
       "    <tr><td class='row_index'>4</td><td>Rock hyrax</td><td>Procavia</td><td><span class=na>NA</span></td><td>Hyracoidea</td><td>5.4</td><td>0.5</td></tr>\n",
       "    <tr><td class='row_index'>5</td><td>Mole rat</td><td>Spalax</td><td><span class=na>NA</span></td><td>Rodentia</td><td>10.6</td><td>2.4</td></tr>\n",
       "    <tr><td class='row_index'>6</td><td>Musk shrew</td><td>Suncus</td><td><span class=na>NA</span></td><td>Soricomorpha</td><td>12.8</td><td>2</td></tr>\n",
       "  </tbody>\n",
       "  </table>\n",
       "  <div class='footer'>\n",
       "    <div class='frame_dimensions'>7 rows &times; 6 columns</div>\n",
       "  </div>\n",
       "</div>\n"
      ],
      "text/plain": [
       "<Frame#7f77b54fffc0 7x6>"
      ]
     },
     "execution_count": 24,
     "metadata": {},
     "output_type": "execute_result"
    }
   ],
   "source": [
    "DT[:, columns][rows, :]"
   ]
  },
  {
   "cell_type": "markdown",
   "metadata": {},
   "source": [
    "Again, the filtration process depend on the context, and should be adapted accordingly."
   ]
  },
  {
   "cell_type": "markdown",
   "metadata": {},
   "source": [
    "### Filter at"
   ]
  },
  {
   "cell_type": "markdown",
   "metadata": {},
   "source": [
    "It is also possible to filter rows based on specific columns:"
   ]
  },
  {
   "cell_type": "code",
   "execution_count": 25,
   "metadata": {},
   "outputs": [
    {
     "data": {
      "text/html": [
       "<div class='datatable'>\n",
       "  <table class='frame'>\n",
       "  <thead>\n",
       "    <tr class='colnames'><td class='row_index'></td><th>name</th><th>sleep_total</th><th>sleep_rem</th><th>brainwt</th><th>bodywt</th></tr>\n",
       "    <tr class='coltypes'><td class='row_index'></td><td class='str' title='str32'>&#x25AA;&#x25AA;&#x25AA;&#x25AA;</td><td class='float' title='float64'>&#x25AA;&#x25AA;&#x25AA;&#x25AA;&#x25AA;&#x25AA;&#x25AA;&#x25AA;</td><td class='float' title='float64'>&#x25AA;&#x25AA;&#x25AA;&#x25AA;&#x25AA;&#x25AA;&#x25AA;&#x25AA;</td><td class='float' title='float64'>&#x25AA;&#x25AA;&#x25AA;&#x25AA;&#x25AA;&#x25AA;&#x25AA;&#x25AA;</td><td class='float' title='float64'>&#x25AA;&#x25AA;&#x25AA;&#x25AA;&#x25AA;&#x25AA;&#x25AA;&#x25AA;</td></tr>\n",
       "  </thead>\n",
       "  <tbody>\n",
       "    <tr><td class='row_index'>0</td><td>Thick-tailed opposum</td><td>19.4</td><td>6.6</td><td><span class=na>NA</span></td><td>0.37</td></tr>\n",
       "    <tr><td class='row_index'>1</td><td>Giant armadillo</td><td>18.1</td><td>6.1</td><td>0.081</td><td>60</td></tr>\n",
       "  </tbody>\n",
       "  </table>\n",
       "  <div class='footer'>\n",
       "    <div class='frame_dimensions'>2 rows &times; 5 columns</div>\n",
       "  </div>\n",
       "</div>\n"
      ],
      "text/plain": [
       "<Frame#7f77b54fff90 2x5>"
      ]
     },
     "execution_count": 25,
     "metadata": {},
     "output_type": "execute_result"
    }
   ],
   "source": [
    "columns = f['name', 'sleep_total' : 'sleep_rem', 'brainwt' : 'bodywt']\n",
    "\n",
    "rows = (f['sleep_total', 'sleep_rem'] > 5).rowall()\n",
    "\n",
    "DT[rows, columns]"
   ]
  },
  {
   "cell_type": "markdown",
   "metadata": {},
   "source": [
    "Note in the example above, the `rows` and `columns` are within the same bracket, because the columns are explicitly specified; only values from those columns will be used for the filtration.\n",
    "\n",
    "Another example below that uses a different select option:"
   ]
  },
  {
   "cell_type": "code",
   "execution_count": 26,
   "metadata": {},
   "outputs": [
    {
     "data": {
      "text/html": [
       "<div class='datatable'>\n",
       "  <table class='frame'>\n",
       "  <thead>\n",
       "    <tr class='colnames'><td class='row_index'></td><th>name</th><th>sleep_total</th><th>sleep_rem</th><th>brainwt</th><th>bodywt</th></tr>\n",
       "    <tr class='coltypes'><td class='row_index'></td><td class='str' title='str32'>&#x25AA;&#x25AA;&#x25AA;&#x25AA;</td><td class='float' title='float64'>&#x25AA;&#x25AA;&#x25AA;&#x25AA;&#x25AA;&#x25AA;&#x25AA;&#x25AA;</td><td class='float' title='float64'>&#x25AA;&#x25AA;&#x25AA;&#x25AA;&#x25AA;&#x25AA;&#x25AA;&#x25AA;</td><td class='float' title='float64'>&#x25AA;&#x25AA;&#x25AA;&#x25AA;&#x25AA;&#x25AA;&#x25AA;&#x25AA;</td><td class='float' title='float64'>&#x25AA;&#x25AA;&#x25AA;&#x25AA;&#x25AA;&#x25AA;&#x25AA;&#x25AA;</td></tr>\n",
       "  </thead>\n",
       "  <tbody>\n",
       "    <tr><td class='row_index'>0</td><td>Thick-tailed opposum</td><td>19.4</td><td>6.6</td><td><span class=na>NA</span></td><td>0.37</td></tr>\n",
       "    <tr><td class='row_index'>1</td><td>Giant armadillo</td><td>18.1</td><td>6.1</td><td>0.081</td><td>60</td></tr>\n",
       "  </tbody>\n",
       "  </table>\n",
       "  <div class='footer'>\n",
       "    <div class='frame_dimensions'>2 rows &times; 5 columns</div>\n",
       "  </div>\n",
       "</div>\n"
      ],
      "text/plain": [
       "<Frame#7f77b54ff8d0 2x5>"
      ]
     },
     "execution_count": 26,
     "metadata": {},
     "output_type": "execute_result"
    }
   ],
   "source": [
    "columns = f['name', 'sleep_total' : 'sleep_rem', 'brainwt' : 'bodywt']\n",
    "\n",
    "rows = [name for name in DT[:, columns].names if 'sleep' in name]\n",
    "\n",
    "rows = (f[rows]>5).rowall()\n",
    "\n",
    "DT[rows, columns]"
   ]
  },
  {
   "cell_type": "markdown",
   "metadata": {},
   "source": [
    "Resources: \n",
    "\n",
    "- [datatable docs](https://datatable.readthedocs.io/en/latest/)\n",
    "- Based on datatable version ``1.1``"
   ]
  }
 ],
 "metadata": {
  "kernelspec": {
   "display_name": "playground",
   "language": "python",
   "name": "python3"
  },
  "language_info": {
   "codemirror_mode": {
    "name": "ipython",
    "version": 3
   },
   "file_extension": ".py",
   "mimetype": "text/x-python",
   "name": "python",
   "nbconvert_exporter": "python",
   "pygments_lexer": "ipython3",
   "version": "3.10.6"
  },
  "vscode": {
   "interpreter": {
    "hash": "abb565588fdc1e382cfb58576331719bbedcb5c72ffde2229575f41d5a748868"
   }
  }
 },
 "nbformat": 4,
 "nbformat_minor": 4
}
