{
 "cells": [
  {
   "cell_type": "markdown",
   "metadata": {},
   "source": [
    "# \"SpreadSheet Munging Strategies in Python - Small Multiples\"\n",
    "> \"Extract data from multiple tables in a spreadsheet\"\n",
    "\n",
    "- toc: true\n",
    "- branch: master\n",
    "- badges: true\n",
    "- hide_binder_badge: True\n",
    "- hide_colab_badge: True\n",
    "- comments: true\n",
    "- author: Samuel Oranyeli\n",
    "- categories: [Spreadsheet, Python, Pandas]\n",
    "- image: images/some_folder/your_image.png\n",
    "- hide: false\n",
    "- search_exclude: true\n",
    "- metadata_key1: \"spreadsheet\"\n",
    "- metadata_key2: \"python\""
   ]
  },
  {
   "cell_type": "markdown",
   "metadata": {},
   "source": [
    "## **Small Multiples**"
   ]
  },
  {
   "cell_type": "markdown",
   "metadata": {},
   "source": [
    "This is part of a series of blog posts about extracting data from spreadsheets using Python.  It is based on the [book](https://nacnudus.github.io/spreadsheet-munging-strategies/index.html) written by [Duncan Garmonsway](https://twitter.com/nacnudus?lang=en), which was written primarily for R users. LInks to the other posts are on the [homepage](https://samukweku.github.io/data-wrangling-blog/)."
   ]
  },
  {
   "cell_type": "markdown",
   "metadata": {},
   "source": [
    "Small multiples refer to mini tables embedded in a spreadsheet, or multiple spreadsheets. Ideally, this tables should be lumped into one dataframe for meaningful analysis. The examples below show different scenarios and how we can reshape the data"
   ]
  },
  {
   "cell_type": "markdown",
   "metadata": {},
   "source": [
    "### __Case 1 : Small Multiples with all Headers Present for Each Multiple__\n",
    "\n",
    "![small-multiples.png](Images/small-multiples.png)"
   ]
  },
  {
   "cell_type": "markdown",
   "metadata": {},
   "source": [
    "In this spreadsheet, each table is a separate subject. It would be better to aggregate all the subjects and underlying data into one table."
   ]
  },
  {
   "cell_type": "code",
   "execution_count": 1,
   "metadata": {
    "execution": {
     "iopub.execute_input": "2020-08-24T12:04:26.337187Z",
     "iopub.status.busy": "2020-08-24T12:04:26.336911Z",
     "iopub.status.idle": "2020-08-24T12:04:26.566848Z",
     "shell.execute_reply": "2020-08-24T12:04:26.566130Z",
     "shell.execute_reply.started": "2020-08-24T12:04:26.337163Z"
    }
   },
   "outputs": [],
   "source": [
    "import pandas as pd\n",
    "import numpy as np"
   ]
  },
  {
   "cell_type": "code",
   "execution_count": 2,
   "metadata": {
    "execution": {
     "iopub.execute_input": "2020-08-24T12:04:26.568060Z",
     "iopub.status.busy": "2020-08-24T12:04:26.567872Z",
     "iopub.status.idle": "2020-08-24T12:04:26.571185Z",
     "shell.execute_reply": "2020-08-24T12:04:26.570564Z",
     "shell.execute_reply.started": "2020-08-24T12:04:26.568032Z"
    }
   },
   "outputs": [],
   "source": [
    "#we'll use this filename for all the examples\n",
    "filename = \"Data_files/worked-examples.xlsx\""
   ]
  },
  {
   "cell_type": "code",
   "execution_count": 3,
   "metadata": {
    "execution": {
     "iopub.execute_input": "2020-08-24T12:04:26.572664Z",
     "iopub.status.busy": "2020-08-24T12:04:26.572361Z",
     "iopub.status.idle": "2020-08-24T12:04:27.095626Z",
     "shell.execute_reply": "2020-08-24T12:04:27.094847Z",
     "shell.execute_reply.started": "2020-08-24T12:04:26.572638Z"
    }
   },
   "outputs": [
    {
     "data": {
      "text/html": [
       "<div>\n",
       "<style scoped>\n",
       "    .dataframe tbody tr th:only-of-type {\n",
       "        vertical-align: middle;\n",
       "    }\n",
       "\n",
       "    .dataframe tbody tr th {\n",
       "        vertical-align: top;\n",
       "    }\n",
       "\n",
       "    .dataframe thead th {\n",
       "        text-align: right;\n",
       "    }\n",
       "</style>\n",
       "<table border=\"1\" class=\"dataframe\">\n",
       "  <thead>\n",
       "    <tr style=\"text-align: right;\">\n",
       "      <th></th>\n",
       "      <th>0</th>\n",
       "      <th>1</th>\n",
       "      <th>2</th>\n",
       "      <th>3</th>\n",
       "      <th>4</th>\n",
       "      <th>5</th>\n",
       "      <th>6</th>\n",
       "    </tr>\n",
       "  </thead>\n",
       "  <tbody>\n",
       "    <tr>\n",
       "      <th>0</th>\n",
       "      <td>Classics</td>\n",
       "      <td>NaN</td>\n",
       "      <td>NaN</td>\n",
       "      <td>NaN</td>\n",
       "      <td>History</td>\n",
       "      <td>NaN</td>\n",
       "      <td>NaN</td>\n",
       "    </tr>\n",
       "    <tr>\n",
       "      <th>1</th>\n",
       "      <td>Name</td>\n",
       "      <td>Score</td>\n",
       "      <td>Grade</td>\n",
       "      <td>NaN</td>\n",
       "      <td>Name</td>\n",
       "      <td>Score</td>\n",
       "      <td>Grade</td>\n",
       "    </tr>\n",
       "    <tr>\n",
       "      <th>2</th>\n",
       "      <td>Matilda</td>\n",
       "      <td>1</td>\n",
       "      <td>F</td>\n",
       "      <td>NaN</td>\n",
       "      <td>Matilda</td>\n",
       "      <td>3</td>\n",
       "      <td>D</td>\n",
       "    </tr>\n",
       "    <tr>\n",
       "      <th>3</th>\n",
       "      <td>Olivia</td>\n",
       "      <td>2</td>\n",
       "      <td>D</td>\n",
       "      <td>NaN</td>\n",
       "      <td>Olivia</td>\n",
       "      <td>4</td>\n",
       "      <td>C</td>\n",
       "    </tr>\n",
       "    <tr>\n",
       "      <th>4</th>\n",
       "      <td>NaN</td>\n",
       "      <td>NaN</td>\n",
       "      <td>NaN</td>\n",
       "      <td>NaN</td>\n",
       "      <td>NaN</td>\n",
       "      <td>NaN</td>\n",
       "      <td>NaN</td>\n",
       "    </tr>\n",
       "    <tr>\n",
       "      <th>5</th>\n",
       "      <td>Music</td>\n",
       "      <td>NaN</td>\n",
       "      <td>NaN</td>\n",
       "      <td>NaN</td>\n",
       "      <td>Drama</td>\n",
       "      <td>NaN</td>\n",
       "      <td>NaN</td>\n",
       "    </tr>\n",
       "    <tr>\n",
       "      <th>6</th>\n",
       "      <td>Name</td>\n",
       "      <td>Score</td>\n",
       "      <td>Grade</td>\n",
       "      <td>NaN</td>\n",
       "      <td>Name</td>\n",
       "      <td>Score</td>\n",
       "      <td>Grade</td>\n",
       "    </tr>\n",
       "    <tr>\n",
       "      <th>7</th>\n",
       "      <td>Matilda</td>\n",
       "      <td>5</td>\n",
       "      <td>B</td>\n",
       "      <td>NaN</td>\n",
       "      <td>Matilda</td>\n",
       "      <td>7</td>\n",
       "      <td>A</td>\n",
       "    </tr>\n",
       "    <tr>\n",
       "      <th>8</th>\n",
       "      <td>Olivia</td>\n",
       "      <td>6</td>\n",
       "      <td>B</td>\n",
       "      <td>NaN</td>\n",
       "      <td>Olivia</td>\n",
       "      <td>8</td>\n",
       "      <td>A</td>\n",
       "    </tr>\n",
       "  </tbody>\n",
       "</table>\n",
       "</div>"
      ],
      "text/plain": [
       "          0      1      2   3        4      5      6\n",
       "0  Classics    NaN    NaN NaN  History    NaN    NaN\n",
       "1      Name  Score  Grade NaN     Name  Score  Grade\n",
       "2   Matilda      1      F NaN  Matilda      3      D\n",
       "3    Olivia      2      D NaN   Olivia      4      C\n",
       "4       NaN    NaN    NaN NaN      NaN    NaN    NaN\n",
       "5     Music    NaN    NaN NaN    Drama    NaN    NaN\n",
       "6      Name  Score  Grade NaN     Name  Score  Grade\n",
       "7   Matilda      5      B NaN  Matilda      7      A\n",
       "8    Olivia      6      B NaN   Olivia      8      A"
      ]
     },
     "execution_count": 3,
     "metadata": {},
     "output_type": "execute_result"
    }
   ],
   "source": [
    "sheet = \"small-multiples\"\n",
    "df = pd.read_excel(filename, sheet_name=sheet, header=None)\n",
    "df"
   ]
  },
  {
   "cell_type": "markdown",
   "metadata": {},
   "source": [
    "**Observations :** \n",
    "1. There is a completely empty column that splits the tables, and a completely empty row as well. We'll use the coordinates in our data reshaping\n",
    "2. For each table, the subject is directly above. We'll use the empty cells adjacent to it as a criteria to create a subject column"
   ]
  },
  {
   "cell_type": "code",
   "execution_count": 4,
   "metadata": {
    "execution": {
     "iopub.execute_input": "2020-08-24T12:04:27.096914Z",
     "iopub.status.busy": "2020-08-24T12:04:27.096715Z",
     "iopub.status.idle": "2020-08-24T12:04:27.160233Z",
     "shell.execute_reply": "2020-08-24T12:04:27.159399Z",
     "shell.execute_reply.started": "2020-08-24T12:04:27.096891Z"
    }
   },
   "outputs": [
    {
     "data": {
      "text/html": [
       "<div>\n",
       "<style scoped>\n",
       "    .dataframe tbody tr th:only-of-type {\n",
       "        vertical-align: middle;\n",
       "    }\n",
       "\n",
       "    .dataframe tbody tr th {\n",
       "        vertical-align: top;\n",
       "    }\n",
       "\n",
       "    .dataframe thead th {\n",
       "        text-align: right;\n",
       "    }\n",
       "</style>\n",
       "<table border=\"1\" class=\"dataframe\">\n",
       "  <thead>\n",
       "    <tr style=\"text-align: right;\">\n",
       "      <th></th>\n",
       "      <th>Name</th>\n",
       "      <th>Score</th>\n",
       "      <th>Grade</th>\n",
       "      <th>subject</th>\n",
       "    </tr>\n",
       "  </thead>\n",
       "  <tbody>\n",
       "    <tr>\n",
       "      <th>0</th>\n",
       "      <td>Matilda</td>\n",
       "      <td>1</td>\n",
       "      <td>F</td>\n",
       "      <td>Classics</td>\n",
       "    </tr>\n",
       "    <tr>\n",
       "      <th>1</th>\n",
       "      <td>Olivia</td>\n",
       "      <td>2</td>\n",
       "      <td>D</td>\n",
       "      <td>Classics</td>\n",
       "    </tr>\n",
       "    <tr>\n",
       "      <th>2</th>\n",
       "      <td>Matilda</td>\n",
       "      <td>7</td>\n",
       "      <td>A</td>\n",
       "      <td>Drama</td>\n",
       "    </tr>\n",
       "    <tr>\n",
       "      <th>3</th>\n",
       "      <td>Olivia</td>\n",
       "      <td>8</td>\n",
       "      <td>A</td>\n",
       "      <td>Drama</td>\n",
       "    </tr>\n",
       "    <tr>\n",
       "      <th>4</th>\n",
       "      <td>Matilda</td>\n",
       "      <td>3</td>\n",
       "      <td>D</td>\n",
       "      <td>History</td>\n",
       "    </tr>\n",
       "    <tr>\n",
       "      <th>5</th>\n",
       "      <td>Olivia</td>\n",
       "      <td>4</td>\n",
       "      <td>C</td>\n",
       "      <td>History</td>\n",
       "    </tr>\n",
       "    <tr>\n",
       "      <th>6</th>\n",
       "      <td>Matilda</td>\n",
       "      <td>5</td>\n",
       "      <td>B</td>\n",
       "      <td>Music</td>\n",
       "    </tr>\n",
       "    <tr>\n",
       "      <th>7</th>\n",
       "      <td>Olivia</td>\n",
       "      <td>6</td>\n",
       "      <td>B</td>\n",
       "      <td>Music</td>\n",
       "    </tr>\n",
       "  </tbody>\n",
       "</table>\n",
       "</div>"
      ],
      "text/plain": [
       "      Name Score Grade   subject\n",
       "0  Matilda     1     F  Classics\n",
       "1   Olivia     2     D  Classics\n",
       "2  Matilda     7     A     Drama\n",
       "3   Olivia     8     A     Drama\n",
       "4  Matilda     3     D   History\n",
       "5   Olivia     4     C   History\n",
       "6  Matilda     5     B     Music\n",
       "7   Olivia     6     B     Music"
      ]
     },
     "execution_count": 4,
     "metadata": {},
     "output_type": "execute_result"
    }
   ],
   "source": [
    "res = (pd.concat((df.iloc[:,:3], #get the first three columns before the completely null column\n",
    "                  df.iloc[:,4:] #get the columns after the completely null column\n",
    "                  .set_axis([0,1,2],axis=1))\n",
    "                )\n",
    "        .set_axis(['Name','Score','Grade'],axis=1)\n",
    "        .query('Name != \"Name\"')\n",
    "        .dropna(subset=['Name'])\n",
    "        .assign(subject = lambda x: np.where(x.Score.isna(), \n",
    "                                             x.Name, \n",
    "                                             np.nan)\n",
    "                 )\n",
    "        .assign(subject = lambda x: x.subject.ffill())\n",
    "        .dropna()\n",
    "        .sort_values(['subject','Name'], ignore_index=True)\n",
    "        )\n",
    "\n",
    "res"
   ]
  },
  {
   "cell_type": "markdown",
   "metadata": {},
   "source": [
    "The image below illustrates the main concepts of the above code."
   ]
  },
  {
   "cell_type": "markdown",
   "metadata": {},
   "source": [
    "![\"solution visual for case1\"](Images/case1.jpg)"
   ]
  },
  {
   "cell_type": "markdown",
   "metadata": {},
   "source": [
    "### __Case 2 : Same table in several worksheets/files (using the sheet/file name)__\n",
    "\n",
    "![humanities.png](Images/humanities.png)"
   ]
  },
  {
   "cell_type": "markdown",
   "metadata": {},
   "source": [
    "![performance.png](Images/performance.png)"
   ]
  },
  {
   "cell_type": "markdown",
   "metadata": {},
   "source": [
    "For this case, our data is in different worksheets. We'll create a function, apply it to each worksheet and combine the tables into one."
   ]
  },
  {
   "cell_type": "code",
   "execution_count": 5,
   "metadata": {
    "execution": {
     "iopub.execute_input": "2020-08-24T12:04:27.161243Z",
     "iopub.status.busy": "2020-08-24T12:04:27.161067Z",
     "iopub.status.idle": "2020-08-24T12:04:27.246924Z",
     "shell.execute_reply": "2020-08-24T12:04:27.245679Z",
     "shell.execute_reply.started": "2020-08-24T12:04:27.161220Z"
    }
   },
   "outputs": [],
   "source": [
    "def extract_data(filename,sheet):\n",
    "    #the student names are the header row\n",
    "    #the subjects are the index\n",
    "    #the numbers are the scores\n",
    "    df = (pd.read_excel(filename, \n",
    "                        sheet_name=sheet,\n",
    "                        index_col=0)\n",
    "          #we are assigning the final column names here\n",
    "           .rename_axis(columns='student',index='subject')\n",
    "           .stack()\n",
    "           .reset_index(name = 'scores')\n",
    "          )\n",
    "    return df"
   ]
  },
  {
   "cell_type": "markdown",
   "metadata": {},
   "source": [
    "The image below illustrates the core concepts of the above function for one of the sheets:"
   ]
  },
  {
   "cell_type": "markdown",
   "metadata": {},
   "source": [
    "![\"function description for case 2\"](Images/case2.jpg)"
   ]
  },
  {
   "cell_type": "markdown",
   "metadata": {},
   "source": [
    "Let's apply our function to each sheet and lump into one : "
   ]
  },
  {
   "cell_type": "code",
   "execution_count": 6,
   "metadata": {
    "execution": {
     "iopub.execute_input": "2020-08-24T12:04:27.248759Z",
     "iopub.status.busy": "2020-08-24T12:04:27.248460Z",
     "iopub.status.idle": "2020-08-24T12:04:27.481761Z",
     "shell.execute_reply": "2020-08-24T12:04:27.481010Z",
     "shell.execute_reply.started": "2020-08-24T12:04:27.248721Z"
    }
   },
   "outputs": [
    {
     "data": {
      "text/html": [
       "<div>\n",
       "<style scoped>\n",
       "    .dataframe tbody tr th:only-of-type {\n",
       "        vertical-align: middle;\n",
       "    }\n",
       "\n",
       "    .dataframe tbody tr th {\n",
       "        vertical-align: top;\n",
       "    }\n",
       "\n",
       "    .dataframe thead th {\n",
       "        text-align: right;\n",
       "    }\n",
       "</style>\n",
       "<table border=\"1\" class=\"dataframe\">\n",
       "  <thead>\n",
       "    <tr style=\"text-align: right;\">\n",
       "      <th></th>\n",
       "      <th>subject</th>\n",
       "      <th>student</th>\n",
       "      <th>scores</th>\n",
       "    </tr>\n",
       "  </thead>\n",
       "  <tbody>\n",
       "    <tr>\n",
       "      <th>0</th>\n",
       "      <td>Classics</td>\n",
       "      <td>Matilda</td>\n",
       "      <td>1</td>\n",
       "    </tr>\n",
       "    <tr>\n",
       "      <th>1</th>\n",
       "      <td>Classics</td>\n",
       "      <td>Nicholas</td>\n",
       "      <td>3</td>\n",
       "    </tr>\n",
       "    <tr>\n",
       "      <th>2</th>\n",
       "      <td>History</td>\n",
       "      <td>Matilda</td>\n",
       "      <td>3</td>\n",
       "    </tr>\n",
       "    <tr>\n",
       "      <th>3</th>\n",
       "      <td>History</td>\n",
       "      <td>Nicholas</td>\n",
       "      <td>5</td>\n",
       "    </tr>\n",
       "    <tr>\n",
       "      <th>4</th>\n",
       "      <td>Music</td>\n",
       "      <td>Matilda</td>\n",
       "      <td>5</td>\n",
       "    </tr>\n",
       "    <tr>\n",
       "      <th>5</th>\n",
       "      <td>Music</td>\n",
       "      <td>Nicholas</td>\n",
       "      <td>9</td>\n",
       "    </tr>\n",
       "    <tr>\n",
       "      <th>6</th>\n",
       "      <td>Drama</td>\n",
       "      <td>Matilda</td>\n",
       "      <td>7</td>\n",
       "    </tr>\n",
       "    <tr>\n",
       "      <th>7</th>\n",
       "      <td>Drama</td>\n",
       "      <td>Nicholas</td>\n",
       "      <td>12</td>\n",
       "    </tr>\n",
       "  </tbody>\n",
       "</table>\n",
       "</div>"
      ],
      "text/plain": [
       "    subject   student  scores\n",
       "0  Classics   Matilda       1\n",
       "1  Classics  Nicholas       3\n",
       "2   History   Matilda       3\n",
       "3   History  Nicholas       5\n",
       "4     Music   Matilda       5\n",
       "5     Music  Nicholas       9\n",
       "6     Drama   Matilda       7\n",
       "7     Drama  Nicholas      12"
      ]
     },
     "execution_count": 6,
     "metadata": {},
     "output_type": "execute_result"
    }
   ],
   "source": [
    "sheets = (\"humanities\", \"performance\")\n",
    "extract = (extract_data(filename, sheet) for sheet in sheets)\n",
    "#combine into one\n",
    "res = pd.concat(extract, ignore_index=True)\n",
    "res"
   ]
  },
  {
   "cell_type": "markdown",
   "metadata": {},
   "source": [
    "### __Case 3 : Same table in several worksheets/files but in different positions__\n",
    "\n",
    "![female.png](Images/female.png)  "
   ]
  },
  {
   "cell_type": "markdown",
   "metadata": {},
   "source": [
    "![male.png](Images/male.png)"
   ]
  },
  {
   "cell_type": "markdown",
   "metadata": {},
   "source": [
    "This is similar to Case 2, with the core data been the same. Our function must be robust enough to exclude the irrelevant data"
   ]
  },
  {
   "cell_type": "code",
   "execution_count": 7,
   "metadata": {
    "execution": {
     "iopub.execute_input": "2020-08-24T12:04:27.483030Z",
     "iopub.status.busy": "2020-08-24T12:04:27.482792Z",
     "iopub.status.idle": "2020-08-24T12:04:27.489640Z",
     "shell.execute_reply": "2020-08-24T12:04:27.488893Z",
     "shell.execute_reply.started": "2020-08-24T12:04:27.483000Z"
    }
   },
   "outputs": [],
   "source": [
    "def extract_data(filename,sheet):\n",
    "    #the student names are the header row\n",
    "    #the subjects are the index\n",
    "    #the numbers are the scores\n",
    "    df = (pd.read_excel(filename, \n",
    "                        sheet_name=sheet,\n",
    "                        header = None,#our header is not the first row and varies per sheet\n",
    "                        index_col = 0)#set the first column as the index of the dataframe\n",
    "           .loc['Subject':] #picks data from the Subject index downwards, excluding the irrelevant data\n",
    "          )\n",
    "    \n",
    "    #set columns equal to the 'Subject' index \n",
    "    df.columns = df.loc['Subject']\n",
    "    df = (df\n",
    "           .drop('Subject')\n",
    "           .rename_axis(index='subject',columns='student')\n",
    "           .stack()\n",
    "           .reset_index(name='scores')\n",
    "           .assign(sex = sheet)\n",
    "          )\n",
    "    \n",
    "    return df"
   ]
  },
  {
   "cell_type": "markdown",
   "metadata": {},
   "source": [
    "The image below explains the main concepts of the function : "
   ]
  },
  {
   "cell_type": "markdown",
   "metadata": {},
   "source": [
    "![\"visual explanation of function for case3\"](Images/case3.jpg)"
   ]
  },
  {
   "cell_type": "markdown",
   "metadata": {},
   "source": [
    "Same as in case 2, we'll apply the function to each sheet:"
   ]
  },
  {
   "cell_type": "code",
   "execution_count": 8,
   "metadata": {
    "execution": {
     "iopub.execute_input": "2020-08-24T12:04:27.490777Z",
     "iopub.status.busy": "2020-08-24T12:04:27.490587Z",
     "iopub.status.idle": "2020-08-24T12:04:27.655467Z",
     "shell.execute_reply": "2020-08-24T12:04:27.654763Z",
     "shell.execute_reply.started": "2020-08-24T12:04:27.490752Z"
    }
   },
   "outputs": [
    {
     "data": {
      "text/html": [
       "<div>\n",
       "<style scoped>\n",
       "    .dataframe tbody tr th:only-of-type {\n",
       "        vertical-align: middle;\n",
       "    }\n",
       "\n",
       "    .dataframe tbody tr th {\n",
       "        vertical-align: top;\n",
       "    }\n",
       "\n",
       "    .dataframe thead th {\n",
       "        text-align: right;\n",
       "    }\n",
       "</style>\n",
       "<table border=\"1\" class=\"dataframe\">\n",
       "  <thead>\n",
       "    <tr style=\"text-align: right;\">\n",
       "      <th></th>\n",
       "      <th>subject</th>\n",
       "      <th>student</th>\n",
       "      <th>scores</th>\n",
       "      <th>sex</th>\n",
       "    </tr>\n",
       "  </thead>\n",
       "  <tbody>\n",
       "    <tr>\n",
       "      <th>0</th>\n",
       "      <td>Classics</td>\n",
       "      <td>Matilda</td>\n",
       "      <td>1</td>\n",
       "      <td>female</td>\n",
       "    </tr>\n",
       "    <tr>\n",
       "      <th>1</th>\n",
       "      <td>Classics</td>\n",
       "      <td>Olivia</td>\n",
       "      <td>2</td>\n",
       "      <td>female</td>\n",
       "    </tr>\n",
       "    <tr>\n",
       "      <th>2</th>\n",
       "      <td>History</td>\n",
       "      <td>Matilda</td>\n",
       "      <td>3</td>\n",
       "      <td>female</td>\n",
       "    </tr>\n",
       "    <tr>\n",
       "      <th>3</th>\n",
       "      <td>History</td>\n",
       "      <td>Olivia</td>\n",
       "      <td>4</td>\n",
       "      <td>female</td>\n",
       "    </tr>\n",
       "    <tr>\n",
       "      <th>4</th>\n",
       "      <td>Classics</td>\n",
       "      <td>Nicholas</td>\n",
       "      <td>3</td>\n",
       "      <td>male</td>\n",
       "    </tr>\n",
       "    <tr>\n",
       "      <th>5</th>\n",
       "      <td>Classics</td>\n",
       "      <td>Paul</td>\n",
       "      <td>0</td>\n",
       "      <td>male</td>\n",
       "    </tr>\n",
       "    <tr>\n",
       "      <th>6</th>\n",
       "      <td>History</td>\n",
       "      <td>Nicholas</td>\n",
       "      <td>5</td>\n",
       "      <td>male</td>\n",
       "    </tr>\n",
       "    <tr>\n",
       "      <th>7</th>\n",
       "      <td>History</td>\n",
       "      <td>Paul</td>\n",
       "      <td>1</td>\n",
       "      <td>male</td>\n",
       "    </tr>\n",
       "  </tbody>\n",
       "</table>\n",
       "</div>"
      ],
      "text/plain": [
       "    subject   student scores     sex\n",
       "0  Classics   Matilda      1  female\n",
       "1  Classics    Olivia      2  female\n",
       "2   History   Matilda      3  female\n",
       "3   History    Olivia      4  female\n",
       "4  Classics  Nicholas      3    male\n",
       "5  Classics      Paul      0    male\n",
       "6   History  Nicholas      5    male\n",
       "7   History      Paul      1    male"
      ]
     },
     "execution_count": 8,
     "metadata": {},
     "output_type": "execute_result"
    }
   ],
   "source": [
    "sheets = (\"female\", \"male\")\n",
    "extract = (extract_data(filename, sheet) for sheet in sheets)\n",
    "#combine into one\n",
    "res = pd.concat(extract, ignore_index=True)\n",
    "res"
   ]
  },
  {
   "cell_type": "markdown",
   "metadata": {},
   "source": [
    "### __Case 4 : Implied multiples__\n",
    "\n",
    "![implied-multiples.png](Images/implied-multiples.png)"
   ]
  },
  {
   "cell_type": "markdown",
   "metadata": {},
   "source": [
    "For this case, we have the fields at the top, followed by the subjects and grade for each subject. the student names is the very first column.<br>\n",
    "The goal is to get the subjects,grades and scores per field, per student and combine into one."
   ]
  },
  {
   "cell_type": "code",
   "execution_count": 9,
   "metadata": {
    "execution": {
     "iopub.execute_input": "2020-08-24T12:04:27.657436Z",
     "iopub.status.busy": "2020-08-24T12:04:27.657174Z",
     "iopub.status.idle": "2020-08-24T12:04:27.715530Z",
     "shell.execute_reply": "2020-08-24T12:04:27.714852Z",
     "shell.execute_reply.started": "2020-08-24T12:04:27.657405Z"
    }
   },
   "outputs": [
    {
     "data": {
      "text/html": [
       "<div>\n",
       "<style scoped>\n",
       "    .dataframe tbody tr th:only-of-type {\n",
       "        vertical-align: middle;\n",
       "    }\n",
       "\n",
       "    .dataframe tbody tr th {\n",
       "        vertical-align: top;\n",
       "    }\n",
       "\n",
       "    .dataframe thead th {\n",
       "        text-align: right;\n",
       "    }\n",
       "</style>\n",
       "<table border=\"1\" class=\"dataframe\">\n",
       "  <thead>\n",
       "    <tr style=\"text-align: right;\">\n",
       "      <th></th>\n",
       "      <th>field</th>\n",
       "      <th>subject</th>\n",
       "      <th>student</th>\n",
       "      <th>scores</th>\n",
       "      <th>grade</th>\n",
       "    </tr>\n",
       "  </thead>\n",
       "  <tbody>\n",
       "    <tr>\n",
       "      <th>0</th>\n",
       "      <td>Humanities</td>\n",
       "      <td>Classics</td>\n",
       "      <td>Matilda</td>\n",
       "      <td>1</td>\n",
       "      <td>F</td>\n",
       "    </tr>\n",
       "    <tr>\n",
       "      <th>1</th>\n",
       "      <td>Humanities</td>\n",
       "      <td>Classics</td>\n",
       "      <td>Olivia</td>\n",
       "      <td>2</td>\n",
       "      <td>D</td>\n",
       "    </tr>\n",
       "    <tr>\n",
       "      <th>2</th>\n",
       "      <td>Humanities</td>\n",
       "      <td>History</td>\n",
       "      <td>Matilda</td>\n",
       "      <td>3</td>\n",
       "      <td>D</td>\n",
       "    </tr>\n",
       "    <tr>\n",
       "      <th>3</th>\n",
       "      <td>Humanities</td>\n",
       "      <td>History</td>\n",
       "      <td>Olivia</td>\n",
       "      <td>4</td>\n",
       "      <td>C</td>\n",
       "    </tr>\n",
       "    <tr>\n",
       "      <th>4</th>\n",
       "      <td>Performance</td>\n",
       "      <td>Drama</td>\n",
       "      <td>Matilda</td>\n",
       "      <td>7</td>\n",
       "      <td>A</td>\n",
       "    </tr>\n",
       "    <tr>\n",
       "      <th>5</th>\n",
       "      <td>Performance</td>\n",
       "      <td>Drama</td>\n",
       "      <td>Olivia</td>\n",
       "      <td>8</td>\n",
       "      <td>A</td>\n",
       "    </tr>\n",
       "    <tr>\n",
       "      <th>6</th>\n",
       "      <td>Performance</td>\n",
       "      <td>Music</td>\n",
       "      <td>Matilda</td>\n",
       "      <td>5</td>\n",
       "      <td>B</td>\n",
       "    </tr>\n",
       "    <tr>\n",
       "      <th>7</th>\n",
       "      <td>Performance</td>\n",
       "      <td>Music</td>\n",
       "      <td>Olivia</td>\n",
       "      <td>6</td>\n",
       "      <td>B</td>\n",
       "    </tr>\n",
       "  </tbody>\n",
       "</table>\n",
       "</div>"
      ],
      "text/plain": [
       "         field   subject  student scores grade\n",
       "0   Humanities  Classics  Matilda      1     F\n",
       "1   Humanities  Classics   Olivia      2     D\n",
       "2   Humanities   History  Matilda      3     D\n",
       "3   Humanities   History   Olivia      4     C\n",
       "4  Performance     Drama  Matilda      7     A\n",
       "5  Performance     Drama   Olivia      8     A\n",
       "6  Performance     Music  Matilda      5     B\n",
       "7  Performance     Music   Olivia      6     B"
      ]
     },
     "execution_count": 9,
     "metadata": {},
     "output_type": "execute_result"
    }
   ],
   "source": [
    "sheet = \"implied-multiples\"\n",
    "df = (pd.read_excel(filename,\n",
    "                    sheet_name=sheet,\n",
    "                    header = None,\n",
    "                    )\n",
    "       .ffill(axis=1)\n",
    "       .replace({np.nan : 'field'})\n",
    "       .set_index(0)\n",
    "       .T\n",
    "       .melt(id_vars = ['field','Name'],\n",
    "             var_name = 'student',\n",
    "             value_name = 'scores'\n",
    "            )\n",
    "       .assign(grade = lambda x: x.loc[x.Name == \"Grade\", 'scores'])\n",
    "       #scores are above grades per student\n",
    "       #hence the bfill\n",
    "       .bfill()\n",
    "       .query('Name != \"Grade\"')\n",
    "       .rename(columns={'Name':'subject'})\n",
    "       .sort_values(['field','subject'], ignore_index=True)\n",
    "      )\n",
    "df"
   ]
  },
  {
   "cell_type": "markdown",
   "metadata": {},
   "source": [
    "And a visual illustration of the steps is shown below: "
   ]
  },
  {
   "cell_type": "markdown",
   "metadata": {},
   "source": [
    "![\"visual explanation of code for case4\"](Images/case4.jpg)"
   ]
  }
 ],
 "metadata": {
  "jupytext": {
   "formats": "ipynb,md"
  },
  "kernelspec": {
   "display_name": "Python 3",
   "language": "python",
   "name": "python3"
  },
  "language_info": {
   "codemirror_mode": {
    "name": "ipython",
    "version": 3
   },
   "file_extension": ".py",
   "mimetype": "text/x-python",
   "name": "python",
   "nbconvert_exporter": "python",
   "pygments_lexer": "ipython3",
   "version": "3.8.5"
  }
 },
 "nbformat": 4,
 "nbformat_minor": 4
}
