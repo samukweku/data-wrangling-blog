{
 "cells": [
  {
   "cell_type": "markdown",
   "metadata": {},
   "source": [
    "# \"SpreadSheet Munging Strategies in Python - Meaningful Formats\"\n",
    "> \"Extract data from spreadsheets with formats\"\n",
    "\n",
    "- toc: true\n",
    "- branch: master\n",
    "- badges: true\n",
    "- hide_binder_badge: True\n",
    "- hide_colab_badge: True\n",
    "- comments: true\n",
    "- categories: [Spreadsheet, Python, Pandas]\n",
    "- image: images/some_folder/your_image.png\n",
    "- hide: false\n",
    "- search_exclude: true\n",
    "- metadata_key1: metadata_value1\n",
    "- metadata_key2: metadata_value2"
   ]
  },
  {
   "cell_type": "markdown",
   "metadata": {},
   "source": [
    "## __Meaningful Formats__"
   ]
  },
  {
   "cell_type": "markdown",
   "metadata": {},
   "source": [
    "This is part of a series of blog posts about extracting data from spreadsheets using Python.  It is based on the [book](https://nacnudus.github.io/spreadsheet-munging-strategies/index.html) written by [Duncan Garmonsway](https://twitter.com/nacnudus?lang=en), which was written primarily for R users. LInks to the other posts are on the [homepage](https://samukweku.github.io/data-wrangling-blog/)."
   ]
  },
  {
   "cell_type": "markdown",
   "metadata": {},
   "source": [
    "This is an excerpt from [Duncan's book](https://nacnudus.github.io/spreadsheet-munging-strategies/tidy-formatted-rows.html) regarding meaningful formats :\n",
    ">Sometimes whole rows in a table are highlighted by formatting them with, say, a bright yellow fill. The highlighting could mean “this observation should be ignored”, or “this product is no longer available”. Different colours could mean different levels of a hierarchy, e.g. green for “pass” and red for “fail”.\n",
    "\n",
    "The examples below highlight various ways of dealing with meaningfully formatted spreadsheets. Let's dive in."
   ]
  },
  {
   "cell_type": "markdown",
   "metadata": {
    "execution": {
     "iopub.execute_input": "2020-08-12T08:12:00.359572Z",
     "iopub.status.busy": "2020-08-12T08:12:00.359338Z",
     "iopub.status.idle": "2020-08-12T08:12:00.365436Z",
     "shell.execute_reply": "2020-08-12T08:12:00.364567Z",
     "shell.execute_reply.started": "2020-08-12T08:12:00.359549Z"
    }
   },
   "source": [
    "**Update**\n",
    "- 2020-08-12: Code has been improved. Unnecessary steps are chunked out."
   ]
  },
  {
   "attachments": {
    "meaningfully_formatted_rows.png": {
     "image/png": "[encoded data removed]"
    }
   },
   "cell_type": "markdown",
   "metadata": {},
   "source": [
    "### **Case 1 : Meaningfully Formatted Rows**\n",
    "![meaningfully_formatted_rows.png](Images/meaningfully_formatted_rows.png)"
   ]
  },
  {
   "cell_type": "markdown",
   "metadata": {},
   "source": [
    "Goal is to capture the color as part of our final output. We'll use [Openpyxl](https://openpyxl.readthedocs.io/en/stable/index.html) to get the colour details."
   ]
  },
  {
   "cell_type": "code",
   "execution_count": 1,
   "metadata": {
    "execution": {
     "iopub.execute_input": "2020-08-24T12:15:08.502898Z",
     "iopub.status.busy": "2020-08-24T12:15:08.502653Z",
     "iopub.status.idle": "2020-08-24T12:15:09.237824Z",
     "shell.execute_reply": "2020-08-24T12:15:09.237041Z",
     "shell.execute_reply.started": "2020-08-24T12:15:08.502868Z"
    }
   },
   "outputs": [],
   "source": [
    "import pandas as pd\n",
    "import janitor\n",
    "import numpy as np\n",
    "from openpyxl import load_workbook  \n",
    "from collections import defaultdict\n",
    "\n",
    "filename = \"Data_files/worked-examples.xlsx\""
   ]
  },
  {
   "cell_type": "code",
   "execution_count": 2,
   "metadata": {
    "execution": {
     "iopub.execute_input": "2020-08-24T12:15:09.239041Z",
     "iopub.status.busy": "2020-08-24T12:15:09.238739Z",
     "iopub.status.idle": "2020-08-24T12:15:09.312468Z",
     "shell.execute_reply": "2020-08-24T12:15:09.311712Z",
     "shell.execute_reply.started": "2020-08-24T12:15:09.239011Z"
    }
   },
   "outputs": [],
   "source": [
    "# read in excel file\n",
    "wb = load_workbook(filename)\n",
    "\n",
    "# access specific worksheet\n",
    "ws = wb[\"highlights\"]"
   ]
  },
  {
   "cell_type": "markdown",
   "metadata": {},
   "source": [
    "Next we iterate through each column and collect similar items. Specifically, we need to get the values and the colours : "
   ]
  },
  {
   "cell_type": "code",
   "execution_count": 3,
   "metadata": {
    "execution": {
     "iopub.execute_input": "2020-08-24T12:15:09.313939Z",
     "iopub.status.busy": "2020-08-24T12:15:09.313756Z",
     "iopub.status.idle": "2020-08-24T12:15:09.418596Z",
     "shell.execute_reply": "2020-08-24T12:15:09.417290Z",
     "shell.execute_reply.started": "2020-08-24T12:15:09.313919Z"
    }
   },
   "outputs": [],
   "source": [
    "from collections import defaultdict\n",
    "data = defaultdict(list)\n",
    "\n",
    "for column in ws.columns:\n",
    "    for cell in column:\n",
    "        data[f\"{cell.column_letter}_value\"].append(cell.value)\n",
    "        data[f\"{cell.column_letter}_colour\"].append(cell.fill.fgColor.rgb)"
   ]
  },
  {
   "cell_type": "code",
   "execution_count": 4,
   "metadata": {
    "execution": {
     "iopub.execute_input": "2020-08-24T12:15:09.421769Z",
     "iopub.status.busy": "2020-08-24T12:15:09.421370Z",
     "iopub.status.idle": "2020-08-24T12:15:09.560829Z",
     "shell.execute_reply": "2020-08-24T12:15:09.559807Z",
     "shell.execute_reply.started": "2020-08-24T12:15:09.421724Z"
    }
   },
   "outputs": [
    {
     "data": {
      "text/plain": [
       "defaultdict(list,\n",
       "            {'A_value': ['Age', 1, 3, 5],\n",
       "             'A_colour': ['00000000', '00000000', 'FFFFFF00', '00000000'],\n",
       "             'B_value': ['Height', 2, 4, 6],\n",
       "             'B_colour': ['00000000', '00000000', 'FFFFFF00', '00000000']})"
      ]
     },
     "execution_count": 4,
     "metadata": {},
     "output_type": "execute_result"
    }
   ],
   "source": [
    "data"
   ]
  },
  {
   "cell_type": "markdown",
   "metadata": {
    "execution": {
     "iopub.execute_input": "2020-08-12T08:12:41.163158Z",
     "iopub.status.busy": "2020-08-12T08:12:41.162920Z",
     "iopub.status.idle": "2020-08-12T08:12:41.168615Z",
     "shell.execute_reply": "2020-08-12T08:12:41.167913Z",
     "shell.execute_reply.started": "2020-08-12T08:12:41.163134Z"
    }
   },
   "source": [
    "Let's view the data in a dataframe :"
   ]
  },
  {
   "cell_type": "code",
   "execution_count": 5,
   "metadata": {
    "execution": {
     "iopub.execute_input": "2020-08-24T12:15:09.561747Z",
     "iopub.status.busy": "2020-08-24T12:15:09.561561Z",
     "iopub.status.idle": "2020-08-24T12:15:09.696053Z",
     "shell.execute_reply": "2020-08-24T12:15:09.694984Z",
     "shell.execute_reply.started": "2020-08-24T12:15:09.561725Z"
    }
   },
   "outputs": [
    {
     "data": {
      "text/html": [
       "<div>\n",
       "<style scoped>\n",
       "    .dataframe tbody tr th:only-of-type {\n",
       "        vertical-align: middle;\n",
       "    }\n",
       "\n",
       "    .dataframe tbody tr th {\n",
       "        vertical-align: top;\n",
       "    }\n",
       "\n",
       "    .dataframe thead th {\n",
       "        text-align: right;\n",
       "    }\n",
       "</style>\n",
       "<table border=\"1\" class=\"dataframe\">\n",
       "  <thead>\n",
       "    <tr style=\"text-align: right;\">\n",
       "      <th></th>\n",
       "      <th>A_value</th>\n",
       "      <th>A_colour</th>\n",
       "      <th>B_value</th>\n",
       "      <th>B_colour</th>\n",
       "    </tr>\n",
       "  </thead>\n",
       "  <tbody>\n",
       "    <tr>\n",
       "      <th>0</th>\n",
       "      <td>Age</td>\n",
       "      <td>00000000</td>\n",
       "      <td>Height</td>\n",
       "      <td>00000000</td>\n",
       "    </tr>\n",
       "    <tr>\n",
       "      <th>1</th>\n",
       "      <td>1</td>\n",
       "      <td>00000000</td>\n",
       "      <td>2</td>\n",
       "      <td>00000000</td>\n",
       "    </tr>\n",
       "    <tr>\n",
       "      <th>2</th>\n",
       "      <td>3</td>\n",
       "      <td>FFFFFF00</td>\n",
       "      <td>4</td>\n",
       "      <td>FFFFFF00</td>\n",
       "    </tr>\n",
       "    <tr>\n",
       "      <th>3</th>\n",
       "      <td>5</td>\n",
       "      <td>00000000</td>\n",
       "      <td>6</td>\n",
       "      <td>00000000</td>\n",
       "    </tr>\n",
       "  </tbody>\n",
       "</table>\n",
       "</div>"
      ],
      "text/plain": [
       "  A_value  A_colour B_value  B_colour\n",
       "0     Age  00000000  Height  00000000\n",
       "1       1  00000000       2  00000000\n",
       "2       3  FFFFFF00       4  FFFFFF00\n",
       "3       5  00000000       6  00000000"
      ]
     },
     "execution_count": 5,
     "metadata": {},
     "output_type": "execute_result"
    }
   ],
   "source": [
    "df = pd.DataFrame(data)\n",
    "df"
   ]
  },
  {
   "cell_type": "markdown",
   "metadata": {},
   "source": [
    "This looks better and easier to wrangle. Let's put into tidy form"
   ]
  },
  {
   "cell_type": "code",
   "execution_count": 6,
   "metadata": {
    "execution": {
     "iopub.execute_input": "2020-08-24T12:15:09.698079Z",
     "iopub.status.busy": "2020-08-24T12:15:09.697527Z",
     "iopub.status.idle": "2020-08-24T12:15:09.772329Z",
     "shell.execute_reply": "2020-08-24T12:15:09.771560Z",
     "shell.execute_reply.started": "2020-08-24T12:15:09.698030Z"
    }
   },
   "outputs": [
    {
     "data": {
      "text/html": [
       "<div>\n",
       "<style scoped>\n",
       "    .dataframe tbody tr th:only-of-type {\n",
       "        vertical-align: middle;\n",
       "    }\n",
       "\n",
       "    .dataframe tbody tr th {\n",
       "        vertical-align: top;\n",
       "    }\n",
       "\n",
       "    .dataframe thead th {\n",
       "        text-align: right;\n",
       "    }\n",
       "</style>\n",
       "<table border=\"1\" class=\"dataframe\">\n",
       "  <thead>\n",
       "    <tr style=\"text-align: right;\">\n",
       "      <th></th>\n",
       "      <th>Age</th>\n",
       "      <th>Fill_colour</th>\n",
       "      <th>Height</th>\n",
       "    </tr>\n",
       "  </thead>\n",
       "  <tbody>\n",
       "    <tr>\n",
       "      <th>1</th>\n",
       "      <td>1</td>\n",
       "      <td>00000000</td>\n",
       "      <td>2</td>\n",
       "    </tr>\n",
       "    <tr>\n",
       "      <th>2</th>\n",
       "      <td>3</td>\n",
       "      <td>FFFFFF00</td>\n",
       "      <td>4</td>\n",
       "    </tr>\n",
       "    <tr>\n",
       "      <th>3</th>\n",
       "      <td>5</td>\n",
       "      <td>00000000</td>\n",
       "      <td>6</td>\n",
       "    </tr>\n",
       "  </tbody>\n",
       "</table>\n",
       "</div>"
      ],
      "text/plain": [
       "  Age Fill_colour Height\n",
       "1   1    00000000      2\n",
       "2   3    FFFFFF00      4\n",
       "3   5    00000000      6"
      ]
     },
     "execution_count": 6,
     "metadata": {},
     "output_type": "execute_result"
    }
   ],
   "source": [
    "df = (df\n",
    "      # We chunk the last column, since it is the same as A_colour\n",
    "      # remember, we are working with row colours\n",
    "      .iloc[:, :-1]\n",
    "      # cleanup here to put a relevant name \n",
    "      # since at some point we will use this row as our column headers\n",
    "      .assign(A_colour = lambda x: np.where(x.index==0, \n",
    "                                            \"Fill_colour\", \n",
    "                                            x.A_colour))\n",
    "      # row_to_names function is from the pyjanitor package\n",
    "      # we promote the first row as the new column header\n",
    "      .row_to_names(row_number = 0, remove_row = True)\n",
    "     )\n",
    "\n",
    "df"
   ]
  },
  {
   "attachments": {
    "meaningfully_formatted_cells.png": {
     "image/png": "[encoded data removed]"
    }
   },
   "cell_type": "markdown",
   "metadata": {},
   "source": [
    "### **Case 2 : Meaningfully Formatted Cells**\n",
    "![meaningfully_formatted_cells.png](Images/meaningfully_formatted_cells.png)"
   ]
  },
  {
   "cell_type": "markdown",
   "metadata": {},
   "source": [
    "In the pic above, the table has different colors for different cells. Openpyxl comes in handy again, and the focus here, just as in Case 1, is the cell's fill attribute."
   ]
  },
  {
   "cell_type": "markdown",
   "metadata": {
    "execution": {
     "iopub.execute_input": "2020-08-12T09:10:28.130602Z",
     "iopub.status.busy": "2020-08-12T09:10:28.130206Z",
     "iopub.status.idle": "2020-08-12T09:10:28.139078Z",
     "shell.execute_reply": "2020-08-12T09:10:28.138414Z",
     "shell.execute_reply.started": "2020-08-12T09:10:28.130576Z"
    }
   },
   "source": [
    "A strategy change is needed here, however. We need to identify cells that are numbers and get the cell colours, while ignoring the cell colours for text cells and the headers."
   ]
  },
  {
   "cell_type": "code",
   "execution_count": 7,
   "metadata": {
    "execution": {
     "iopub.execute_input": "2020-08-24T12:15:09.773427Z",
     "iopub.status.busy": "2020-08-24T12:15:09.773176Z",
     "iopub.status.idle": "2020-08-24T12:15:10.055127Z",
     "shell.execute_reply": "2020-08-24T12:15:10.054288Z",
     "shell.execute_reply.started": "2020-08-24T12:15:09.773403Z"
    }
   },
   "outputs": [],
   "source": [
    "# openpyxl is already loaded\n",
    "wb = load_workbook(filename)\n",
    "ws = wb[\"annotations\"]\n",
    "\n",
    "data = defaultdict(list)\n",
    "\n",
    "for row in ws.rows:\n",
    "    for cell in row:\n",
    "        if cell.data_type == \"s\":\n",
    "            val = cell.value\n",
    "        #attach color information to the numbers\n",
    "        #color applies only to the numbers\n",
    "        elif cell.data_type == \"n\":\n",
    "            val = ','.join((str(cell.value), cell.fill.fgColor.rgb))\n",
    "        data[f\"column_{cell.row}\"].append(val)"
   ]
  },
  {
   "cell_type": "code",
   "execution_count": 8,
   "metadata": {
    "execution": {
     "iopub.execute_input": "2020-08-24T12:15:10.056168Z",
     "iopub.status.busy": "2020-08-24T12:15:10.056006Z",
     "iopub.status.idle": "2020-08-24T12:15:10.068018Z",
     "shell.execute_reply": "2020-08-24T12:15:10.067354Z",
     "shell.execute_reply.started": "2020-08-24T12:15:10.056148Z"
    }
   },
   "outputs": [
    {
     "data": {
      "text/html": [
       "<div>\n",
       "<style scoped>\n",
       "    .dataframe tbody tr th:only-of-type {\n",
       "        vertical-align: middle;\n",
       "    }\n",
       "\n",
       "    .dataframe tbody tr th {\n",
       "        vertical-align: top;\n",
       "    }\n",
       "\n",
       "    .dataframe thead th {\n",
       "        text-align: right;\n",
       "    }\n",
       "</style>\n",
       "<table border=\"1\" class=\"dataframe\">\n",
       "  <thead>\n",
       "    <tr style=\"text-align: right;\">\n",
       "      <th></th>\n",
       "      <th>column_2</th>\n",
       "      <th>column_3</th>\n",
       "      <th>column_4</th>\n",
       "    </tr>\n",
       "    <tr>\n",
       "      <th>column_1</th>\n",
       "      <th></th>\n",
       "      <th></th>\n",
       "      <th></th>\n",
       "    </tr>\n",
       "  </thead>\n",
       "  <tbody>\n",
       "    <tr>\n",
       "      <th>Name</th>\n",
       "      <td>Matilda</td>\n",
       "      <td>Nicholas</td>\n",
       "      <td>Olivia</td>\n",
       "    </tr>\n",
       "    <tr>\n",
       "      <th>Age</th>\n",
       "      <td>1,00000000</td>\n",
       "      <td>3,FFFFFF00</td>\n",
       "      <td>5,00000000</td>\n",
       "    </tr>\n",
       "    <tr>\n",
       "      <th>Height</th>\n",
       "      <td>2,00000000</td>\n",
       "      <td>4,00000000</td>\n",
       "      <td>6,FF92D050</td>\n",
       "    </tr>\n",
       "  </tbody>\n",
       "</table>\n",
       "</div>"
      ],
      "text/plain": [
       "            column_2    column_3    column_4\n",
       "column_1                                    \n",
       "Name         Matilda    Nicholas      Olivia\n",
       "Age       1,00000000  3,FFFFFF00  5,00000000\n",
       "Height    2,00000000  4,00000000  6,FF92D050"
      ]
     },
     "execution_count": 8,
     "metadata": {},
     "output_type": "execute_result"
    }
   ],
   "source": [
    "df = pd.DataFrame(data).set_index(\"column_1\")\n",
    "df"
   ]
  },
  {
   "cell_type": "code",
   "execution_count": 9,
   "metadata": {
    "execution": {
     "iopub.execute_input": "2020-08-24T12:15:10.070031Z",
     "iopub.status.busy": "2020-08-24T12:15:10.069808Z",
     "iopub.status.idle": "2020-08-24T12:15:10.203664Z",
     "shell.execute_reply": "2020-08-24T12:15:10.202737Z",
     "shell.execute_reply.started": "2020-08-24T12:15:10.070006Z"
    }
   },
   "outputs": [
    {
     "data": {
      "text/html": [
       "<div>\n",
       "<style scoped>\n",
       "    .dataframe tbody tr th:only-of-type {\n",
       "        vertical-align: middle;\n",
       "    }\n",
       "\n",
       "    .dataframe tbody tr th {\n",
       "        vertical-align: top;\n",
       "    }\n",
       "\n",
       "    .dataframe thead th {\n",
       "        text-align: right;\n",
       "    }\n",
       "</style>\n",
       "<table border=\"1\" class=\"dataframe\">\n",
       "  <thead>\n",
       "    <tr style=\"text-align: right;\">\n",
       "      <th></th>\n",
       "      <th></th>\n",
       "      <th>value</th>\n",
       "      <th>fill_colour</th>\n",
       "    </tr>\n",
       "    <tr>\n",
       "      <th>Student</th>\n",
       "      <th>Variable</th>\n",
       "      <th></th>\n",
       "      <th></th>\n",
       "    </tr>\n",
       "  </thead>\n",
       "  <tbody>\n",
       "    <tr>\n",
       "      <th rowspan=\"2\" valign=\"top\">Matilda</th>\n",
       "      <th>Age</th>\n",
       "      <td>1</td>\n",
       "      <td>00000000</td>\n",
       "    </tr>\n",
       "    <tr>\n",
       "      <th>Height</th>\n",
       "      <td>2</td>\n",
       "      <td>00000000</td>\n",
       "    </tr>\n",
       "    <tr>\n",
       "      <th rowspan=\"2\" valign=\"top\">Nicholas</th>\n",
       "      <th>Age</th>\n",
       "      <td>3</td>\n",
       "      <td>FFFFFF00</td>\n",
       "    </tr>\n",
       "    <tr>\n",
       "      <th>Height</th>\n",
       "      <td>4</td>\n",
       "      <td>00000000</td>\n",
       "    </tr>\n",
       "    <tr>\n",
       "      <th rowspan=\"2\" valign=\"top\">Olivia</th>\n",
       "      <th>Age</th>\n",
       "      <td>5</td>\n",
       "      <td>00000000</td>\n",
       "    </tr>\n",
       "    <tr>\n",
       "      <th>Height</th>\n",
       "      <td>6</td>\n",
       "      <td>FF92D050</td>\n",
       "    </tr>\n",
       "  </tbody>\n",
       "</table>\n",
       "</div>"
      ],
      "text/plain": [
       "                  value fill_colour\n",
       "Student  Variable                  \n",
       "Matilda  Age          1    00000000\n",
       "         Height       2    00000000\n",
       "Nicholas Age          3    FFFFFF00\n",
       "         Height       4    00000000\n",
       "Olivia   Age          5    00000000\n",
       "         Height       6    FF92D050"
      ]
     },
     "execution_count": 9,
     "metadata": {},
     "output_type": "execute_result"
    }
   ],
   "source": [
    "#final cleanup\n",
    "df = (df\n",
    "      .row_to_names(0, True)\n",
    "      .stack()\n",
    "      .rename_axis(index=['Variable', \"Student\"])\n",
    "      .str.split(\",\", expand = True)\n",
    "      .set_axis(['value', 'fill_colour'], axis = 'columns')\n",
    "       #for better view\n",
    "       #put the student column before the Variable column\n",
    "      .swaplevel(1,0, axis = 'index')\n",
    "      .sort_index(level = 'Student')\n",
    "      )\n",
    "\n",
    "df"
   ]
  },
  {
   "attachments": {
    "layered_meaningful_formatting.png": {
     "image/png": "[encoded data removed]"
    }
   },
   "cell_type": "markdown",
   "metadata": {},
   "source": [
    "###  **Case 3 : Layered Meaningful Formatting**\n",
    "![layered_meaningful_formatting.png](Images/layered_meaningful_formatting.png)"
   ]
  },
  {
   "cell_type": "markdown",
   "metadata": {},
   "source": [
    "In this case, we have formats for fill and font. <br>The format applies to the entire row."
   ]
  },
  {
   "cell_type": "code",
   "execution_count": 10,
   "metadata": {
    "execution": {
     "iopub.execute_input": "2020-08-24T12:15:10.205099Z",
     "iopub.status.busy": "2020-08-24T12:15:10.204737Z",
     "iopub.status.idle": "2020-08-24T12:15:10.384523Z",
     "shell.execute_reply": "2020-08-24T12:15:10.383709Z",
     "shell.execute_reply.started": "2020-08-24T12:15:10.205076Z"
    }
   },
   "outputs": [],
   "source": [
    "wb = load_workbook(filename)\n",
    "ws = wb[\"combined-highlights\"]\n",
    "\n",
    "data = defaultdict(list)\n",
    "\n",
    "for column in ws.columns:\n",
    "\n",
    "    for cell in column:\n",
    "        #for cells that dont have a font color attribute\n",
    "        if cell.font.color is None:\n",
    "            fontcolor = \"FF000000\"\n",
    "        #cell headers(in bold format) - we don't need the colour details\n",
    "        #also since the cells in the same row share the same font or fill,\n",
    "        #we'll keep just the colour details for the cells that are of string type\n",
    "        if cell.font.b or cell.data_type == \"n\" :\n",
    "            val = cell.value\n",
    "        else : \n",
    "            fontcolor = cell.font.color.rgb  \n",
    "            val = ','.join((str(cell.value), cell.fill.fgColor.rgb, fontcolor))\n",
    "        data[cell.column].append(val)            \n",
    "            "
   ]
  },
  {
   "cell_type": "code",
   "execution_count": 11,
   "metadata": {
    "execution": {
     "iopub.execute_input": "2020-08-24T12:15:10.385660Z",
     "iopub.status.busy": "2020-08-24T12:15:10.385469Z",
     "iopub.status.idle": "2020-08-24T12:15:10.432007Z",
     "shell.execute_reply": "2020-08-24T12:15:10.431181Z",
     "shell.execute_reply.started": "2020-08-24T12:15:10.385625Z"
    }
   },
   "outputs": [
    {
     "data": {
      "text/plain": [
       "defaultdict(list,\n",
       "            {1: ['Name',\n",
       "              'Knife,00000000,FF000000',\n",
       "              'Fork,FFFFFF00,FF000000',\n",
       "              'Spoon,00000000,FFFF0000',\n",
       "              'Teaspoon,FFFFFF00,FFFF0000'],\n",
       "             2: ['Weight', 7, 5, 3, 1],\n",
       "             3: ['Price', 8, 6, 4, 2]})"
      ]
     },
     "execution_count": 11,
     "metadata": {},
     "output_type": "execute_result"
    }
   ],
   "source": [
    "data"
   ]
  },
  {
   "cell_type": "code",
   "execution_count": 12,
   "metadata": {
    "execution": {
     "iopub.execute_input": "2020-08-24T12:15:10.433363Z",
     "iopub.status.busy": "2020-08-24T12:15:10.433080Z",
     "iopub.status.idle": "2020-08-24T12:15:10.546869Z",
     "shell.execute_reply": "2020-08-24T12:15:10.546124Z",
     "shell.execute_reply.started": "2020-08-24T12:15:10.433331Z"
    }
   },
   "outputs": [
    {
     "data": {
      "text/html": [
       "<div>\n",
       "<style scoped>\n",
       "    .dataframe tbody tr th:only-of-type {\n",
       "        vertical-align: middle;\n",
       "    }\n",
       "\n",
       "    .dataframe tbody tr th {\n",
       "        vertical-align: top;\n",
       "    }\n",
       "\n",
       "    .dataframe thead th {\n",
       "        text-align: right;\n",
       "    }\n",
       "</style>\n",
       "<table border=\"1\" class=\"dataframe\">\n",
       "  <thead>\n",
       "    <tr style=\"text-align: right;\">\n",
       "      <th></th>\n",
       "      <th>1</th>\n",
       "      <th>2</th>\n",
       "      <th>3</th>\n",
       "    </tr>\n",
       "  </thead>\n",
       "  <tbody>\n",
       "    <tr>\n",
       "      <th>0</th>\n",
       "      <td>Name</td>\n",
       "      <td>Weight</td>\n",
       "      <td>Price</td>\n",
       "    </tr>\n",
       "    <tr>\n",
       "      <th>1</th>\n",
       "      <td>Knife,00000000,FF000000</td>\n",
       "      <td>7</td>\n",
       "      <td>8</td>\n",
       "    </tr>\n",
       "    <tr>\n",
       "      <th>2</th>\n",
       "      <td>Fork,FFFFFF00,FF000000</td>\n",
       "      <td>5</td>\n",
       "      <td>6</td>\n",
       "    </tr>\n",
       "    <tr>\n",
       "      <th>3</th>\n",
       "      <td>Spoon,00000000,FFFF0000</td>\n",
       "      <td>3</td>\n",
       "      <td>4</td>\n",
       "    </tr>\n",
       "    <tr>\n",
       "      <th>4</th>\n",
       "      <td>Teaspoon,FFFFFF00,FFFF0000</td>\n",
       "      <td>1</td>\n",
       "      <td>2</td>\n",
       "    </tr>\n",
       "  </tbody>\n",
       "</table>\n",
       "</div>"
      ],
      "text/plain": [
       "                            1       2      3\n",
       "0                        Name  Weight  Price\n",
       "1     Knife,00000000,FF000000       7      8\n",
       "2      Fork,FFFFFF00,FF000000       5      6\n",
       "3     Spoon,00000000,FFFF0000       3      4\n",
       "4  Teaspoon,FFFFFF00,FFFF0000       1      2"
      ]
     },
     "execution_count": 12,
     "metadata": {},
     "output_type": "execute_result"
    }
   ],
   "source": [
    "df = pd.DataFrame(data)\n",
    "df"
   ]
  },
  {
   "cell_type": "code",
   "execution_count": 13,
   "metadata": {
    "execution": {
     "iopub.execute_input": "2020-08-24T12:15:10.548144Z",
     "iopub.status.busy": "2020-08-24T12:15:10.547916Z",
     "iopub.status.idle": "2020-08-24T12:15:10.698377Z",
     "shell.execute_reply": "2020-08-24T12:15:10.697670Z",
     "shell.execute_reply.started": "2020-08-24T12:15:10.548118Z"
    }
   },
   "outputs": [
    {
     "data": {
      "text/html": [
       "<div>\n",
       "<style scoped>\n",
       "    .dataframe tbody tr th:only-of-type {\n",
       "        vertical-align: middle;\n",
       "    }\n",
       "\n",
       "    .dataframe tbody tr th {\n",
       "        vertical-align: top;\n",
       "    }\n",
       "\n",
       "    .dataframe thead th {\n",
       "        text-align: right;\n",
       "    }\n",
       "</style>\n",
       "<table border=\"1\" class=\"dataframe\">\n",
       "  <thead>\n",
       "    <tr style=\"text-align: right;\">\n",
       "      <th></th>\n",
       "      <th>Weight</th>\n",
       "      <th>Price</th>\n",
       "      <th>Name</th>\n",
       "      <th>fill_colour</th>\n",
       "      <th>font_colour</th>\n",
       "    </tr>\n",
       "  </thead>\n",
       "  <tbody>\n",
       "    <tr>\n",
       "      <th>0</th>\n",
       "      <td>7</td>\n",
       "      <td>8</td>\n",
       "      <td>Knife</td>\n",
       "      <td>00000000</td>\n",
       "      <td>FF000000</td>\n",
       "    </tr>\n",
       "    <tr>\n",
       "      <th>1</th>\n",
       "      <td>5</td>\n",
       "      <td>6</td>\n",
       "      <td>Fork</td>\n",
       "      <td>FFFFFF00</td>\n",
       "      <td>FF000000</td>\n",
       "    </tr>\n",
       "    <tr>\n",
       "      <th>2</th>\n",
       "      <td>3</td>\n",
       "      <td>4</td>\n",
       "      <td>Spoon</td>\n",
       "      <td>00000000</td>\n",
       "      <td>FFFF0000</td>\n",
       "    </tr>\n",
       "    <tr>\n",
       "      <th>3</th>\n",
       "      <td>1</td>\n",
       "      <td>2</td>\n",
       "      <td>Teaspoon</td>\n",
       "      <td>FFFFFF00</td>\n",
       "      <td>FFFF0000</td>\n",
       "    </tr>\n",
       "  </tbody>\n",
       "</table>\n",
       "</div>"
      ],
      "text/plain": [
       "   Weight  Price      Name fill_colour font_colour\n",
       "0       7      8     Knife    00000000    FF000000\n",
       "1       5      6      Fork    FFFFFF00    FF000000\n",
       "2       3      4     Spoon    00000000    FFFF0000\n",
       "3       1      2  Teaspoon    FFFFFF00    FFFF0000"
      ]
     },
     "execution_count": 13,
     "metadata": {},
     "output_type": "execute_result"
    }
   ],
   "source": [
    "df = (df.row_to_names(0, True) \n",
    "       .set_index(['Weight', 'Price'])\n",
    "       .Name.str.split(',', expand = True)\n",
    "       .set_axis(['Name', 'fill_colour', 'font_colour'],axis = 'columns')\n",
    "       .reset_index()\n",
    "      )\n",
    "\n",
    "df"
   ]
  },
  {
   "attachments": {
    "hierarchies_in_formatting.png": {
     "image/png": "[encoded data removed]"
    }
   },
   "cell_type": "markdown",
   "metadata": {},
   "source": [
    "###  **Case 4 : Hierarchies in Formatting**\n",
    "![hierarchies_in_formatting.png](Images/hierarchies_in_formatting.png)"
   ]
  },
  {
   "cell_type": "markdown",
   "metadata": {},
   "source": [
    "In the pic above, notice the differences in the formatting (bold, italic, bold and italic, none). In Duncan's book, he offers a suggestion on what these different levels of hierarchy might mean : <br>\n",
    "- none - good\n",
    "- italic - satisfactory\n",
    "- bold - poor\n",
    "- bold and italic - fail\n",
    "<br><br>\n",
    "Again, the formatting is applied to the entire row."
   ]
  },
  {
   "cell_type": "code",
   "execution_count": 14,
   "metadata": {
    "execution": {
     "iopub.execute_input": "2020-08-24T12:15:10.699448Z",
     "iopub.status.busy": "2020-08-24T12:15:10.699243Z",
     "iopub.status.idle": "2020-08-24T12:15:10.887745Z",
     "shell.execute_reply": "2020-08-24T12:15:10.886960Z",
     "shell.execute_reply.started": "2020-08-24T12:15:10.699426Z"
    }
   },
   "outputs": [],
   "source": [
    "wb = load_workbook(filename)\n",
    "ws = wb[\"highlight-hierarchy\"]\n",
    "\n",
    "data = defaultdict(list)\n",
    "\n",
    "for column in ws.columns:\n",
    "    for cell in column:\n",
    "        data[f\"{cell.column_letter}_value\"].append(cell.value)\n",
    "        data[f\"{cell.column_letter}_bold\"].append(cell.font.b)\n",
    "        data[f\"{cell.column_letter}_italics\"].append(cell.font.i)"
   ]
  },
  {
   "cell_type": "code",
   "execution_count": 15,
   "metadata": {
    "execution": {
     "iopub.execute_input": "2020-08-24T12:15:10.889219Z",
     "iopub.status.busy": "2020-08-24T12:15:10.888978Z",
     "iopub.status.idle": "2020-08-24T12:15:10.906777Z",
     "shell.execute_reply": "2020-08-24T12:15:10.906048Z",
     "shell.execute_reply.started": "2020-08-24T12:15:10.889191Z"
    }
   },
   "outputs": [
    {
     "data": {
      "text/plain": [
       "defaultdict(list,\n",
       "            {'A_value': ['Name', 'Matilda', 'Nicholas', 'Olivia', 'Paul'],\n",
       "             'A_bold': [True, False, False, True, True],\n",
       "             'A_italics': [False, False, True, False, True],\n",
       "             'B_value': ['Score', 7, 5, 3, 1],\n",
       "             'B_bold': [True, False, False, True, True],\n",
       "             'B_italics': [False, False, True, False, True]})"
      ]
     },
     "execution_count": 15,
     "metadata": {},
     "output_type": "execute_result"
    }
   ],
   "source": [
    "data"
   ]
  },
  {
   "cell_type": "code",
   "execution_count": 16,
   "metadata": {
    "execution": {
     "iopub.execute_input": "2020-08-24T12:15:10.909287Z",
     "iopub.status.busy": "2020-08-24T12:15:10.909023Z",
     "iopub.status.idle": "2020-08-24T12:15:11.062854Z",
     "shell.execute_reply": "2020-08-24T12:15:11.062016Z",
     "shell.execute_reply.started": "2020-08-24T12:15:10.909260Z"
    }
   },
   "outputs": [
    {
     "data": {
      "text/html": [
       "<div>\n",
       "<style scoped>\n",
       "    .dataframe tbody tr th:only-of-type {\n",
       "        vertical-align: middle;\n",
       "    }\n",
       "\n",
       "    .dataframe tbody tr th {\n",
       "        vertical-align: top;\n",
       "    }\n",
       "\n",
       "    .dataframe thead th {\n",
       "        text-align: right;\n",
       "    }\n",
       "</style>\n",
       "<table border=\"1\" class=\"dataframe\">\n",
       "  <thead>\n",
       "    <tr style=\"text-align: right;\">\n",
       "      <th></th>\n",
       "      <th>A_value</th>\n",
       "      <th>A_bold</th>\n",
       "      <th>A_italics</th>\n",
       "      <th>B_value</th>\n",
       "      <th>B_bold</th>\n",
       "      <th>B_italics</th>\n",
       "    </tr>\n",
       "  </thead>\n",
       "  <tbody>\n",
       "    <tr>\n",
       "      <th>0</th>\n",
       "      <td>Name</td>\n",
       "      <td>True</td>\n",
       "      <td>False</td>\n",
       "      <td>Score</td>\n",
       "      <td>True</td>\n",
       "      <td>False</td>\n",
       "    </tr>\n",
       "    <tr>\n",
       "      <th>1</th>\n",
       "      <td>Matilda</td>\n",
       "      <td>False</td>\n",
       "      <td>False</td>\n",
       "      <td>7</td>\n",
       "      <td>False</td>\n",
       "      <td>False</td>\n",
       "    </tr>\n",
       "    <tr>\n",
       "      <th>2</th>\n",
       "      <td>Nicholas</td>\n",
       "      <td>False</td>\n",
       "      <td>True</td>\n",
       "      <td>5</td>\n",
       "      <td>False</td>\n",
       "      <td>True</td>\n",
       "    </tr>\n",
       "    <tr>\n",
       "      <th>3</th>\n",
       "      <td>Olivia</td>\n",
       "      <td>True</td>\n",
       "      <td>False</td>\n",
       "      <td>3</td>\n",
       "      <td>True</td>\n",
       "      <td>False</td>\n",
       "    </tr>\n",
       "    <tr>\n",
       "      <th>4</th>\n",
       "      <td>Paul</td>\n",
       "      <td>True</td>\n",
       "      <td>True</td>\n",
       "      <td>1</td>\n",
       "      <td>True</td>\n",
       "      <td>True</td>\n",
       "    </tr>\n",
       "  </tbody>\n",
       "</table>\n",
       "</div>"
      ],
      "text/plain": [
       "    A_value  A_bold  A_italics B_value  B_bold  B_italics\n",
       "0      Name    True      False   Score    True      False\n",
       "1   Matilda   False      False       7   False      False\n",
       "2  Nicholas   False       True       5   False       True\n",
       "3    Olivia    True      False       3    True      False\n",
       "4      Paul    True       True       1    True       True"
      ]
     },
     "execution_count": 16,
     "metadata": {},
     "output_type": "execute_result"
    }
   ],
   "source": [
    "#create dataframe\n",
    "df = pd.DataFrame(data)\n",
    "df"
   ]
  },
  {
   "cell_type": "code",
   "execution_count": 17,
   "metadata": {
    "execution": {
     "iopub.execute_input": "2020-08-24T12:15:11.064018Z",
     "iopub.status.busy": "2020-08-24T12:15:11.063824Z",
     "iopub.status.idle": "2020-08-24T12:15:11.171163Z",
     "shell.execute_reply": "2020-08-24T12:15:11.170320Z",
     "shell.execute_reply.started": "2020-08-24T12:15:11.063994Z"
    }
   },
   "outputs": [
    {
     "data": {
      "text/html": [
       "<div>\n",
       "<style scoped>\n",
       "    .dataframe tbody tr th:only-of-type {\n",
       "        vertical-align: middle;\n",
       "    }\n",
       "\n",
       "    .dataframe tbody tr th {\n",
       "        vertical-align: top;\n",
       "    }\n",
       "\n",
       "    .dataframe thead th {\n",
       "        text-align: right;\n",
       "    }\n",
       "</style>\n",
       "<table border=\"1\" class=\"dataframe\">\n",
       "  <thead>\n",
       "    <tr style=\"text-align: right;\">\n",
       "      <th></th>\n",
       "      <th>Name</th>\n",
       "      <th>Bold</th>\n",
       "      <th>Italics</th>\n",
       "      <th>Score</th>\n",
       "    </tr>\n",
       "  </thead>\n",
       "  <tbody>\n",
       "    <tr>\n",
       "      <th>1</th>\n",
       "      <td>Matilda</td>\n",
       "      <td>False</td>\n",
       "      <td>False</td>\n",
       "      <td>7</td>\n",
       "    </tr>\n",
       "    <tr>\n",
       "      <th>2</th>\n",
       "      <td>Nicholas</td>\n",
       "      <td>False</td>\n",
       "      <td>True</td>\n",
       "      <td>5</td>\n",
       "    </tr>\n",
       "    <tr>\n",
       "      <th>3</th>\n",
       "      <td>Olivia</td>\n",
       "      <td>True</td>\n",
       "      <td>False</td>\n",
       "      <td>3</td>\n",
       "    </tr>\n",
       "    <tr>\n",
       "      <th>4</th>\n",
       "      <td>Paul</td>\n",
       "      <td>True</td>\n",
       "      <td>True</td>\n",
       "      <td>1</td>\n",
       "    </tr>\n",
       "  </tbody>\n",
       "</table>\n",
       "</div>"
      ],
      "text/plain": [
       "       Name   Bold Italics Score\n",
       "1   Matilda  False   False     7\n",
       "2  Nicholas  False    True     5\n",
       "3    Olivia   True   False     3\n",
       "4      Paul   True    True     1"
      ]
     },
     "execution_count": 17,
     "metadata": {},
     "output_type": "execute_result"
    }
   ],
   "source": [
    "df = (pd.DataFrame(data)\n",
    "      .loc[:, \"A_value\" : \"B_value\"]\n",
    "      .assign(A_bold = lambda x: np.where(x.A_value == \"Name\", \"Bold\", x.A_bold),\n",
    "              A_italics = lambda x: np.where(x.A_value == \"Name\", \"Italics\", x.A_italics)\n",
    "             )\n",
    "      .row_to_names(row_number = 0, remove_row = True)\n",
    "     )\n",
    "\n",
    "df"
   ]
  },
  {
   "cell_type": "code",
   "execution_count": 18,
   "metadata": {
    "execution": {
     "iopub.execute_input": "2020-08-24T12:15:11.172403Z",
     "iopub.status.busy": "2020-08-24T12:15:11.172106Z",
     "iopub.status.idle": "2020-08-24T12:15:11.325949Z",
     "shell.execute_reply": "2020-08-24T12:15:11.325343Z",
     "shell.execute_reply.started": "2020-08-24T12:15:11.172376Z"
    }
   },
   "outputs": [
    {
     "data": {
      "text/html": [
       "<div>\n",
       "<style scoped>\n",
       "    .dataframe tbody tr th:only-of-type {\n",
       "        vertical-align: middle;\n",
       "    }\n",
       "\n",
       "    .dataframe tbody tr th {\n",
       "        vertical-align: top;\n",
       "    }\n",
       "\n",
       "    .dataframe thead th {\n",
       "        text-align: right;\n",
       "    }\n",
       "</style>\n",
       "<table border=\"1\" class=\"dataframe\">\n",
       "  <thead>\n",
       "    <tr style=\"text-align: right;\">\n",
       "      <th></th>\n",
       "      <th>Name</th>\n",
       "      <th>Bold</th>\n",
       "      <th>Italics</th>\n",
       "      <th>Score</th>\n",
       "      <th>grade</th>\n",
       "    </tr>\n",
       "  </thead>\n",
       "  <tbody>\n",
       "    <tr>\n",
       "      <th>1</th>\n",
       "      <td>Matilda</td>\n",
       "      <td>False</td>\n",
       "      <td>False</td>\n",
       "      <td>7</td>\n",
       "      <td>good</td>\n",
       "    </tr>\n",
       "    <tr>\n",
       "      <th>2</th>\n",
       "      <td>Nicholas</td>\n",
       "      <td>False</td>\n",
       "      <td>True</td>\n",
       "      <td>5</td>\n",
       "      <td>satisfactory</td>\n",
       "    </tr>\n",
       "    <tr>\n",
       "      <th>3</th>\n",
       "      <td>Olivia</td>\n",
       "      <td>True</td>\n",
       "      <td>False</td>\n",
       "      <td>3</td>\n",
       "      <td>poor</td>\n",
       "    </tr>\n",
       "    <tr>\n",
       "      <th>4</th>\n",
       "      <td>Paul</td>\n",
       "      <td>True</td>\n",
       "      <td>True</td>\n",
       "      <td>1</td>\n",
       "      <td>fail</td>\n",
       "    </tr>\n",
       "  </tbody>\n",
       "</table>\n",
       "</div>"
      ],
      "text/plain": [
       "       Name   Bold Italics Score         grade\n",
       "1   Matilda  False   False     7          good\n",
       "2  Nicholas  False    True     5  satisfactory\n",
       "3    Olivia   True   False     3          poor\n",
       "4      Paul   True    True     1          fail"
      ]
     },
     "execution_count": 18,
     "metadata": {},
     "output_type": "execute_result"
    }
   ],
   "source": [
    "#last part is to create a grade column based on the bold and italics columns :\n",
    "#create a mapping\n",
    "mapping = {'False,False':'good',\n",
    "        'False,True':'satisfactory',\n",
    "        'True,False':'poor',\n",
    "        'True,True':'fail'}\n",
    "\n",
    "df['grade'] = df.Bold.str.cat(df.Italics, sep=\",\").map(mapping)\n",
    "\n",
    "df"
   ]
  },
  {
   "cell_type": "code",
   "execution_count": null,
   "metadata": {},
   "outputs": [],
   "source": []
  }
 ],
 "metadata": {
  "jupytext": {
   "formats": "ipynb,Rmd"
  },
  "kernelspec": {
   "display_name": "Python 3",
   "language": "python",
   "name": "python3"
  },
  "language_info": {
   "codemirror_mode": {
    "name": "ipython",
    "version": 3
   },
   "file_extension": ".py",
   "mimetype": "text/x-python",
   "name": "python",
   "nbconvert_exporter": "python",
   "pygments_lexer": "ipython3",
   "version": "3.8.5"
  }
 },
 "nbformat": 4,
 "nbformat_minor": 4
}
