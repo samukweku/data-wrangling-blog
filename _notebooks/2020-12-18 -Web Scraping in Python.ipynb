{
 "cells": [
  {
   "cell_type": "markdown",
   "metadata": {},
   "source": [
    "# \"Easy Web Scraping with Python\"\n",
    "> \"And build a data application\"\n",
    "\n",
    "- toc: true\n",
    "- branch: master\n",
    "- badges: true\n",
    "- hide_binder_badge: True\n",
    "- hide_colab_badge: True\n",
    "- comments: true\n",
    "- author: Samuel Oranyeli\n",
    "- categories: [python, streamlit, requests-html, requests, pandas]\n",
    "- image: images/some_folder/your_image.png\n",
    "- hide: false\n",
    "- search_exclude: true\n",
    "- metadata_key1: \"web scraping\"\n",
    "- metadata_key2: \"python\""
   ]
  },
  {
   "cell_type": "markdown",
   "metadata": {},
   "source": [
    "This is partly motivated by an [article](https://www.betterdatascience.com/web-scraping-with-r-easier-than-python/) published by [Dario Radecic](https://www.betterdatascience.com/author/betterdatascience_onouc8/) - the article is a good read. \n",
    "\n",
    "The aim here is to show how to scrape pages easily in Python and share your results. We will be using two packages : [requests-html](https://requests-html.kennethreitz.org/) for the web scraping, and [streamlit](https://www.streamlit.io/) to build a data application. \n",
    "\n",
    "Our source for the scraping is [books.toscrape.com](http://books.toscrape.com/). It is a good place to practise web scraping.\n",
    "\n",
    "Our goal - Get the title, book url, thumbnail url, rating, price, and availability of each book per genre on the website. Roughly a thousand books. A sample image of one of the books is shown below."
   ]
  },
  {
   "cell_type": "markdown",
   "metadata": {},
   "source": [
    "![webscraping.png](Images/webscraping.png)"
   ]
  },
  {
   "cell_type": "markdown",
   "metadata": {},
   "source": [
    "To effectively scrape web pages, one needs to understand a bit of [html](https://www.w3schools.com/html/) and [css](https://www.w3schools.com/html/html_css.asp). [W3Schools](https://www.w3schools.com/) is a good place to learn the fundamentals; we will not be dwelling on that here, just how to use it.\n",
    "\n",
    "You can check the output of the web scraping [here](https://safe-refuge-85400.herokuapp.com/)"
   ]
  },
  {
   "cell_type": "markdown",
   "metadata": {},
   "source": [
    "## **Web Scraping**"
   ]
  },
  {
   "cell_type": "markdown",
   "metadata": {},
   "source": [
    "[requests-html](https://requests-html.kennethreitz.org/) makes web scraping easy. It supports both [css-selectors](https://www.w3schools.com/cssref/css_selectors.asp) and [xpath](https://msdn.microsoft.com/en-us/library/ms256086(v=vs.110).aspx); we will be using [css-selectors](https://www.w3schools.com/cssref/css_selectors.asp). Let's look at how to scrape the book titles in the *Travel* category:"
   ]
  },
  {
   "cell_type": "code",
   "execution_count": null,
   "metadata": {},
   "outputs": [],
   "source": [
    "from requests_html import HTMLSession\n",
    "session = HTMLSession()\n",
    "\n",
    "# url for travel section:\n",
    "url = \"http://books.toscrape.com/catalogue/category/books/travel_2/index.html\"\n",
    "\n",
    "# access data from url:\n",
    "webpage = session.get(url)\n",
    "\n",
    "titles = [element.attrs[\"title\"] for element in webpage.html.find(\"h3>a\")]\n",
    "\n",
    "titles"
   ]
  },
  {
   "cell_type": "markdown",
   "metadata": {},
   "source": [
    "Pretty easy and straightforward. The key part is getting the [css-selectors](https://www.w3schools.com/cssref/css_selectors.asp) right. \n",
    "\n",
    "Let's write a function that gets the title, urls, and other details:"
   ]
  },
  {
   "cell_type": "code",
   "execution_count": null,
   "metadata": {},
   "outputs": [],
   "source": [
    "import pandas as pd\n",
    "\n",
    "def data_extract(genre):\n",
    "    # pull data from specific webpage\n",
    "    webpage = genre_urls.get(genre)\n",
    "    webpage = session.get(webpage)\n",
    "    \n",
    "    urls = [element.attrs[\"href\"].strip(\"../\")\n",
    "            for element in webpage.html.find(\"div.image_container>a\")\n",
    "           ]\n",
    "\n",
    "    titles = [element.attrs[\"title\"] for element in webpage.html.find(\"h3>a\")]\n",
    "\n",
    "    imgs = [element.attrs[\"src\"].strip(\"../\")\n",
    "            for element in webpage.html.find(\"div.image_container>a>img\")\n",
    "           ]\n",
    "\n",
    "    ratings = [element.attrs[\"class\"][-1] \n",
    "               for element in webpage.html.find(\"p.star-rating\")\n",
    "              ]\n",
    "\n",
    "    prices = [element.text for element in webpage.html.find(\"p.price_color\")]\n",
    "\n",
    "    availability = [element.text for element in webpage.html.find(\"p.instock\")]\n",
    "\n",
    "    data = dict(\n",
    "        Title = titles,\n",
    "        URL = urls,\n",
    "        Source_Image = imgs,\n",
    "        Rating = ratings,\n",
    "        Price = prices,\n",
    "        Availability = availability,\n",
    "    )\n",
    "\n",
    "    return pd.DataFrame(data)"
   ]
  },
  {
   "cell_type": "markdown",
   "metadata": {},
   "source": [
    "The function above pulls in the data and returns a [Pandas](https://pandas.pydata.org/pandas-docs/stable/reference/frame.html) dataframe.\n",
    "\n",
    "What's left is a pairing of the categories and the urls for each category for the entire website:"
   ]
  },
  {
   "cell_type": "code",
   "execution_count": null,
   "metadata": {},
   "outputs": [],
   "source": [
    "main_url = \"http://books.toscrape.com/\"\n",
    "main_page = session.get(main_url)\n",
    "\n",
    "# the css-selector helps pull out the links for all the categories (travel, horror, crime, ...)\n",
    "navlinks = \"div.side_categories>ul.nav.nav-list>li>ul>li>a\"\n",
    "\n",
    "# get the categories\n",
    "genres = [element.text for element in main_page.html.find(navlinks)]\n",
    "\n",
    "# get the actual urls for each category\n",
    "genre_urls = [f\"{main_url}/{element.attrs['href']}\" \n",
    "             for element in main_page.html.find(navlinks)\n",
    "            ]\n",
    "\n",
    "# pair the category with the url\n",
    "genre_urls = dict(zip(genres, genre_urls))"
   ]
  },
  {
   "cell_type": "markdown",
   "metadata": {},
   "source": [
    "We can easily apply the *data_extract* function to any genre to get the entire details:"
   ]
  },
  {
   "cell_type": "code",
   "execution_count": null,
   "metadata": {},
   "outputs": [],
   "source": [
    "# view all the details for the Travel category\n",
    "data_extract(\"Travel\")"
   ]
  },
  {
   "cell_type": "markdown",
   "metadata": {},
   "source": [
    "Data extraction is complete. Next up is building an easy to use **[web application](https://safe-refuge-85400.herokuapp.com/)**. Enter [streamlit](https://www.streamlit.io/)"
   ]
  },
  {
   "cell_type": "markdown",
   "metadata": {
    "execution": {
     "iopub.execute_input": "2020-10-31T01:26:23.474681Z",
     "iopub.status.busy": "2020-10-31T01:26:23.474464Z",
     "iopub.status.idle": "2020-10-31T01:26:23.477682Z",
     "shell.execute_reply": "2020-10-31T01:26:23.477047Z",
     "shell.execute_reply.started": "2020-10-31T01:26:23.474658Z"
    }
   },
   "source": [
    "## **Sharing Data Apps**"
   ]
  },
  {
   "cell_type": "markdown",
   "metadata": {},
   "source": [
    "[streamlit](https://www.streamlit.io/) really makes building data apps easy, with a few lines of code. \n",
    "\n",
    "The code below is basic, but shows the power of streamlit. All we have to do is :\n",
    "\n",
    "- Import streamlit, \n",
    "- give our application a title, \n",
    "- add our web scraping code, \n",
    "- add a [sidebar](https://docs.streamlit.io/en/stable/api.html#add-widgets-to-sidebar) to select genres, and finally\n",
    "- add a line of code to show the results. The entire code is listed below:"
   ]
  },
  {
   "cell_type": "code",
   "execution_count": null,
   "metadata": {},
   "outputs": [],
   "source": [
    "# import streamlit and other libraries\n",
    "import streamlit as st\n",
    "from requests_html import HTMLSession\n",
    "import pandas as pd\n",
    "\n",
    "# give our application a title\n",
    "st.title(\"Real-time web scraper with Python\")\n",
    "\n",
    "\n",
    "# add our web scraping code\n",
    "session = HTMLSession()\n",
    "main_url = \"http://books.toscrape.com/\"\n",
    "main_page = session.get(main_url)\n",
    "\n",
    "navlinks = \"div.side_categories>ul.nav.nav-list>li>ul>li>a\"\n",
    "genres = [element.text for element in main_page.html.find(navlinks)]\n",
    "list_urls = [\n",
    "    f\"{main_url}/{element.attrs['href']}\" for element in main_page.html.find(navlinks)\n",
    "]\n",
    "genre_urls = dict(zip(genres, list_urls))\n",
    "\n",
    "\n",
    "@st.cache\n",
    "def data_extract(genre):\n",
    "    webpage = genre_urls.get(genre)\n",
    "    webpage = session.get(webpage)\n",
    "    urls = [\n",
    "        element.attrs[\"href\"].strip(\"../\")\n",
    "        for element in webpage.html.find(\"div.image_container>a\")\n",
    "    ]\n",
    "\n",
    "    titles = [element.attrs[\"title\"] for element in webpage.html.find(\"h3>a\")]\n",
    "\n",
    "    imgs = [\n",
    "        element.attrs[\"src\"].strip(\"../\")\n",
    "        for element in webpage.html.find(\"div.image_container>a>img\")\n",
    "    ]\n",
    "\n",
    "    ratings = [\n",
    "        element.attrs[\"class\"][-1] for element in webpage.html.find(\"p.star-rating\")\n",
    "    ]\n",
    "\n",
    "    prices = [element.text for element in webpage.html.find(\"p.price_color\")]\n",
    "\n",
    "    availability = [element.text for element in webpage.html.find(\"p.instock\")]\n",
    "\n",
    "    data = dict(\n",
    "        Title=titles,\n",
    "        URL=urls,\n",
    "        SourceImage=imgs,\n",
    "        Rating=ratings,\n",
    "        Price=prices,\n",
    "        Availability=availability,\n",
    "    )\n",
    "\n",
    "    return pd.DataFrame(data).to_markdown(index=False)\n",
    "\n",
    "\n",
    "# add a sidebar to select genre\n",
    "option = st.sidebar.selectbox(\"Genres\", genres)\n",
    "\n",
    "# add a line of code to show the result\n",
    "st.markdown(data_extract(option), unsafe_allow_html=True)"
   ]
  },
  {
   "cell_type": "markdown",
   "metadata": {},
   "source": [
    "Easy. Of course, this is a very simple application; you can do so much more with streamlit. Have a look at the [streamlit gallery](https://www.streamlit.io/gallery) for inspiration."
   ]
  },
  {
   "cell_type": "markdown",
   "metadata": {
    "execution": {
     "iopub.execute_input": "2020-10-31T08:59:52.887765Z",
     "iopub.status.busy": "2020-10-31T08:59:52.887501Z",
     "iopub.status.idle": "2020-10-31T08:59:52.893435Z",
     "shell.execute_reply": "2020-10-31T08:59:52.892724Z",
     "shell.execute_reply.started": "2020-10-31T08:59:52.887738Z"
    }
   },
   "source": [
    "## **Summary**"
   ]
  },
  {
   "cell_type": "markdown",
   "metadata": {},
   "source": [
    "Web scraping and building data applications are easy to do in Python. Hopefully, this article gives you an idea of how to achieve this, the rest is up to you to go far and beyond."
   ]
  },
  {
   "cell_type": "code",
   "execution_count": null,
   "metadata": {},
   "outputs": [],
   "source": []
  }
 ],
 "metadata": {
  "kernelspec": {
   "display_name": "Python 3",
   "language": "python",
   "name": "python3"
  },
  "language_info": {
   "codemirror_mode": {
    "name": "ipython",
    "version": 3
   },
   "file_extension": ".py",
   "mimetype": "text/x-python",
   "name": "python",
   "nbconvert_exporter": "python",
   "pygments_lexer": "ipython3",
   "version": "3.9.0"
  }
 },
 "nbformat": 4,
 "nbformat_minor": 4
}
