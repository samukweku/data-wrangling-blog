{
 "cells": [
  {
   "cell_type": "markdown",
   "metadata": {},
   "source": [
    "# \"Selecting and Grouping Data with Python Datatable\"\n",
    "> \"High Performance Data Manipulation\"\n",
    "\n",
    "- toc: true\n",
    "- branch: master\n",
    "- badges: true\n",
    "- hide_binder_badge: True\n",
    "- hide_colab_badge: True\n",
    "- comments: true\n",
    "- author: Samuel Oranyeli\n",
    "- categories: [Python, Datatable, pydatatable, h20ai, rdatatable]\n",
    "- image: images/some_folder/your_image.png\n",
    "- hide: false\n",
    "- search_exclude: true\n",
    "- metadata_key1: \"python datatable\"\n",
    "- metadata_key2: \"pydatatable\""
   ]
  },
  {
   "cell_type": "markdown",
   "metadata": {},
   "source": [
    "## **Datatable**"
   ]
  },
  {
   "cell_type": "markdown",
   "metadata": {},
   "source": [
    ">This is a Python package for manipulating 2-dimensional tabular data structures (aka data frames). It is close in spirit to [pandas](https://pandas.pydata.org/pandas-docs/stable/index.html) or [SFrame](https://github.com/apple/turicreate); however we put specific emphasis on speed and big data support. As the name suggests, the package is closely related to R's [data.table](https://github.com/Rdatatable/data.table) and attempts to mimic its core algorithms and API."
   ]
  },
  {
   "cell_type": "markdown",
   "metadata": {
    "execution": {
     "iopub.execute_input": "2020-06-26T01:27:05.586391Z",
     "iopub.status.busy": "2020-06-26T01:27:05.586173Z",
     "iopub.status.idle": "2020-06-26T01:27:05.592158Z",
     "shell.execute_reply": "2020-06-26T01:27:05.591344Z",
     "shell.execute_reply.started": "2020-06-26T01:27:05.586367Z"
    }
   },
   "source": [
    "I like ``datatable`` primarily because of its simple syntax. Yes, there are significant speed gains, which is the primary aim of the package, but the simplicity is compelling. \n",
    "<br><br>Do note that ``datatable`` is in active development - more features will be added. Check out the [documentation](https://datatable.readthedocs.io/en/latest/?badge=latest) for more information. \n",
    "<br><br>This introduction focuses on how to select rows, select and perform calculations on columns, and perform aggregations by group. \n"
   ]
  },
  {
   "cell_type": "markdown",
   "metadata": {
    "execution": {
     "iopub.execute_input": "2020-06-23T04:49:52.844408Z",
     "iopub.status.busy": "2020-06-23T04:49:52.844179Z",
     "iopub.status.idle": "2020-06-23T04:49:52.856885Z",
     "shell.execute_reply": "2020-06-23T04:49:52.856044Z",
     "shell.execute_reply.started": "2020-06-23T04:49:52.844385Z"
    }
   },
   "source": [
    "### __Datatable syntax__\n",
    "\n",
    "\n",
    "![datatable_syntax.png](Images/datatable_syntax.jpg)"
   ]
  },
  {
   "cell_type": "markdown",
   "metadata": {},
   "source": [
    "Short syntax right? Let's break it down : \n",
    "<br> - ``DT`` refers to the data frame. This is the fundamental building block in ``datatable``. It is a 2-dimensional array with rows and columns, similar to an Excel/SQL table.\n",
    "<br> - The ``i`` part is used for subsetting on rows and shares a similar concept with SQL's WHERE clause.\n",
    "<br> - The ``j`` part is used to select columns and act on them. \n",
    "<br> - `...` are for extra modifiers, e.g grouping, sorting, joining, etc. \n",
    "<br><br>Let's dive into some examples to see how ``datatable`` works. Our data will be the [iris](https://notebooks.azure.com/kvp15comp/projects/FDPMLDS/html/iris.csv) dataset."
   ]
  },
  {
   "cell_type": "code",
   "execution_count": 1,
   "metadata": {
    "execution": {
     "iopub.execute_input": "2020-08-24T12:12:34.933461Z",
     "iopub.status.busy": "2020-08-24T12:12:34.933241Z",
     "iopub.status.idle": "2020-08-24T12:12:34.959145Z",
     "shell.execute_reply": "2020-08-24T12:12:34.958563Z",
     "shell.execute_reply.started": "2020-08-24T12:12:34.933435Z"
    }
   },
   "outputs": [
    {
     "data": {
      "text/html": [
       "<style type='text/css'>\n",
       ".datatable table.frame { margin-bottom: 0; }\n",
       ".datatable table.frame thead { border-bottom: none; }\n",
       ".datatable table.frame tr.coltypes td {  color: #FFFFFF;  line-height: 6px;  padding: 0 0.5em;}\n",
       ".datatable .boolean { background: #DDDD99; }\n",
       ".datatable .object  { background: #565656; }\n",
       ".datatable .integer { background: #5D9E5D; }\n",
       ".datatable .float   { background: #4040CC; }\n",
       ".datatable .string  { background: #CC4040; }\n",
       ".datatable .row_index {  background: var(--jp-border-color3);  border-right: 1px solid var(--jp-border-color0);  color: var(--jp-ui-font-color3);  font-size: 9px;}\n",
       ".datatable .frame tr.coltypes .row_index {  background: var(--jp-border-color0);}\n",
       ".datatable th:nth-child(2) { padding-left: 12px; }\n",
       ".datatable .hellipsis {  color: var(--jp-cell-editor-border-color);}\n",
       ".datatable .vellipsis {  background: var(--jp-layout-color0);  color: var(--jp-cell-editor-border-color);}\n",
       ".datatable .na {  color: var(--jp-cell-editor-border-color);  font-size: 80%;}\n",
       ".datatable .footer { font-size: 9px; }\n",
       ".datatable .frame_dimensions {  background: var(--jp-border-color3);  border-top: 1px solid var(--jp-border-color0);  color: var(--jp-ui-font-color3);  display: inline-block;  opacity: 0.6;  padding: 1px 10px 1px 5px;}\n",
       "</style>\n"
      ],
      "text/plain": [
       "<IPython.core.display.HTML object>"
      ]
     },
     "metadata": {},
     "output_type": "display_data"
    },
    {
     "data": {
      "text/html": [
       "<div class='datatable'>\n",
       "  <table class='frame'>\n",
       "  <thead>\n",
       "    <tr class='colnames'><td class='row_index'></td><th>sepal_length</th><th>sepal_width</th><th>petal_length</th><th>petal_width</th><th>species</th></tr>\n",
       "    <tr class='coltypes'><td class='row_index'></td><td class='float' title='float64'>&#x25AA;&#x25AA;&#x25AA;&#x25AA;&#x25AA;&#x25AA;&#x25AA;&#x25AA;</td><td class='float' title='float64'>&#x25AA;&#x25AA;&#x25AA;&#x25AA;&#x25AA;&#x25AA;&#x25AA;&#x25AA;</td><td class='float' title='float64'>&#x25AA;&#x25AA;&#x25AA;&#x25AA;&#x25AA;&#x25AA;&#x25AA;&#x25AA;</td><td class='float' title='float64'>&#x25AA;&#x25AA;&#x25AA;&#x25AA;&#x25AA;&#x25AA;&#x25AA;&#x25AA;</td><td class='string' title='str32'>&#x25AA;&#x25AA;&#x25AA;&#x25AA;</td></tr>\n",
       "  </thead>\n",
       "  <tbody>\n",
       "    <tr><td class='row_index'>0</td><td>5.1</td><td>3.5</td><td>1.4</td><td>0.2</td><td>setosa</td></tr>\n",
       "    <tr><td class='row_index'>1</td><td>4.9</td><td>3</td><td>1.4</td><td>0.2</td><td>setosa</td></tr>\n",
       "    <tr><td class='row_index'>2</td><td>4.7</td><td>3.2</td><td>1.3</td><td>0.2</td><td>setosa</td></tr>\n",
       "    <tr><td class='row_index'>3</td><td>4.6</td><td>3.1</td><td>1.5</td><td>0.2</td><td>setosa</td></tr>\n",
       "    <tr><td class='row_index'>4</td><td>5</td><td>3.6</td><td>1.4</td><td>0.2</td><td>setosa</td></tr>\n",
       "    <tr><td class='row_index'>5</td><td>5.4</td><td>3.9</td><td>1.7</td><td>0.4</td><td>setosa</td></tr>\n",
       "    <tr><td class='row_index'>6</td><td>4.6</td><td>3.4</td><td>1.4</td><td>0.3</td><td>setosa</td></tr>\n",
       "    <tr><td class='row_index'>7</td><td>5</td><td>3.4</td><td>1.5</td><td>0.2</td><td>setosa</td></tr>\n",
       "    <tr><td class='row_index'>8</td><td>4.4</td><td>2.9</td><td>1.4</td><td>0.2</td><td>setosa</td></tr>\n",
       "    <tr><td class='row_index'>9</td><td>4.9</td><td>3.1</td><td>1.5</td><td>0.1</td><td>setosa</td></tr>\n",
       "  </tbody>\n",
       "  </table>\n",
       "  <div class='footer'>\n",
       "    <div class='frame_dimensions'>10 rows &times; 5 columns</div>\n",
       "  </div>\n",
       "</div>\n"
      ],
      "text/plain": [
       "<Frame#7fe250e9e810 10x5>"
      ]
     },
     "execution_count": 1,
     "metadata": {},
     "output_type": "execute_result"
    }
   ],
   "source": [
    "#import datatable\n",
    "from datatable import dt, f, by\n",
    "\n",
    "#read in data\n",
    "df = dt.fread(\"Data_files/iris.csv\")\n",
    "\n",
    "df.head()"
   ]
  },
  {
   "cell_type": "markdown",
   "metadata": {
    "execution": {
     "iopub.execute_input": "2020-06-24T00:59:50.199147Z",
     "iopub.status.busy": "2020-06-24T00:59:50.198788Z",
     "iopub.status.idle": "2020-06-24T00:59:50.207032Z",
     "shell.execute_reply": "2020-06-24T00:59:50.206313Z",
     "shell.execute_reply.started": "2020-06-24T00:59:50.199106Z"
    }
   },
   "source": [
    "**Notes :**\n",
    "-  ``dt`` refers to the datatable module.\n",
    "- All computations occur within the ``[]`` bracket.\n",
    "- ``dt.fread`` is a powerful and very fast function for reading in various text files, zip archives, and urls. It can even read in data from the command line.\n",
    "- ``by`` is a function for grouping.\n",
    "- ``f`` is a variable that provides a convenient way to reference the data frame's column within the square brackets. It is really useful when performing computations or creating expressions.\n",
    "- In a jupyter notebook, the tab colours for the columns indicate various data types - ``blue`` is for float column, ``green`` is for integer column, ``red`` is for string column, ``yellow`` is for boolean, while ``black`` is for object column."
   ]
  },
  {
   "cell_type": "markdown",
   "metadata": {
    "execution": {
     "iopub.execute_input": "2020-06-24T02:09:49.680410Z",
     "iopub.status.busy": "2020-06-24T02:09:49.680177Z",
     "iopub.status.idle": "2020-06-24T02:09:49.684525Z",
     "shell.execute_reply": "2020-06-24T02:09:49.683668Z",
     "shell.execute_reply.started": "2020-06-24T02:09:49.680384Z"
    }
   },
   "source": [
    "Some basic information about the data frame : "
   ]
  },
  {
   "cell_type": "code",
   "execution_count": 2,
   "metadata": {
    "execution": {
     "iopub.execute_input": "2020-08-24T12:12:34.960272Z",
     "iopub.status.busy": "2020-08-24T12:12:34.960095Z",
     "iopub.status.idle": "2020-08-24T12:12:35.025598Z",
     "shell.execute_reply": "2020-08-24T12:12:35.024989Z",
     "shell.execute_reply.started": "2020-08-24T12:12:34.960250Z"
    }
   },
   "outputs": [
    {
     "data": {
      "text/plain": [
       "(150, 5)"
      ]
     },
     "execution_count": 2,
     "metadata": {},
     "output_type": "execute_result"
    }
   ],
   "source": [
    "#shape of data\n",
    "df.shape"
   ]
  },
  {
   "cell_type": "code",
   "execution_count": 3,
   "metadata": {
    "execution": {
     "iopub.execute_input": "2020-08-24T12:12:35.027008Z",
     "iopub.status.busy": "2020-08-24T12:12:35.026817Z",
     "iopub.status.idle": "2020-08-24T12:12:35.110684Z",
     "shell.execute_reply": "2020-08-24T12:12:35.109978Z",
     "shell.execute_reply.started": "2020-08-24T12:12:35.026986Z"
    }
   },
   "outputs": [
    {
     "data": {
      "text/plain": [
       "('sepal_length', 'sepal_width', 'petal_length', 'petal_width', 'species')"
      ]
     },
     "execution_count": 3,
     "metadata": {},
     "output_type": "execute_result"
    }
   ],
   "source": [
    "#column names\n",
    "df.names"
   ]
  },
  {
   "cell_type": "code",
   "execution_count": 4,
   "metadata": {
    "execution": {
     "iopub.execute_input": "2020-08-24T12:12:35.112391Z",
     "iopub.status.busy": "2020-08-24T12:12:35.111867Z",
     "iopub.status.idle": "2020-08-24T12:12:35.242603Z",
     "shell.execute_reply": "2020-08-24T12:12:35.241682Z",
     "shell.execute_reply.started": "2020-08-24T12:12:35.112364Z"
    }
   },
   "outputs": [
    {
     "data": {
      "text/plain": [
       "(stype.float64, stype.float64, stype.float64, stype.float64, stype.str32)"
      ]
     },
     "execution_count": 4,
     "metadata": {},
     "output_type": "execute_result"
    }
   ],
   "source": [
    "#data types of the columns\n",
    "df.stypes"
   ]
  },
  {
   "cell_type": "markdown",
   "metadata": {},
   "source": [
    "### __The i part - Subset Rows__"
   ]
  },
  {
   "cell_type": "markdown",
   "metadata": {},
   "source": [
    "#### **Select the first three rows**"
   ]
  },
  {
   "cell_type": "code",
   "execution_count": 5,
   "metadata": {
    "execution": {
     "iopub.execute_input": "2020-08-24T12:12:35.244204Z",
     "iopub.status.busy": "2020-08-24T12:12:35.243931Z",
     "iopub.status.idle": "2020-08-24T12:12:35.369988Z",
     "shell.execute_reply": "2020-08-24T12:12:35.368823Z",
     "shell.execute_reply.started": "2020-08-24T12:12:35.244173Z"
    }
   },
   "outputs": [
    {
     "data": {
      "text/html": [
       "<div class='datatable'>\n",
       "  <table class='frame'>\n",
       "  <thead>\n",
       "    <tr class='colnames'><td class='row_index'></td><th>sepal_length</th><th>sepal_width</th><th>petal_length</th><th>petal_width</th><th>species</th></tr>\n",
       "    <tr class='coltypes'><td class='row_index'></td><td class='float' title='float64'>&#x25AA;&#x25AA;&#x25AA;&#x25AA;&#x25AA;&#x25AA;&#x25AA;&#x25AA;</td><td class='float' title='float64'>&#x25AA;&#x25AA;&#x25AA;&#x25AA;&#x25AA;&#x25AA;&#x25AA;&#x25AA;</td><td class='float' title='float64'>&#x25AA;&#x25AA;&#x25AA;&#x25AA;&#x25AA;&#x25AA;&#x25AA;&#x25AA;</td><td class='float' title='float64'>&#x25AA;&#x25AA;&#x25AA;&#x25AA;&#x25AA;&#x25AA;&#x25AA;&#x25AA;</td><td class='string' title='str32'>&#x25AA;&#x25AA;&#x25AA;&#x25AA;</td></tr>\n",
       "  </thead>\n",
       "  <tbody>\n",
       "    <tr><td class='row_index'>0</td><td>5.1</td><td>3.5</td><td>1.4</td><td>0.2</td><td>setosa</td></tr>\n",
       "    <tr><td class='row_index'>1</td><td>4.9</td><td>3</td><td>1.4</td><td>0.2</td><td>setosa</td></tr>\n",
       "    <tr><td class='row_index'>2</td><td>4.7</td><td>3.2</td><td>1.3</td><td>0.2</td><td>setosa</td></tr>\n",
       "  </tbody>\n",
       "  </table>\n",
       "  <div class='footer'>\n",
       "    <div class='frame_dimensions'>3 rows &times; 5 columns</div>\n",
       "  </div>\n",
       "</div>\n"
      ],
      "text/plain": [
       "<Frame#7fe250ea5930 3x5>"
      ]
     },
     "execution_count": 5,
     "metadata": {},
     "output_type": "execute_result"
    }
   ],
   "source": [
    "#We can use python's slicing syntax to get the rows. \n",
    "df[:3, :]"
   ]
  },
  {
   "cell_type": "markdown",
   "metadata": {
    "execution": {
     "iopub.execute_input": "2020-06-24T01:24:00.010598Z",
     "iopub.status.busy": "2020-06-24T01:24:00.010346Z",
     "iopub.status.idle": "2020-06-24T01:24:00.018129Z",
     "shell.execute_reply": "2020-06-24T01:24:00.017275Z",
     "shell.execute_reply.started": "2020-06-24T01:24:00.010572Z"
    }
   },
   "source": [
    "**Notes :**\n",
    "- No new syntax, just our knowledge of python's sequence indexing.\n",
    "- Note also that nothing was selected in the columns. Passing ``None`` or `...` in the j section will work as well."
   ]
  },
  {
   "cell_type": "markdown",
   "metadata": {},
   "source": [
    "#### **Select the 2nd, 4th and 8th rows**"
   ]
  },
  {
   "cell_type": "code",
   "execution_count": 6,
   "metadata": {
    "execution": {
     "iopub.execute_input": "2020-08-24T12:12:35.371870Z",
     "iopub.status.busy": "2020-08-24T12:12:35.371508Z",
     "iopub.status.idle": "2020-08-24T12:12:35.510874Z",
     "shell.execute_reply": "2020-08-24T12:12:35.510244Z",
     "shell.execute_reply.started": "2020-08-24T12:12:35.371824Z"
    }
   },
   "outputs": [
    {
     "data": {
      "text/html": [
       "<div class='datatable'>\n",
       "  <table class='frame'>\n",
       "  <thead>\n",
       "    <tr class='colnames'><td class='row_index'></td><th>sepal_length</th><th>sepal_width</th><th>petal_length</th><th>petal_width</th><th>species</th></tr>\n",
       "    <tr class='coltypes'><td class='row_index'></td><td class='float' title='float64'>&#x25AA;&#x25AA;&#x25AA;&#x25AA;&#x25AA;&#x25AA;&#x25AA;&#x25AA;</td><td class='float' title='float64'>&#x25AA;&#x25AA;&#x25AA;&#x25AA;&#x25AA;&#x25AA;&#x25AA;&#x25AA;</td><td class='float' title='float64'>&#x25AA;&#x25AA;&#x25AA;&#x25AA;&#x25AA;&#x25AA;&#x25AA;&#x25AA;</td><td class='float' title='float64'>&#x25AA;&#x25AA;&#x25AA;&#x25AA;&#x25AA;&#x25AA;&#x25AA;&#x25AA;</td><td class='string' title='str32'>&#x25AA;&#x25AA;&#x25AA;&#x25AA;</td></tr>\n",
       "  </thead>\n",
       "  <tbody>\n",
       "    <tr><td class='row_index'>0</td><td>4.9</td><td>3</td><td>1.4</td><td>0.2</td><td>setosa</td></tr>\n",
       "    <tr><td class='row_index'>1</td><td>4.6</td><td>3.1</td><td>1.5</td><td>0.2</td><td>setosa</td></tr>\n",
       "    <tr><td class='row_index'>2</td><td>5</td><td>3.4</td><td>1.5</td><td>0.2</td><td>setosa</td></tr>\n",
       "  </tbody>\n",
       "  </table>\n",
       "  <div class='footer'>\n",
       "    <div class='frame_dimensions'>3 rows &times; 5 columns</div>\n",
       "  </div>\n",
       "</div>\n"
      ],
      "text/plain": [
       "<Frame#7fe25012e660 3x5>"
      ]
     },
     "execution_count": 6,
     "metadata": {},
     "output_type": "execute_result"
    }
   ],
   "source": [
    "#Python has a zero based indexing notation,\n",
    "#so, we will pass in a list [1,3,7]\n",
    "\n",
    "df[[1,3,7], :]"
   ]
  },
  {
   "cell_type": "markdown",
   "metadata": {
    "execution": {
     "iopub.execute_input": "2020-06-24T01:25:07.520476Z",
     "iopub.status.busy": "2020-06-24T01:25:07.520247Z",
     "iopub.status.idle": "2020-06-24T01:25:07.531674Z",
     "shell.execute_reply": "2020-06-24T01:25:07.530705Z",
     "shell.execute_reply.started": "2020-06-24T01:25:07.520453Z"
    }
   },
   "source": [
    "#### **Find rows where species == \"versicolor\"**"
   ]
  },
  {
   "cell_type": "markdown",
   "metadata": {
    "execution": {
     "iopub.execute_input": "2020-06-24T01:26:11.318536Z",
     "iopub.status.busy": "2020-06-24T01:26:11.318109Z",
     "iopub.status.idle": "2020-06-24T01:26:11.325278Z",
     "shell.execute_reply": "2020-06-24T01:26:11.324480Z",
     "shell.execute_reply.started": "2020-06-24T01:26:11.318490Z"
    }
   },
   "source": [
    "This is an expression. How do we talk to the dataframe to filter for only rows where the ``species`` column is equal to ``versicolor``? Through the ``f`` variable : "
   ]
  },
  {
   "cell_type": "code",
   "execution_count": 7,
   "metadata": {
    "execution": {
     "iopub.execute_input": "2020-08-24T12:12:35.511930Z",
     "iopub.status.busy": "2020-08-24T12:12:35.511663Z",
     "iopub.status.idle": "2020-08-24T12:12:35.585491Z",
     "shell.execute_reply": "2020-08-24T12:12:35.584134Z",
     "shell.execute_reply.started": "2020-08-24T12:12:35.511909Z"
    }
   },
   "outputs": [
    {
     "data": {
      "text/html": [
       "<div class='datatable'>\n",
       "  <table class='frame'>\n",
       "  <thead>\n",
       "    <tr class='colnames'><td class='row_index'></td><th>sepal_length</th><th>sepal_width</th><th>petal_length</th><th>petal_width</th><th>species</th></tr>\n",
       "    <tr class='coltypes'><td class='row_index'></td><td class='float' title='float64'>&#x25AA;&#x25AA;&#x25AA;&#x25AA;&#x25AA;&#x25AA;&#x25AA;&#x25AA;</td><td class='float' title='float64'>&#x25AA;&#x25AA;&#x25AA;&#x25AA;&#x25AA;&#x25AA;&#x25AA;&#x25AA;</td><td class='float' title='float64'>&#x25AA;&#x25AA;&#x25AA;&#x25AA;&#x25AA;&#x25AA;&#x25AA;&#x25AA;</td><td class='float' title='float64'>&#x25AA;&#x25AA;&#x25AA;&#x25AA;&#x25AA;&#x25AA;&#x25AA;&#x25AA;</td><td class='string' title='str32'>&#x25AA;&#x25AA;&#x25AA;&#x25AA;</td></tr>\n",
       "  </thead>\n",
       "  <tbody>\n",
       "    <tr><td class='row_index'>0</td><td>7</td><td>3.2</td><td>4.7</td><td>1.4</td><td>versicolor</td></tr>\n",
       "    <tr><td class='row_index'>1</td><td>6.4</td><td>3.2</td><td>4.5</td><td>1.5</td><td>versicolor</td></tr>\n",
       "    <tr><td class='row_index'>2</td><td>6.9</td><td>3.1</td><td>4.9</td><td>1.5</td><td>versicolor</td></tr>\n",
       "    <tr><td class='row_index'>3</td><td>5.5</td><td>2.3</td><td>4</td><td>1.3</td><td>versicolor</td></tr>\n",
       "    <tr><td class='row_index'>4</td><td>6.5</td><td>2.8</td><td>4.6</td><td>1.5</td><td>versicolor</td></tr>\n",
       "    <tr><td class='row_index'>5</td><td>5.7</td><td>2.8</td><td>4.5</td><td>1.3</td><td>versicolor</td></tr>\n",
       "    <tr><td class='row_index'>6</td><td>6.3</td><td>3.3</td><td>4.7</td><td>1.6</td><td>versicolor</td></tr>\n",
       "    <tr><td class='row_index'>7</td><td>4.9</td><td>2.4</td><td>3.3</td><td>1</td><td>versicolor</td></tr>\n",
       "    <tr><td class='row_index'>8</td><td>6.6</td><td>2.9</td><td>4.6</td><td>1.3</td><td>versicolor</td></tr>\n",
       "    <tr><td class='row_index'>9</td><td>5.2</td><td>2.7</td><td>3.9</td><td>1.4</td><td>versicolor</td></tr>\n",
       "  </tbody>\n",
       "  </table>\n",
       "  <div class='footer'>\n",
       "    <div class='frame_dimensions'>10 rows &times; 5 columns</div>\n",
       "  </div>\n",
       "</div>\n"
      ],
      "text/plain": [
       "<Frame#7fe25012e720 10x5>"
      ]
     },
     "execution_count": 7,
     "metadata": {},
     "output_type": "execute_result"
    }
   ],
   "source": [
    "result = df[f.species == \"versicolor\", :]\n",
    "result.head()"
   ]
  },
  {
   "cell_type": "markdown",
   "metadata": {},
   "source": [
    "**Notes :**\n",
    "- We create a boolean expression, using the ``f`` symbol, to select rows that match the condition."
   ]
  },
  {
   "cell_type": "markdown",
   "metadata": {
    "execution": {
     "iopub.execute_input": "2020-06-24T01:25:07.520476Z",
     "iopub.status.busy": "2020-06-24T01:25:07.520247Z",
     "iopub.status.idle": "2020-06-24T01:25:07.531674Z",
     "shell.execute_reply": "2020-06-24T01:25:07.530705Z",
     "shell.execute_reply.started": "2020-06-24T01:25:07.520453Z"
    }
   },
   "source": [
    "#### **Find rows where species == \"versicolor\" and sepal_length == 7**"
   ]
  },
  {
   "cell_type": "code",
   "execution_count": 8,
   "metadata": {
    "execution": {
     "iopub.execute_input": "2020-08-24T12:12:35.589098Z",
     "iopub.status.busy": "2020-08-24T12:12:35.588536Z",
     "iopub.status.idle": "2020-08-24T12:12:35.702583Z",
     "shell.execute_reply": "2020-08-24T12:12:35.701685Z",
     "shell.execute_reply.started": "2020-08-24T12:12:35.589059Z"
    }
   },
   "outputs": [
    {
     "data": {
      "text/html": [
       "<div class='datatable'>\n",
       "  <table class='frame'>\n",
       "  <thead>\n",
       "    <tr class='colnames'><td class='row_index'></td><th>sepal_length</th><th>sepal_width</th><th>petal_length</th><th>petal_width</th><th>species</th></tr>\n",
       "    <tr class='coltypes'><td class='row_index'></td><td class='float' title='float64'>&#x25AA;&#x25AA;&#x25AA;&#x25AA;&#x25AA;&#x25AA;&#x25AA;&#x25AA;</td><td class='float' title='float64'>&#x25AA;&#x25AA;&#x25AA;&#x25AA;&#x25AA;&#x25AA;&#x25AA;&#x25AA;</td><td class='float' title='float64'>&#x25AA;&#x25AA;&#x25AA;&#x25AA;&#x25AA;&#x25AA;&#x25AA;&#x25AA;</td><td class='float' title='float64'>&#x25AA;&#x25AA;&#x25AA;&#x25AA;&#x25AA;&#x25AA;&#x25AA;&#x25AA;</td><td class='string' title='str32'>&#x25AA;&#x25AA;&#x25AA;&#x25AA;</td></tr>\n",
       "  </thead>\n",
       "  <tbody>\n",
       "    <tr><td class='row_index'>0</td><td>7</td><td>3.2</td><td>4.7</td><td>1.4</td><td>versicolor</td></tr>\n",
       "  </tbody>\n",
       "  </table>\n",
       "  <div class='footer'>\n",
       "    <div class='frame_dimensions'>1 row &times; 5 columns</div>\n",
       "  </div>\n",
       "</div>\n"
      ],
      "text/plain": [
       "<Frame#7fe25012eed0 1x5>"
      ]
     },
     "execution_count": 8,
     "metadata": {},
     "output_type": "execute_result"
    }
   ],
   "source": [
    "df[(f.species == \"versicolor\") & (f.sepal_length == 7), :]"
   ]
  },
  {
   "cell_type": "markdown",
   "metadata": {
    "execution": {
     "iopub.execute_input": "2020-06-24T01:31:51.142075Z",
     "iopub.status.busy": "2020-06-24T01:31:51.141749Z",
     "iopub.status.idle": "2020-06-24T01:31:51.147868Z",
     "shell.execute_reply": "2020-06-24T01:31:51.146730Z",
     "shell.execute_reply.started": "2020-06-24T01:31:51.142038Z"
    }
   },
   "source": [
    "**Notes :**\n",
    "- Again, a filter expression is needed -> we use the ``f`` symbol to access the columns and create our expression. \n",
    "- Note also that we have two conditions; as such, each condition is wrapped in parentheses to ensure the operator precedence.\n",
    "- Operator ``&`` for ``and``, ``|`` for ``or``.\n",
    "- You can chain as many conditions as needed within the ``i`` section."
   ]
  },
  {
   "cell_type": "markdown",
   "metadata": {
    "execution": {
     "iopub.execute_input": "2020-06-24T01:36:56.575216Z",
     "iopub.status.busy": "2020-06-24T01:36:56.574806Z",
     "iopub.status.idle": "2020-06-24T01:36:56.580729Z",
     "shell.execute_reply": "2020-06-24T01:36:56.579990Z",
     "shell.execute_reply.started": "2020-06-24T01:36:56.575170Z"
    }
   },
   "source": [
    "### __The j part - Columns__"
   ]
  },
  {
   "cell_type": "markdown",
   "metadata": {},
   "source": [
    "#### **Select species, petal_width and petal_length columns**"
   ]
  },
  {
   "cell_type": "code",
   "execution_count": 9,
   "metadata": {
    "execution": {
     "iopub.execute_input": "2020-08-24T12:12:35.705030Z",
     "iopub.status.busy": "2020-08-24T12:12:35.704635Z",
     "iopub.status.idle": "2020-08-24T12:12:35.836421Z",
     "shell.execute_reply": "2020-08-24T12:12:35.835210Z",
     "shell.execute_reply.started": "2020-08-24T12:12:35.705007Z"
    }
   },
   "outputs": [
    {
     "data": {
      "text/html": [
       "<div class='datatable'>\n",
       "  <table class='frame'>\n",
       "  <thead>\n",
       "    <tr class='colnames'><td class='row_index'></td><th>species</th><th>petal_width</th><th>petal_length</th></tr>\n",
       "    <tr class='coltypes'><td class='row_index'></td><td class='string' title='str32'>&#x25AA;&#x25AA;&#x25AA;&#x25AA;</td><td class='float' title='float64'>&#x25AA;&#x25AA;&#x25AA;&#x25AA;&#x25AA;&#x25AA;&#x25AA;&#x25AA;</td><td class='float' title='float64'>&#x25AA;&#x25AA;&#x25AA;&#x25AA;&#x25AA;&#x25AA;&#x25AA;&#x25AA;</td></tr>\n",
       "  </thead>\n",
       "  <tbody>\n",
       "    <tr><td class='row_index'>0</td><td>setosa</td><td>0.2</td><td>1.4</td></tr>\n",
       "    <tr><td class='row_index'>1</td><td>setosa</td><td>0.2</td><td>1.4</td></tr>\n",
       "    <tr><td class='row_index'>2</td><td>setosa</td><td>0.2</td><td>1.3</td></tr>\n",
       "    <tr><td class='row_index'>3</td><td>setosa</td><td>0.2</td><td>1.5</td></tr>\n",
       "    <tr><td class='row_index'>4</td><td>setosa</td><td>0.2</td><td>1.4</td></tr>\n",
       "    <tr><td class='row_index'>5</td><td>setosa</td><td>0.4</td><td>1.7</td></tr>\n",
       "    <tr><td class='row_index'>6</td><td>setosa</td><td>0.3</td><td>1.4</td></tr>\n",
       "    <tr><td class='row_index'>7</td><td>setosa</td><td>0.2</td><td>1.5</td></tr>\n",
       "    <tr><td class='row_index'>8</td><td>setosa</td><td>0.2</td><td>1.4</td></tr>\n",
       "    <tr><td class='row_index'>9</td><td>setosa</td><td>0.1</td><td>1.5</td></tr>\n",
       "  </tbody>\n",
       "  </table>\n",
       "  <div class='footer'>\n",
       "    <div class='frame_dimensions'>10 rows &times; 3 columns</div>\n",
       "  </div>\n",
       "</div>\n"
      ],
      "text/plain": [
       "<Frame#7fe25012ec90 10x3>"
      ]
     },
     "execution_count": 9,
     "metadata": {},
     "output_type": "execute_result"
    }
   ],
   "source": [
    "#Simply pass a list of the names in the j section \n",
    "result = df[:, [\"species\",\"petal_width\",\"petal_length\"]]\n",
    "\n",
    "result.head()"
   ]
  },
  {
   "cell_type": "markdown",
   "metadata": {},
   "source": [
    "**Notes :**\n",
    "- Note that we passed ``:`` in the ``i`` section to indicate that all rows will be selected. ``None`` or ``...`` works fine as well."
   ]
  },
  {
   "cell_type": "markdown",
   "metadata": {},
   "source": [
    "#### **Select the last two columns**"
   ]
  },
  {
   "cell_type": "code",
   "execution_count": 10,
   "metadata": {
    "execution": {
     "iopub.execute_input": "2020-08-24T12:12:35.838728Z",
     "iopub.status.busy": "2020-08-24T12:12:35.838168Z",
     "iopub.status.idle": "2020-08-24T12:12:35.910003Z",
     "shell.execute_reply": "2020-08-24T12:12:35.909026Z",
     "shell.execute_reply.started": "2020-08-24T12:12:35.838683Z"
    }
   },
   "outputs": [
    {
     "data": {
      "text/html": [
       "<div class='datatable'>\n",
       "  <table class='frame'>\n",
       "  <thead>\n",
       "    <tr class='colnames'><td class='row_index'></td><th>petal_width</th><th>species</th></tr>\n",
       "    <tr class='coltypes'><td class='row_index'></td><td class='float' title='float64'>&#x25AA;&#x25AA;&#x25AA;&#x25AA;&#x25AA;&#x25AA;&#x25AA;&#x25AA;</td><td class='string' title='str32'>&#x25AA;&#x25AA;&#x25AA;&#x25AA;</td></tr>\n",
       "  </thead>\n",
       "  <tbody>\n",
       "    <tr><td class='row_index'>0</td><td>0.2</td><td>setosa</td></tr>\n",
       "    <tr><td class='row_index'>1</td><td>0.2</td><td>setosa</td></tr>\n",
       "    <tr><td class='row_index'>2</td><td>0.2</td><td>setosa</td></tr>\n",
       "    <tr><td class='row_index'>3</td><td>0.2</td><td>setosa</td></tr>\n",
       "    <tr><td class='row_index'>4</td><td>0.2</td><td>setosa</td></tr>\n",
       "    <tr><td class='row_index'>5</td><td>0.4</td><td>setosa</td></tr>\n",
       "    <tr><td class='row_index'>6</td><td>0.3</td><td>setosa</td></tr>\n",
       "    <tr><td class='row_index'>7</td><td>0.2</td><td>setosa</td></tr>\n",
       "    <tr><td class='row_index'>8</td><td>0.2</td><td>setosa</td></tr>\n",
       "    <tr><td class='row_index'>9</td><td>0.1</td><td>setosa</td></tr>\n",
       "  </tbody>\n",
       "  </table>\n",
       "  <div class='footer'>\n",
       "    <div class='frame_dimensions'>10 rows &times; 2 columns</div>\n",
       "  </div>\n",
       "</div>\n"
      ],
      "text/plain": [
       "<Frame#7fe25012e810 10x2>"
      ]
     },
     "execution_count": 10,
     "metadata": {},
     "output_type": "execute_result"
    }
   ],
   "source": [
    "#Again, we use python's indexing syntax\n",
    "result = df[:, -2:]\n",
    "\n",
    "result.head()"
   ]
  },
  {
   "cell_type": "markdown",
   "metadata": {},
   "source": [
    "#### **Select only columns whose names end with ``length``**"
   ]
  },
  {
   "cell_type": "code",
   "execution_count": 11,
   "metadata": {
    "execution": {
     "iopub.execute_input": "2020-08-24T12:12:35.911573Z",
     "iopub.status.busy": "2020-08-24T12:12:35.911317Z",
     "iopub.status.idle": "2020-08-24T12:12:36.061376Z",
     "shell.execute_reply": "2020-08-24T12:12:36.060189Z",
     "shell.execute_reply.started": "2020-08-24T12:12:35.911551Z"
    }
   },
   "outputs": [
    {
     "data": {
      "text/html": [
       "<div class='datatable'>\n",
       "  <table class='frame'>\n",
       "  <thead>\n",
       "    <tr class='colnames'><td class='row_index'></td><th>sepal_length</th><th>petal_length</th></tr>\n",
       "    <tr class='coltypes'><td class='row_index'></td><td class='float' title='float64'>&#x25AA;&#x25AA;&#x25AA;&#x25AA;&#x25AA;&#x25AA;&#x25AA;&#x25AA;</td><td class='float' title='float64'>&#x25AA;&#x25AA;&#x25AA;&#x25AA;&#x25AA;&#x25AA;&#x25AA;&#x25AA;</td></tr>\n",
       "  </thead>\n",
       "  <tbody>\n",
       "    <tr><td class='row_index'>0</td><td>5.1</td><td>1.4</td></tr>\n",
       "    <tr><td class='row_index'>1</td><td>4.9</td><td>1.4</td></tr>\n",
       "    <tr><td class='row_index'>2</td><td>4.7</td><td>1.3</td></tr>\n",
       "    <tr><td class='row_index'>3</td><td>4.6</td><td>1.5</td></tr>\n",
       "    <tr><td class='row_index'>4</td><td>5</td><td>1.4</td></tr>\n",
       "    <tr><td class='row_index'>5</td><td>5.4</td><td>1.7</td></tr>\n",
       "    <tr><td class='row_index'>6</td><td>4.6</td><td>1.4</td></tr>\n",
       "    <tr><td class='row_index'>7</td><td>5</td><td>1.5</td></tr>\n",
       "    <tr><td class='row_index'>8</td><td>4.4</td><td>1.4</td></tr>\n",
       "    <tr><td class='row_index'>9</td><td>4.9</td><td>1.5</td></tr>\n",
       "  </tbody>\n",
       "  </table>\n",
       "  <div class='footer'>\n",
       "    <div class='frame_dimensions'>10 rows &times; 2 columns</div>\n",
       "  </div>\n",
       "</div>\n"
      ],
      "text/plain": [
       "<Frame#7fe2500c76c0 10x2>"
      ]
     },
     "execution_count": 11,
     "metadata": {},
     "output_type": "execute_result"
    }
   ],
   "source": [
    "result = df[:, [col.endswith(\"length\") for col in df.names]]\n",
    "\n",
    "result.head()"
   ]
  },
  {
   "cell_type": "markdown",
   "metadata": {},
   "source": [
    "**Notes:**\n",
    "- For this, we pass a [list comprehension](https://docs.python.org/3/tutorial/datastructures.html#list-comprehensions) to extract the matches. Again, we are using familar python constructs."
   ]
  },
  {
   "cell_type": "markdown",
   "metadata": {},
   "source": [
    "#### **Calculate the mean value of sepal_length**"
   ]
  },
  {
   "cell_type": "code",
   "execution_count": 12,
   "metadata": {
    "execution": {
     "iopub.execute_input": "2020-08-24T12:12:36.063622Z",
     "iopub.status.busy": "2020-08-24T12:12:36.063066Z",
     "iopub.status.idle": "2020-08-24T12:12:36.152433Z",
     "shell.execute_reply": "2020-08-24T12:12:36.150954Z",
     "shell.execute_reply.started": "2020-08-24T12:12:36.063578Z"
    }
   },
   "outputs": [
    {
     "data": {
      "text/html": [
       "<div class='datatable'>\n",
       "  <table class='frame'>\n",
       "  <thead>\n",
       "    <tr class='colnames'><td class='row_index'></td><th>sepal_length</th></tr>\n",
       "    <tr class='coltypes'><td class='row_index'></td><td class='float' title='float64'>&#x25AA;&#x25AA;&#x25AA;&#x25AA;&#x25AA;&#x25AA;&#x25AA;&#x25AA;</td></tr>\n",
       "  </thead>\n",
       "  <tbody>\n",
       "    <tr><td class='row_index'>0</td><td>5.84333</td></tr>\n",
       "  </tbody>\n",
       "  </table>\n",
       "  <div class='footer'>\n",
       "    <div class='frame_dimensions'>1 row &times; 1 column</div>\n",
       "  </div>\n",
       "</div>\n"
      ],
      "text/plain": [
       "<Frame#7fe2500c7cc0 1x1>"
      ]
     },
     "execution_count": 12,
     "metadata": {},
     "output_type": "execute_result"
    }
   ],
   "source": [
    "df[:, dt.mean(f.sepal_length)]"
   ]
  },
  {
   "cell_type": "markdown",
   "metadata": {},
   "source": [
    "- Here, we have to compute a value, and as such, the ``f`` symbol comes into play. \n",
    "- To get the average, we use the ``mean`` function from the datatable module."
   ]
  },
  {
   "cell_type": "markdown",
   "metadata": {},
   "source": [
    "**REMEMBER**: Any time you want to compute a value or create an expression, make use of the ``f`` symbol."
   ]
  },
  {
   "cell_type": "markdown",
   "metadata": {},
   "source": [
    "**TIP** : We can export the column names and use them, instead of the ``f`` symbol :"
   ]
  },
  {
   "cell_type": "code",
   "execution_count": 13,
   "metadata": {
    "execution": {
     "iopub.execute_input": "2020-08-24T12:12:36.154436Z",
     "iopub.status.busy": "2020-08-24T12:12:36.153914Z",
     "iopub.status.idle": "2020-08-24T12:12:36.302581Z",
     "shell.execute_reply": "2020-08-24T12:12:36.301269Z",
     "shell.execute_reply.started": "2020-08-24T12:12:36.154395Z"
    }
   },
   "outputs": [
    {
     "data": {
      "text/html": [
       "<div class='datatable'>\n",
       "  <table class='frame'>\n",
       "  <thead>\n",
       "    <tr class='colnames'><td class='row_index'></td><th>sepal_length</th></tr>\n",
       "    <tr class='coltypes'><td class='row_index'></td><td class='float' title='float64'>&#x25AA;&#x25AA;&#x25AA;&#x25AA;&#x25AA;&#x25AA;&#x25AA;&#x25AA;</td></tr>\n",
       "  </thead>\n",
       "  <tbody>\n",
       "    <tr><td class='row_index'>0</td><td>5.84333</td></tr>\n",
       "  </tbody>\n",
       "  </table>\n",
       "  <div class='footer'>\n",
       "    <div class='frame_dimensions'>1 row &times; 1 column</div>\n",
       "  </div>\n",
       "</div>\n"
      ],
      "text/plain": [
       "<Frame#7fe2500c72d0 1x1>"
      ]
     },
     "execution_count": 13,
     "metadata": {},
     "output_type": "execute_result"
    }
   ],
   "source": [
    "sepal_length,  *_ = df.export_names()\n",
    "\n",
    "#calculate the mean value of sepal_length\n",
    "df[:,  dt.mean(sepal_length)]"
   ]
  },
  {
   "cell_type": "markdown",
   "metadata": {},
   "source": [
    "We can also export only the names we need :"
   ]
  },
  {
   "cell_type": "code",
   "execution_count": 14,
   "metadata": {
    "execution": {
     "iopub.execute_input": "2020-08-24T12:12:36.304460Z",
     "iopub.status.busy": "2020-08-24T12:12:36.304100Z",
     "iopub.status.idle": "2020-08-24T12:12:36.418705Z",
     "shell.execute_reply": "2020-08-24T12:12:36.417857Z",
     "shell.execute_reply.started": "2020-08-24T12:12:36.304416Z"
    }
   },
   "outputs": [
    {
     "data": {
      "text/html": [
       "<div class='datatable'>\n",
       "  <table class='frame'>\n",
       "  <thead>\n",
       "    <tr class='colnames'><td class='row_index'></td><th>petal_length</th><th>petal_width</th></tr>\n",
       "    <tr class='coltypes'><td class='row_index'></td><td class='float' title='float64'>&#x25AA;&#x25AA;&#x25AA;&#x25AA;&#x25AA;&#x25AA;&#x25AA;&#x25AA;</td><td class='float' title='float64'>&#x25AA;&#x25AA;&#x25AA;&#x25AA;&#x25AA;&#x25AA;&#x25AA;&#x25AA;</td></tr>\n",
       "  </thead>\n",
       "  <tbody>\n",
       "    <tr><td class='row_index'>0</td><td>3.758</td><td>1.19933</td></tr>\n",
       "  </tbody>\n",
       "  </table>\n",
       "  <div class='footer'>\n",
       "    <div class='frame_dimensions'>1 row &times; 2 columns</div>\n",
       "  </div>\n",
       "</div>\n"
      ],
      "text/plain": [
       "<Frame#7fe2500cf780 1x2>"
      ]
     },
     "execution_count": 14,
     "metadata": {},
     "output_type": "execute_result"
    }
   ],
   "source": [
    "petal_width, petal_length = df[:, [2,3]].export_names()\n",
    "\n",
    "#calculate mean value of petal_width and petal_length\n",
    "df[:, dt.mean([petal_width, petal_length])]"
   ]
  },
  {
   "cell_type": "markdown",
   "metadata": {},
   "source": [
    "**Notes:**\n",
    "- To get aggregates of more than one column, pass a list of column names prefixed with the `f` symbol to j.\n",
    "- Alternatively, you can pass a dictionary of key - value pairs, where the keys will be the new column names, and the values are the computed columns.\n",
    "\n",
    "For the rest of the tutorial, I will continue using ``f-expressions``, as they are convenient to use, without having to explicitly export column names."
   ]
  },
  {
   "cell_type": "markdown",
   "metadata": {},
   "source": [
    "#### **Select only species and petal_length columns for rows where the petal_length is greater than 1.5**"
   ]
  },
  {
   "cell_type": "code",
   "execution_count": 15,
   "metadata": {
    "execution": {
     "iopub.execute_input": "2020-08-24T12:12:36.420044Z",
     "iopub.status.busy": "2020-08-24T12:12:36.419698Z",
     "iopub.status.idle": "2020-08-24T12:12:36.503566Z",
     "shell.execute_reply": "2020-08-24T12:12:36.502923Z",
     "shell.execute_reply.started": "2020-08-24T12:12:36.420016Z"
    }
   },
   "outputs": [
    {
     "data": {
      "text/html": [
       "<div class='datatable'>\n",
       "  <table class='frame'>\n",
       "  <thead>\n",
       "    <tr class='colnames'><td class='row_index'></td><th>species</th><th>petal_length</th></tr>\n",
       "    <tr class='coltypes'><td class='row_index'></td><td class='string' title='str32'>&#x25AA;&#x25AA;&#x25AA;&#x25AA;</td><td class='float' title='float64'>&#x25AA;&#x25AA;&#x25AA;&#x25AA;&#x25AA;&#x25AA;&#x25AA;&#x25AA;</td></tr>\n",
       "  </thead>\n",
       "  <tbody>\n",
       "    <tr><td class='row_index'>0</td><td>setosa</td><td>1.7</td></tr>\n",
       "    <tr><td class='row_index'>1</td><td>setosa</td><td>1.6</td></tr>\n",
       "    <tr><td class='row_index'>2</td><td>setosa</td><td>1.7</td></tr>\n",
       "    <tr><td class='row_index'>3</td><td>setosa</td><td>1.7</td></tr>\n",
       "    <tr><td class='row_index'>4</td><td>setosa</td><td>1.7</td></tr>\n",
       "    <tr><td class='row_index'>5</td><td>setosa</td><td>1.9</td></tr>\n",
       "    <tr><td class='row_index'>6</td><td>setosa</td><td>1.6</td></tr>\n",
       "    <tr><td class='row_index'>7</td><td>setosa</td><td>1.6</td></tr>\n",
       "    <tr><td class='row_index'>8</td><td>setosa</td><td>1.6</td></tr>\n",
       "    <tr><td class='row_index'>9</td><td>setosa</td><td>1.6</td></tr>\n",
       "  </tbody>\n",
       "  </table>\n",
       "  <div class='footer'>\n",
       "    <div class='frame_dimensions'>10 rows &times; 2 columns</div>\n",
       "  </div>\n",
       "</div>\n"
      ],
      "text/plain": [
       "<Frame#7fe2500cf840 10x2>"
      ]
     },
     "execution_count": 15,
     "metadata": {},
     "output_type": "execute_result"
    }
   ],
   "source": [
    "result = df[f.petal_length > 1.5, [\"species\", \"petal_length\"]]\n",
    "\n",
    "result.head()"
   ]
  },
  {
   "cell_type": "markdown",
   "metadata": {},
   "source": [
    "#### **Select only string columns**"
   ]
  },
  {
   "cell_type": "code",
   "execution_count": 16,
   "metadata": {
    "execution": {
     "iopub.execute_input": "2020-08-24T12:12:36.504411Z",
     "iopub.status.busy": "2020-08-24T12:12:36.504241Z",
     "iopub.status.idle": "2020-08-24T12:12:36.643557Z",
     "shell.execute_reply": "2020-08-24T12:12:36.642371Z",
     "shell.execute_reply.started": "2020-08-24T12:12:36.504389Z"
    }
   },
   "outputs": [
    {
     "data": {
      "text/html": [
       "<div class='datatable'>\n",
       "  <table class='frame'>\n",
       "  <thead>\n",
       "    <tr class='colnames'><td class='row_index'></td><th>species</th></tr>\n",
       "    <tr class='coltypes'><td class='row_index'></td><td class='string' title='str32'>&#x25AA;&#x25AA;&#x25AA;&#x25AA;</td></tr>\n",
       "  </thead>\n",
       "  <tbody>\n",
       "    <tr><td class='row_index'>0</td><td>setosa</td></tr>\n",
       "    <tr><td class='row_index'>1</td><td>setosa</td></tr>\n",
       "    <tr><td class='row_index'>2</td><td>setosa</td></tr>\n",
       "    <tr><td class='row_index'>3</td><td>setosa</td></tr>\n",
       "    <tr><td class='row_index'>4</td><td>setosa</td></tr>\n",
       "    <tr><td class='row_index'>5</td><td>setosa</td></tr>\n",
       "    <tr><td class='row_index'>6</td><td>setosa</td></tr>\n",
       "    <tr><td class='row_index'>7</td><td>setosa</td></tr>\n",
       "    <tr><td class='row_index'>8</td><td>setosa</td></tr>\n",
       "    <tr><td class='row_index'>9</td><td>setosa</td></tr>\n",
       "  </tbody>\n",
       "  </table>\n",
       "  <div class='footer'>\n",
       "    <div class='frame_dimensions'>10 rows &times; 1 column</div>\n",
       "  </div>\n",
       "</div>\n"
      ],
      "text/plain": [
       "<Frame#7fe2500cfbd0 10x1>"
      ]
     },
     "execution_count": 16,
     "metadata": {},
     "output_type": "execute_result"
    }
   ],
   "source": [
    "result = df[:, f[str]]\n",
    "result.head()"
   ]
  },
  {
   "cell_type": "markdown",
   "metadata": {},
   "source": [
    "**Notes:**\n",
    "- The above concept is applicable for any data type that we wish to include or exclude from the dataframe"
   ]
  },
  {
   "cell_type": "markdown",
   "metadata": {},
   "source": [
    "#### **Convert petal_length from float to integer**"
   ]
  },
  {
   "cell_type": "markdown",
   "metadata": {},
   "source": [
    "- Option 1. Direct assignment : "
   ]
  },
  {
   "cell_type": "code",
   "execution_count": 17,
   "metadata": {
    "execution": {
     "iopub.execute_input": "2020-08-24T12:12:36.645658Z",
     "iopub.status.busy": "2020-08-24T12:12:36.645304Z",
     "iopub.status.idle": "2020-08-24T12:12:36.725579Z",
     "shell.execute_reply": "2020-08-24T12:12:36.724700Z",
     "shell.execute_reply.started": "2020-08-24T12:12:36.645614Z"
    }
   },
   "outputs": [
    {
     "data": {
      "text/plain": [
       "stype.float64"
      ]
     },
     "execution_count": 17,
     "metadata": {},
     "output_type": "execute_result"
    }
   ],
   "source": [
    "result = df.copy()\n",
    "\n",
    "result[\"petal_length\"].stype"
   ]
  },
  {
   "cell_type": "code",
   "execution_count": 18,
   "metadata": {
    "execution": {
     "iopub.execute_input": "2020-08-24T12:12:36.727060Z",
     "iopub.status.busy": "2020-08-24T12:12:36.726806Z",
     "iopub.status.idle": "2020-08-24T12:12:36.877204Z",
     "shell.execute_reply": "2020-08-24T12:12:36.875862Z",
     "shell.execute_reply.started": "2020-08-24T12:12:36.727027Z"
    }
   },
   "outputs": [
    {
     "data": {
      "text/plain": [
       "stype.int32"
      ]
     },
     "execution_count": 18,
     "metadata": {},
     "output_type": "execute_result"
    }
   ],
   "source": [
    "#change column type\n",
    "result[\"petal_length\"] = dt.int32\n",
    "\n",
    "#check new data type\n",
    "result[:, f.petal_length].stype"
   ]
  },
  {
   "cell_type": "markdown",
   "metadata": {},
   "source": [
    "- Option 2. Use the ``update`` method. The process is done in-place; no assignment is needed :"
   ]
  },
  {
   "cell_type": "code",
   "execution_count": 19,
   "metadata": {
    "execution": {
     "iopub.execute_input": "2020-08-24T12:12:36.879661Z",
     "iopub.status.busy": "2020-08-24T12:12:36.879033Z",
     "iopub.status.idle": "2020-08-24T12:12:37.001576Z",
     "shell.execute_reply": "2020-08-24T12:12:37.000420Z",
     "shell.execute_reply.started": "2020-08-24T12:12:36.879629Z"
    }
   },
   "outputs": [
    {
     "data": {
      "text/plain": [
       "stype.float64"
      ]
     },
     "execution_count": 19,
     "metadata": {},
     "output_type": "execute_result"
    }
   ],
   "source": [
    "res = df.copy()\n",
    "\n",
    "res[\"petal_length\"].stype"
   ]
  },
  {
   "cell_type": "code",
   "execution_count": 20,
   "metadata": {
    "execution": {
     "iopub.execute_input": "2020-08-24T12:12:37.003613Z",
     "iopub.status.busy": "2020-08-24T12:12:37.003248Z",
     "iopub.status.idle": "2020-08-24T12:12:37.082083Z",
     "shell.execute_reply": "2020-08-24T12:12:37.081052Z",
     "shell.execute_reply.started": "2020-08-24T12:12:37.003579Z"
    }
   },
   "outputs": [],
   "source": [
    "#update is an inplace operation\n",
    "res[:, dt.update(petal_length = dt.int32(f.petal_length))]"
   ]
  },
  {
   "cell_type": "code",
   "execution_count": 21,
   "metadata": {
    "execution": {
     "iopub.execute_input": "2020-08-24T12:12:37.083689Z",
     "iopub.status.busy": "2020-08-24T12:12:37.083358Z",
     "iopub.status.idle": "2020-08-24T12:12:37.217528Z",
     "shell.execute_reply": "2020-08-24T12:12:37.216377Z",
     "shell.execute_reply.started": "2020-08-24T12:12:37.083643Z"
    }
   },
   "outputs": [
    {
     "data": {
      "text/plain": [
       "stype.int32"
      ]
     },
     "execution_count": 21,
     "metadata": {},
     "output_type": "execute_result"
    }
   ],
   "source": [
    "#check data type after update \n",
    "res['petal_length'].stype"
   ]
  },
  {
   "cell_type": "markdown",
   "metadata": {
    "execution": {
     "iopub.execute_input": "2020-06-24T08:18:43.028387Z",
     "iopub.status.busy": "2020-06-24T08:18:43.028155Z",
     "iopub.status.idle": "2020-06-24T08:18:43.032364Z",
     "shell.execute_reply": "2020-06-24T08:18:43.031571Z",
     "shell.execute_reply.started": "2020-06-24T08:18:43.028365Z"
    }
   },
   "source": [
    "**TIP** : The ``update`` method allows creation of new columns, or updating existing ones."
   ]
  },
  {
   "cell_type": "markdown",
   "metadata": {},
   "source": [
    "#### **Multiply petal_length by 2 and add it as a new column ``petal_double``**"
   ]
  },
  {
   "cell_type": "markdown",
   "metadata": {
    "execution": {
     "iopub.execute_input": "2020-06-24T05:43:22.952457Z",
     "iopub.status.busy": "2020-06-24T05:43:22.951858Z",
     "iopub.status.idle": "2020-06-24T05:43:22.957449Z",
     "shell.execute_reply": "2020-06-24T05:43:22.956528Z",
     "shell.execute_reply.started": "2020-06-24T05:43:22.952433Z"
    }
   },
   "source": [
    "- Option 1. Direct Assignment :"
   ]
  },
  {
   "cell_type": "code",
   "execution_count": 22,
   "metadata": {
    "execution": {
     "iopub.execute_input": "2020-08-24T12:12:37.219461Z",
     "iopub.status.busy": "2020-08-24T12:12:37.219073Z",
     "iopub.status.idle": "2020-08-24T12:12:37.307318Z",
     "shell.execute_reply": "2020-08-24T12:12:37.306543Z",
     "shell.execute_reply.started": "2020-08-24T12:12:37.219397Z"
    }
   },
   "outputs": [
    {
     "data": {
      "text/html": [
       "<div class='datatable'>\n",
       "  <table class='frame'>\n",
       "  <thead>\n",
       "    <tr class='colnames'><td class='row_index'></td><th>sepal_length</th><th>sepal_width</th><th>petal_length</th><th>petal_width</th><th>species</th><th>petal_double</th></tr>\n",
       "    <tr class='coltypes'><td class='row_index'></td><td class='float' title='float64'>&#x25AA;&#x25AA;&#x25AA;&#x25AA;&#x25AA;&#x25AA;&#x25AA;&#x25AA;</td><td class='float' title='float64'>&#x25AA;&#x25AA;&#x25AA;&#x25AA;&#x25AA;&#x25AA;&#x25AA;&#x25AA;</td><td class='float' title='float64'>&#x25AA;&#x25AA;&#x25AA;&#x25AA;&#x25AA;&#x25AA;&#x25AA;&#x25AA;</td><td class='float' title='float64'>&#x25AA;&#x25AA;&#x25AA;&#x25AA;&#x25AA;&#x25AA;&#x25AA;&#x25AA;</td><td class='string' title='str32'>&#x25AA;&#x25AA;&#x25AA;&#x25AA;</td><td class='float' title='float64'>&#x25AA;&#x25AA;&#x25AA;&#x25AA;&#x25AA;&#x25AA;&#x25AA;&#x25AA;</td></tr>\n",
       "  </thead>\n",
       "  <tbody>\n",
       "    <tr><td class='row_index'>0</td><td>5.1</td><td>3.5</td><td>1.4</td><td>0.2</td><td>setosa</td><td>2.8</td></tr>\n",
       "    <tr><td class='row_index'>1</td><td>4.9</td><td>3</td><td>1.4</td><td>0.2</td><td>setosa</td><td>2.8</td></tr>\n",
       "    <tr><td class='row_index'>2</td><td>4.7</td><td>3.2</td><td>1.3</td><td>0.2</td><td>setosa</td><td>2.6</td></tr>\n",
       "    <tr><td class='row_index'>3</td><td>4.6</td><td>3.1</td><td>1.5</td><td>0.2</td><td>setosa</td><td>3</td></tr>\n",
       "    <tr><td class='row_index'>4</td><td>5</td><td>3.6</td><td>1.4</td><td>0.2</td><td>setosa</td><td>2.8</td></tr>\n",
       "  </tbody>\n",
       "  </table>\n",
       "  <div class='footer'>\n",
       "    <div class='frame_dimensions'>5 rows &times; 6 columns</div>\n",
       "  </div>\n",
       "</div>\n"
      ],
      "text/plain": [
       "<Frame#7fe2500da3c0 5x6>"
      ]
     },
     "execution_count": 22,
     "metadata": {},
     "output_type": "execute_result"
    }
   ],
   "source": [
    "sol_1 = df.copy()\n",
    "\n",
    "sol_1[\"petal_double\"] = sol_1[:, 2 * f.petal_length]\n",
    "\n",
    "sol_1.head(5)"
   ]
  },
  {
   "cell_type": "markdown",
   "metadata": {
    "execution": {
     "iopub.execute_input": "2020-06-24T05:43:22.952457Z",
     "iopub.status.busy": "2020-06-24T05:43:22.951858Z",
     "iopub.status.idle": "2020-06-24T05:43:22.957449Z",
     "shell.execute_reply": "2020-06-24T05:43:22.956528Z",
     "shell.execute_reply.started": "2020-06-24T05:43:22.952433Z"
    }
   },
   "source": [
    "- Option 2. Use the ``extend`` method and pass in a dictionary of key value pairs, where the key is the new column name, and the value is the computed column:"
   ]
  },
  {
   "cell_type": "code",
   "execution_count": 23,
   "metadata": {
    "execution": {
     "iopub.execute_input": "2020-08-24T12:12:37.311107Z",
     "iopub.status.busy": "2020-08-24T12:12:37.310859Z",
     "iopub.status.idle": "2020-08-24T12:12:37.494759Z",
     "shell.execute_reply": "2020-08-24T12:12:37.493523Z",
     "shell.execute_reply.started": "2020-08-24T12:12:37.311077Z"
    }
   },
   "outputs": [
    {
     "data": {
      "text/html": [
       "<div class='datatable'>\n",
       "  <table class='frame'>\n",
       "  <thead>\n",
       "    <tr class='colnames'><td class='row_index'></td><th>sepal_length</th><th>sepal_width</th><th>petal_length</th><th>petal_width</th><th>species</th><th>petal_double</th></tr>\n",
       "    <tr class='coltypes'><td class='row_index'></td><td class='float' title='float64'>&#x25AA;&#x25AA;&#x25AA;&#x25AA;&#x25AA;&#x25AA;&#x25AA;&#x25AA;</td><td class='float' title='float64'>&#x25AA;&#x25AA;&#x25AA;&#x25AA;&#x25AA;&#x25AA;&#x25AA;&#x25AA;</td><td class='float' title='float64'>&#x25AA;&#x25AA;&#x25AA;&#x25AA;&#x25AA;&#x25AA;&#x25AA;&#x25AA;</td><td class='float' title='float64'>&#x25AA;&#x25AA;&#x25AA;&#x25AA;&#x25AA;&#x25AA;&#x25AA;&#x25AA;</td><td class='string' title='str32'>&#x25AA;&#x25AA;&#x25AA;&#x25AA;</td><td class='float' title='float64'>&#x25AA;&#x25AA;&#x25AA;&#x25AA;&#x25AA;&#x25AA;&#x25AA;&#x25AA;</td></tr>\n",
       "  </thead>\n",
       "  <tbody>\n",
       "    <tr><td class='row_index'>0</td><td>5.1</td><td>3.5</td><td>1.4</td><td>0.2</td><td>setosa</td><td>2.8</td></tr>\n",
       "    <tr><td class='row_index'>1</td><td>4.9</td><td>3</td><td>1.4</td><td>0.2</td><td>setosa</td><td>2.8</td></tr>\n",
       "    <tr><td class='row_index'>2</td><td>4.7</td><td>3.2</td><td>1.3</td><td>0.2</td><td>setosa</td><td>2.6</td></tr>\n",
       "    <tr><td class='row_index'>3</td><td>4.6</td><td>3.1</td><td>1.5</td><td>0.2</td><td>setosa</td><td>3</td></tr>\n",
       "    <tr><td class='row_index'>4</td><td>5</td><td>3.6</td><td>1.4</td><td>0.2</td><td>setosa</td><td>2.8</td></tr>\n",
       "  </tbody>\n",
       "  </table>\n",
       "  <div class='footer'>\n",
       "    <div class='frame_dimensions'>5 rows &times; 6 columns</div>\n",
       "  </div>\n",
       "</div>\n"
      ],
      "text/plain": [
       "<Frame#7fe25012e330 5x6>"
      ]
     },
     "execution_count": 23,
     "metadata": {},
     "output_type": "execute_result"
    }
   ],
   "source": [
    "sol_2 = df.copy()\n",
    "\n",
    "#f[:] means the entire columns are selected\n",
    "sol_2 = sol_2[:, f[:].extend({\"petal_double\" : 2 * f.petal_length})]\n",
    "\n",
    "sol_2.head(5)"
   ]
  },
  {
   "cell_type": "markdown",
   "metadata": {},
   "source": [
    "- Option 3. The ``update`` method :"
   ]
  },
  {
   "cell_type": "code",
   "execution_count": 24,
   "metadata": {
    "execution": {
     "iopub.execute_input": "2020-08-24T12:12:37.497081Z",
     "iopub.status.busy": "2020-08-24T12:12:37.496690Z",
     "iopub.status.idle": "2020-08-24T12:12:37.589616Z",
     "shell.execute_reply": "2020-08-24T12:12:37.588584Z",
     "shell.execute_reply.started": "2020-08-24T12:12:37.497049Z"
    }
   },
   "outputs": [],
   "source": [
    "sol_3 = df.copy()\n",
    "\n",
    "sol_3[:, dt.update(petal_double = 2 * f.petal_length)]"
   ]
  },
  {
   "cell_type": "code",
   "execution_count": 25,
   "metadata": {
    "execution": {
     "iopub.execute_input": "2020-08-24T12:12:37.591223Z",
     "iopub.status.busy": "2020-08-24T12:12:37.590819Z",
     "iopub.status.idle": "2020-08-24T12:12:37.733912Z",
     "shell.execute_reply": "2020-08-24T12:12:37.732732Z",
     "shell.execute_reply.started": "2020-08-24T12:12:37.591182Z"
    }
   },
   "outputs": [
    {
     "data": {
      "text/html": [
       "<div class='datatable'>\n",
       "  <table class='frame'>\n",
       "  <thead>\n",
       "    <tr class='colnames'><td class='row_index'></td><th>sepal_length</th><th>sepal_width</th><th>petal_length</th><th>petal_width</th><th>species</th><th>petal_double</th></tr>\n",
       "    <tr class='coltypes'><td class='row_index'></td><td class='float' title='float64'>&#x25AA;&#x25AA;&#x25AA;&#x25AA;&#x25AA;&#x25AA;&#x25AA;&#x25AA;</td><td class='float' title='float64'>&#x25AA;&#x25AA;&#x25AA;&#x25AA;&#x25AA;&#x25AA;&#x25AA;&#x25AA;</td><td class='float' title='float64'>&#x25AA;&#x25AA;&#x25AA;&#x25AA;&#x25AA;&#x25AA;&#x25AA;&#x25AA;</td><td class='float' title='float64'>&#x25AA;&#x25AA;&#x25AA;&#x25AA;&#x25AA;&#x25AA;&#x25AA;&#x25AA;</td><td class='string' title='str32'>&#x25AA;&#x25AA;&#x25AA;&#x25AA;</td><td class='float' title='float64'>&#x25AA;&#x25AA;&#x25AA;&#x25AA;&#x25AA;&#x25AA;&#x25AA;&#x25AA;</td></tr>\n",
       "  </thead>\n",
       "  <tbody>\n",
       "    <tr><td class='row_index'>0</td><td>5.1</td><td>3.5</td><td>1.4</td><td>0.2</td><td>setosa</td><td>2.8</td></tr>\n",
       "    <tr><td class='row_index'>1</td><td>4.9</td><td>3</td><td>1.4</td><td>0.2</td><td>setosa</td><td>2.8</td></tr>\n",
       "    <tr><td class='row_index'>2</td><td>4.7</td><td>3.2</td><td>1.3</td><td>0.2</td><td>setosa</td><td>2.6</td></tr>\n",
       "    <tr><td class='row_index'>3</td><td>4.6</td><td>3.1</td><td>1.5</td><td>0.2</td><td>setosa</td><td>3</td></tr>\n",
       "    <tr><td class='row_index'>4</td><td>5</td><td>3.6</td><td>1.4</td><td>0.2</td><td>setosa</td><td>2.8</td></tr>\n",
       "  </tbody>\n",
       "  </table>\n",
       "  <div class='footer'>\n",
       "    <div class='frame_dimensions'>5 rows &times; 6 columns</div>\n",
       "  </div>\n",
       "</div>\n"
      ],
      "text/plain": [
       "<Frame#7fe2500c7600 5x6>"
      ]
     },
     "execution_count": 25,
     "metadata": {},
     "output_type": "execute_result"
    }
   ],
   "source": [
    "sol_3.head(5)"
   ]
  },
  {
   "cell_type": "markdown",
   "metadata": {},
   "source": [
    "#### **Drop the sepal_width column from the table**"
   ]
  },
  {
   "cell_type": "markdown",
   "metadata": {
    "execution": {
     "iopub.execute_input": "2020-06-24T05:50:08.472417Z",
     "iopub.status.busy": "2020-06-24T05:50:08.472181Z",
     "iopub.status.idle": "2020-06-24T05:50:08.476546Z",
     "shell.execute_reply": "2020-06-24T05:50:08.475805Z",
     "shell.execute_reply.started": "2020-06-24T05:50:08.472394Z"
    }
   },
   "source": [
    "- Option 1. Use the ``del`` keyword :"
   ]
  },
  {
   "cell_type": "code",
   "execution_count": 26,
   "metadata": {
    "execution": {
     "iopub.execute_input": "2020-08-24T12:12:37.735817Z",
     "iopub.status.busy": "2020-08-24T12:12:37.735466Z",
     "iopub.status.idle": "2020-08-24T12:12:37.804936Z",
     "shell.execute_reply": "2020-08-24T12:12:37.804361Z",
     "shell.execute_reply.started": "2020-08-24T12:12:37.735773Z"
    }
   },
   "outputs": [],
   "source": [
    "del sol_1[\"sepal_width\"]"
   ]
  },
  {
   "cell_type": "code",
   "execution_count": 27,
   "metadata": {
    "execution": {
     "iopub.execute_input": "2020-08-24T12:12:37.805946Z",
     "iopub.status.busy": "2020-08-24T12:12:37.805749Z",
     "iopub.status.idle": "2020-08-24T12:12:37.941868Z",
     "shell.execute_reply": "2020-08-24T12:12:37.940613Z",
     "shell.execute_reply.started": "2020-08-24T12:12:37.805923Z"
    }
   },
   "outputs": [
    {
     "data": {
      "text/plain": [
       "('sepal_length', 'petal_length', 'petal_width', 'species', 'petal_double')"
      ]
     },
     "execution_count": 27,
     "metadata": {},
     "output_type": "execute_result"
    }
   ],
   "source": [
    "sol_1.names"
   ]
  },
  {
   "cell_type": "code",
   "execution_count": 28,
   "metadata": {
    "execution": {
     "iopub.execute_input": "2020-08-24T12:12:37.943922Z",
     "iopub.status.busy": "2020-08-24T12:12:37.943560Z",
     "iopub.status.idle": "2020-08-24T12:12:38.058337Z",
     "shell.execute_reply": "2020-08-24T12:12:38.057288Z",
     "shell.execute_reply.started": "2020-08-24T12:12:37.943878Z"
    }
   },
   "outputs": [
    {
     "data": {
      "text/html": [
       "<div class='datatable'>\n",
       "  <table class='frame'>\n",
       "  <thead>\n",
       "    <tr class='colnames'><td class='row_index'></td><th>sepal_length</th><th>petal_length</th><th>petal_width</th><th>species</th><th>petal_double</th></tr>\n",
       "    <tr class='coltypes'><td class='row_index'></td><td class='float' title='float64'>&#x25AA;&#x25AA;&#x25AA;&#x25AA;&#x25AA;&#x25AA;&#x25AA;&#x25AA;</td><td class='float' title='float64'>&#x25AA;&#x25AA;&#x25AA;&#x25AA;&#x25AA;&#x25AA;&#x25AA;&#x25AA;</td><td class='float' title='float64'>&#x25AA;&#x25AA;&#x25AA;&#x25AA;&#x25AA;&#x25AA;&#x25AA;&#x25AA;</td><td class='string' title='str32'>&#x25AA;&#x25AA;&#x25AA;&#x25AA;</td><td class='float' title='float64'>&#x25AA;&#x25AA;&#x25AA;&#x25AA;&#x25AA;&#x25AA;&#x25AA;&#x25AA;</td></tr>\n",
       "  </thead>\n",
       "  <tbody>\n",
       "    <tr><td class='row_index'>0</td><td>5.1</td><td>1.4</td><td>0.2</td><td>setosa</td><td>2.8</td></tr>\n",
       "    <tr><td class='row_index'>1</td><td>4.9</td><td>1.4</td><td>0.2</td><td>setosa</td><td>2.8</td></tr>\n",
       "    <tr><td class='row_index'>2</td><td>4.7</td><td>1.3</td><td>0.2</td><td>setosa</td><td>2.6</td></tr>\n",
       "  </tbody>\n",
       "  </table>\n",
       "  <div class='footer'>\n",
       "    <div class='frame_dimensions'>3 rows &times; 5 columns</div>\n",
       "  </div>\n",
       "</div>\n"
      ],
      "text/plain": [
       "<Frame#7fe25012eae0 3x5>"
      ]
     },
     "execution_count": 28,
     "metadata": {},
     "output_type": "execute_result"
    }
   ],
   "source": [
    "sol_1.head(3)"
   ]
  },
  {
   "cell_type": "markdown",
   "metadata": {
    "execution": {
     "iopub.execute_input": "2020-06-24T05:51:02.184668Z",
     "iopub.status.busy": "2020-06-24T05:51:02.184442Z",
     "iopub.status.idle": "2020-06-24T05:51:02.192227Z",
     "shell.execute_reply": "2020-06-24T05:51:02.188226Z",
     "shell.execute_reply.started": "2020-06-24T05:51:02.184644Z"
    }
   },
   "source": [
    "Option 2. Use the ``remove`` method :"
   ]
  },
  {
   "cell_type": "code",
   "execution_count": 29,
   "metadata": {
    "execution": {
     "iopub.execute_input": "2020-08-24T12:12:38.060168Z",
     "iopub.status.busy": "2020-08-24T12:12:38.059830Z",
     "iopub.status.idle": "2020-08-24T12:12:38.175311Z",
     "shell.execute_reply": "2020-08-24T12:12:38.174272Z",
     "shell.execute_reply.started": "2020-08-24T12:12:38.060127Z"
    }
   },
   "outputs": [
    {
     "data": {
      "text/plain": [
       "('sepal_length', 'petal_length', 'petal_width', 'species', 'petal_double')"
      ]
     },
     "execution_count": 29,
     "metadata": {},
     "output_type": "execute_result"
    }
   ],
   "source": [
    "sol_3 = sol_3[:, f[:].remove(f.sepal_width)]\n",
    "sol_3.names"
   ]
  },
  {
   "cell_type": "code",
   "execution_count": 30,
   "metadata": {
    "execution": {
     "iopub.execute_input": "2020-08-24T12:12:38.177335Z",
     "iopub.status.busy": "2020-08-24T12:12:38.176967Z",
     "iopub.status.idle": "2020-08-24T12:12:38.247803Z",
     "shell.execute_reply": "2020-08-24T12:12:38.247106Z",
     "shell.execute_reply.started": "2020-08-24T12:12:38.177290Z"
    }
   },
   "outputs": [
    {
     "data": {
      "text/html": [
       "<div class='datatable'>\n",
       "  <table class='frame'>\n",
       "  <thead>\n",
       "    <tr class='colnames'><td class='row_index'></td><th>sepal_length</th><th>petal_length</th><th>petal_width</th><th>species</th><th>petal_double</th></tr>\n",
       "    <tr class='coltypes'><td class='row_index'></td><td class='float' title='float64'>&#x25AA;&#x25AA;&#x25AA;&#x25AA;&#x25AA;&#x25AA;&#x25AA;&#x25AA;</td><td class='float' title='float64'>&#x25AA;&#x25AA;&#x25AA;&#x25AA;&#x25AA;&#x25AA;&#x25AA;&#x25AA;</td><td class='float' title='float64'>&#x25AA;&#x25AA;&#x25AA;&#x25AA;&#x25AA;&#x25AA;&#x25AA;&#x25AA;</td><td class='string' title='str32'>&#x25AA;&#x25AA;&#x25AA;&#x25AA;</td><td class='float' title='float64'>&#x25AA;&#x25AA;&#x25AA;&#x25AA;&#x25AA;&#x25AA;&#x25AA;&#x25AA;</td></tr>\n",
       "  </thead>\n",
       "  <tbody>\n",
       "    <tr><td class='row_index'>0</td><td>5.1</td><td>1.4</td><td>0.2</td><td>setosa</td><td>2.8</td></tr>\n",
       "    <tr><td class='row_index'>1</td><td>4.9</td><td>1.4</td><td>0.2</td><td>setosa</td><td>2.8</td></tr>\n",
       "    <tr><td class='row_index'>2</td><td>4.7</td><td>1.3</td><td>0.2</td><td>setosa</td><td>2.6</td></tr>\n",
       "  </tbody>\n",
       "  </table>\n",
       "  <div class='footer'>\n",
       "    <div class='frame_dimensions'>3 rows &times; 5 columns</div>\n",
       "  </div>\n",
       "</div>\n"
      ],
      "text/plain": [
       "<Frame#7fe2500c70f0 3x5>"
      ]
     },
     "execution_count": 30,
     "metadata": {},
     "output_type": "execute_result"
    }
   ],
   "source": [
    "sol_3.head(3)"
   ]
  },
  {
   "cell_type": "markdown",
   "metadata": {
    "execution": {
     "iopub.execute_input": "2020-06-24T01:36:56.575216Z",
     "iopub.status.busy": "2020-06-24T01:36:56.574806Z",
     "iopub.status.idle": "2020-06-24T01:36:56.580729Z",
     "shell.execute_reply": "2020-06-24T01:36:56.579990Z",
     "shell.execute_reply.started": "2020-06-24T01:36:56.575170Z"
    }
   },
   "source": [
    "### __Extra Modifiers__"
   ]
  },
  {
   "cell_type": "markdown",
   "metadata": {
    "execution": {
     "iopub.execute_input": "2020-06-24T02:32:38.252411Z",
     "iopub.status.busy": "2020-06-24T02:32:38.252098Z",
     "iopub.status.idle": "2020-06-24T02:32:38.259836Z",
     "shell.execute_reply": "2020-06-24T02:32:38.259023Z",
     "shell.execute_reply.started": "2020-06-24T02:32:38.252376Z"
    }
   },
   "source": [
    "**Notes :**\n",
    "- We will focus on ``grouping`` and ``sorting``."
   ]
  },
  {
   "cell_type": "markdown",
   "metadata": {},
   "source": [
    "#### **Sort data by sepal_width**"
   ]
  },
  {
   "cell_type": "code",
   "execution_count": 31,
   "metadata": {
    "execution": {
     "iopub.execute_input": "2020-08-24T12:12:38.249115Z",
     "iopub.status.busy": "2020-08-24T12:12:38.248875Z",
     "iopub.status.idle": "2020-08-24T12:12:38.398031Z",
     "shell.execute_reply": "2020-08-24T12:12:38.397399Z",
     "shell.execute_reply.started": "2020-08-24T12:12:38.249086Z"
    }
   },
   "outputs": [
    {
     "data": {
      "text/html": [
       "<div class='datatable'>\n",
       "  <table class='frame'>\n",
       "  <thead>\n",
       "    <tr class='colnames'><td class='row_index'></td><th>sepal_length</th><th>sepal_width</th><th>petal_length</th><th>petal_width</th><th>species</th></tr>\n",
       "    <tr class='coltypes'><td class='row_index'></td><td class='float' title='float64'>&#x25AA;&#x25AA;&#x25AA;&#x25AA;&#x25AA;&#x25AA;&#x25AA;&#x25AA;</td><td class='float' title='float64'>&#x25AA;&#x25AA;&#x25AA;&#x25AA;&#x25AA;&#x25AA;&#x25AA;&#x25AA;</td><td class='float' title='float64'>&#x25AA;&#x25AA;&#x25AA;&#x25AA;&#x25AA;&#x25AA;&#x25AA;&#x25AA;</td><td class='float' title='float64'>&#x25AA;&#x25AA;&#x25AA;&#x25AA;&#x25AA;&#x25AA;&#x25AA;&#x25AA;</td><td class='string' title='str32'>&#x25AA;&#x25AA;&#x25AA;&#x25AA;</td></tr>\n",
       "  </thead>\n",
       "  <tbody>\n",
       "    <tr><td class='row_index'>0</td><td>5</td><td>2</td><td>3.5</td><td>1</td><td>versicolor</td></tr>\n",
       "    <tr><td class='row_index'>1</td><td>6</td><td>2.2</td><td>4</td><td>1</td><td>versicolor</td></tr>\n",
       "    <tr><td class='row_index'>2</td><td>6.2</td><td>2.2</td><td>4.5</td><td>1.5</td><td>versicolor</td></tr>\n",
       "    <tr><td class='row_index'>3</td><td>6</td><td>2.2</td><td>5</td><td>1.5</td><td>virginica</td></tr>\n",
       "    <tr><td class='row_index'>4</td><td>4.5</td><td>2.3</td><td>1.3</td><td>0.3</td><td>setosa</td></tr>\n",
       "    <tr><td class='row_index'>5</td><td>5.5</td><td>2.3</td><td>4</td><td>1.3</td><td>versicolor</td></tr>\n",
       "    <tr><td class='row_index'>6</td><td>6.3</td><td>2.3</td><td>4.4</td><td>1.3</td><td>versicolor</td></tr>\n",
       "    <tr><td class='row_index'>7</td><td>5</td><td>2.3</td><td>3.3</td><td>1</td><td>versicolor</td></tr>\n",
       "    <tr><td class='row_index'>8</td><td>4.9</td><td>2.4</td><td>3.3</td><td>1</td><td>versicolor</td></tr>\n",
       "    <tr><td class='row_index'>9</td><td>5.5</td><td>2.4</td><td>3.8</td><td>1.1</td><td>versicolor</td></tr>\n",
       "  </tbody>\n",
       "  </table>\n",
       "  <div class='footer'>\n",
       "    <div class='frame_dimensions'>10 rows &times; 5 columns</div>\n",
       "  </div>\n",
       "</div>\n"
      ],
      "text/plain": [
       "<Frame#7fe2500d8ab0 10x5>"
      ]
     },
     "execution_count": 31,
     "metadata": {},
     "output_type": "execute_result"
    }
   ],
   "source": [
    "outcome = df[:, :, dt.sort('sepal_width')]\n",
    "\n",
    "outcome.head()"
   ]
  },
  {
   "cell_type": "markdown",
   "metadata": {
    "execution": {
     "iopub.execute_input": "2020-06-24T05:05:21.874851Z",
     "iopub.status.busy": "2020-06-24T05:05:21.874559Z",
     "iopub.status.idle": "2020-06-24T05:05:21.879940Z",
     "shell.execute_reply": "2020-06-24T05:05:21.879082Z",
     "shell.execute_reply.started": "2020-06-24T05:05:21.874818Z"
    }
   },
   "source": [
    "- That's all there is to it, just pass in the column name, either as a string or as an ``f`` expression.\n",
    "- By default, sorting is in ascending order."
   ]
  },
  {
   "cell_type": "markdown",
   "metadata": {},
   "source": [
    "#### **Sort by sepal_width ascending and petal_width descending**"
   ]
  },
  {
   "cell_type": "code",
   "execution_count": 32,
   "metadata": {
    "execution": {
     "iopub.execute_input": "2020-08-24T12:12:38.399032Z",
     "iopub.status.busy": "2020-08-24T12:12:38.398828Z",
     "iopub.status.idle": "2020-08-24T12:12:38.634576Z",
     "shell.execute_reply": "2020-08-24T12:12:38.633798Z",
     "shell.execute_reply.started": "2020-08-24T12:12:38.399005Z"
    }
   },
   "outputs": [
    {
     "data": {
      "text/html": [
       "<div class='datatable'>\n",
       "  <table class='frame'>\n",
       "  <thead>\n",
       "    <tr class='colnames'><td class='row_index'></td><th>sepal_length</th><th>sepal_width</th><th>petal_length</th><th>petal_width</th><th>species</th></tr>\n",
       "    <tr class='coltypes'><td class='row_index'></td><td class='float' title='float64'>&#x25AA;&#x25AA;&#x25AA;&#x25AA;&#x25AA;&#x25AA;&#x25AA;&#x25AA;</td><td class='float' title='float64'>&#x25AA;&#x25AA;&#x25AA;&#x25AA;&#x25AA;&#x25AA;&#x25AA;&#x25AA;</td><td class='float' title='float64'>&#x25AA;&#x25AA;&#x25AA;&#x25AA;&#x25AA;&#x25AA;&#x25AA;&#x25AA;</td><td class='float' title='float64'>&#x25AA;&#x25AA;&#x25AA;&#x25AA;&#x25AA;&#x25AA;&#x25AA;&#x25AA;</td><td class='string' title='str32'>&#x25AA;&#x25AA;&#x25AA;&#x25AA;</td></tr>\n",
       "  </thead>\n",
       "  <tbody>\n",
       "    <tr><td class='row_index'>0</td><td>5</td><td>2</td><td>3.5</td><td>1</td><td>versicolor</td></tr>\n",
       "    <tr><td class='row_index'>1</td><td>6.2</td><td>2.2</td><td>4.5</td><td>1.5</td><td>versicolor</td></tr>\n",
       "    <tr><td class='row_index'>2</td><td>6</td><td>2.2</td><td>5</td><td>1.5</td><td>virginica</td></tr>\n",
       "    <tr><td class='row_index'>3</td><td>6</td><td>2.2</td><td>4</td><td>1</td><td>versicolor</td></tr>\n",
       "    <tr><td class='row_index'>4</td><td>5.5</td><td>2.3</td><td>4</td><td>1.3</td><td>versicolor</td></tr>\n",
       "    <tr><td class='row_index'>5</td><td>6.3</td><td>2.3</td><td>4.4</td><td>1.3</td><td>versicolor</td></tr>\n",
       "    <tr><td class='row_index'>6</td><td>5</td><td>2.3</td><td>3.3</td><td>1</td><td>versicolor</td></tr>\n",
       "    <tr><td class='row_index'>7</td><td>4.5</td><td>2.3</td><td>1.3</td><td>0.3</td><td>setosa</td></tr>\n",
       "    <tr><td class='row_index'>8</td><td>5.5</td><td>2.4</td><td>3.8</td><td>1.1</td><td>versicolor</td></tr>\n",
       "    <tr><td class='row_index'>9</td><td>4.9</td><td>2.4</td><td>3.3</td><td>1</td><td>versicolor</td></tr>\n",
       "  </tbody>\n",
       "  </table>\n",
       "  <div class='footer'>\n",
       "    <div class='frame_dimensions'>10 rows &times; 5 columns</div>\n",
       "  </div>\n",
       "</div>\n"
      ],
      "text/plain": [
       "<Frame#7fe2500d8f00 10x5>"
      ]
     },
     "execution_count": 32,
     "metadata": {},
     "output_type": "execute_result"
    }
   ],
   "source": [
    "outcome = df[:, :, dt.sort([f.sepal_width, -f.petal_width])]\n",
    "\n",
    "outcome.head()"
   ]
  },
  {
   "cell_type": "markdown",
   "metadata": {},
   "source": [
    "**Notes :**\n",
    "- When sorting on multiple columns, pass a list of the column names to the ``sort`` function.\n",
    "- The ``-`` sign in front of ``petal_width`` instructs data table to sort in descending order. The ``-`` is symbolic and no actual negation occurs; as such it can be used on string columns.\n",
    "- Note that at this point, we had to switch to ``f-expression`` to get the desired result."
   ]
  },
  {
   "cell_type": "markdown",
   "metadata": {},
   "source": [
    "#### **Group By - Get the average sepal length per species**"
   ]
  },
  {
   "cell_type": "code",
   "execution_count": 33,
   "metadata": {
    "execution": {
     "iopub.execute_input": "2020-08-24T12:12:38.635688Z",
     "iopub.status.busy": "2020-08-24T12:12:38.635507Z",
     "iopub.status.idle": "2020-08-24T12:12:38.771912Z",
     "shell.execute_reply": "2020-08-24T12:12:38.771187Z",
     "shell.execute_reply.started": "2020-08-24T12:12:38.635667Z"
    }
   },
   "outputs": [
    {
     "data": {
      "text/html": [
       "<div class='datatable'>\n",
       "  <table class='frame'>\n",
       "  <thead>\n",
       "    <tr class='colnames'><td class='row_index'></td><th>species</th><th>sepal_length</th></tr>\n",
       "    <tr class='coltypes'><td class='row_index'></td><td class='string' title='str32'>&#x25AA;&#x25AA;&#x25AA;&#x25AA;</td><td class='float' title='float64'>&#x25AA;&#x25AA;&#x25AA;&#x25AA;&#x25AA;&#x25AA;&#x25AA;&#x25AA;</td></tr>\n",
       "  </thead>\n",
       "  <tbody>\n",
       "    <tr><td class='row_index'>0</td><td>setosa</td><td>5.006</td></tr>\n",
       "    <tr><td class='row_index'>1</td><td>versicolor</td><td>5.936</td></tr>\n",
       "    <tr><td class='row_index'>2</td><td>virginica</td><td>6.588</td></tr>\n",
       "  </tbody>\n",
       "  </table>\n",
       "  <div class='footer'>\n",
       "    <div class='frame_dimensions'>3 rows &times; 2 columns</div>\n",
       "  </div>\n",
       "</div>\n"
      ],
      "text/plain": [
       "<Frame#7fe25012e360 3x2>"
      ]
     },
     "execution_count": 33,
     "metadata": {},
     "output_type": "execute_result"
    }
   ],
   "source": [
    "df[:, dt.mean(f.sepal_length), by(\"species\")] "
   ]
  },
  {
   "cell_type": "markdown",
   "metadata": {
    "execution": {
     "iopub.execute_input": "2020-06-24T04:35:34.612160Z",
     "iopub.status.busy": "2020-06-24T04:35:34.611775Z",
     "iopub.status.idle": "2020-06-24T04:35:34.616696Z",
     "shell.execute_reply": "2020-06-24T04:35:34.615827Z",
     "shell.execute_reply.started": "2020-06-24T04:35:34.612136Z"
    }
   },
   "source": [
    "**Notes :**\n",
    "- ``by`` is the primary way to group data in the datatable.\n",
    "- Since we are computing a value (average), the ``f`` symbol is used."
   ]
  },
  {
   "cell_type": "markdown",
   "metadata": {},
   "source": [
    "#### **Group By - Get the average sepal length and petal length per species**"
   ]
  },
  {
   "cell_type": "code",
   "execution_count": 34,
   "metadata": {
    "execution": {
     "iopub.execute_input": "2020-08-24T12:12:38.774468Z",
     "iopub.status.busy": "2020-08-24T12:12:38.774266Z",
     "iopub.status.idle": "2020-08-24T12:12:38.891038Z",
     "shell.execute_reply": "2020-08-24T12:12:38.890087Z",
     "shell.execute_reply.started": "2020-08-24T12:12:38.774446Z"
    }
   },
   "outputs": [
    {
     "data": {
      "text/html": [
       "<div class='datatable'>\n",
       "  <table class='frame'>\n",
       "  <thead>\n",
       "    <tr class='colnames'><td class='row_index'></td><th>species</th><th>sepal_length</th><th>petal_length</th></tr>\n",
       "    <tr class='coltypes'><td class='row_index'></td><td class='string' title='str32'>&#x25AA;&#x25AA;&#x25AA;&#x25AA;</td><td class='float' title='float64'>&#x25AA;&#x25AA;&#x25AA;&#x25AA;&#x25AA;&#x25AA;&#x25AA;&#x25AA;</td><td class='float' title='float64'>&#x25AA;&#x25AA;&#x25AA;&#x25AA;&#x25AA;&#x25AA;&#x25AA;&#x25AA;</td></tr>\n",
       "  </thead>\n",
       "  <tbody>\n",
       "    <tr><td class='row_index'>0</td><td>setosa</td><td>5.006</td><td>1.462</td></tr>\n",
       "    <tr><td class='row_index'>1</td><td>versicolor</td><td>5.936</td><td>4.26</td></tr>\n",
       "    <tr><td class='row_index'>2</td><td>virginica</td><td>6.588</td><td>5.552</td></tr>\n",
       "  </tbody>\n",
       "  </table>\n",
       "  <div class='footer'>\n",
       "    <div class='frame_dimensions'>3 rows &times; 3 columns</div>\n",
       "  </div>\n",
       "</div>\n"
      ],
      "text/plain": [
       "<Frame#7fe2500da270 3x3>"
      ]
     },
     "execution_count": 34,
     "metadata": {},
     "output_type": "execute_result"
    }
   ],
   "source": [
    "df[:, dt.mean([f.sepal_length, f.petal_length]), by(\"species\")]"
   ]
  },
  {
   "cell_type": "markdown",
   "metadata": {},
   "source": [
    "#### **Group By - Filter the rows for sepal_width greater than or equal to 3, then get the average sepal length and petal length per species**"
   ]
  },
  {
   "cell_type": "code",
   "execution_count": 35,
   "metadata": {
    "execution": {
     "iopub.execute_input": "2020-08-24T12:12:38.892455Z",
     "iopub.status.busy": "2020-08-24T12:12:38.892116Z",
     "iopub.status.idle": "2020-08-24T12:12:39.039118Z",
     "shell.execute_reply": "2020-08-24T12:12:39.038246Z",
     "shell.execute_reply.started": "2020-08-24T12:12:38.892425Z"
    }
   },
   "outputs": [
    {
     "data": {
      "text/html": [
       "<div class='datatable'>\n",
       "  <table class='frame'>\n",
       "  <thead>\n",
       "    <tr class='colnames'><td class='row_index'></td><th>species</th><th>sepal_length</th><th>petal_length</th></tr>\n",
       "    <tr class='coltypes'><td class='row_index'></td><td class='string' title='str32'>&#x25AA;&#x25AA;&#x25AA;&#x25AA;</td><td class='float' title='float64'>&#x25AA;&#x25AA;&#x25AA;&#x25AA;&#x25AA;&#x25AA;&#x25AA;&#x25AA;</td><td class='float' title='float64'>&#x25AA;&#x25AA;&#x25AA;&#x25AA;&#x25AA;&#x25AA;&#x25AA;&#x25AA;</td></tr>\n",
       "  </thead>\n",
       "  <tbody>\n",
       "    <tr><td class='row_index'>0</td><td>setosa</td><td>5.02917</td><td>1.46667</td></tr>\n",
       "    <tr><td class='row_index'>1</td><td>versicolor</td><td>6.21875</td><td>4.54375</td></tr>\n",
       "    <tr><td class='row_index'>2</td><td>virginica</td><td>6.76897</td><td>5.64138</td></tr>\n",
       "  </tbody>\n",
       "  </table>\n",
       "  <div class='footer'>\n",
       "    <div class='frame_dimensions'>3 rows &times; 3 columns</div>\n",
       "  </div>\n",
       "</div>\n"
      ],
      "text/plain": [
       "<Frame#7fe2500da900 3x3>"
      ]
     },
     "execution_count": 35,
     "metadata": {},
     "output_type": "execute_result"
    }
   ],
   "source": [
    "df[f.sepal_width>=3,:][:,dt.mean([f.sepal_length, f.petal_length]), by(\"species\")]"
   ]
  },
  {
   "cell_type": "markdown",
   "metadata": {},
   "source": [
    "**Notes :**\n",
    "- At the moment, computation on ``i``, ``j`` and ``by`` at the same time is not yet implemented. As such, we have to break down the steps into two parts.\n",
    "- This also shows the chaining capabilities of datatable; simply put the next ``[]``, and ``datatable`` will compute the results from left to right."
   ]
  },
  {
   "cell_type": "markdown",
   "metadata": {},
   "source": [
    "#### **Group By - Get the average sepal length and group on sepal width greater than 3**"
   ]
  },
  {
   "cell_type": "code",
   "execution_count": 36,
   "metadata": {
    "execution": {
     "iopub.execute_input": "2020-08-24T12:12:39.040204Z",
     "iopub.status.busy": "2020-08-24T12:12:39.040026Z",
     "iopub.status.idle": "2020-08-24T12:12:39.166709Z",
     "shell.execute_reply": "2020-08-24T12:12:39.166084Z",
     "shell.execute_reply.started": "2020-08-24T12:12:39.040181Z"
    }
   },
   "outputs": [
    {
     "data": {
      "text/html": [
       "<div class='datatable'>\n",
       "  <table class='frame'>\n",
       "  <thead>\n",
       "    <tr class='colnames'><td class='row_index'></td><th>C0</th><th>sepal_length</th></tr>\n",
       "    <tr class='coltypes'><td class='row_index'></td><td class='boolean' title='bool8'>&#x25AA;</td><td class='float' title='float64'>&#x25AA;&#x25AA;&#x25AA;&#x25AA;&#x25AA;&#x25AA;&#x25AA;&#x25AA;</td></tr>\n",
       "  </thead>\n",
       "  <tbody>\n",
       "    <tr><td class='row_index'>0</td><td>0</td><td>5.97229</td></tr>\n",
       "    <tr><td class='row_index'>1</td><td>1</td><td>5.68358</td></tr>\n",
       "  </tbody>\n",
       "  </table>\n",
       "  <div class='footer'>\n",
       "    <div class='frame_dimensions'>2 rows &times; 2 columns</div>\n",
       "  </div>\n",
       "</div>\n"
      ],
      "text/plain": [
       "<Frame#7fe2500da150 2x2>"
      ]
     },
     "execution_count": 36,
     "metadata": {},
     "output_type": "execute_result"
    }
   ],
   "source": [
    "df[:, dt.mean(f.sepal_length), by(f.sepal_width > 3)]"
   ]
  },
  {
   "cell_type": "markdown",
   "metadata": {},
   "source": [
    "**Notes :**\n",
    "- With ``by``, you can group on boolean expressions. Note the use of ``f-expression`` in the ``by`` function.\n",
    "- Integers ``0`` and ``1`` signifiy ``False`` and ``True`` respectively."
   ]
  },
  {
   "cell_type": "markdown",
   "metadata": {},
   "source": [
    "#### **Group By - Get the count of each species, and label the aggregation column as ``species_count``**"
   ]
  },
  {
   "cell_type": "code",
   "execution_count": 37,
   "metadata": {
    "execution": {
     "iopub.execute_input": "2020-08-24T12:12:39.170419Z",
     "iopub.status.busy": "2020-08-24T12:12:39.170046Z",
     "iopub.status.idle": "2020-08-24T12:12:39.246915Z",
     "shell.execute_reply": "2020-08-24T12:12:39.246208Z",
     "shell.execute_reply.started": "2020-08-24T12:12:39.170375Z"
    }
   },
   "outputs": [
    {
     "data": {
      "text/html": [
       "<div class='datatable'>\n",
       "  <table class='frame'>\n",
       "  <thead>\n",
       "    <tr class='colnames'><td class='row_index'></td><th>species</th><th>species_count</th></tr>\n",
       "    <tr class='coltypes'><td class='row_index'></td><td class='string' title='str32'>&#x25AA;&#x25AA;&#x25AA;&#x25AA;</td><td class='integer' title='int64'>&#x25AA;&#x25AA;&#x25AA;&#x25AA;&#x25AA;&#x25AA;&#x25AA;&#x25AA;</td></tr>\n",
       "  </thead>\n",
       "  <tbody>\n",
       "    <tr><td class='row_index'>0</td><td>setosa</td><td>50</td></tr>\n",
       "    <tr><td class='row_index'>1</td><td>versicolor</td><td>50</td></tr>\n",
       "    <tr><td class='row_index'>2</td><td>virginica</td><td>50</td></tr>\n",
       "  </tbody>\n",
       "  </table>\n",
       "  <div class='footer'>\n",
       "    <div class='frame_dimensions'>3 rows &times; 2 columns</div>\n",
       "  </div>\n",
       "</div>\n"
      ],
      "text/plain": [
       "<Frame#7fe2500da1e0 3x2>"
      ]
     },
     "execution_count": 37,
     "metadata": {},
     "output_type": "execute_result"
    }
   ],
   "source": [
    "df[:, {\"species_count\" : dt.count()}, by(\"species\")]"
   ]
  },
  {
   "cell_type": "markdown",
   "metadata": {
    "execution": {
     "iopub.execute_input": "2020-06-24T04:52:46.255072Z",
     "iopub.status.busy": "2020-06-24T04:52:46.254674Z",
     "iopub.status.idle": "2020-06-24T04:52:46.262214Z",
     "shell.execute_reply": "2020-06-24T04:52:46.261400Z",
     "shell.execute_reply.started": "2020-06-24T04:52:46.255025Z"
    }
   },
   "source": [
    "**Notes :**\n",
    "- As with previous examples, a column can be renamed by passing a dictionary, where the key is the new column name and the value is the aggregation result.\n",
    "- ``count`` is another aggregation function within datatable."
   ]
  },
  {
   "cell_type": "markdown",
   "metadata": {},
   "source": [
    "#### **Group By - Get the count of each species where the sepal width is greater than 3**"
   ]
  },
  {
   "cell_type": "code",
   "execution_count": 38,
   "metadata": {
    "execution": {
     "iopub.execute_input": "2020-08-24T12:12:39.248221Z",
     "iopub.status.busy": "2020-08-24T12:12:39.247895Z",
     "iopub.status.idle": "2020-08-24T12:12:39.400421Z",
     "shell.execute_reply": "2020-08-24T12:12:39.398166Z",
     "shell.execute_reply.started": "2020-08-24T12:12:39.248192Z"
    }
   },
   "outputs": [
    {
     "data": {
      "text/html": [
       "<div class='datatable'>\n",
       "  <table class='frame'>\n",
       "  <thead>\n",
       "    <tr class='colnames'><td class='row_index'></td><th>species</th><th>C0</th><th>count</th></tr>\n",
       "    <tr class='coltypes'><td class='row_index'></td><td class='string' title='str32'>&#x25AA;&#x25AA;&#x25AA;&#x25AA;</td><td class='boolean' title='bool8'>&#x25AA;</td><td class='integer' title='int64'>&#x25AA;&#x25AA;&#x25AA;&#x25AA;&#x25AA;&#x25AA;&#x25AA;&#x25AA;</td></tr>\n",
       "  </thead>\n",
       "  <tbody>\n",
       "    <tr><td class='row_index'>0</td><td>setosa</td><td>0</td><td>8</td></tr>\n",
       "    <tr><td class='row_index'>1</td><td>setosa</td><td>1</td><td>42</td></tr>\n",
       "    <tr><td class='row_index'>2</td><td>versicolor</td><td>0</td><td>42</td></tr>\n",
       "    <tr><td class='row_index'>3</td><td>versicolor</td><td>1</td><td>8</td></tr>\n",
       "    <tr><td class='row_index'>4</td><td>virginica</td><td>0</td><td>33</td></tr>\n",
       "    <tr><td class='row_index'>5</td><td>virginica</td><td>1</td><td>17</td></tr>\n",
       "  </tbody>\n",
       "  </table>\n",
       "  <div class='footer'>\n",
       "    <div class='frame_dimensions'>6 rows &times; 3 columns</div>\n",
       "  </div>\n",
       "</div>\n"
      ],
      "text/plain": [
       "<Frame#7fe2500daae0 6x3>"
      ]
     },
     "execution_count": 38,
     "metadata": {},
     "output_type": "execute_result"
    }
   ],
   "source": [
    "df[:, dt.count(), by(f.species, f.sepal_width > 3)]"
   ]
  },
  {
   "cell_type": "markdown",
   "metadata": {},
   "source": [
    "**Notes :**\n",
    "- The ``by`` function can take a combination of columns, including booleans."
   ]
  },
  {
   "cell_type": "markdown",
   "metadata": {
    "execution": {
     "iopub.execute_input": "2020-06-24T01:36:56.575216Z",
     "iopub.status.busy": "2020-06-24T01:36:56.574806Z",
     "iopub.status.idle": "2020-06-24T01:36:56.580729Z",
     "shell.execute_reply": "2020-06-24T01:36:56.579990Z",
     "shell.execute_reply.started": "2020-06-24T01:36:56.575170Z"
    }
   },
   "source": [
    "### __Summary__"
   ]
  },
  {
   "cell_type": "markdown",
   "metadata": {},
   "source": [
    "This was an introduction to the syntax of python ``datatable``. We will explore more features in subsequent blog posts. "
   ]
  }
 ],
 "metadata": {
  "jupytext": {
   "formats": "ipynb,md"
  },
  "kernelspec": {
   "display_name": "Python 3",
   "language": "python",
   "name": "python3"
  },
  "language_info": {
   "codemirror_mode": {
    "name": "ipython",
    "version": 3
   },
   "file_extension": ".py",
   "mimetype": "text/x-python",
   "name": "python",
   "nbconvert_exporter": "python",
   "pygments_lexer": "ipython3",
   "version": "3.9.0"
  }
 },
 "nbformat": 4,
 "nbformat_minor": 4
}
