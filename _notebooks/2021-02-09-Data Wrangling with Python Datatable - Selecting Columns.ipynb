{
 "cells": [
  {
   "cell_type": "markdown",
   "metadata": {},
   "source": [
    "# \"Data Wrangling with Python Datatable - Selecting Columns\"\n",
    "> \"Various Ways to select Columns\"\n",
    "\n",
    "- toc: true\n",
    "- branch: master\n",
    "- badges: true\n",
    "- hide_binder_badge: True\n",
    "- hide_colab_badge: True\n",
    "- comments: true\n",
    "- author: Samuel Oranyeli\n",
    "- categories: [python, pydatatable]\n",
    "- image: images/some_folder/your_image.png\n",
    "- hide: false\n",
    "- search_exclude: true\n",
    "- metadata_key1: \"python\"\n",
    "- metadata_key2: \"datatable\""
   ]
  },
  {
   "cell_type": "markdown",
   "metadata": {},
   "source": [
    "This article highlights various ways to select columns in python datatable. The examples used here are based off the excellent [article](https://suzan.rbind.io/2018/01/dplyr-tutorial-1/) by [Susan Baert](https://twitter.com/SuzanBaert).\n",
    "\n",
    "The data file can be accessed [here](https://github.com/samukweku/data-wrangling-blog/raw/master/_notebooks/Data_files/msleep.txt)"
   ]
  },
  {
   "cell_type": "markdown",
   "metadata": {},
   "source": [
    "## **Selecting Columns**"
   ]
  },
  {
   "cell_type": "markdown",
   "metadata": {
    "execution": {
     "iopub.execute_input": "2020-10-31T01:26:23.474681Z",
     "iopub.status.busy": "2020-10-31T01:26:23.474464Z",
     "iopub.status.idle": "2020-10-31T01:26:23.477682Z",
     "shell.execute_reply": "2020-10-31T01:26:23.477047Z",
     "shell.execute_reply.started": "2020-10-31T01:26:23.474658Z"
    }
   },
   "source": [
    "### The Basics"
   ]
  },
  {
   "cell_type": "code",
   "execution_count": 1,
   "metadata": {},
   "outputs": [
    {
     "data": {
      "text/html": "<style type='text/css'>\n.datatable table.frame { margin-bottom: 0; }\n.datatable table.frame thead { border-bottom: none; }\n.datatable table.frame tr.coltypes td {  color: #FFFFFF;  line-height: 6px;  padding: 0 0.5em;}\n.datatable .bool    { background: #DDDD99; }\n.datatable .object  { background: #565656; }\n.datatable .int     { background: #5D9E5D; }\n.datatable .float   { background: #4040CC; }\n.datatable .str     { background: #CC4040; }\n.datatable .row_index {  background: var(--jp-border-color3);  border-right: 1px solid var(--jp-border-color0);  color: var(--jp-ui-font-color3);  font-size: 9px;}\n.datatable .frame tr.coltypes .row_index {  background: var(--jp-border-color0);}\n.datatable th:nth-child(2) { padding-left: 12px; }\n.datatable .hellipsis {  color: var(--jp-cell-editor-border-color);}\n.datatable .vellipsis {  background: var(--jp-layout-color0);  color: var(--jp-cell-editor-border-color);}\n.datatable .na {  color: var(--jp-cell-editor-border-color);  font-size: 80%;}\n.datatable .footer { font-size: 9px; }\n.datatable .frame_dimensions {  background: var(--jp-border-color3);  border-top: 1px solid var(--jp-border-color0);  color: var(--jp-ui-font-color3);  display: inline-block;  opacity: 0.6;  padding: 1px 10px 1px 5px;}\n</style>\n",
      "text/plain": "<IPython.core.display.HTML object>"
     },
     "metadata": {
      "transient": {
       "display_id": "datatable:css"
      }
     },
     "output_type": "display_data"
    },
    {
     "data": {
      "text/html": "<div class='datatable'>\n  <table class='frame'>\n  <thead>\n    <tr class='colnames'><td class='row_index'></td><th>name</th><th>genus</th><th>vore</th><th>order</th><th>conservation</th><th>sleep_total</th><th>sleep_rem</th><th>sleep_cycle</th><th>awake</th><th>brainwt</th><th>bodywt</th></tr>\n    <tr class='coltypes'><td class='row_index'></td><td class='str' title='str32'>&#x25AA;&#x25AA;&#x25AA;&#x25AA;</td><td class='str' title='str32'>&#x25AA;&#x25AA;&#x25AA;&#x25AA;</td><td class='str' title='str32'>&#x25AA;&#x25AA;&#x25AA;&#x25AA;</td><td class='str' title='str32'>&#x25AA;&#x25AA;&#x25AA;&#x25AA;</td><td class='str' title='str32'>&#x25AA;&#x25AA;&#x25AA;&#x25AA;</td><td class='float' title='float64'>&#x25AA;&#x25AA;&#x25AA;&#x25AA;&#x25AA;&#x25AA;&#x25AA;&#x25AA;</td><td class='float' title='float64'>&#x25AA;&#x25AA;&#x25AA;&#x25AA;&#x25AA;&#x25AA;&#x25AA;&#x25AA;</td><td class='float' title='float64'>&#x25AA;&#x25AA;&#x25AA;&#x25AA;&#x25AA;&#x25AA;&#x25AA;&#x25AA;</td><td class='float' title='float64'>&#x25AA;&#x25AA;&#x25AA;&#x25AA;&#x25AA;&#x25AA;&#x25AA;&#x25AA;</td><td class='float' title='float64'>&#x25AA;&#x25AA;&#x25AA;&#x25AA;&#x25AA;&#x25AA;&#x25AA;&#x25AA;</td><td class='float' title='float64'>&#x25AA;&#x25AA;&#x25AA;&#x25AA;&#x25AA;&#x25AA;&#x25AA;&#x25AA;</td></tr>\n  </thead>\n  <tbody>\n    <tr><td class='row_index'>0</td><td>Cheetah</td><td>Acinonyx</td><td>carni</td><td>Carnivora</td><td>lc</td><td>12.1</td><td><span class=na>NA</span></td><td><span class=na>NA</span></td><td>11.9</td><td><span class=na>NA</span></td><td>50</td></tr>\n    <tr><td class='row_index'>1</td><td>Owl monkey</td><td>Aotus</td><td>omni</td><td>Primates</td><td><span class=na>NA</span></td><td>17</td><td>1.8</td><td><span class=na>NA</span></td><td>7</td><td>0.0155</td><td>0.48</td></tr>\n    <tr><td class='row_index'>2</td><td>Mountain beaver</td><td>Aplodontia</td><td>herbi</td><td>Rodentia</td><td>nt</td><td>14.4</td><td>2.4</td><td><span class=na>NA</span></td><td>9.6</td><td><span class=na>NA</span></td><td>1.35</td></tr>\n    <tr><td class='row_index'>3</td><td>Greater short-tailed shrew</td><td>Blarina</td><td>omni</td><td>Soricomorpha</td><td>lc</td><td>14.9</td><td>2.3</td><td>0.133333</td><td>9.1</td><td>0.00029</td><td>0.019</td></tr>\n    <tr><td class='row_index'>4</td><td>Cow</td><td>Bos</td><td>herbi</td><td>Artiodactyla</td><td>domesticated</td><td>4</td><td>0.7</td><td>0.666667</td><td>20</td><td>0.423</td><td>600</td></tr>\n  </tbody>\n  </table>\n  <div class='footer'>\n    <div class='frame_dimensions'>5 rows &times; 11 columns</div>\n  </div>\n</div>\n",
      "text/plain": "<Frame#7f9b4d211df0 5x11>"
     },
     "execution_count": 1,
     "metadata": {},
     "output_type": "execute_result"
    }
   ],
   "source": [
    "from datatable import dt, f, ltype, stype\n",
    "import re\n",
    "\n",
    "file_path = \"https://github.com/samukweku/data-wrangling-blog/raw/master/_notebooks/Data_files/msleep.txt\"\n",
    "DT = dt.fread(file_path)\n",
    "DT.head(5)"
   ]
  },
  {
   "cell_type": "markdown",
   "metadata": {},
   "source": [
    "You can select columns by name or position in the `j` section:"
   ]
  },
  {
   "cell_type": "code",
   "execution_count": 2,
   "metadata": {},
   "outputs": [
    {
     "data": {
      "text/html": "<div class='datatable'>\n  <table class='frame'>\n  <thead>\n    <tr class='colnames'><td class='row_index'></td><th>genus</th></tr>\n    <tr class='coltypes'><td class='row_index'></td><td class='str' title='str32'>&#x25AA;&#x25AA;&#x25AA;&#x25AA;</td></tr>\n  </thead>\n  <tbody>\n    <tr><td class='row_index'>0</td><td>Acinonyx</td></tr>\n    <tr><td class='row_index'>1</td><td>Aotus</td></tr>\n    <tr><td class='row_index'>2</td><td>Aplodontia</td></tr>\n    <tr><td class='row_index'>3</td><td>Blarina</td></tr>\n    <tr><td class='row_index'>4</td><td>Bos</td></tr>\n  </tbody>\n  </table>\n  <div class='footer'>\n    <div class='frame_dimensions'>5 rows &times; 1 column</div>\n  </div>\n</div>\n",
      "text/plain": "<Frame#7f9b4d211230 5x1>"
     },
     "execution_count": 2,
     "metadata": {},
     "output_type": "execute_result"
    }
   ],
   "source": [
    "DT[:, 'genus'].head(5)"
   ]
  },
  {
   "cell_type": "code",
   "execution_count": 3,
   "metadata": {},
   "outputs": [
    {
     "data": {
      "text/html": "<div class='datatable'>\n  <table class='frame'>\n  <thead>\n    <tr class='colnames'><td class='row_index'></td><th>genus</th></tr>\n    <tr class='coltypes'><td class='row_index'></td><td class='str' title='str32'>&#x25AA;&#x25AA;&#x25AA;&#x25AA;</td></tr>\n  </thead>\n  <tbody>\n    <tr><td class='row_index'>0</td><td>Acinonyx</td></tr>\n    <tr><td class='row_index'>1</td><td>Aotus</td></tr>\n    <tr><td class='row_index'>2</td><td>Aplodontia</td></tr>\n    <tr><td class='row_index'>3</td><td>Blarina</td></tr>\n    <tr><td class='row_index'>4</td><td>Bos</td></tr>\n    <tr><td class='row_index'>5</td><td>Bradypus</td></tr>\n    <tr><td class='row_index'>6</td><td>Callorhinus</td></tr>\n    <tr><td class='row_index'>7</td><td>Calomys</td></tr>\n    <tr><td class='row_index'>8</td><td>Canis</td></tr>\n    <tr><td class='row_index'>9</td><td>Capreolus</td></tr>\n  </tbody>\n  </table>\n  <div class='footer'>\n    <div class='frame_dimensions'>10 rows &times; 1 column</div>\n  </div>\n</div>\n",
      "text/plain": "<Frame#7f9b4d21c330 10x1>"
     },
     "execution_count": 3,
     "metadata": {},
     "output_type": "execute_result"
    }
   ],
   "source": [
    "DT[:, 1].head()"
   ]
  },
  {
   "cell_type": "code",
   "execution_count": 4,
   "metadata": {},
   "outputs": [
    {
     "data": {
      "text/html": "<div class='datatable'>\n  <table class='frame'>\n  <thead>\n    <tr class='colnames'><td class='row_index'></td><th>genus</th></tr>\n    <tr class='coltypes'><td class='row_index'></td><td class='str' title='str32'>&#x25AA;&#x25AA;&#x25AA;&#x25AA;</td></tr>\n  </thead>\n  <tbody>\n    <tr><td class='row_index'>0</td><td>Acinonyx</td></tr>\n    <tr><td class='row_index'>1</td><td>Aotus</td></tr>\n    <tr><td class='row_index'>2</td><td>Aplodontia</td></tr>\n    <tr><td class='row_index'>3</td><td>Blarina</td></tr>\n    <tr><td class='row_index'>4</td><td>Bos</td></tr>\n    <tr><td class='row_index'>5</td><td>Bradypus</td></tr>\n    <tr><td class='row_index'>6</td><td>Callorhinus</td></tr>\n    <tr><td class='row_index'>7</td><td>Calomys</td></tr>\n    <tr><td class='row_index'>8</td><td>Canis</td></tr>\n    <tr><td class='row_index'>9</td><td>Capreolus</td></tr>\n  </tbody>\n  </table>\n  <div class='footer'>\n    <div class='frame_dimensions'>10 rows &times; 1 column</div>\n  </div>\n</div>\n",
      "text/plain": "<Frame#7f9b4d21c930 10x1>"
     },
     "execution_count": 4,
     "metadata": {},
     "output_type": "execute_result"
    }
   ],
   "source": [
    "DT[:, -10].head()\n"
   ]
  },
  {
   "cell_type": "markdown",
   "metadata": {},
   "source": [
    "If you are selecting a single column, you can pass it into the brackets without specifying the `i` section:"
   ]
  },
  {
   "cell_type": "code",
   "execution_count": 5,
   "metadata": {},
   "outputs": [
    {
     "data": {
      "text/html": "<div class='datatable'>\n  <table class='frame'>\n  <thead>\n    <tr class='colnames'><td class='row_index'></td><th>genus</th></tr>\n    <tr class='coltypes'><td class='row_index'></td><td class='str' title='str32'>&#x25AA;&#x25AA;&#x25AA;&#x25AA;</td></tr>\n  </thead>\n  <tbody>\n    <tr><td class='row_index'>0</td><td>Acinonyx</td></tr>\n    <tr><td class='row_index'>1</td><td>Aotus</td></tr>\n    <tr><td class='row_index'>2</td><td>Aplodontia</td></tr>\n    <tr><td class='row_index'>3</td><td>Blarina</td></tr>\n    <tr><td class='row_index'>4</td><td>Bos</td></tr>\n  </tbody>\n  </table>\n  <div class='footer'>\n    <div class='frame_dimensions'>5 rows &times; 1 column</div>\n  </div>\n</div>\n",
      "text/plain": "<Frame#7f9b4d21e1b0 5x1>"
     },
     "execution_count": 5,
     "metadata": {},
     "output_type": "execute_result"
    }
   ],
   "source": [
    "DT['genus'].head(5)"
   ]
  },
  {
   "cell_type": "markdown",
   "metadata": {},
   "source": [
    "For the rest of this article, I will be focusing on column selection by name."
   ]
  },
  {
   "cell_type": "markdown",
   "metadata": {},
   "source": [
    "You can select columns by passing a list/tuple of the column names:"
   ]
  },
  {
   "cell_type": "code",
   "execution_count": 6,
   "metadata": {},
   "outputs": [
    {
     "data": {
      "text/html": "<div class='datatable'>\n  <table class='frame'>\n  <thead>\n    <tr class='colnames'><td class='row_index'></td><th>name</th><th>genus</th><th>sleep_total</th><th>awake</th></tr>\n    <tr class='coltypes'><td class='row_index'></td><td class='str' title='str32'>&#x25AA;&#x25AA;&#x25AA;&#x25AA;</td><td class='str' title='str32'>&#x25AA;&#x25AA;&#x25AA;&#x25AA;</td><td class='float' title='float64'>&#x25AA;&#x25AA;&#x25AA;&#x25AA;&#x25AA;&#x25AA;&#x25AA;&#x25AA;</td><td class='float' title='float64'>&#x25AA;&#x25AA;&#x25AA;&#x25AA;&#x25AA;&#x25AA;&#x25AA;&#x25AA;</td></tr>\n  </thead>\n  <tbody>\n    <tr><td class='row_index'>0</td><td>Cheetah</td><td>Acinonyx</td><td>12.1</td><td>11.9</td></tr>\n    <tr><td class='row_index'>1</td><td>Owl monkey</td><td>Aotus</td><td>17</td><td>7</td></tr>\n    <tr><td class='row_index'>2</td><td>Mountain beaver</td><td>Aplodontia</td><td>14.4</td><td>9.6</td></tr>\n    <tr><td class='row_index'>3</td><td>Greater short-tailed shrew</td><td>Blarina</td><td>14.9</td><td>9.1</td></tr>\n    <tr><td class='row_index'>4</td><td>Cow</td><td>Bos</td><td>4</td><td>20</td></tr>\n  </tbody>\n  </table>\n  <div class='footer'>\n    <div class='frame_dimensions'>5 rows &times; 4 columns</div>\n  </div>\n</div>\n",
      "text/plain": "<Frame#7f9b4d21ec30 5x4>"
     },
     "execution_count": 6,
     "metadata": {},
     "output_type": "execute_result"
    }
   ],
   "source": [
    "columns_to_select = [\"name\", \"genus\", \"sleep_total\", \"awake\"]\n",
    "DT[:, columns_to_select].head(5)"
   ]
  },
  {
   "cell_type": "markdown",
   "metadata": {},
   "source": [
    "You can pass a list/tuple of booleans:"
   ]
  },
  {
   "cell_type": "code",
   "execution_count": 7,
   "metadata": {},
   "outputs": [
    {
     "data": {
      "text/html": "<div class='datatable'>\n  <table class='frame'>\n  <thead>\n    <tr class='colnames'><td class='row_index'></td><th>name</th><th>genus</th><th>sleep_total</th><th>sleep_cycle</th><th>awake</th></tr>\n    <tr class='coltypes'><td class='row_index'></td><td class='str' title='str32'>&#x25AA;&#x25AA;&#x25AA;&#x25AA;</td><td class='str' title='str32'>&#x25AA;&#x25AA;&#x25AA;&#x25AA;</td><td class='float' title='float64'>&#x25AA;&#x25AA;&#x25AA;&#x25AA;&#x25AA;&#x25AA;&#x25AA;&#x25AA;</td><td class='float' title='float64'>&#x25AA;&#x25AA;&#x25AA;&#x25AA;&#x25AA;&#x25AA;&#x25AA;&#x25AA;</td><td class='float' title='float64'>&#x25AA;&#x25AA;&#x25AA;&#x25AA;&#x25AA;&#x25AA;&#x25AA;&#x25AA;</td></tr>\n  </thead>\n  <tbody>\n    <tr><td class='row_index'>0</td><td>Cheetah</td><td>Acinonyx</td><td>12.1</td><td><span class=na>NA</span></td><td>11.9</td></tr>\n    <tr><td class='row_index'>1</td><td>Owl monkey</td><td>Aotus</td><td>17</td><td><span class=na>NA</span></td><td>7</td></tr>\n    <tr><td class='row_index'>2</td><td>Mountain beaver</td><td>Aplodontia</td><td>14.4</td><td><span class=na>NA</span></td><td>9.6</td></tr>\n    <tr><td class='row_index'>3</td><td>Greater short-tailed shrew</td><td>Blarina</td><td>14.9</td><td>0.133333</td><td>9.1</td></tr>\n    <tr><td class='row_index'>4</td><td>Cow</td><td>Bos</td><td>4</td><td>0.666667</td><td>20</td></tr>\n  </tbody>\n  </table>\n  <div class='footer'>\n    <div class='frame_dimensions'>5 rows &times; 5 columns</div>\n  </div>\n</div>\n",
      "text/plain": "<Frame#7f9b4d2215b0 5x5>"
     },
     "execution_count": 7,
     "metadata": {},
     "output_type": "execute_result"
    }
   ],
   "source": [
    "columns_to_select = [True, True, False, False, False, True,False,True,True,False,False]\n",
    "DT[:, columns_to_select].head(5)"
   ]
  },
  {
   "cell_type": "markdown",
   "metadata": {},
   "source": [
    "You can select chunks of columns using python's [slice](https://docs.python.org/3/library/functions.html#slice) syntax or via the ``start:end`` shortcut:"
   ]
  },
  {
   "cell_type": "code",
   "execution_count": 8,
   "metadata": {},
   "outputs": [
    {
     "data": {
      "text/html": "<div class='datatable'>\n  <table class='frame'>\n  <thead>\n    <tr class='colnames'><td class='row_index'></td><th>name</th><th>genus</th><th>vore</th><th>order</th></tr>\n    <tr class='coltypes'><td class='row_index'></td><td class='str' title='str32'>&#x25AA;&#x25AA;&#x25AA;&#x25AA;</td><td class='str' title='str32'>&#x25AA;&#x25AA;&#x25AA;&#x25AA;</td><td class='str' title='str32'>&#x25AA;&#x25AA;&#x25AA;&#x25AA;</td><td class='str' title='str32'>&#x25AA;&#x25AA;&#x25AA;&#x25AA;</td></tr>\n  </thead>\n  <tbody>\n    <tr><td class='row_index'>0</td><td>Cheetah</td><td>Acinonyx</td><td>carni</td><td>Carnivora</td></tr>\n    <tr><td class='row_index'>1</td><td>Owl monkey</td><td>Aotus</td><td>omni</td><td>Primates</td></tr>\n    <tr><td class='row_index'>2</td><td>Mountain beaver</td><td>Aplodontia</td><td>herbi</td><td>Rodentia</td></tr>\n    <tr><td class='row_index'>3</td><td>Greater short-tailed shrew</td><td>Blarina</td><td>omni</td><td>Soricomorpha</td></tr>\n    <tr><td class='row_index'>4</td><td>Cow</td><td>Bos</td><td>herbi</td><td>Artiodactyla</td></tr>\n  </tbody>\n  </table>\n  <div class='footer'>\n    <div class='frame_dimensions'>5 rows &times; 4 columns</div>\n  </div>\n</div>\n",
      "text/plain": "<Frame#7f9b4d221df0 5x4>"
     },
     "execution_count": 8,
     "metadata": {},
     "output_type": "execute_result"
    }
   ],
   "source": [
    "DT[:, slice(\"name\", \"order\")].head(5)"
   ]
  },
  {
   "cell_type": "code",
   "execution_count": 9,
   "metadata": {},
   "outputs": [
    {
     "data": {
      "text/html": "<div class='datatable'>\n  <table class='frame'>\n  <thead>\n    <tr class='colnames'><td class='row_index'></td><th>name</th><th>genus</th><th>vore</th><th>order</th></tr>\n    <tr class='coltypes'><td class='row_index'></td><td class='str' title='str32'>&#x25AA;&#x25AA;&#x25AA;&#x25AA;</td><td class='str' title='str32'>&#x25AA;&#x25AA;&#x25AA;&#x25AA;</td><td class='str' title='str32'>&#x25AA;&#x25AA;&#x25AA;&#x25AA;</td><td class='str' title='str32'>&#x25AA;&#x25AA;&#x25AA;&#x25AA;</td></tr>\n  </thead>\n  <tbody>\n    <tr><td class='row_index'>0</td><td>Cheetah</td><td>Acinonyx</td><td>carni</td><td>Carnivora</td></tr>\n    <tr><td class='row_index'>1</td><td>Owl monkey</td><td>Aotus</td><td>omni</td><td>Primates</td></tr>\n    <tr><td class='row_index'>2</td><td>Mountain beaver</td><td>Aplodontia</td><td>herbi</td><td>Rodentia</td></tr>\n    <tr><td class='row_index'>3</td><td>Greater short-tailed shrew</td><td>Blarina</td><td>omni</td><td>Soricomorpha</td></tr>\n    <tr><td class='row_index'>4</td><td>Cow</td><td>Bos</td><td>herbi</td><td>Artiodactyla</td></tr>\n  </tbody>\n  </table>\n  <div class='footer'>\n    <div class='frame_dimensions'>5 rows &times; 4 columns</div>\n  </div>\n</div>\n",
      "text/plain": "<Frame#7f9b4d226530 5x4>"
     },
     "execution_count": 9,
     "metadata": {},
     "output_type": "execute_result"
    }
   ],
   "source": [
    "DT[:, \"name\" : \"order\"].head(5)\n"
   ]
  },
  {
   "cell_type": "markdown",
   "metadata": {},
   "source": [
    "Multiple chunk selection is possible:"
   ]
  },
  {
   "cell_type": "code",
   "execution_count": 10,
   "metadata": {},
   "outputs": [
    {
     "data": {
      "text/html": "<div class='datatable'>\n  <table class='frame'>\n  <thead>\n    <tr class='colnames'><td class='row_index'></td><th>name</th><th>genus</th><th>vore</th><th>order</th><th>sleep_total</th><th>sleep_rem</th><th>sleep_cycle</th></tr>\n    <tr class='coltypes'><td class='row_index'></td><td class='str' title='str32'>&#x25AA;&#x25AA;&#x25AA;&#x25AA;</td><td class='str' title='str32'>&#x25AA;&#x25AA;&#x25AA;&#x25AA;</td><td class='str' title='str32'>&#x25AA;&#x25AA;&#x25AA;&#x25AA;</td><td class='str' title='str32'>&#x25AA;&#x25AA;&#x25AA;&#x25AA;</td><td class='float' title='float64'>&#x25AA;&#x25AA;&#x25AA;&#x25AA;&#x25AA;&#x25AA;&#x25AA;&#x25AA;</td><td class='float' title='float64'>&#x25AA;&#x25AA;&#x25AA;&#x25AA;&#x25AA;&#x25AA;&#x25AA;&#x25AA;</td><td class='float' title='float64'>&#x25AA;&#x25AA;&#x25AA;&#x25AA;&#x25AA;&#x25AA;&#x25AA;&#x25AA;</td></tr>\n  </thead>\n  <tbody>\n    <tr><td class='row_index'>0</td><td>Cheetah</td><td>Acinonyx</td><td>carni</td><td>Carnivora</td><td>12.1</td><td><span class=na>NA</span></td><td><span class=na>NA</span></td></tr>\n    <tr><td class='row_index'>1</td><td>Owl monkey</td><td>Aotus</td><td>omni</td><td>Primates</td><td>17</td><td>1.8</td><td><span class=na>NA</span></td></tr>\n    <tr><td class='row_index'>2</td><td>Mountain beaver</td><td>Aplodontia</td><td>herbi</td><td>Rodentia</td><td>14.4</td><td>2.4</td><td><span class=na>NA</span></td></tr>\n    <tr><td class='row_index'>3</td><td>Greater short-tailed shrew</td><td>Blarina</td><td>omni</td><td>Soricomorpha</td><td>14.9</td><td>2.3</td><td>0.133333</td></tr>\n    <tr><td class='row_index'>4</td><td>Cow</td><td>Bos</td><td>herbi</td><td>Artiodactyla</td><td>4</td><td>0.7</td><td>0.666667</td></tr>\n  </tbody>\n  </table>\n  <div class='footer'>\n    <div class='frame_dimensions'>5 rows &times; 7 columns</div>\n  </div>\n</div>\n",
      "text/plain": "<Frame#7f9b4d069030 5x7>"
     },
     "execution_count": 10,
     "metadata": {},
     "output_type": "execute_result"
    }
   ],
   "source": [
    "columns_to_select = [slice(\"name\", \"order\"), slice(\"sleep_total\", \"sleep_cycle\")]\n",
    "DT[:, columns_to_select].head(5)"
   ]
  },
  {
   "cell_type": "markdown",
   "metadata": {},
   "source": [
    "For the shortcut notation, for multiple selections, it has to be prefixed with datatable's [f](https://datatable.readthedocs.io/en/latest/manual/f-expressions.html) symbol:"
   ]
  },
  {
   "cell_type": "code",
   "execution_count": 11,
   "metadata": {},
   "outputs": [
    {
     "data": {
      "text/html": "<div class='datatable'>\n  <table class='frame'>\n  <thead>\n    <tr class='colnames'><td class='row_index'></td><th>name</th><th>genus</th><th>vore</th><th>order</th><th>sleep_total</th><th>sleep_rem</th><th>sleep_cycle</th></tr>\n    <tr class='coltypes'><td class='row_index'></td><td class='str' title='str32'>&#x25AA;&#x25AA;&#x25AA;&#x25AA;</td><td class='str' title='str32'>&#x25AA;&#x25AA;&#x25AA;&#x25AA;</td><td class='str' title='str32'>&#x25AA;&#x25AA;&#x25AA;&#x25AA;</td><td class='str' title='str32'>&#x25AA;&#x25AA;&#x25AA;&#x25AA;</td><td class='float' title='float64'>&#x25AA;&#x25AA;&#x25AA;&#x25AA;&#x25AA;&#x25AA;&#x25AA;&#x25AA;</td><td class='float' title='float64'>&#x25AA;&#x25AA;&#x25AA;&#x25AA;&#x25AA;&#x25AA;&#x25AA;&#x25AA;</td><td class='float' title='float64'>&#x25AA;&#x25AA;&#x25AA;&#x25AA;&#x25AA;&#x25AA;&#x25AA;&#x25AA;</td></tr>\n  </thead>\n  <tbody>\n    <tr><td class='row_index'>0</td><td>Cheetah</td><td>Acinonyx</td><td>carni</td><td>Carnivora</td><td>12.1</td><td><span class=na>NA</span></td><td><span class=na>NA</span></td></tr>\n    <tr><td class='row_index'>1</td><td>Owl monkey</td><td>Aotus</td><td>omni</td><td>Primates</td><td>17</td><td>1.8</td><td><span class=na>NA</span></td></tr>\n    <tr><td class='row_index'>2</td><td>Mountain beaver</td><td>Aplodontia</td><td>herbi</td><td>Rodentia</td><td>14.4</td><td>2.4</td><td><span class=na>NA</span></td></tr>\n    <tr><td class='row_index'>3</td><td>Greater short-tailed shrew</td><td>Blarina</td><td>omni</td><td>Soricomorpha</td><td>14.9</td><td>2.3</td><td>0.133333</td></tr>\n    <tr><td class='row_index'>4</td><td>Cow</td><td>Bos</td><td>herbi</td><td>Artiodactyla</td><td>4</td><td>0.7</td><td>0.666667</td></tr>\n  </tbody>\n  </table>\n  <div class='footer'>\n    <div class='frame_dimensions'>5 rows &times; 7 columns</div>\n  </div>\n</div>\n",
      "text/plain": "<Frame#7f9b4d0699b0 5x7>"
     },
     "execution_count": 11,
     "metadata": {},
     "output_type": "execute_result"
    }
   ],
   "source": [
    "columns_to_select = [f[\"name\" : \"order\", \"sleep_total\" : \"sleep_cycle\"]]\n",
    "DT[:, columns_to_select].head(5)"
   ]
  },
  {
   "cell_type": "markdown",
   "metadata": {},
   "source": [
    "To deselect/drop columns you can use the [remove](https://datatable.readthedocs.io/en/latest/manual/f-expressions.html#modifying-a-columnset) function:"
   ]
  },
  {
   "cell_type": "code",
   "execution_count": 12,
   "metadata": {},
   "outputs": [
    {
     "data": {
      "text/html": "<div class='datatable'>\n  <table class='frame'>\n  <thead>\n    <tr class='colnames'><td class='row_index'></td><th>name</th><th>genus</th><th>vore</th><th>order</th><th>brainwt</th><th>bodywt</th></tr>\n    <tr class='coltypes'><td class='row_index'></td><td class='str' title='str32'>&#x25AA;&#x25AA;&#x25AA;&#x25AA;</td><td class='str' title='str32'>&#x25AA;&#x25AA;&#x25AA;&#x25AA;</td><td class='str' title='str32'>&#x25AA;&#x25AA;&#x25AA;&#x25AA;</td><td class='str' title='str32'>&#x25AA;&#x25AA;&#x25AA;&#x25AA;</td><td class='float' title='float64'>&#x25AA;&#x25AA;&#x25AA;&#x25AA;&#x25AA;&#x25AA;&#x25AA;&#x25AA;</td><td class='float' title='float64'>&#x25AA;&#x25AA;&#x25AA;&#x25AA;&#x25AA;&#x25AA;&#x25AA;&#x25AA;</td></tr>\n  </thead>\n  <tbody>\n    <tr><td class='row_index'>0</td><td>Cheetah</td><td>Acinonyx</td><td>carni</td><td>Carnivora</td><td><span class=na>NA</span></td><td>50</td></tr>\n    <tr><td class='row_index'>1</td><td>Owl monkey</td><td>Aotus</td><td>omni</td><td>Primates</td><td>0.0155</td><td>0.48</td></tr>\n    <tr><td class='row_index'>2</td><td>Mountain beaver</td><td>Aplodontia</td><td>herbi</td><td>Rodentia</td><td><span class=na>NA</span></td><td>1.35</td></tr>\n    <tr><td class='row_index'>3</td><td>Greater short-tailed shrew</td><td>Blarina</td><td>omni</td><td>Soricomorpha</td><td>0.00029</td><td>0.019</td></tr>\n    <tr><td class='row_index'>4</td><td>Cow</td><td>Bos</td><td>herbi</td><td>Artiodactyla</td><td>0.423</td><td>600</td></tr>\n  </tbody>\n  </table>\n  <div class='footer'>\n    <div class='frame_dimensions'>5 rows &times; 6 columns</div>\n  </div>\n</div>\n",
      "text/plain": "<Frame#7f9b4d221630 5x6>"
     },
     "execution_count": 12,
     "metadata": {},
     "output_type": "execute_result"
    }
   ],
   "source": [
    "columns_to_remove = [f[\"sleep_total\" : \"awake\", \"conservation\"]]\n",
    "DT[:, f[:].remove(columns_to_remove)].head(5)"
   ]
  },
  {
   "cell_type": "markdown",
   "metadata": {},
   "source": [
    "You can deselect a whole chunk, and then re-add a column again; this combines the [remove](https://datatable.readthedocs.io/en/latest/manual/f-expressions.html#modifying-a-columnset) and [extend](https://datatable.readthedocs.io/en/latest/manual/f-expressions.html#modifying-a-columnset) functions:"
   ]
  },
  {
   "cell_type": "code",
   "execution_count": 13,
   "metadata": {},
   "outputs": [
    {
     "data": {
      "text/html": "<div class='datatable'>\n  <table class='frame'>\n  <thead>\n    <tr class='colnames'><td class='row_index'></td><th>brainwt</th><th>bodywt</th><th>conservation</th></tr>\n    <tr class='coltypes'><td class='row_index'></td><td class='float' title='float64'>&#x25AA;&#x25AA;&#x25AA;&#x25AA;&#x25AA;&#x25AA;&#x25AA;&#x25AA;</td><td class='float' title='float64'>&#x25AA;&#x25AA;&#x25AA;&#x25AA;&#x25AA;&#x25AA;&#x25AA;&#x25AA;</td><td class='str' title='str32'>&#x25AA;&#x25AA;&#x25AA;&#x25AA;</td></tr>\n  </thead>\n  <tbody>\n    <tr><td class='row_index'>0</td><td><span class=na>NA</span></td><td>50</td><td>lc</td></tr>\n    <tr><td class='row_index'>1</td><td>0.0155</td><td>0.48</td><td><span class=na>NA</span></td></tr>\n    <tr><td class='row_index'>2</td><td><span class=na>NA</span></td><td>1.35</td><td>nt</td></tr>\n    <tr><td class='row_index'>3</td><td>0.00029</td><td>0.019</td><td>lc</td></tr>\n    <tr><td class='row_index'>4</td><td>0.423</td><td>600</td><td>domesticated</td></tr>\n  </tbody>\n  </table>\n  <div class='footer'>\n    <div class='frame_dimensions'>5 rows &times; 3 columns</div>\n  </div>\n</div>\n",
      "text/plain": "<Frame#7f9b4d21e970 5x3>"
     },
     "execution_count": 13,
     "metadata": {},
     "output_type": "execute_result"
    }
   ],
   "source": [
    "DT[:, f[:].remove(f[\"name\" : \"awake\"]).extend(f[\"conservation\"])].head(5)"
   ]
  },
  {
   "cell_type": "markdown",
   "metadata": {},
   "source": [
    "### Selecting Columns based on Partial Names"
   ]
  },
  {
   "cell_type": "markdown",
   "metadata": {},
   "source": [
    "You can use python's string functions to filter for columns with partial matching:"
   ]
  },
  {
   "cell_type": "code",
   "execution_count": 14,
   "metadata": {},
   "outputs": [
    {
     "data": {
      "text/html": "<div class='datatable'>\n  <table class='frame'>\n  <thead>\n    <tr class='colnames'><td class='row_index'></td><th>sleep_total</th><th>sleep_rem</th><th>sleep_cycle</th></tr>\n    <tr class='coltypes'><td class='row_index'></td><td class='float' title='float64'>&#x25AA;&#x25AA;&#x25AA;&#x25AA;&#x25AA;&#x25AA;&#x25AA;&#x25AA;</td><td class='float' title='float64'>&#x25AA;&#x25AA;&#x25AA;&#x25AA;&#x25AA;&#x25AA;&#x25AA;&#x25AA;</td><td class='float' title='float64'>&#x25AA;&#x25AA;&#x25AA;&#x25AA;&#x25AA;&#x25AA;&#x25AA;&#x25AA;</td></tr>\n  </thead>\n  <tbody>\n    <tr><td class='row_index'>0</td><td>12.1</td><td><span class=na>NA</span></td><td><span class=na>NA</span></td></tr>\n    <tr><td class='row_index'>1</td><td>17</td><td>1.8</td><td><span class=na>NA</span></td></tr>\n    <tr><td class='row_index'>2</td><td>14.4</td><td>2.4</td><td><span class=na>NA</span></td></tr>\n    <tr><td class='row_index'>3</td><td>14.9</td><td>2.3</td><td>0.133333</td></tr>\n    <tr><td class='row_index'>4</td><td>4</td><td>0.7</td><td>0.666667</td></tr>\n  </tbody>\n  </table>\n  <div class='footer'>\n    <div class='frame_dimensions'>5 rows &times; 3 columns</div>\n  </div>\n</div>\n",
      "text/plain": "<Frame#7f9b4d21e530 5x3>"
     },
     "execution_count": 14,
     "metadata": {},
     "output_type": "execute_result"
    }
   ],
   "source": [
    "columns_to_select = [name.startswith(\"sleep\") for name in DT.names]\n",
    "DT[:, columns_to_select].head(5)"
   ]
  },
  {
   "cell_type": "code",
   "execution_count": 15,
   "metadata": {},
   "outputs": [
    {
     "data": {
      "text/html": "<div class='datatable'>\n  <table class='frame'>\n  <thead>\n    <tr class='colnames'><td class='row_index'></td><th>sleep_total</th><th>sleep_rem</th><th>sleep_cycle</th><th>brainwt</th><th>bodywt</th></tr>\n    <tr class='coltypes'><td class='row_index'></td><td class='float' title='float64'>&#x25AA;&#x25AA;&#x25AA;&#x25AA;&#x25AA;&#x25AA;&#x25AA;&#x25AA;</td><td class='float' title='float64'>&#x25AA;&#x25AA;&#x25AA;&#x25AA;&#x25AA;&#x25AA;&#x25AA;&#x25AA;</td><td class='float' title='float64'>&#x25AA;&#x25AA;&#x25AA;&#x25AA;&#x25AA;&#x25AA;&#x25AA;&#x25AA;</td><td class='float' title='float64'>&#x25AA;&#x25AA;&#x25AA;&#x25AA;&#x25AA;&#x25AA;&#x25AA;&#x25AA;</td><td class='float' title='float64'>&#x25AA;&#x25AA;&#x25AA;&#x25AA;&#x25AA;&#x25AA;&#x25AA;&#x25AA;</td></tr>\n  </thead>\n  <tbody>\n    <tr><td class='row_index'>0</td><td>12.1</td><td><span class=na>NA</span></td><td><span class=na>NA</span></td><td><span class=na>NA</span></td><td>50</td></tr>\n    <tr><td class='row_index'>1</td><td>17</td><td>1.8</td><td><span class=na>NA</span></td><td>0.0155</td><td>0.48</td></tr>\n    <tr><td class='row_index'>2</td><td>14.4</td><td>2.4</td><td><span class=na>NA</span></td><td><span class=na>NA</span></td><td>1.35</td></tr>\n    <tr><td class='row_index'>3</td><td>14.9</td><td>2.3</td><td>0.133333</td><td>0.00029</td><td>0.019</td></tr>\n    <tr><td class='row_index'>4</td><td>4</td><td>0.7</td><td>0.666667</td><td>0.423</td><td>600</td></tr>\n  </tbody>\n  </table>\n  <div class='footer'>\n    <div class='frame_dimensions'>5 rows &times; 5 columns</div>\n  </div>\n</div>\n",
      "text/plain": "<Frame#7f9b4d21ccb0 5x5>"
     },
     "execution_count": 15,
     "metadata": {},
     "output_type": "execute_result"
    }
   ],
   "source": [
    "columns_to_select = [\"eep\" in name or name.endswith(\"wt\") for name in DT.names]\n",
    "DT[:, columns_to_select].head(5)"
   ]
  },
  {
   "cell_type": "markdown",
   "metadata": {},
   "source": [
    "### Selecting Columns based on Regex"
   ]
  },
  {
   "cell_type": "markdown",
   "metadata": {},
   "source": [
    "Python's [re](https://docs.python.org/3/library/re.html) module can be used to select columns based on a regular expression:"
   ]
  },
  {
   "cell_type": "code",
   "execution_count": 16,
   "metadata": {},
   "outputs": [
    {
     "data": {
      "text/html": "<div class='datatable'>\n  <table class='frame'>\n  <thead>\n    <tr class='colnames'><td class='row_index'></td><th>order</th><th>conservation</th></tr>\n    <tr class='coltypes'><td class='row_index'></td><td class='str' title='str32'>&#x25AA;&#x25AA;&#x25AA;&#x25AA;</td><td class='str' title='str32'>&#x25AA;&#x25AA;&#x25AA;&#x25AA;</td></tr>\n  </thead>\n  <tbody>\n    <tr><td class='row_index'>0</td><td>Carnivora</td><td>lc</td></tr>\n    <tr><td class='row_index'>1</td><td>Primates</td><td><span class=na>NA</span></td></tr>\n    <tr><td class='row_index'>2</td><td>Rodentia</td><td>nt</td></tr>\n    <tr><td class='row_index'>3</td><td>Soricomorpha</td><td>lc</td></tr>\n    <tr><td class='row_index'>4</td><td>Artiodactyla</td><td>domesticated</td></tr>\n  </tbody>\n  </table>\n  <div class='footer'>\n    <div class='frame_dimensions'>5 rows &times; 2 columns</div>\n  </div>\n</div>\n",
      "text/plain": "<Frame#7f9b4d21c230 5x2>"
     },
     "execution_count": 16,
     "metadata": {},
     "output_type": "execute_result"
    }
   ],
   "source": [
    "# this returns a list of booleans\n",
    "columns_to_select = [True if re.search(r\"o.+er\", name) else False for name in DT.names]\n",
    "DT[:, columns_to_select].head(5)"
   ]
  },
  {
   "cell_type": "markdown",
   "metadata": {},
   "source": [
    "### Selecting columns by their data type"
   ]
  },
  {
   "cell_type": "markdown",
   "metadata": {},
   "source": [
    "You can pass a data type in the ``j`` section:"
   ]
  },
  {
   "cell_type": "code",
   "execution_count": 17,
   "metadata": {},
   "outputs": [
    {
     "data": {
      "text/html": "<div class='datatable'>\n  <table class='frame'>\n  <thead>\n    <tr class='colnames'><td class='row_index'></td><th>name</th><th>genus</th><th>vore</th><th>order</th><th>conservation</th></tr>\n    <tr class='coltypes'><td class='row_index'></td><td class='str' title='str32'>&#x25AA;&#x25AA;&#x25AA;&#x25AA;</td><td class='str' title='str32'>&#x25AA;&#x25AA;&#x25AA;&#x25AA;</td><td class='str' title='str32'>&#x25AA;&#x25AA;&#x25AA;&#x25AA;</td><td class='str' title='str32'>&#x25AA;&#x25AA;&#x25AA;&#x25AA;</td><td class='str' title='str32'>&#x25AA;&#x25AA;&#x25AA;&#x25AA;</td></tr>\n  </thead>\n  <tbody>\n    <tr><td class='row_index'>0</td><td>Cheetah</td><td>Acinonyx</td><td>carni</td><td>Carnivora</td><td>lc</td></tr>\n    <tr><td class='row_index'>1</td><td>Owl monkey</td><td>Aotus</td><td>omni</td><td>Primates</td><td><span class=na>NA</span></td></tr>\n    <tr><td class='row_index'>2</td><td>Mountain beaver</td><td>Aplodontia</td><td>herbi</td><td>Rodentia</td><td>nt</td></tr>\n    <tr><td class='row_index'>3</td><td>Greater short-tailed shrew</td><td>Blarina</td><td>omni</td><td>Soricomorpha</td><td>lc</td></tr>\n    <tr><td class='row_index'>4</td><td>Cow</td><td>Bos</td><td>herbi</td><td>Artiodactyla</td><td>domesticated</td></tr>\n  </tbody>\n  </table>\n  <div class='footer'>\n    <div class='frame_dimensions'>5 rows &times; 5 columns</div>\n  </div>\n</div>\n",
      "text/plain": "<Frame#7f9b4d2110b0 5x5>"
     },
     "execution_count": 17,
     "metadata": {},
     "output_type": "execute_result"
    }
   ],
   "source": [
    "DT[:, str].head(5)"
   ]
  },
  {
   "cell_type": "markdown",
   "metadata": {},
   "source": [
    "You can pass a list of data types:"
   ]
  },
  {
   "cell_type": "code",
   "execution_count": 18,
   "metadata": {},
   "outputs": [
    {
     "data": {
      "text/html": "<div class='datatable'>\n  <table class='frame'>\n  <thead>\n    <tr class='colnames'><td class='row_index'></td><th>sleep_total</th><th>sleep_rem</th><th>sleep_cycle</th><th>awake</th><th>brainwt</th><th>bodywt</th></tr>\n    <tr class='coltypes'><td class='row_index'></td><td class='float' title='float64'>&#x25AA;&#x25AA;&#x25AA;&#x25AA;&#x25AA;&#x25AA;&#x25AA;&#x25AA;</td><td class='float' title='float64'>&#x25AA;&#x25AA;&#x25AA;&#x25AA;&#x25AA;&#x25AA;&#x25AA;&#x25AA;</td><td class='float' title='float64'>&#x25AA;&#x25AA;&#x25AA;&#x25AA;&#x25AA;&#x25AA;&#x25AA;&#x25AA;</td><td class='float' title='float64'>&#x25AA;&#x25AA;&#x25AA;&#x25AA;&#x25AA;&#x25AA;&#x25AA;&#x25AA;</td><td class='float' title='float64'>&#x25AA;&#x25AA;&#x25AA;&#x25AA;&#x25AA;&#x25AA;&#x25AA;&#x25AA;</td><td class='float' title='float64'>&#x25AA;&#x25AA;&#x25AA;&#x25AA;&#x25AA;&#x25AA;&#x25AA;&#x25AA;</td></tr>\n  </thead>\n  <tbody>\n    <tr><td class='row_index'>0</td><td>12.1</td><td><span class=na>NA</span></td><td><span class=na>NA</span></td><td>11.9</td><td><span class=na>NA</span></td><td>50</td></tr>\n    <tr><td class='row_index'>1</td><td>17</td><td>1.8</td><td><span class=na>NA</span></td><td>7</td><td>0.0155</td><td>0.48</td></tr>\n    <tr><td class='row_index'>2</td><td>14.4</td><td>2.4</td><td><span class=na>NA</span></td><td>9.6</td><td><span class=na>NA</span></td><td>1.35</td></tr>\n    <tr><td class='row_index'>3</td><td>14.9</td><td>2.3</td><td>0.133333</td><td>9.1</td><td>0.00029</td><td>0.019</td></tr>\n    <tr><td class='row_index'>4</td><td>4</td><td>0.7</td><td>0.666667</td><td>20</td><td>0.423</td><td>600</td></tr>\n  </tbody>\n  </table>\n  <div class='footer'>\n    <div class='frame_dimensions'>5 rows &times; 6 columns</div>\n  </div>\n</div>\n",
      "text/plain": "<Frame#7f9b4d2112b0 5x6>"
     },
     "execution_count": 18,
     "metadata": {},
     "output_type": "execute_result"
    }
   ],
   "source": [
    "DT[:, [int, float]].head(5)"
   ]
  },
  {
   "cell_type": "markdown",
   "metadata": {},
   "source": [
    "You can also pass datatable's [stype](https://datatable.readthedocs.io/en/latest/api/stype.html#) or [ltype](https://datatable.readthedocs.io/en/latest/api/ltype.html#) data types:"
   ]
  },
  {
   "cell_type": "code",
   "execution_count": 19,
   "metadata": {},
   "outputs": [
    {
     "data": {
      "text/html": "<div class='datatable'>\n  <table class='frame'>\n  <thead>\n    <tr class='colnames'><td class='row_index'></td><th>name</th><th>genus</th><th>vore</th><th>order</th><th>conservation</th></tr>\n    <tr class='coltypes'><td class='row_index'></td><td class='str' title='str32'>&#x25AA;&#x25AA;&#x25AA;&#x25AA;</td><td class='str' title='str32'>&#x25AA;&#x25AA;&#x25AA;&#x25AA;</td><td class='str' title='str32'>&#x25AA;&#x25AA;&#x25AA;&#x25AA;</td><td class='str' title='str32'>&#x25AA;&#x25AA;&#x25AA;&#x25AA;</td><td class='str' title='str32'>&#x25AA;&#x25AA;&#x25AA;&#x25AA;</td></tr>\n  </thead>\n  <tbody>\n    <tr><td class='row_index'>0</td><td>Cheetah</td><td>Acinonyx</td><td>carni</td><td>Carnivora</td><td>lc</td></tr>\n    <tr><td class='row_index'>1</td><td>Owl monkey</td><td>Aotus</td><td>omni</td><td>Primates</td><td><span class=na>NA</span></td></tr>\n    <tr><td class='row_index'>2</td><td>Mountain beaver</td><td>Aplodontia</td><td>herbi</td><td>Rodentia</td><td>nt</td></tr>\n    <tr><td class='row_index'>3</td><td>Greater short-tailed shrew</td><td>Blarina</td><td>omni</td><td>Soricomorpha</td><td>lc</td></tr>\n    <tr><td class='row_index'>4</td><td>Cow</td><td>Bos</td><td>herbi</td><td>Artiodactyla</td><td>domesticated</td></tr>\n  </tbody>\n  </table>\n  <div class='footer'>\n    <div class='frame_dimensions'>5 rows &times; 5 columns</div>\n  </div>\n</div>\n",
      "text/plain": "<Frame#7f9b4dff7c70 5x5>"
     },
     "execution_count": 19,
     "metadata": {},
     "output_type": "execute_result"
    }
   ],
   "source": [
    "DT[:, ltype.str].head(5)"
   ]
  },
  {
   "cell_type": "code",
   "execution_count": 20,
   "metadata": {},
   "outputs": [
    {
     "data": {
      "text/html": "<div class='datatable'>\n  <table class='frame'>\n  <thead>\n    <tr class='colnames'><td class='row_index'></td><th>sleep_total</th><th>sleep_rem</th><th>sleep_cycle</th><th>awake</th><th>brainwt</th><th>bodywt</th></tr>\n    <tr class='coltypes'><td class='row_index'></td><td class='float' title='float64'>&#x25AA;&#x25AA;&#x25AA;&#x25AA;&#x25AA;&#x25AA;&#x25AA;&#x25AA;</td><td class='float' title='float64'>&#x25AA;&#x25AA;&#x25AA;&#x25AA;&#x25AA;&#x25AA;&#x25AA;&#x25AA;</td><td class='float' title='float64'>&#x25AA;&#x25AA;&#x25AA;&#x25AA;&#x25AA;&#x25AA;&#x25AA;&#x25AA;</td><td class='float' title='float64'>&#x25AA;&#x25AA;&#x25AA;&#x25AA;&#x25AA;&#x25AA;&#x25AA;&#x25AA;</td><td class='float' title='float64'>&#x25AA;&#x25AA;&#x25AA;&#x25AA;&#x25AA;&#x25AA;&#x25AA;&#x25AA;</td><td class='float' title='float64'>&#x25AA;&#x25AA;&#x25AA;&#x25AA;&#x25AA;&#x25AA;&#x25AA;&#x25AA;</td></tr>\n  </thead>\n  <tbody>\n    <tr><td class='row_index'>0</td><td>12.1</td><td><span class=na>NA</span></td><td><span class=na>NA</span></td><td>11.9</td><td><span class=na>NA</span></td><td>50</td></tr>\n    <tr><td class='row_index'>1</td><td>17</td><td>1.8</td><td><span class=na>NA</span></td><td>7</td><td>0.0155</td><td>0.48</td></tr>\n    <tr><td class='row_index'>2</td><td>14.4</td><td>2.4</td><td><span class=na>NA</span></td><td>9.6</td><td><span class=na>NA</span></td><td>1.35</td></tr>\n    <tr><td class='row_index'>3</td><td>14.9</td><td>2.3</td><td>0.133333</td><td>9.1</td><td>0.00029</td><td>0.019</td></tr>\n    <tr><td class='row_index'>4</td><td>4</td><td>0.7</td><td>0.666667</td><td>20</td><td>0.423</td><td>600</td></tr>\n  </tbody>\n  </table>\n  <div class='footer'>\n    <div class='frame_dimensions'>5 rows &times; 6 columns</div>\n  </div>\n</div>\n",
      "text/plain": "<Frame#7f9b5404d430 5x6>"
     },
     "execution_count": 20,
     "metadata": {},
     "output_type": "execute_result"
    }
   ],
   "source": [
    "DT[:, stype.float64].head(5)"
   ]
  },
  {
   "cell_type": "markdown",
   "metadata": {},
   "source": [
    "You can remove columns based on their data type:"
   ]
  },
  {
   "cell_type": "code",
   "execution_count": 21,
   "metadata": {},
   "outputs": [
    {
     "data": {
      "text/html": "<div class='datatable'>\n  <table class='frame'>\n  <thead>\n    <tr class='colnames'><td class='row_index'></td><th>name</th><th>genus</th><th>vore</th><th>order</th><th>conservation</th></tr>\n    <tr class='coltypes'><td class='row_index'></td><td class='str' title='str32'>&#x25AA;&#x25AA;&#x25AA;&#x25AA;</td><td class='str' title='str32'>&#x25AA;&#x25AA;&#x25AA;&#x25AA;</td><td class='str' title='str32'>&#x25AA;&#x25AA;&#x25AA;&#x25AA;</td><td class='str' title='str32'>&#x25AA;&#x25AA;&#x25AA;&#x25AA;</td><td class='str' title='str32'>&#x25AA;&#x25AA;&#x25AA;&#x25AA;</td></tr>\n  </thead>\n  <tbody>\n    <tr><td class='row_index'>0</td><td>Cheetah</td><td>Acinonyx</td><td>carni</td><td>Carnivora</td><td>lc</td></tr>\n    <tr><td class='row_index'>1</td><td>Owl monkey</td><td>Aotus</td><td>omni</td><td>Primates</td><td><span class=na>NA</span></td></tr>\n    <tr><td class='row_index'>2</td><td>Mountain beaver</td><td>Aplodontia</td><td>herbi</td><td>Rodentia</td><td>nt</td></tr>\n    <tr><td class='row_index'>3</td><td>Greater short-tailed shrew</td><td>Blarina</td><td>omni</td><td>Soricomorpha</td><td>lc</td></tr>\n    <tr><td class='row_index'>4</td><td>Cow</td><td>Bos</td><td>herbi</td><td>Artiodactyla</td><td>domesticated</td></tr>\n  </tbody>\n  </table>\n  <div class='footer'>\n    <div class='frame_dimensions'>5 rows &times; 5 columns</div>\n  </div>\n</div>\n",
      "text/plain": "<Frame#7f9b55940c70 5x5>"
     },
     "execution_count": 21,
     "metadata": {},
     "output_type": "execute_result"
    }
   ],
   "source": [
    "columns_to_remove = [f[int, float]]\n",
    "DT[:, f[:].remove(columns_to_remove)].head(5)"
   ]
  },
  {
   "cell_type": "markdown",
   "metadata": {},
   "source": [
    "An alternative is to preselect the columns you intend to keep:"
   ]
  },
  {
   "cell_type": "code",
   "execution_count": 22,
   "metadata": {},
   "outputs": [
    {
     "data": {
      "text/html": "<div class='datatable'>\n  <table class='frame'>\n  <thead>\n    <tr class='colnames'><td class='row_index'></td><th>name</th><th>genus</th><th>vore</th><th>order</th><th>conservation</th></tr>\n    <tr class='coltypes'><td class='row_index'></td><td class='str' title='str32'>&#x25AA;&#x25AA;&#x25AA;&#x25AA;</td><td class='str' title='str32'>&#x25AA;&#x25AA;&#x25AA;&#x25AA;</td><td class='str' title='str32'>&#x25AA;&#x25AA;&#x25AA;&#x25AA;</td><td class='str' title='str32'>&#x25AA;&#x25AA;&#x25AA;&#x25AA;</td><td class='str' title='str32'>&#x25AA;&#x25AA;&#x25AA;&#x25AA;</td></tr>\n  </thead>\n  <tbody>\n    <tr><td class='row_index'>0</td><td>Cheetah</td><td>Acinonyx</td><td>carni</td><td>Carnivora</td><td>lc</td></tr>\n    <tr><td class='row_index'>1</td><td>Owl monkey</td><td>Aotus</td><td>omni</td><td>Primates</td><td><span class=na>NA</span></td></tr>\n    <tr><td class='row_index'>2</td><td>Mountain beaver</td><td>Aplodontia</td><td>herbi</td><td>Rodentia</td><td>nt</td></tr>\n    <tr><td class='row_index'>3</td><td>Greater short-tailed shrew</td><td>Blarina</td><td>omni</td><td>Soricomorpha</td><td>lc</td></tr>\n    <tr><td class='row_index'>4</td><td>Cow</td><td>Bos</td><td>herbi</td><td>Artiodactyla</td><td>domesticated</td></tr>\n  </tbody>\n  </table>\n  <div class='footer'>\n    <div class='frame_dimensions'>5 rows &times; 5 columns</div>\n  </div>\n</div>\n",
      "text/plain": "<Frame#7f9b558d1b30 5x5>"
     },
     "execution_count": 22,
     "metadata": {},
     "output_type": "execute_result"
    }
   ],
   "source": [
    "# creates a list of booleans\n",
    "columns_to_select = [\n",
    "    dtype not in (ltype.int, ltype.real)\n",
    "    for name, dtype in zip(DT.names, DT.ltypes) \n",
    "]\n",
    "\n",
    "DT[:, columns_to_select].head(5)"
   ]
  },
  {
   "cell_type": "markdown",
   "metadata": {},
   "source": [
    "You could also iterate through the frame and check each column's type, before recombining with [cbind](https://datatable.readthedocs.io/en/latest/api/dt/cbind.html):"
   ]
  },
  {
   "cell_type": "code",
   "execution_count": 23,
   "metadata": {},
   "outputs": [
    {
     "data": {
      "text/html": "<div class='datatable'>\n  <table class='frame'>\n  <thead>\n    <tr class='colnames'><td class='row_index'></td><th>name</th><th>genus</th><th>vore</th><th>order</th><th>conservation</th></tr>\n    <tr class='coltypes'><td class='row_index'></td><td class='str' title='str32'>&#x25AA;&#x25AA;&#x25AA;&#x25AA;</td><td class='str' title='str32'>&#x25AA;&#x25AA;&#x25AA;&#x25AA;</td><td class='str' title='str32'>&#x25AA;&#x25AA;&#x25AA;&#x25AA;</td><td class='str' title='str32'>&#x25AA;&#x25AA;&#x25AA;&#x25AA;</td><td class='str' title='str32'>&#x25AA;&#x25AA;&#x25AA;&#x25AA;</td></tr>\n  </thead>\n  <tbody>\n    <tr><td class='row_index'>0</td><td>Cheetah</td><td>Acinonyx</td><td>carni</td><td>Carnivora</td><td>lc</td></tr>\n    <tr><td class='row_index'>1</td><td>Owl monkey</td><td>Aotus</td><td>omni</td><td>Primates</td><td><span class=na>NA</span></td></tr>\n    <tr><td class='row_index'>2</td><td>Mountain beaver</td><td>Aplodontia</td><td>herbi</td><td>Rodentia</td><td>nt</td></tr>\n    <tr><td class='row_index'>3</td><td>Greater short-tailed shrew</td><td>Blarina</td><td>omni</td><td>Soricomorpha</td><td>lc</td></tr>\n    <tr><td class='row_index'>4</td><td>Cow</td><td>Bos</td><td>herbi</td><td>Artiodactyla</td><td>domesticated</td></tr>\n  </tbody>\n  </table>\n  <div class='footer'>\n    <div class='frame_dimensions'>5 rows &times; 5 columns</div>\n  </div>\n</div>\n",
      "text/plain": "<Frame#7f9b558b6230 5x5>"
     },
     "execution_count": 23,
     "metadata": {},
     "output_type": "execute_result"
    }
   ],
   "source": [
    "matching_frames = [frame for frame in DT if frame.ltypes[0] not in (ltype.real, ltype.int)]\n",
    "dt.cbind(matching_frames).head(5)\n"
   ]
  },
  {
   "cell_type": "markdown",
   "metadata": {},
   "source": [
    "Each column in a frame is treated as a frame, allowing for the list comprehension above.\n",
    "\n",
    "You could also pass the `matching frames` to the `j` section of `DT`:"
   ]
  },
  {
   "cell_type": "code",
   "execution_count": 24,
   "metadata": {},
   "outputs": [
    {
     "data": {
      "text/html": "<div class='datatable'>\n  <table class='frame'>\n  <thead>\n    <tr class='colnames'><td class='row_index'></td><th>name</th><th>genus</th><th>vore</th><th>order</th><th>conservation</th></tr>\n    <tr class='coltypes'><td class='row_index'></td><td class='str' title='str32'>&#x25AA;&#x25AA;&#x25AA;&#x25AA;</td><td class='str' title='str32'>&#x25AA;&#x25AA;&#x25AA;&#x25AA;</td><td class='str' title='str32'>&#x25AA;&#x25AA;&#x25AA;&#x25AA;</td><td class='str' title='str32'>&#x25AA;&#x25AA;&#x25AA;&#x25AA;</td><td class='str' title='str32'>&#x25AA;&#x25AA;&#x25AA;&#x25AA;</td></tr>\n  </thead>\n  <tbody>\n    <tr><td class='row_index'>0</td><td>Cheetah</td><td>Acinonyx</td><td>carni</td><td>Carnivora</td><td>lc</td></tr>\n    <tr><td class='row_index'>1</td><td>Owl monkey</td><td>Aotus</td><td>omni</td><td>Primates</td><td><span class=na>NA</span></td></tr>\n    <tr><td class='row_index'>2</td><td>Mountain beaver</td><td>Aplodontia</td><td>herbi</td><td>Rodentia</td><td>nt</td></tr>\n    <tr><td class='row_index'>3</td><td>Greater short-tailed shrew</td><td>Blarina</td><td>omni</td><td>Soricomorpha</td><td>lc</td></tr>\n    <tr><td class='row_index'>4</td><td>Cow</td><td>Bos</td><td>herbi</td><td>Artiodactyla</td><td>domesticated</td></tr>\n  </tbody>\n  </table>\n  <div class='footer'>\n    <div class='frame_dimensions'>5 rows &times; 5 columns</div>\n  </div>\n</div>\n",
      "text/plain": "<Frame#7f9b4d0693f0 5x5>"
     },
     "execution_count": 24,
     "metadata": {},
     "output_type": "execute_result"
    }
   ],
   "source": [
    "DT[:, matching_frames].head(5)"
   ]
  },
  {
   "cell_type": "markdown",
   "metadata": {},
   "source": [
    "### Selecting columns by logical expressions"
   ]
  },
  {
   "cell_type": "markdown",
   "metadata": {},
   "source": [
    "The ideas expressed in the previous section allows for more nifty column selection. \n",
    "\n",
    "Say we wish to select columns that are numeric, and have a mean greater than 10:"
   ]
  },
  {
   "cell_type": "code",
   "execution_count": 25,
   "metadata": {},
   "outputs": [
    {
     "data": {
      "text/html": "<div class='datatable'>\n  <table class='frame'>\n  <thead>\n    <tr class='colnames'><td class='row_index'></td><th>sleep_total</th><th>awake</th><th>bodywt</th></tr>\n    <tr class='coltypes'><td class='row_index'></td><td class='float' title='float64'>&#x25AA;&#x25AA;&#x25AA;&#x25AA;&#x25AA;&#x25AA;&#x25AA;&#x25AA;</td><td class='float' title='float64'>&#x25AA;&#x25AA;&#x25AA;&#x25AA;&#x25AA;&#x25AA;&#x25AA;&#x25AA;</td><td class='float' title='float64'>&#x25AA;&#x25AA;&#x25AA;&#x25AA;&#x25AA;&#x25AA;&#x25AA;&#x25AA;</td></tr>\n  </thead>\n  <tbody>\n    <tr><td class='row_index'>0</td><td>12.1</td><td>11.9</td><td>50</td></tr>\n    <tr><td class='row_index'>1</td><td>17</td><td>7</td><td>0.48</td></tr>\n    <tr><td class='row_index'>2</td><td>14.4</td><td>9.6</td><td>1.35</td></tr>\n    <tr><td class='row_index'>3</td><td>14.9</td><td>9.1</td><td>0.019</td></tr>\n    <tr><td class='row_index'>4</td><td>4</td><td>20</td><td>600</td></tr>\n  </tbody>\n  </table>\n  <div class='footer'>\n    <div class='frame_dimensions'>5 rows &times; 3 columns</div>\n  </div>\n</div>\n",
      "text/plain": "<Frame#7f9b4d06a570 5x3>"
     },
     "execution_count": 25,
     "metadata": {},
     "output_type": "execute_result"
    }
   ],
   "source": [
    "# returns a list of booleans\n",
    "columns_to_select = [\n",
    "    ltype in (ltype.real, ltype.int) and DT[name].mean()[0, 0] > 10\n",
    "    for name, ltype in zip(DT.names, DT.ltypes)\n",
    "]\n",
    "DT[:, columns_to_select].head(5)"
   ]
  },
  {
   "cell_type": "markdown",
   "metadata": {},
   "source": [
    "The code above preselects the columns before passing it to datatable. Note the use of `[0,0]` to return a scalar value; this allows us to compare with the scalar value `10`.\n",
    "\n",
    "Alternatively, in the list comprehension, instead of a list of booleans, you could return the column names:\n"
   ]
  },
  {
   "cell_type": "code",
   "execution_count": 26,
   "metadata": {},
   "outputs": [
    {
     "data": {
      "text/html": "<div class='datatable'>\n  <table class='frame'>\n  <thead>\n    <tr class='colnames'><td class='row_index'></td><th>sleep_total</th><th>awake</th><th>bodywt</th></tr>\n    <tr class='coltypes'><td class='row_index'></td><td class='float' title='float64'>&#x25AA;&#x25AA;&#x25AA;&#x25AA;&#x25AA;&#x25AA;&#x25AA;&#x25AA;</td><td class='float' title='float64'>&#x25AA;&#x25AA;&#x25AA;&#x25AA;&#x25AA;&#x25AA;&#x25AA;&#x25AA;</td><td class='float' title='float64'>&#x25AA;&#x25AA;&#x25AA;&#x25AA;&#x25AA;&#x25AA;&#x25AA;&#x25AA;</td></tr>\n  </thead>\n  <tbody>\n    <tr><td class='row_index'>0</td><td>12.1</td><td>11.9</td><td>50</td></tr>\n    <tr><td class='row_index'>1</td><td>17</td><td>7</td><td>0.48</td></tr>\n    <tr><td class='row_index'>2</td><td>14.4</td><td>9.6</td><td>1.35</td></tr>\n    <tr><td class='row_index'>3</td><td>14.9</td><td>9.1</td><td>0.019</td></tr>\n    <tr><td class='row_index'>4</td><td>4</td><td>20</td><td>600</td></tr>\n  </tbody>\n  </table>\n  <div class='footer'>\n    <div class='frame_dimensions'>5 rows &times; 3 columns</div>\n  </div>\n</div>\n",
      "text/plain": "<Frame#7f9b4d06adf0 5x3>"
     },
     "execution_count": 26,
     "metadata": {},
     "output_type": "execute_result"
    }
   ],
   "source": [
    "columns_to_select = [\n",
    "    name\n",
    "    for name, ltype in zip(DT.names, DT.ltypes)\n",
    "    if ltype in (ltype.real, ltype.int) and DT[name].mean()[0, 0] > 10\n",
    "]\n",
    "DT[:, columns_to_select].head(5)"
   ]
  },
  {
   "cell_type": "markdown",
   "metadata": {},
   "source": [
    "\n",
    "You could also iterate through the frame in a list comprehension and check each column, before recombining with [cbind](https://datatable.readthedocs.io/en/latest/api/dt/cbind.html):"
   ]
  },
  {
   "cell_type": "code",
   "execution_count": 27,
   "metadata": {},
   "outputs": [
    {
     "data": {
      "text/html": "<div class='datatable'>\n  <table class='frame'>\n  <thead>\n    <tr class='colnames'><td class='row_index'></td><th>sleep_total</th><th>awake</th><th>bodywt</th></tr>\n    <tr class='coltypes'><td class='row_index'></td><td class='float' title='float64'>&#x25AA;&#x25AA;&#x25AA;&#x25AA;&#x25AA;&#x25AA;&#x25AA;&#x25AA;</td><td class='float' title='float64'>&#x25AA;&#x25AA;&#x25AA;&#x25AA;&#x25AA;&#x25AA;&#x25AA;&#x25AA;</td><td class='float' title='float64'>&#x25AA;&#x25AA;&#x25AA;&#x25AA;&#x25AA;&#x25AA;&#x25AA;&#x25AA;</td></tr>\n  </thead>\n  <tbody>\n    <tr><td class='row_index'>0</td><td>12.1</td><td>11.9</td><td>50</td></tr>\n    <tr><td class='row_index'>1</td><td>17</td><td>7</td><td>0.48</td></tr>\n    <tr><td class='row_index'>2</td><td>14.4</td><td>9.6</td><td>1.35</td></tr>\n    <tr><td class='row_index'>3</td><td>14.9</td><td>9.1</td><td>0.019</td></tr>\n    <tr><td class='row_index'>4</td><td>4</td><td>20</td><td>600</td></tr>\n  </tbody>\n  </table>\n  <div class='footer'>\n    <div class='frame_dimensions'>5 rows &times; 3 columns</div>\n  </div>\n</div>\n",
      "text/plain": "<Frame#7f9b558d7330 5x3>"
     },
     "execution_count": 27,
     "metadata": {},
     "output_type": "execute_result"
    }
   ],
   "source": [
    "matching_frames = [frame for frame in DT \n",
    "                    if frame.ltypes[0] in (ltype.int, ltype.real) \n",
    "                    and frame.mean()[0,0] > 10]\n",
    "dt.cbind(matching_frames).head(5)"
   ]
  },
  {
   "cell_type": "markdown",
   "metadata": {},
   "source": [
    "Instead of recombining with [cbind](https://datatable.readthedocs.io/en/latest/api/dt/cbind.html), you could pass the `matching_frames` to the ``j`` section:"
   ]
  },
  {
   "cell_type": "code",
   "execution_count": 28,
   "metadata": {},
   "outputs": [
    {
     "data": {
      "text/html": "<div class='datatable'>\n  <table class='frame'>\n  <thead>\n    <tr class='colnames'><td class='row_index'></td><th>sleep_total</th><th>awake</th><th>bodywt</th></tr>\n    <tr class='coltypes'><td class='row_index'></td><td class='float' title='float64'>&#x25AA;&#x25AA;&#x25AA;&#x25AA;&#x25AA;&#x25AA;&#x25AA;&#x25AA;</td><td class='float' title='float64'>&#x25AA;&#x25AA;&#x25AA;&#x25AA;&#x25AA;&#x25AA;&#x25AA;&#x25AA;</td><td class='float' title='float64'>&#x25AA;&#x25AA;&#x25AA;&#x25AA;&#x25AA;&#x25AA;&#x25AA;&#x25AA;</td></tr>\n  </thead>\n  <tbody>\n    <tr><td class='row_index'>0</td><td>12.1</td><td>11.9</td><td>50</td></tr>\n    <tr><td class='row_index'>1</td><td>17</td><td>7</td><td>0.48</td></tr>\n    <tr><td class='row_index'>2</td><td>14.4</td><td>9.6</td><td>1.35</td></tr>\n    <tr><td class='row_index'>3</td><td>14.9</td><td>9.1</td><td>0.019</td></tr>\n    <tr><td class='row_index'>4</td><td>4</td><td>20</td><td>600</td></tr>\n  </tbody>\n  </table>\n  <div class='footer'>\n    <div class='frame_dimensions'>5 rows &times; 3 columns</div>\n  </div>\n</div>\n",
      "text/plain": "<Frame#7f9b4d06eb30 5x3>"
     },
     "execution_count": 28,
     "metadata": {},
     "output_type": "execute_result"
    }
   ],
   "source": [
    "DT[:, matching_frames].head(5)"
   ]
  },
  {
   "cell_type": "markdown",
   "metadata": {},
   "source": [
    "Let's look at another example, where we select only columns where the number of distinct values is less than 10:"
   ]
  },
  {
   "cell_type": "code",
   "execution_count": 29,
   "metadata": {},
   "outputs": [
    {
     "data": {
      "text/html": "<div class='datatable'>\n  <table class='frame'>\n  <thead>\n    <tr class='colnames'><td class='row_index'></td><th>vore</th><th>conservation</th></tr>\n    <tr class='coltypes'><td class='row_index'></td><td class='str' title='str32'>&#x25AA;&#x25AA;&#x25AA;&#x25AA;</td><td class='str' title='str32'>&#x25AA;&#x25AA;&#x25AA;&#x25AA;</td></tr>\n  </thead>\n  <tbody>\n    <tr><td class='row_index'>0</td><td>carni</td><td>lc</td></tr>\n    <tr><td class='row_index'>1</td><td>omni</td><td><span class=na>NA</span></td></tr>\n    <tr><td class='row_index'>2</td><td>herbi</td><td>nt</td></tr>\n    <tr><td class='row_index'>3</td><td>omni</td><td>lc</td></tr>\n    <tr><td class='row_index'>4</td><td>herbi</td><td>domesticated</td></tr>\n  </tbody>\n  </table>\n  <div class='footer'>\n    <div class='frame_dimensions'>5 rows &times; 2 columns</div>\n  </div>\n</div>\n",
      "text/plain": "<Frame#7f9b4d0701b0 5x2>"
     },
     "execution_count": 29,
     "metadata": {},
     "output_type": "execute_result"
    }
   ],
   "source": [
    "# returns a list of booleans\n",
    "columns_to_select = [frame.nunique()[0, 0] < 10 for frame in DT]\n",
    "DT[:, columns_to_select].head(5)"
   ]
  },
  {
   "cell_type": "code",
   "execution_count": 30,
   "metadata": {},
   "outputs": [
    {
     "data": {
      "text/html": "<div class='datatable'>\n  <table class='frame'>\n  <thead>\n    <tr class='colnames'><td class='row_index'></td><th>vore</th><th>conservation</th></tr>\n    <tr class='coltypes'><td class='row_index'></td><td class='str' title='str32'>&#x25AA;&#x25AA;&#x25AA;&#x25AA;</td><td class='str' title='str32'>&#x25AA;&#x25AA;&#x25AA;&#x25AA;</td></tr>\n  </thead>\n  <tbody>\n    <tr><td class='row_index'>0</td><td>carni</td><td>lc</td></tr>\n    <tr><td class='row_index'>1</td><td>omni</td><td><span class=na>NA</span></td></tr>\n    <tr><td class='row_index'>2</td><td>herbi</td><td>nt</td></tr>\n    <tr><td class='row_index'>3</td><td>omni</td><td>lc</td></tr>\n    <tr><td class='row_index'>4</td><td>herbi</td><td>domesticated</td></tr>\n  </tbody>\n  </table>\n  <div class='footer'>\n    <div class='frame_dimensions'>5 rows &times; 2 columns</div>\n  </div>\n</div>\n",
      "text/plain": "<Frame#7f9b4d070930 5x2>"
     },
     "execution_count": 30,
     "metadata": {},
     "output_type": "execute_result"
    }
   ],
   "source": [
    "matching_frames = [frame for frame in DT if frame.nunique()[0,0] < 10]\n",
    "dt.cbind(matching_frames).head(5)"
   ]
  },
  {
   "cell_type": "markdown",
   "metadata": {},
   "source": [
    "Or pass `matching_frames` to the `j` section in `DT`:"
   ]
  },
  {
   "cell_type": "code",
   "execution_count": 31,
   "metadata": {},
   "outputs": [
    {
     "data": {
      "text/html": "<div class='datatable'>\n  <table class='frame'>\n  <thead>\n    <tr class='colnames'><td class='row_index'></td><th>vore</th><th>conservation</th></tr>\n    <tr class='coltypes'><td class='row_index'></td><td class='str' title='str32'>&#x25AA;&#x25AA;&#x25AA;&#x25AA;</td><td class='str' title='str32'>&#x25AA;&#x25AA;&#x25AA;&#x25AA;</td></tr>\n  </thead>\n  <tbody>\n    <tr><td class='row_index'>0</td><td>carni</td><td>lc</td></tr>\n    <tr><td class='row_index'>1</td><td>omni</td><td><span class=na>NA</span></td></tr>\n    <tr><td class='row_index'>2</td><td>herbi</td><td>nt</td></tr>\n    <tr><td class='row_index'>3</td><td>omni</td><td>lc</td></tr>\n    <tr><td class='row_index'>4</td><td>herbi</td><td>domesticated</td></tr>\n  </tbody>\n  </table>\n  <div class='footer'>\n    <div class='frame_dimensions'>5 rows &times; 2 columns</div>\n  </div>\n</div>\n",
      "text/plain": "<Frame#7f9b4d070e70 5x2>"
     },
     "execution_count": 31,
     "metadata": {},
     "output_type": "execute_result"
    }
   ],
   "source": [
    "DT[:, matching_frames].head(5)"
   ]
  },
  {
   "cell_type": "markdown",
   "metadata": {},
   "source": [
    "## **Reordering Columns**"
   ]
  },
  {
   "cell_type": "markdown",
   "metadata": {},
   "source": [
    "You can select columns in the order that you want:"
   ]
  },
  {
   "cell_type": "code",
   "execution_count": 32,
   "metadata": {},
   "outputs": [
    {
     "data": {
      "text/html": "<div class='datatable'>\n  <table class='frame'>\n  <thead>\n    <tr class='colnames'><td class='row_index'></td><th>conservation</th><th>sleep_total</th><th>name</th></tr>\n    <tr class='coltypes'><td class='row_index'></td><td class='str' title='str32'>&#x25AA;&#x25AA;&#x25AA;&#x25AA;</td><td class='float' title='float64'>&#x25AA;&#x25AA;&#x25AA;&#x25AA;&#x25AA;&#x25AA;&#x25AA;&#x25AA;</td><td class='str' title='str32'>&#x25AA;&#x25AA;&#x25AA;&#x25AA;</td></tr>\n  </thead>\n  <tbody>\n    <tr><td class='row_index'>0</td><td>lc</td><td>12.1</td><td>Cheetah</td></tr>\n    <tr><td class='row_index'>1</td><td><span class=na>NA</span></td><td>17</td><td>Owl monkey</td></tr>\n    <tr><td class='row_index'>2</td><td>nt</td><td>14.4</td><td>Mountain beaver</td></tr>\n    <tr><td class='row_index'>3</td><td>lc</td><td>14.9</td><td>Greater short-tailed shrew</td></tr>\n    <tr><td class='row_index'>4</td><td>domesticated</td><td>4</td><td>Cow</td></tr>\n  </tbody>\n  </table>\n  <div class='footer'>\n    <div class='frame_dimensions'>5 rows &times; 3 columns</div>\n  </div>\n</div>\n",
      "text/plain": "<Frame#7f9b4d077770 5x3>"
     },
     "execution_count": 32,
     "metadata": {},
     "output_type": "execute_result"
    }
   ],
   "source": [
    "columns_to_select = ['conservation', 'sleep_total', 'name']\n",
    "DT[:, columns_to_select].head(5)"
   ]
  },
  {
   "cell_type": "markdown",
   "metadata": {},
   "source": [
    "To move some columns to the front, you could write a function to cover that:"
   ]
  },
  {
   "cell_type": "code",
   "execution_count": 33,
   "metadata": {},
   "outputs": [],
   "source": [
    "def move_to_the_front(frame, front_columns):\n",
    "    column_names = list(frame.names)\n",
    "    for name in front_columns:\n",
    "        column_names.remove(name)\n",
    "    front_columns.extend(column_names)\n",
    "    return front_columns"
   ]
  },
  {
   "cell_type": "code",
   "execution_count": 34,
   "metadata": {},
   "outputs": [
    {
     "data": {
      "text/html": "<div class='datatable'>\n  <table class='frame'>\n  <thead>\n    <tr class='colnames'><td class='row_index'></td><th>conservation</th><th>sleep_total</th><th>name</th><th>genus</th><th>vore</th><th>order</th><th>sleep_rem</th><th>sleep_cycle</th><th>awake</th><th>brainwt</th><th>bodywt</th></tr>\n    <tr class='coltypes'><td class='row_index'></td><td class='str' title='str32'>&#x25AA;&#x25AA;&#x25AA;&#x25AA;</td><td class='float' title='float64'>&#x25AA;&#x25AA;&#x25AA;&#x25AA;&#x25AA;&#x25AA;&#x25AA;&#x25AA;</td><td class='str' title='str32'>&#x25AA;&#x25AA;&#x25AA;&#x25AA;</td><td class='str' title='str32'>&#x25AA;&#x25AA;&#x25AA;&#x25AA;</td><td class='str' title='str32'>&#x25AA;&#x25AA;&#x25AA;&#x25AA;</td><td class='str' title='str32'>&#x25AA;&#x25AA;&#x25AA;&#x25AA;</td><td class='float' title='float64'>&#x25AA;&#x25AA;&#x25AA;&#x25AA;&#x25AA;&#x25AA;&#x25AA;&#x25AA;</td><td class='float' title='float64'>&#x25AA;&#x25AA;&#x25AA;&#x25AA;&#x25AA;&#x25AA;&#x25AA;&#x25AA;</td><td class='float' title='float64'>&#x25AA;&#x25AA;&#x25AA;&#x25AA;&#x25AA;&#x25AA;&#x25AA;&#x25AA;</td><td class='float' title='float64'>&#x25AA;&#x25AA;&#x25AA;&#x25AA;&#x25AA;&#x25AA;&#x25AA;&#x25AA;</td><td class='float' title='float64'>&#x25AA;&#x25AA;&#x25AA;&#x25AA;&#x25AA;&#x25AA;&#x25AA;&#x25AA;</td></tr>\n  </thead>\n  <tbody>\n    <tr><td class='row_index'>0</td><td>lc</td><td>12.1</td><td>Cheetah</td><td>Acinonyx</td><td>carni</td><td>Carnivora</td><td><span class=na>NA</span></td><td><span class=na>NA</span></td><td>11.9</td><td><span class=na>NA</span></td><td>50</td></tr>\n    <tr><td class='row_index'>1</td><td><span class=na>NA</span></td><td>17</td><td>Owl monkey</td><td>Aotus</td><td>omni</td><td>Primates</td><td>1.8</td><td><span class=na>NA</span></td><td>7</td><td>0.0155</td><td>0.48</td></tr>\n    <tr><td class='row_index'>2</td><td>nt</td><td>14.4</td><td>Mountain beaver</td><td>Aplodontia</td><td>herbi</td><td>Rodentia</td><td>2.4</td><td><span class=na>NA</span></td><td>9.6</td><td><span class=na>NA</span></td><td>1.35</td></tr>\n    <tr><td class='row_index'>3</td><td>lc</td><td>14.9</td><td>Greater short-tailed shrew</td><td>Blarina</td><td>omni</td><td>Soricomorpha</td><td>2.3</td><td>0.133333</td><td>9.1</td><td>0.00029</td><td>0.019</td></tr>\n    <tr><td class='row_index'>4</td><td>domesticated</td><td>4</td><td>Cow</td><td>Bos</td><td>herbi</td><td>Artiodactyla</td><td>0.7</td><td>0.666667</td><td>20</td><td>0.423</td><td>600</td></tr>\n  </tbody>\n  </table>\n  <div class='footer'>\n    <div class='frame_dimensions'>5 rows &times; 11 columns</div>\n  </div>\n</div>\n",
      "text/plain": "<Frame#7f9b4d079c70 5x11>"
     },
     "execution_count": 34,
     "metadata": {},
     "output_type": "execute_result"
    }
   ],
   "source": [
    "DT[:, move_to_the_front(DT, ['conservation', 'sleep_total'])].head(5)"
   ]
  },
  {
   "cell_type": "markdown",
   "metadata": {},
   "source": [
    "## **Column Names**"
   ]
  },
  {
   "cell_type": "markdown",
   "metadata": {},
   "source": [
    "### Renaming Columns"
   ]
  },
  {
   "cell_type": "markdown",
   "metadata": {},
   "source": [
    "Columns with new names can be created within the `j` section by passing a dictionary:"
   ]
  },
  {
   "cell_type": "code",
   "execution_count": 35,
   "metadata": {},
   "outputs": [
    {
     "data": {
      "text/html": "<div class='datatable'>\n  <table class='frame'>\n  <thead>\n    <tr class='colnames'><td class='row_index'></td><th>sleep_total</th><th>animal</th><th>extinction_threat</th></tr>\n    <tr class='coltypes'><td class='row_index'></td><td class='float' title='float64'>&#x25AA;&#x25AA;&#x25AA;&#x25AA;&#x25AA;&#x25AA;&#x25AA;&#x25AA;</td><td class='str' title='str32'>&#x25AA;&#x25AA;&#x25AA;&#x25AA;</td><td class='str' title='str32'>&#x25AA;&#x25AA;&#x25AA;&#x25AA;</td></tr>\n  </thead>\n  <tbody>\n    <tr><td class='row_index'>0</td><td>12.1</td><td>Cheetah</td><td>lc</td></tr>\n    <tr><td class='row_index'>1</td><td>17</td><td>Owl monkey</td><td><span class=na>NA</span></td></tr>\n    <tr><td class='row_index'>2</td><td>14.4</td><td>Mountain beaver</td><td>nt</td></tr>\n    <tr><td class='row_index'>3</td><td>14.9</td><td>Greater short-tailed shrew</td><td>lc</td></tr>\n    <tr><td class='row_index'>4</td><td>4</td><td>Cow</td><td>domesticated</td></tr>\n  </tbody>\n  </table>\n  <div class='footer'>\n    <div class='frame_dimensions'>5 rows &times; 3 columns</div>\n  </div>\n</div>\n",
      "text/plain": "<Frame#7f9b4d07d170 5x3>"
     },
     "execution_count": 35,
     "metadata": {},
     "output_type": "execute_result"
    }
   ],
   "source": [
    "new_names = {\"animal\": f.name, \"extinction_threat\": f.conservation}\n",
    "DT[:, f.sleep_total.extend(new_names)].head(5)"
   ]
  },
  {
   "cell_type": "markdown",
   "metadata": {},
   "source": [
    "You can also rename the columns via a dictionary that maps the old column name to the new column name, and assign it to ``DT.names``:"
   ]
  },
  {
   "cell_type": "code",
   "execution_count": 36,
   "metadata": {},
   "outputs": [
    {
     "data": {
      "text/html": "<div class='datatable'>\n  <table class='frame'>\n  <thead>\n    <tr class='colnames'><td class='row_index'></td><th>animal</th><th>sleep_total</th><th>extinction_threat</th></tr>\n    <tr class='coltypes'><td class='row_index'></td><td class='str' title='str32'>&#x25AA;&#x25AA;&#x25AA;&#x25AA;</td><td class='float' title='float64'>&#x25AA;&#x25AA;&#x25AA;&#x25AA;&#x25AA;&#x25AA;&#x25AA;&#x25AA;</td><td class='str' title='str32'>&#x25AA;&#x25AA;&#x25AA;&#x25AA;</td></tr>\n  </thead>\n  <tbody>\n    <tr><td class='row_index'>0</td><td>Cheetah</td><td>12.1</td><td>lc</td></tr>\n    <tr><td class='row_index'>1</td><td>Owl monkey</td><td>17</td><td><span class=na>NA</span></td></tr>\n    <tr><td class='row_index'>2</td><td>Mountain beaver</td><td>14.4</td><td>nt</td></tr>\n    <tr><td class='row_index'>3</td><td>Greater short-tailed shrew</td><td>14.9</td><td>lc</td></tr>\n    <tr><td class='row_index'>4</td><td>Cow</td><td>4</td><td>domesticated</td></tr>\n  </tbody>\n  </table>\n  <div class='footer'>\n    <div class='frame_dimensions'>5 rows &times; 3 columns</div>\n  </div>\n</div>\n",
      "text/plain": "<Frame#7f9b4d07dbf0 5x3>"
     },
     "execution_count": 36,
     "metadata": {},
     "output_type": "execute_result"
    }
   ],
   "source": [
    "DT_copy = DT.copy()\n",
    "DT_copy.names = {\"name\": \"animal\", \"conservation\": \"extinction_threat\"}\n",
    "DT_copy[:, ['animal', 'sleep_total', 'extinction_threat']].head(5)\n"
   ]
  },
  {
   "cell_type": "code",
   "execution_count": 37,
   "metadata": {},
   "outputs": [
    {
     "data": {
      "text/html": "<div class='datatable'>\n  <table class='frame'>\n  <thead>\n    <tr class='colnames'><td class='row_index'></td><th>animal</th><th>genus</th><th>vore</th><th>order</th><th>extinction_threat</th><th>sleep_total</th><th>sleep_rem</th><th>sleep_cycle</th><th>awake</th><th>brainwt</th><th>bodywt</th></tr>\n    <tr class='coltypes'><td class='row_index'></td><td class='str' title='str32'>&#x25AA;&#x25AA;&#x25AA;&#x25AA;</td><td class='str' title='str32'>&#x25AA;&#x25AA;&#x25AA;&#x25AA;</td><td class='str' title='str32'>&#x25AA;&#x25AA;&#x25AA;&#x25AA;</td><td class='str' title='str32'>&#x25AA;&#x25AA;&#x25AA;&#x25AA;</td><td class='str' title='str32'>&#x25AA;&#x25AA;&#x25AA;&#x25AA;</td><td class='float' title='float64'>&#x25AA;&#x25AA;&#x25AA;&#x25AA;&#x25AA;&#x25AA;&#x25AA;&#x25AA;</td><td class='float' title='float64'>&#x25AA;&#x25AA;&#x25AA;&#x25AA;&#x25AA;&#x25AA;&#x25AA;&#x25AA;</td><td class='float' title='float64'>&#x25AA;&#x25AA;&#x25AA;&#x25AA;&#x25AA;&#x25AA;&#x25AA;&#x25AA;</td><td class='float' title='float64'>&#x25AA;&#x25AA;&#x25AA;&#x25AA;&#x25AA;&#x25AA;&#x25AA;&#x25AA;</td><td class='float' title='float64'>&#x25AA;&#x25AA;&#x25AA;&#x25AA;&#x25AA;&#x25AA;&#x25AA;&#x25AA;</td><td class='float' title='float64'>&#x25AA;&#x25AA;&#x25AA;&#x25AA;&#x25AA;&#x25AA;&#x25AA;&#x25AA;</td></tr>\n  </thead>\n  <tbody>\n    <tr><td class='row_index'>0</td><td>Cheetah</td><td>Acinonyx</td><td>carni</td><td>Carnivora</td><td>lc</td><td>12.1</td><td><span class=na>NA</span></td><td><span class=na>NA</span></td><td>11.9</td><td><span class=na>NA</span></td><td>50</td></tr>\n    <tr><td class='row_index'>1</td><td>Owl monkey</td><td>Aotus</td><td>omni</td><td>Primates</td><td><span class=na>NA</span></td><td>17</td><td>1.8</td><td><span class=na>NA</span></td><td>7</td><td>0.0155</td><td>0.48</td></tr>\n    <tr><td class='row_index'>2</td><td>Mountain beaver</td><td>Aplodontia</td><td>herbi</td><td>Rodentia</td><td>nt</td><td>14.4</td><td>2.4</td><td><span class=na>NA</span></td><td>9.6</td><td><span class=na>NA</span></td><td>1.35</td></tr>\n    <tr><td class='row_index'>3</td><td>Greater short-tailed shrew</td><td>Blarina</td><td>omni</td><td>Soricomorpha</td><td>lc</td><td>14.9</td><td>2.3</td><td>0.133333</td><td>9.1</td><td>0.00029</td><td>0.019</td></tr>\n    <tr><td class='row_index'>4</td><td>Cow</td><td>Bos</td><td>herbi</td><td>Artiodactyla</td><td>domesticated</td><td>4</td><td>0.7</td><td>0.666667</td><td>20</td><td>0.423</td><td>600</td></tr>\n  </tbody>\n  </table>\n  <div class='footer'>\n    <div class='frame_dimensions'>5 rows &times; 11 columns</div>\n  </div>\n</div>\n",
      "text/plain": "<Frame#7f9b4d07e4f0 5x11>"
     },
     "execution_count": 37,
     "metadata": {},
     "output_type": "execute_result"
    }
   ],
   "source": [
    "DT_copy.head(5)"
   ]
  },
  {
   "cell_type": "markdown",
   "metadata": {},
   "source": [
    "### Reformatting all Column Names"
   ]
  },
  {
   "cell_type": "markdown",
   "metadata": {},
   "source": [
    "You can use python's string functions to reformat column names.\n",
    "\n",
    "Let's convert all column names to uppercase:"
   ]
  },
  {
   "cell_type": "code",
   "execution_count": 38,
   "metadata": {},
   "outputs": [
    {
     "data": {
      "text/html": "<div class='datatable'>\n  <table class='frame'>\n  <thead>\n    <tr class='colnames'><td class='row_index'></td><th>NAME</th><th>GENUS</th><th>VORE</th><th>ORDER</th><th>CONSERVATION</th><th>SLEEP_TOTAL</th><th>SLEEP_REM</th><th>SLEEP_CYCLE</th><th>AWAKE</th><th>BRAINWT</th><th>BODYWT</th></tr>\n    <tr class='coltypes'><td class='row_index'></td><td class='str' title='str32'>&#x25AA;&#x25AA;&#x25AA;&#x25AA;</td><td class='str' title='str32'>&#x25AA;&#x25AA;&#x25AA;&#x25AA;</td><td class='str' title='str32'>&#x25AA;&#x25AA;&#x25AA;&#x25AA;</td><td class='str' title='str32'>&#x25AA;&#x25AA;&#x25AA;&#x25AA;</td><td class='str' title='str32'>&#x25AA;&#x25AA;&#x25AA;&#x25AA;</td><td class='float' title='float64'>&#x25AA;&#x25AA;&#x25AA;&#x25AA;&#x25AA;&#x25AA;&#x25AA;&#x25AA;</td><td class='float' title='float64'>&#x25AA;&#x25AA;&#x25AA;&#x25AA;&#x25AA;&#x25AA;&#x25AA;&#x25AA;</td><td class='float' title='float64'>&#x25AA;&#x25AA;&#x25AA;&#x25AA;&#x25AA;&#x25AA;&#x25AA;&#x25AA;</td><td class='float' title='float64'>&#x25AA;&#x25AA;&#x25AA;&#x25AA;&#x25AA;&#x25AA;&#x25AA;&#x25AA;</td><td class='float' title='float64'>&#x25AA;&#x25AA;&#x25AA;&#x25AA;&#x25AA;&#x25AA;&#x25AA;&#x25AA;</td><td class='float' title='float64'>&#x25AA;&#x25AA;&#x25AA;&#x25AA;&#x25AA;&#x25AA;&#x25AA;&#x25AA;</td></tr>\n  </thead>\n  <tbody>\n    <tr><td class='row_index'>0</td><td>Cheetah</td><td>Acinonyx</td><td>carni</td><td>Carnivora</td><td>lc</td><td>12.1</td><td><span class=na>NA</span></td><td><span class=na>NA</span></td><td>11.9</td><td><span class=na>NA</span></td><td>50</td></tr>\n    <tr><td class='row_index'>1</td><td>Owl monkey</td><td>Aotus</td><td>omni</td><td>Primates</td><td><span class=na>NA</span></td><td>17</td><td>1.8</td><td><span class=na>NA</span></td><td>7</td><td>0.0155</td><td>0.48</td></tr>\n    <tr><td class='row_index'>2</td><td>Mountain beaver</td><td>Aplodontia</td><td>herbi</td><td>Rodentia</td><td>nt</td><td>14.4</td><td>2.4</td><td><span class=na>NA</span></td><td>9.6</td><td><span class=na>NA</span></td><td>1.35</td></tr>\n    <tr><td class='row_index'>3</td><td>Greater short-tailed shrew</td><td>Blarina</td><td>omni</td><td>Soricomorpha</td><td>lc</td><td>14.9</td><td>2.3</td><td>0.133333</td><td>9.1</td><td>0.00029</td><td>0.019</td></tr>\n    <tr><td class='row_index'>4</td><td>Cow</td><td>Bos</td><td>herbi</td><td>Artiodactyla</td><td>domesticated</td><td>4</td><td>0.7</td><td>0.666667</td><td>20</td><td>0.423</td><td>600</td></tr>\n  </tbody>\n  </table>\n  <div class='footer'>\n    <div class='frame_dimensions'>5 rows &times; 11 columns</div>\n  </div>\n</div>\n",
      "text/plain": "<Frame#7f9b4d0800b0 5x11>"
     },
     "execution_count": 38,
     "metadata": {},
     "output_type": "execute_result"
    }
   ],
   "source": [
    "DT_copy.names = [name.upper() for name in DT.names] # or list(map(str.upper, DT.names))\n",
    "DT_copy.head(5)"
   ]
  },
  {
   "cell_type": "markdown",
   "metadata": {},
   "source": [
    "Resources: \n",
    "\n",
    "- [datatable docs](https://datatable.readthedocs.io/en/latest/)\n",
    "- I am using the latest dev version of datatable ``1.0.0a0+build.1612992576``"
   ]
  }
 ],
 "metadata": {
  "kernelspec": {
   "display_name": "Python 3",
   "language": "python",
   "name": "python3"
  },
  "language_info": {
   "codemirror_mode": {
    "name": "ipython",
    "version": 3
   },
   "file_extension": ".py",
   "mimetype": "text/x-python",
   "name": "python",
   "nbconvert_exporter": "python",
   "pygments_lexer": "ipython3",
   "version": "3.9.1"
  }
 },
 "nbformat": 4,
 "nbformat_minor": 4
}