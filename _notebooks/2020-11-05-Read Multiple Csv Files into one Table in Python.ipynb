{
 "cells": [
  {
   "cell_type": "markdown",
   "metadata": {},
   "source": [
    "# \"Read Multiple CSV Files into one Frame in Python\"\n",
    "> \"Explore in Pandas and Python datatable\"\n",
    "\n",
    "- toc: true\n",
    "- branch: master\n",
    "- badges: true\n",
    "- hide_binder_badge: True\n",
    "- hide_colab_badge: True\n",
    "- comments: true\n",
    "- author: Samuel Oranyeli\n",
    "- categories: [python, py-datatable, pandas]\n",
    "- image: images/some_folder/your_image.png\n",
    "- hide: false\n",
    "- search_exclude: true\n",
    "- metadata_key1: \"pandas\"\n",
    "- metadata_key2: \"datatable\""
   ]
  },
  {
   "cell_type": "code",
   "execution_count": 1,
   "metadata": {},
   "outputs": [
    {
     "data": {
      "text/html": [
       "<style type='text/css'>\n",
       ".datatable table.frame { margin-bottom: 0; }\n",
       ".datatable table.frame thead { border-bottom: none; }\n",
       ".datatable table.frame tr.coltypes td {  color: #FFFFFF;  line-height: 6px;  padding: 0 0.5em;}\n",
       ".datatable .bool    { background: #DDDD99; }\n",
       ".datatable .object  { background: #565656; }\n",
       ".datatable .int     { background: #5D9E5D; }\n",
       ".datatable .float   { background: #4040CC; }\n",
       ".datatable .str     { background: #CC4040; }\n",
       ".datatable .row_index {  background: var(--jp-border-color3);  border-right: 1px solid var(--jp-border-color0);  color: var(--jp-ui-font-color3);  font-size: 9px;}\n",
       ".datatable .frame tr.coltypes .row_index {  background: var(--jp-border-color0);}\n",
       ".datatable th:nth-child(2) { padding-left: 12px; }\n",
       ".datatable .hellipsis {  color: var(--jp-cell-editor-border-color);}\n",
       ".datatable .vellipsis {  background: var(--jp-layout-color0);  color: var(--jp-cell-editor-border-color);}\n",
       ".datatable .na {  color: var(--jp-cell-editor-border-color);  font-size: 80%;}\n",
       ".datatable .footer { font-size: 9px; }\n",
       ".datatable .frame_dimensions {  background: var(--jp-border-color3);  border-top: 1px solid var(--jp-border-color0);  color: var(--jp-ui-font-color3);  display: inline-block;  opacity: 0.6;  padding: 1px 10px 1px 5px;}\n",
       "</style>\n"
      ],
      "text/plain": [
       "<IPython.core.display.HTML object>"
      ]
     },
     "metadata": {},
     "output_type": "display_data"
    }
   ],
   "source": [
    "import pandas as pd\n",
    "import subprocess\n",
    "from datatable import fread, iread, rbind\n",
    "from pathlib import Path\n",
    "from io import StringIO"
   ]
  },
  {
   "cell_type": "markdown",
   "metadata": {},
   "source": [
    "#### [Link to Source data](https://people.highline.edu/mgirvin/excelisfun.htm)"
   ]
  },
  {
   "cell_type": "markdown",
   "metadata": {},
   "source": [
    "## **Pandas**"
   ]
  },
  {
   "cell_type": "markdown",
   "metadata": {
    "execution": {
     "iopub.execute_input": "2020-10-31T01:26:23.474681Z",
     "iopub.status.busy": "2020-10-31T01:26:23.474464Z",
     "iopub.status.idle": "2020-10-31T01:26:23.477682Z",
     "shell.execute_reply": "2020-10-31T01:26:23.477047Z",
     "shell.execute_reply.started": "2020-10-31T01:26:23.474658Z"
    }
   },
   "source": [
    "### via read_csv"
   ]
  },
  {
   "cell_type": "code",
   "execution_count": 2,
   "metadata": {},
   "outputs": [
    {
     "data": {
      "text/html": [
       "<div>\n",
       "<style scoped>\n",
       "    .dataframe tbody tr th:only-of-type {\n",
       "        vertical-align: middle;\n",
       "    }\n",
       "\n",
       "    .dataframe tbody tr th {\n",
       "        vertical-align: top;\n",
       "    }\n",
       "\n",
       "    .dataframe thead th {\n",
       "        text-align: right;\n",
       "    }\n",
       "</style>\n",
       "<table border=\"1\" class=\"dataframe\">\n",
       "  <thead>\n",
       "    <tr style=\"text-align: right;\">\n",
       "      <th></th>\n",
       "      <th>City</th>\n",
       "      <th>Date</th>\n",
       "      <th>Sales</th>\n",
       "      <th>StoreID</th>\n",
       "    </tr>\n",
       "  </thead>\n",
       "  <tbody>\n",
       "    <tr>\n",
       "      <th>0</th>\n",
       "      <td>Portland</td>\n",
       "      <td>1/1/2014</td>\n",
       "      <td>$45.27</td>\n",
       "      <td>1002</td>\n",
       "    </tr>\n",
       "    <tr>\n",
       "      <th>1</th>\n",
       "      <td>Portland</td>\n",
       "      <td>1/1/2014</td>\n",
       "      <td>$115.61</td>\n",
       "      <td>1002</td>\n",
       "    </tr>\n",
       "    <tr>\n",
       "      <th>2</th>\n",
       "      <td>Portland</td>\n",
       "      <td>1/1/2014</td>\n",
       "      <td>$35.33</td>\n",
       "      <td>1004</td>\n",
       "    </tr>\n",
       "    <tr>\n",
       "      <th>3</th>\n",
       "      <td>Portland</td>\n",
       "      <td>1/1/2014</td>\n",
       "      <td>$20.95</td>\n",
       "      <td>1004</td>\n",
       "    </tr>\n",
       "    <tr>\n",
       "      <th>4</th>\n",
       "      <td>Portland</td>\n",
       "      <td>1/1/2014</td>\n",
       "      <td>$14.25</td>\n",
       "      <td>1004</td>\n",
       "    </tr>\n",
       "    <tr>\n",
       "      <th>...</th>\n",
       "      <td>...</td>\n",
       "      <td>...</td>\n",
       "      <td>...</td>\n",
       "      <td>...</td>\n",
       "    </tr>\n",
       "    <tr>\n",
       "      <th>216073</th>\n",
       "      <td>Tacoma</td>\n",
       "      <td>12/31/2015</td>\n",
       "      <td>$33.68</td>\n",
       "      <td>1523</td>\n",
       "    </tr>\n",
       "    <tr>\n",
       "      <th>216074</th>\n",
       "      <td>Tacoma</td>\n",
       "      <td>12/31/2015</td>\n",
       "      <td>$215.98</td>\n",
       "      <td>1521</td>\n",
       "    </tr>\n",
       "    <tr>\n",
       "      <th>216075</th>\n",
       "      <td>Tacoma</td>\n",
       "      <td>12/31/2015</td>\n",
       "      <td>$236.86</td>\n",
       "      <td>1521</td>\n",
       "    </tr>\n",
       "    <tr>\n",
       "      <th>216076</th>\n",
       "      <td>Tacoma</td>\n",
       "      <td>12/31/2015</td>\n",
       "      <td>$33.02</td>\n",
       "      <td>1522</td>\n",
       "    </tr>\n",
       "    <tr>\n",
       "      <th>216077</th>\n",
       "      <td>Tacoma</td>\n",
       "      <td>12/31/2015</td>\n",
       "      <td>$11.32</td>\n",
       "      <td>1523</td>\n",
       "    </tr>\n",
       "  </tbody>\n",
       "</table>\n",
       "<p>880349 rows × 4 columns</p>\n",
       "</div>"
      ],
      "text/plain": [
       "            City        Date     Sales  StoreID\n",
       "0       Portland    1/1/2014   $45.27      1002\n",
       "1       Portland    1/1/2014  $115.61      1002\n",
       "2       Portland    1/1/2014   $35.33      1004\n",
       "3       Portland    1/1/2014   $20.95      1004\n",
       "4       Portland    1/1/2014   $14.25      1004\n",
       "...          ...         ...       ...      ...\n",
       "216073    Tacoma  12/31/2015   $33.68      1523\n",
       "216074    Tacoma  12/31/2015  $215.98      1521\n",
       "216075    Tacoma  12/31/2015  $236.86      1521\n",
       "216076    Tacoma  12/31/2015   $33.02      1522\n",
       "216077    Tacoma  12/31/2015   $11.32      1523\n",
       "\n",
       "[880349 rows x 4 columns]"
      ]
     },
     "execution_count": 2,
     "metadata": {},
     "output_type": "execute_result"
    }
   ],
   "source": [
    "# create a Path instance and filter for only csv files\n",
    "files = Path(\"./Data_files/multiple_csvs/\").rglob(\"*.csv\")\n",
    "\n",
    "# read in all the csv files\n",
    "all_csvs = [pd.read_csv(file) for file in files]\n",
    "\n",
    "# lump into one table\n",
    "all_csvs = pd.concat(all_csvs)\n",
    "\n",
    "all_csvs"
   ]
  },
  {
   "cell_type": "markdown",
   "metadata": {},
   "source": [
    "### Via read_csv and the command line"
   ]
  },
  {
   "cell_type": "code",
   "execution_count": 3,
   "metadata": {},
   "outputs": [
    {
     "data": {
      "text/html": [
       "<div>\n",
       "<style scoped>\n",
       "    .dataframe tbody tr th:only-of-type {\n",
       "        vertical-align: middle;\n",
       "    }\n",
       "\n",
       "    .dataframe tbody tr th {\n",
       "        vertical-align: top;\n",
       "    }\n",
       "\n",
       "    .dataframe thead th {\n",
       "        text-align: right;\n",
       "    }\n",
       "</style>\n",
       "<table border=\"1\" class=\"dataframe\">\n",
       "  <thead>\n",
       "    <tr style=\"text-align: right;\">\n",
       "      <th></th>\n",
       "      <th>City</th>\n",
       "      <th>Date</th>\n",
       "      <th>Sales</th>\n",
       "      <th>StoreID</th>\n",
       "    </tr>\n",
       "  </thead>\n",
       "  <tbody>\n",
       "    <tr>\n",
       "      <th>0</th>\n",
       "      <td>Oakland</td>\n",
       "      <td>1/1/2014</td>\n",
       "      <td>$9.83</td>\n",
       "      <td>982</td>\n",
       "    </tr>\n",
       "    <tr>\n",
       "      <th>1</th>\n",
       "      <td>Oakland</td>\n",
       "      <td>1/1/2014</td>\n",
       "      <td>$28.18</td>\n",
       "      <td>983</td>\n",
       "    </tr>\n",
       "    <tr>\n",
       "      <th>2</th>\n",
       "      <td>Oakland</td>\n",
       "      <td>1/1/2014</td>\n",
       "      <td>$6.83</td>\n",
       "      <td>982</td>\n",
       "    </tr>\n",
       "    <tr>\n",
       "      <th>3</th>\n",
       "      <td>Oakland</td>\n",
       "      <td>1/1/2014</td>\n",
       "      <td>$43.90</td>\n",
       "      <td>982</td>\n",
       "    </tr>\n",
       "    <tr>\n",
       "      <th>4</th>\n",
       "      <td>Oakland</td>\n",
       "      <td>1/1/2014</td>\n",
       "      <td>$17.16</td>\n",
       "      <td>980</td>\n",
       "    </tr>\n",
       "    <tr>\n",
       "      <th>...</th>\n",
       "      <td>...</td>\n",
       "      <td>...</td>\n",
       "      <td>...</td>\n",
       "      <td>...</td>\n",
       "    </tr>\n",
       "    <tr>\n",
       "      <th>880344</th>\n",
       "      <td>Tacoma</td>\n",
       "      <td>12/31/2015</td>\n",
       "      <td>$33.68</td>\n",
       "      <td>1523</td>\n",
       "    </tr>\n",
       "    <tr>\n",
       "      <th>880345</th>\n",
       "      <td>Tacoma</td>\n",
       "      <td>12/31/2015</td>\n",
       "      <td>$215.98</td>\n",
       "      <td>1521</td>\n",
       "    </tr>\n",
       "    <tr>\n",
       "      <th>880346</th>\n",
       "      <td>Tacoma</td>\n",
       "      <td>12/31/2015</td>\n",
       "      <td>$236.86</td>\n",
       "      <td>1521</td>\n",
       "    </tr>\n",
       "    <tr>\n",
       "      <th>880347</th>\n",
       "      <td>Tacoma</td>\n",
       "      <td>12/31/2015</td>\n",
       "      <td>$33.02</td>\n",
       "      <td>1522</td>\n",
       "    </tr>\n",
       "    <tr>\n",
       "      <th>880348</th>\n",
       "      <td>Tacoma</td>\n",
       "      <td>12/31/2015</td>\n",
       "      <td>$11.32</td>\n",
       "      <td>1523</td>\n",
       "    </tr>\n",
       "  </tbody>\n",
       "</table>\n",
       "<p>880349 rows × 4 columns</p>\n",
       "</div>"
      ],
      "text/plain": [
       "           City        Date     Sales  StoreID\n",
       "0       Oakland    1/1/2014    $9.83       982\n",
       "1       Oakland    1/1/2014   $28.18       983\n",
       "2       Oakland    1/1/2014    $6.83       982\n",
       "3       Oakland    1/1/2014   $43.90       982\n",
       "4       Oakland    1/1/2014   $17.16       980\n",
       "...         ...         ...       ...      ...\n",
       "880344   Tacoma  12/31/2015   $33.68      1523\n",
       "880345   Tacoma  12/31/2015  $215.98      1521\n",
       "880346   Tacoma  12/31/2015  $236.86      1521\n",
       "880347   Tacoma  12/31/2015   $33.02      1522\n",
       "880348   Tacoma  12/31/2015   $11.32      1523\n",
       "\n",
       "[880349 rows x 4 columns]"
      ]
     },
     "execution_count": 3,
     "metadata": {},
     "output_type": "execute_result"
    }
   ],
   "source": [
    "data = subprocess.run(\"awk '(NR==1) || (FNR>1)' ./Data_files/multiple_csvs/*.csv\", \n",
    "                      shell=True, \n",
    "                      capture_output=True,\n",
    "                      text=True).stdout\n",
    "\n",
    "df = pd.read_csv(StringIO(data))\n",
    "\n",
    "df"
   ]
  },
  {
   "cell_type": "markdown",
   "metadata": {},
   "source": [
    "## **datatable**"
   ]
  },
  {
   "cell_type": "markdown",
   "metadata": {
    "execution": {
     "iopub.execute_input": "2020-10-31T01:38:57.851388Z",
     "iopub.status.busy": "2020-10-31T01:38:57.851145Z",
     "iopub.status.idle": "2020-10-31T01:38:57.854014Z",
     "shell.execute_reply": "2020-10-31T01:38:57.853407Z",
     "shell.execute_reply.started": "2020-10-31T01:38:57.851357Z"
    }
   },
   "source": [
    "### Via iread"
   ]
  },
  {
   "cell_type": "code",
   "execution_count": 4,
   "metadata": {},
   "outputs": [
    {
     "data": {
      "text/html": [
       "<div class='datatable'>\n",
       "  <table class='frame'>\n",
       "  <thead>\n",
       "    <tr class='colnames'><td class='row_index'></td><th>City</th><th>Date</th><th>Sales</th><th>StoreID</th></tr>\n",
       "    <tr class='coltypes'><td class='row_index'></td><td class='str' title='str32'>&#x25AA;&#x25AA;&#x25AA;&#x25AA;</td><td class='str' title='str32'>&#x25AA;&#x25AA;&#x25AA;&#x25AA;</td><td class='str' title='str32'>&#x25AA;&#x25AA;&#x25AA;&#x25AA;</td><td class='int' title='int32'>&#x25AA;&#x25AA;&#x25AA;&#x25AA;</td></tr>\n",
       "  </thead>\n",
       "  <tbody>\n",
       "    <tr><td class='row_index'>0</td><td>Portland</td><td>1/1/2014</td><td>$45.27</td><td>1002</td></tr>\n",
       "    <tr><td class='row_index'>1</td><td>Portland</td><td>1/1/2014</td><td>$115.61</td><td>1002</td></tr>\n",
       "    <tr><td class='row_index'>2</td><td>Portland</td><td>1/1/2014</td><td>$35.33</td><td>1004</td></tr>\n",
       "    <tr><td class='row_index'>3</td><td>Portland</td><td>1/1/2014</td><td>$20.95</td><td>1004</td></tr>\n",
       "    <tr><td class='row_index'>4</td><td>Portland</td><td>1/1/2014</td><td>$14.25</td><td>1004</td></tr>\n",
       "    <tr><td class='row_index'>5</td><td>Portland</td><td>1/1/2014</td><td>$37.30</td><td>1002</td></tr>\n",
       "    <tr><td class='row_index'>6</td><td>Portland</td><td>1/1/2014</td><td>$38.40</td><td>1003</td></tr>\n",
       "    <tr><td class='row_index'>7</td><td>Portland</td><td>1/1/2014</td><td>$35.50</td><td>1003</td></tr>\n",
       "    <tr><td class='row_index'>8</td><td>Portland</td><td>1/1/2014</td><td>$37.49</td><td>1005</td></tr>\n",
       "    <tr><td class='row_index'>9</td><td>Portland</td><td>1/1/2014</td><td>$11.17</td><td>1002</td></tr>\n",
       "    <tr><td class='row_index'>10</td><td>Portland</td><td>1/1/2014</td><td>$179.88</td><td>1002</td></tr>\n",
       "    <tr><td class='row_index'>11</td><td>Portland</td><td>1/1/2014</td><td>$42.19</td><td>1003</td></tr>\n",
       "    <tr><td class='row_index'>12</td><td>Portland</td><td>1/1/2014</td><td>$80.73</td><td>1004</td></tr>\n",
       "    <tr><td class='row_index'>13</td><td>Portland</td><td>1/1/2014</td><td>$118.58</td><td>1003</td></tr>\n",
       "    <tr><td class='row_index'>14</td><td>Portland</td><td>1/1/2014</td><td>$132.68</td><td>1005</td></tr>\n",
       "    <tr><td class='row_index'>&#x22EE;</td><td class='hellipsis'>&#x22EE;</td><td class='hellipsis'>&#x22EE;</td><td class='hellipsis'>&#x22EE;</td><td class='hellipsis'>&#x22EE;</td></tr>\n",
       "    <tr><td class='row_index'>880,344</td><td>Tacoma</td><td>12/31/2015</td><td>$33.68</td><td>1523</td></tr>\n",
       "    <tr><td class='row_index'>880,345</td><td>Tacoma</td><td>12/31/2015</td><td>$215.98</td><td>1521</td></tr>\n",
       "    <tr><td class='row_index'>880,346</td><td>Tacoma</td><td>12/31/2015</td><td>$236.86</td><td>1521</td></tr>\n",
       "    <tr><td class='row_index'>880,347</td><td>Tacoma</td><td>12/31/2015</td><td>$33.02</td><td>1522</td></tr>\n",
       "    <tr><td class='row_index'>880,348</td><td>Tacoma</td><td>12/31/2015</td><td>$11.32</td><td>1523</td></tr>\n",
       "  </tbody>\n",
       "  </table>\n",
       "  <div class='footer'>\n",
       "    <div class='frame_dimensions'>880,349 rows &times; 4 columns</div>\n",
       "  </div>\n",
       "</div>\n"
      ],
      "text/plain": [
       "<Frame#7f87910c4390 880349x4>"
      ]
     },
     "execution_count": 4,
     "metadata": {},
     "output_type": "execute_result"
    }
   ],
   "source": [
    "files = Path(\"./Data_files/multiple_csvs/\").rglob(\"*.csv\")\n",
    "\n",
    "# iread returns an iterator of all files\n",
    "all_csvs = iread(tuple(files))\n",
    "\n",
    "# combine into one table with rbind\n",
    "all_csvs = rbind(all_csvs)\n",
    "\n",
    "all_csvs"
   ]
  },
  {
   "cell_type": "markdown",
   "metadata": {
    "execution": {
     "iopub.execute_input": "2020-10-31T01:39:15.743149Z",
     "iopub.status.busy": "2020-10-31T01:39:15.742716Z",
     "iopub.status.idle": "2020-10-31T01:39:15.747343Z",
     "shell.execute_reply": "2020-10-31T01:39:15.746321Z",
     "shell.execute_reply.started": "2020-10-31T01:39:15.743100Z"
    }
   },
   "source": [
    "### Via fread"
   ]
  },
  {
   "cell_type": "code",
   "execution_count": 5,
   "metadata": {},
   "outputs": [
    {
     "data": {
      "text/html": [
       "<div class='datatable'>\n",
       "  <table class='frame'>\n",
       "  <thead>\n",
       "    <tr class='colnames'><td class='row_index'></td><th>City</th><th>Date</th><th>Sales</th><th>StoreID</th></tr>\n",
       "    <tr class='coltypes'><td class='row_index'></td><td class='str' title='str32'>&#x25AA;&#x25AA;&#x25AA;&#x25AA;</td><td class='str' title='str32'>&#x25AA;&#x25AA;&#x25AA;&#x25AA;</td><td class='str' title='str32'>&#x25AA;&#x25AA;&#x25AA;&#x25AA;</td><td class='int' title='int32'>&#x25AA;&#x25AA;&#x25AA;&#x25AA;</td></tr>\n",
       "  </thead>\n",
       "  <tbody>\n",
       "    <tr><td class='row_index'>0</td><td>Portland</td><td>1/1/2014</td><td>$45.27</td><td>1002</td></tr>\n",
       "    <tr><td class='row_index'>1</td><td>Portland</td><td>1/1/2014</td><td>$115.61</td><td>1002</td></tr>\n",
       "    <tr><td class='row_index'>2</td><td>Portland</td><td>1/1/2014</td><td>$35.33</td><td>1004</td></tr>\n",
       "    <tr><td class='row_index'>3</td><td>Portland</td><td>1/1/2014</td><td>$20.95</td><td>1004</td></tr>\n",
       "    <tr><td class='row_index'>4</td><td>Portland</td><td>1/1/2014</td><td>$14.25</td><td>1004</td></tr>\n",
       "    <tr><td class='row_index'>5</td><td>Portland</td><td>1/1/2014</td><td>$37.30</td><td>1002</td></tr>\n",
       "    <tr><td class='row_index'>6</td><td>Portland</td><td>1/1/2014</td><td>$38.40</td><td>1003</td></tr>\n",
       "    <tr><td class='row_index'>7</td><td>Portland</td><td>1/1/2014</td><td>$35.50</td><td>1003</td></tr>\n",
       "    <tr><td class='row_index'>8</td><td>Portland</td><td>1/1/2014</td><td>$37.49</td><td>1005</td></tr>\n",
       "    <tr><td class='row_index'>9</td><td>Portland</td><td>1/1/2014</td><td>$11.17</td><td>1002</td></tr>\n",
       "    <tr><td class='row_index'>10</td><td>Portland</td><td>1/1/2014</td><td>$179.88</td><td>1002</td></tr>\n",
       "    <tr><td class='row_index'>11</td><td>Portland</td><td>1/1/2014</td><td>$42.19</td><td>1003</td></tr>\n",
       "    <tr><td class='row_index'>12</td><td>Portland</td><td>1/1/2014</td><td>$80.73</td><td>1004</td></tr>\n",
       "    <tr><td class='row_index'>13</td><td>Portland</td><td>1/1/2014</td><td>$118.58</td><td>1003</td></tr>\n",
       "    <tr><td class='row_index'>14</td><td>Portland</td><td>1/1/2014</td><td>$132.68</td><td>1005</td></tr>\n",
       "    <tr><td class='row_index'>&#x22EE;</td><td class='hellipsis'>&#x22EE;</td><td class='hellipsis'>&#x22EE;</td><td class='hellipsis'>&#x22EE;</td><td class='hellipsis'>&#x22EE;</td></tr>\n",
       "    <tr><td class='row_index'>880,344</td><td>Tacoma</td><td>12/31/2015</td><td>$33.68</td><td>1523</td></tr>\n",
       "    <tr><td class='row_index'>880,345</td><td>Tacoma</td><td>12/31/2015</td><td>$215.98</td><td>1521</td></tr>\n",
       "    <tr><td class='row_index'>880,346</td><td>Tacoma</td><td>12/31/2015</td><td>$236.86</td><td>1521</td></tr>\n",
       "    <tr><td class='row_index'>880,347</td><td>Tacoma</td><td>12/31/2015</td><td>$33.02</td><td>1522</td></tr>\n",
       "    <tr><td class='row_index'>880,348</td><td>Tacoma</td><td>12/31/2015</td><td>$11.32</td><td>1523</td></tr>\n",
       "  </tbody>\n",
       "  </table>\n",
       "  <div class='footer'>\n",
       "    <div class='frame_dimensions'>880,349 rows &times; 4 columns</div>\n",
       "  </div>\n",
       "</div>\n"
      ],
      "text/plain": [
       "<Frame#7f875a5f07e0 880349x4>"
      ]
     },
     "execution_count": 5,
     "metadata": {},
     "output_type": "execute_result"
    }
   ],
   "source": [
    "files = Path(\"./Data_files/multiple_csvs/\").rglob(\"*.csv\")\n",
    "\n",
    "all_csvs = [fread(filename) for filename in files]\n",
    "\n",
    "# combine into one frame\n",
    "rbind(all_csvs)"
   ]
  },
  {
   "cell_type": "markdown",
   "metadata": {},
   "source": [
    "### Via the command line"
   ]
  },
  {
   "cell_type": "code",
   "execution_count": 6,
   "metadata": {},
   "outputs": [
    {
     "data": {
      "text/html": [
       "<div class='datatable'>\n",
       "  <table class='frame'>\n",
       "  <thead>\n",
       "    <tr class='colnames'><td class='row_index'></td><th>City</th><th>Date</th><th>Sales</th><th>StoreID</th></tr>\n",
       "    <tr class='coltypes'><td class='row_index'></td><td class='str' title='str32'>&#x25AA;&#x25AA;&#x25AA;&#x25AA;</td><td class='str' title='str32'>&#x25AA;&#x25AA;&#x25AA;&#x25AA;</td><td class='str' title='str32'>&#x25AA;&#x25AA;&#x25AA;&#x25AA;</td><td class='int' title='int32'>&#x25AA;&#x25AA;&#x25AA;&#x25AA;</td></tr>\n",
       "  </thead>\n",
       "  <tbody>\n",
       "    <tr><td class='row_index'>0</td><td>Oakland</td><td>1/1/2014</td><td>$9.83</td><td>982</td></tr>\n",
       "    <tr><td class='row_index'>1</td><td>Oakland</td><td>1/1/2014</td><td>$28.18</td><td>983</td></tr>\n",
       "    <tr><td class='row_index'>2</td><td>Oakland</td><td>1/1/2014</td><td>$6.83</td><td>982</td></tr>\n",
       "    <tr><td class='row_index'>3</td><td>Oakland</td><td>1/1/2014</td><td>$43.90</td><td>982</td></tr>\n",
       "    <tr><td class='row_index'>4</td><td>Oakland</td><td>1/1/2014</td><td>$17.16</td><td>980</td></tr>\n",
       "    <tr><td class='row_index'>5</td><td>Oakland</td><td>1/1/2014</td><td>$14.29</td><td>982</td></tr>\n",
       "    <tr><td class='row_index'>6</td><td>Oakland</td><td>1/1/2014</td><td>$6.48</td><td>982</td></tr>\n",
       "    <tr><td class='row_index'>7</td><td>Oakland</td><td>1/1/2014</td><td>$232.13</td><td>982</td></tr>\n",
       "    <tr><td class='row_index'>8</td><td>Oakland</td><td>1/1/2014</td><td>$209.28</td><td>981</td></tr>\n",
       "    <tr><td class='row_index'>9</td><td>Oakland</td><td>1/1/2014</td><td>$12.11</td><td>981</td></tr>\n",
       "    <tr><td class='row_index'>10</td><td>Oakland</td><td>1/1/2014</td><td>$107.96</td><td>982</td></tr>\n",
       "    <tr><td class='row_index'>11</td><td>Oakland</td><td>1/1/2014</td><td>$47.64</td><td>980</td></tr>\n",
       "    <tr><td class='row_index'>12</td><td>Oakland</td><td>1/1/2014</td><td>$15.44</td><td>981</td></tr>\n",
       "    <tr><td class='row_index'>13</td><td>Oakland</td><td>1/1/2014</td><td>$52.72</td><td>982</td></tr>\n",
       "    <tr><td class='row_index'>14</td><td>Oakland</td><td>1/1/2014</td><td>$3.25</td><td>981</td></tr>\n",
       "    <tr><td class='row_index'>&#x22EE;</td><td class='hellipsis'>&#x22EE;</td><td class='hellipsis'>&#x22EE;</td><td class='hellipsis'>&#x22EE;</td><td class='hellipsis'>&#x22EE;</td></tr>\n",
       "    <tr><td class='row_index'>880,344</td><td>Tacoma</td><td>12/31/2015</td><td>$33.68</td><td>1523</td></tr>\n",
       "    <tr><td class='row_index'>880,345</td><td>Tacoma</td><td>12/31/2015</td><td>$215.98</td><td>1521</td></tr>\n",
       "    <tr><td class='row_index'>880,346</td><td>Tacoma</td><td>12/31/2015</td><td>$236.86</td><td>1521</td></tr>\n",
       "    <tr><td class='row_index'>880,347</td><td>Tacoma</td><td>12/31/2015</td><td>$33.02</td><td>1522</td></tr>\n",
       "    <tr><td class='row_index'>880,348</td><td>Tacoma</td><td>12/31/2015</td><td>$11.32</td><td>1523</td></tr>\n",
       "  </tbody>\n",
       "  </table>\n",
       "  <div class='footer'>\n",
       "    <div class='frame_dimensions'>880,349 rows &times; 4 columns</div>\n",
       "  </div>\n",
       "</div>\n"
      ],
      "text/plain": [
       "<Frame#7f8758a7cae0 880349x4>"
      ]
     },
     "execution_count": 6,
     "metadata": {},
     "output_type": "execute_result"
    }
   ],
   "source": [
    "# less verbose than the Pandas option\n",
    "all_csvs = fread(cmd=\"awk '(NR==1) || (FNR>1)' ./Data_files/multiple_csvs/*.csv\")\n",
    "all_csvs"
   ]
  }
 ],
 "metadata": {
  "kernelspec": {
   "display_name": "Python 3",
   "language": "python",
   "name": "python3"
  },
  "language_info": {
   "codemirror_mode": {
    "name": "ipython",
    "version": 3
   },
   "file_extension": ".py",
   "mimetype": "text/x-python",
   "name": "python",
   "nbconvert_exporter": "python",
   "pygments_lexer": "ipython3",
   "version": "3.9.0"
  }
 },
 "nbformat": 4,
 "nbformat_minor": 4
}
